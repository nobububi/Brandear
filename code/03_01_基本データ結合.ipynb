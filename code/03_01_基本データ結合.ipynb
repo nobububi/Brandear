{
  "cells": [
    {
      "cell_type": "markdown",
      "metadata": {
        "id": "view-in-github",
        "colab_type": "text"
      },
      "source": [
        "<a href=\"https://colab.research.google.com/github/nobububi/Brandear/blob/master/code/03_01_%E5%9F%BA%E6%9C%AC%E3%83%86%E3%82%99%E3%83%BC%E3%82%BF%E7%B5%90%E5%90%88.ipynb\" target=\"_parent\"><img src=\"https://colab.research.google.com/assets/colab-badge.svg\" alt=\"Open In Colab\"/></a>"
      ]
    },
    {
      "cell_type": "code",
      "execution_count": 1,
      "id": "f4eddc25",
      "metadata": {
        "id": "f4eddc25"
      },
      "outputs": [],
      "source": [
        "import datetime\n",
        "import glob\n",
        "import os\n",
        "\n",
        "import pandas as pd\n",
        "from google.colab import drive"
      ]
    },
    {
      "cell_type": "code",
      "execution_count": 2,
      "id": "75ae50af",
      "metadata": {
        "id": "75ae50af"
      },
      "outputs": [],
      "source": [
        "DATA_DIR = \"drive/MyDrive/data/\"\n",
        "\n",
        "INPUT_DIR = f\"{DATA_DIR}baoz/unzip/DB/\"\n",
        "INPUT_shussoubamasuta_FILE = f\"{DATA_DIR}tiho_work/preprocess/00_01_se_mdb_shussoubamasuta.pickle\"\n",
        "\n",
        "OUTPUT_FILE = f\"{DATA_DIR}tiho_work/preprocess/03_01_race_jisseki_df.pickle\""
      ]
    },
    {
      "cell_type": "code",
      "source": [
        "# 自分のドライブ配下をマウント\n",
        "drive.mount('/content/drive')"
      ],
      "metadata": {
        "colab": {
          "base_uri": "https://localhost:8080/"
        },
        "id": "SP4IBz5dRL-q",
        "outputId": "5d1c194b-6661-4d6c-f5ce-752d886623dd"
      },
      "id": "SP4IBz5dRL-q",
      "execution_count": 3,
      "outputs": [
        {
          "output_type": "stream",
          "name": "stdout",
          "text": [
            "Mounted at /content/drive\n"
          ]
        }
      ]
    },
    {
      "cell_type": "code",
      "source": [
        "print(datetime.datetime.now())"
      ],
      "metadata": {
        "colab": {
          "base_uri": "https://localhost:8080/"
        },
        "id": "E066BuyC61-J",
        "outputId": "38a02de7-f14b-4559-f8a5-85484539e0b6"
      },
      "id": "E066BuyC61-J",
      "execution_count": 4,
      "outputs": [
        {
          "output_type": "stream",
          "name": "stdout",
          "text": [
            "2022-07-16 07:32:39.813444\n"
          ]
        }
      ]
    },
    {
      "cell_type": "markdown",
      "id": "aecd9789",
      "metadata": {
        "id": "aecd9789"
      },
      "source": [
        "## 各データ読み込み"
      ]
    },
    {
      "cell_type": "markdown",
      "id": "81a00648",
      "metadata": {
        "id": "81a00648"
      },
      "source": [
        "### BaoZ-SE.mdb_shussoubamasuta"
      ]
    },
    {
      "cell_type": "code",
      "execution_count": 5,
      "id": "2743679e",
      "metadata": {
        "scrolled": false,
        "id": "2743679e"
      },
      "outputs": [],
      "source": [
        "# baoz_se_shussoubamasuta_df = pd.read_csv(f\"{INPUT_DIR}BaoZ-SE.mdb_shussoubamasuta.csv\")\n",
        "baoz_se_shussoubamasuta_df = pd.read_pickle(INPUT_shussoubamasuta_FILE)"
      ]
    },
    {
      "cell_type": "code",
      "execution_count": 6,
      "id": "e61682a7",
      "metadata": {
        "colab": {
          "base_uri": "https://localhost:8080/"
        },
        "id": "e61682a7",
        "outputId": "16393c0b-6acb-49d0-b143-28eea3cf801f"
      },
      "outputs": [
        {
          "output_type": "execute_result",
          "data": {
            "text/plain": [
              "1954         4\n",
              "1955        10\n",
              "1956         7\n",
              "1959         3\n",
              "1960         8\n",
              "1961         2\n",
              "1962         4\n",
              "1963         3\n",
              "1964         8\n",
              "1965         8\n",
              "1967         8\n",
              "1968        10\n",
              "1969         9\n",
              "1975         3\n",
              "1976        21\n",
              "1977        16\n",
              "1978         1\n",
              "1982         3\n",
              "1983         9\n",
              "1984        11\n",
              "1985        34\n",
              "1986     36385\n",
              "1987     36751\n",
              "1988     37439\n",
              "1989     38024\n",
              "1990     38780\n",
              "1991     41215\n",
              "1992     45863\n",
              "1993     51916\n",
              "1994     55477\n",
              "1995     59658\n",
              "1996     62906\n",
              "1997     71985\n",
              "1998     80215\n",
              "1999     84192\n",
              "2000     71977\n",
              "2001     77287\n",
              "2002     85692\n",
              "2003     92486\n",
              "2004     88283\n",
              "2005    209758\n",
              "2006    203213\n",
              "2007    186372\n",
              "2008    189251\n",
              "2009    192615\n",
              "2010    190691\n",
              "2011    183466\n",
              "2012    184812\n",
              "2013    180664\n",
              "2014    177421\n",
              "2015    176702\n",
              "2016    178408\n",
              "2017    179538\n",
              "2018    179939\n",
              "2019    182342\n",
              "2020    183791\n",
              "2021    179679\n",
              "2022     82939\n",
              "Name: 年, dtype: int64"
            ]
          },
          "metadata": {},
          "execution_count": 6
        }
      ],
      "source": [
        "# 2005年以降のデータに絞る\n",
        "baoz_se_shussoubamasuta_df[\"年\"] = baoz_se_shussoubamasuta_df[\"開催年月日\"].str[:4]\n",
        "baoz_se_shussoubamasuta_df[\"年\"].value_counts().sort_index()"
      ]
    },
    {
      "cell_type": "code",
      "execution_count": 7,
      "id": "25bd8dcf",
      "metadata": {
        "id": "25bd8dcf"
      },
      "outputs": [],
      "source": [
        "baoz_se_shussoubamasuta_df = baoz_se_shussoubamasuta_df[baoz_se_shussoubamasuta_df[\"年\"].astype(int) >= 2005].reset_index(drop=True)"
      ]
    },
    {
      "cell_type": "code",
      "execution_count": 8,
      "id": "f92da97c",
      "metadata": {
        "id": "f92da97c"
      },
      "outputs": [],
      "source": [
        "baoz_se_shussoubamasuta_df[\"競走コード\"] = baoz_se_shussoubamasuta_df[\"競走コード\"].astype(int)"
      ]
    },
    {
      "cell_type": "markdown",
      "id": "b2b4f100",
      "metadata": {
        "id": "b2b4f100"
      },
      "source": [
        "### BaoZ.ex.mdb_shussoubaT"
      ]
    },
    {
      "cell_type": "code",
      "execution_count": 9,
      "id": "eaa57389",
      "metadata": {
        "colab": {
          "base_uri": "https://localhost:8080/"
        },
        "id": "eaa57389",
        "outputId": "2784fe55-78c5-4b77-9ea4-1dc073058c96"
      },
      "outputs": [
        {
          "output_type": "stream",
          "name": "stderr",
          "text": [
            "/usr/local/lib/python3.7/dist-packages/IPython/core/interactiveshell.py:2882: DtypeWarning: Columns (0,86) have mixed types.Specify dtype option on import or set low_memory=False.\n",
            "  exec(code_obj, self.user_global_ns, self.user_ns)\n"
          ]
        }
      ],
      "source": [
        "baoz_ex_shussouba_df = pd.read_csv(f\"{INPUT_DIR}BaoZ.ex.mdb_shussoubaT.csv\")"
      ]
    },
    {
      "cell_type": "code",
      "execution_count": 10,
      "id": "34490816",
      "metadata": {
        "id": "34490816"
      },
      "outputs": [],
      "source": [
        "baoz_ex_shussouba_df[\"競走コード\"] = baoz_ex_shussouba_df[\"競走コード\"].astype(int)"
      ]
    },
    {
      "cell_type": "code",
      "execution_count": 11,
      "id": "30dabc7e",
      "metadata": {
        "scrolled": false,
        "colab": {
          "base_uri": "https://localhost:8080/"
        },
        "id": "30dabc7e",
        "outputId": "a68abece-6af5-401a-e05f-db86435fa258"
      },
      "outputs": [
        {
          "output_type": "execute_result",
          "data": {
            "text/plain": [
              "2000     71629\n",
              "2001     77287\n",
              "2002     85692\n",
              "2003     92486\n",
              "2004     88283\n",
              "2005     48758\n",
              "2006     49785\n",
              "2007     49447\n",
              "2008     50909\n",
              "2009     50927\n",
              "2010    190691\n",
              "2011    183466\n",
              "2012    184812\n",
              "2013    180656\n",
              "2014    177421\n",
              "2015    176702\n",
              "2016    178408\n",
              "2017    179538\n",
              "2018    179939\n",
              "2019    182342\n",
              "2020    183791\n",
              "2021    179679\n",
              "2022     82939\n",
              "Name: 年, dtype: int64"
            ]
          },
          "metadata": {},
          "execution_count": 11
        }
      ],
      "source": [
        "# 2010年以前はデータ件数が少ない\n",
        "baoz_ex_shussouba_df[\"年\"] = baoz_ex_shussouba_df[\"年月日\"].str[:4]\n",
        "baoz_ex_shussouba_df[\"年\"].value_counts().sort_index()"
      ]
    },
    {
      "cell_type": "markdown",
      "id": "d3963fb2",
      "metadata": {
        "id": "d3963fb2"
      },
      "source": [
        "### BaoZ-RA.mdb_reesumasuta"
      ]
    },
    {
      "cell_type": "code",
      "execution_count": 12,
      "id": "51d0cf98",
      "metadata": {
        "scrolled": true,
        "colab": {
          "base_uri": "https://localhost:8080/"
        },
        "id": "51d0cf98",
        "outputId": "9f9c4dab-458c-42f2-e88b-4b19c409aa15"
      },
      "outputs": [
        {
          "output_type": "stream",
          "name": "stderr",
          "text": [
            "/usr/local/lib/python3.7/dist-packages/IPython/core/interactiveshell.py:2882: DtypeWarning: Columns (14,15,16,23,79) have mixed types.Specify dtype option on import or set low_memory=False.\n",
            "  exec(code_obj, self.user_global_ns, self.user_ns)\n"
          ]
        }
      ],
      "source": [
        "baoz_ra_reesumasuta_df = pd.read_csv(f\"{INPUT_DIR}BaoZ-RA.mdb_reesumasuta.csv\")"
      ]
    },
    {
      "cell_type": "code",
      "execution_count": 13,
      "id": "e7218f05",
      "metadata": {
        "scrolled": true,
        "colab": {
          "base_uri": "https://localhost:8080/"
        },
        "id": "e7218f05",
        "outputId": "b3797eda-2bd6-4742-9973-a826eb64e087"
      },
      "outputs": [
        {
          "output_type": "execute_result",
          "data": {
            "text/plain": [
              "(399691, 80)"
            ]
          },
          "metadata": {},
          "execution_count": 13
        }
      ],
      "source": [
        "baoz_ra_reesumasuta_df.shape"
      ]
    },
    {
      "cell_type": "code",
      "execution_count": 14,
      "id": "e6fcf3f4",
      "metadata": {
        "id": "e6fcf3f4"
      },
      "outputs": [],
      "source": [
        "baoz_ra_reesumasuta_df[\"競走コード\"] = baoz_ra_reesumasuta_df[\"競走コード\"].astype(int)"
      ]
    },
    {
      "cell_type": "markdown",
      "id": "7bdb0429",
      "metadata": {
        "id": "7bdb0429"
      },
      "source": [
        "### BaoZ-RA.mdb_kyousoubamasuta.csv"
      ]
    },
    {
      "cell_type": "code",
      "execution_count": 15,
      "id": "f208a01f",
      "metadata": {
        "scrolled": false,
        "colab": {
          "base_uri": "https://localhost:8080/"
        },
        "id": "f208a01f",
        "outputId": "1a7c325b-af55-4c64-ec01-81b3c3be5163"
      },
      "outputs": [
        {
          "output_type": "stream",
          "name": "stderr",
          "text": [
            "/usr/local/lib/python3.7/dist-packages/IPython/core/interactiveshell.py:2882: DtypeWarning: Columns (46) have mixed types.Specify dtype option on import or set low_memory=False.\n",
            "  exec(code_obj, self.user_global_ns, self.user_ns)\n"
          ]
        }
      ],
      "source": [
        "baoz_ra_kyousoubamasuta_df = pd.read_csv(f\"{INPUT_DIR}BaoZ-RA.mdb_kyousoubamasuta.csv\")"
      ]
    },
    {
      "cell_type": "code",
      "execution_count": 16,
      "id": "76c35035",
      "metadata": {
        "colab": {
          "base_uri": "https://localhost:8080/"
        },
        "id": "76c35035",
        "outputId": "b472f887-832a-4f0c-cd47-12e3b4be395f"
      },
      "outputs": [
        {
          "output_type": "execute_result",
          "data": {
            "text/plain": [
              "(230547, 87)"
            ]
          },
          "metadata": {},
          "execution_count": 16
        }
      ],
      "source": [
        "baoz_ra_kyousoubamasuta_df.shape"
      ]
    },
    {
      "cell_type": "markdown",
      "id": "7fe5379b",
      "metadata": {
        "id": "7fe5379b"
      },
      "source": [
        "## 結合"
      ]
    },
    {
      "cell_type": "code",
      "execution_count": 17,
      "id": "dada95c2",
      "metadata": {
        "scrolled": true,
        "colab": {
          "base_uri": "https://localhost:8080/"
        },
        "id": "dada95c2",
        "outputId": "1d7913a7-28a3-4e6c-f3a9-063de22196e9"
      },
      "outputs": [
        {
          "output_type": "stream",
          "name": "stdout",
          "text": [
            "(3241601, 65)\n",
            "(2925587, 113)\n"
          ]
        }
      ],
      "source": [
        "print(baoz_se_shussoubamasuta_df.shape)\n",
        "print(baoz_ex_shussouba_df.shape)"
      ]
    },
    {
      "cell_type": "code",
      "execution_count": 18,
      "id": "c62b0b3b",
      "metadata": {
        "id": "c62b0b3b"
      },
      "outputs": [],
      "source": [
        "baoz_ex_shussouba_df[\"baoz_ex_shussouba_df_flag\"] = 1\n",
        "baoz_ra_reesumasuta_df[\"baoz_ra_reesumasuta_df_flag\"] = 1\n",
        "baoz_ra_kyousoubamasuta_df[\"baoz_ra_kyousoubamasuta_df\"] = 1"
      ]
    },
    {
      "cell_type": "code",
      "execution_count": 19,
      "id": "8954c575",
      "metadata": {
        "colab": {
          "base_uri": "https://localhost:8080/"
        },
        "id": "8954c575",
        "outputId": "ff8ef0db-83d6-4bf7-8389-0ea1c53071cf"
      },
      "outputs": [
        {
          "output_type": "stream",
          "name": "stdout",
          "text": [
            "2022-07-16 07:34:47.269029\n",
            "2022-07-16 07:37:38.570076\n"
          ]
        }
      ],
      "source": [
        "print(datetime.datetime.now())\n",
        "\n",
        "# 3min\n",
        "# TODO: 紐付き件数チェックしておく、baoz_ex_shussouba_dfがあんまり紐づいてない気がする\n",
        "\n",
        "merge_dupcol_suf = \"_merge_dupcol\"\n",
        "\n",
        "race_jisseki_df = (\n",
        "    baoz_se_shussoubamasuta_df\n",
        "    .merge(baoz_ex_shussouba_df, on=[\"競走コード\", \"馬番\"], how=\"left\", suffixes=['', merge_dupcol_suf])\n",
        "    # 競走コード213011455180205が紐づかない\n",
        "    .merge(baoz_ra_reesumasuta_df, on=[\"競走コード\"], how=\"inner\", suffixes=['', merge_dupcol_suf])\n",
        "    .merge(baoz_ra_kyousoubamasuta_df, on=[\"血統登録番号\"], how=\"left\", suffixes=['', merge_dupcol_suf])\n",
        ")\n",
        "\n",
        "print(datetime.datetime.now())"
      ]
    },
    {
      "cell_type": "markdown",
      "id": "6863dda8",
      "metadata": {
        "id": "6863dda8"
      },
      "source": [
        "### 紐付き確認"
      ]
    },
    {
      "cell_type": "code",
      "source": [
        "print(baoz_se_shussoubamasuta_df.shape)"
      ],
      "metadata": {
        "colab": {
          "base_uri": "https://localhost:8080/"
        },
        "id": "Ryy8h_e-XUEm",
        "outputId": "2215b950-0421-48b5-f650-4d7b8918f489"
      },
      "id": "Ryy8h_e-XUEm",
      "execution_count": 20,
      "outputs": [
        {
          "output_type": "stream",
          "name": "stdout",
          "text": [
            "(3241601, 65)\n"
          ]
        }
      ]
    },
    {
      "cell_type": "code",
      "execution_count": 21,
      "id": "b4ea865d",
      "metadata": {
        "colab": {
          "base_uri": "https://localhost:8080/"
        },
        "id": "b4ea865d",
        "outputId": "d9d7ff8e-bd0e-485b-b667-dd85217cbf8b"
      },
      "outputs": [
        {
          "output_type": "stream",
          "name": "stdout",
          "text": [
            "(3241593, 344)\n",
            "baoz_ex_shussouba_df_flag\n",
            "731383\n",
            "baoz_ra_reesumasuta_df_flag\n",
            "0\n",
            "baoz_ra_kyousoubamasuta_df\n",
            "25927\n"
          ]
        }
      ],
      "source": [
        "print(race_jisseki_df.shape)\n",
        "join_check_cols = [\n",
        "    \"baoz_ex_shussouba_df_flag\",\n",
        "    \"baoz_ra_reesumasuta_df_flag\",\n",
        "    \"baoz_ra_kyousoubamasuta_df\"\n",
        "]\n",
        "for check_col in join_check_cols:\n",
        "    print(check_col)\n",
        "    print(race_jisseki_df[check_col].isnull().sum())"
      ]
    },
    {
      "cell_type": "code",
      "execution_count": 22,
      "id": "ef65bfc3",
      "metadata": {
        "scrolled": true,
        "id": "ef65bfc3"
      },
      "outputs": [],
      "source": [
        "race_jisseki_df.drop([c for c in race_jisseki_df.columns if c.endswith(merge_dupcol_suf)], axis=1, inplace=True)"
      ]
    },
    {
      "cell_type": "markdown",
      "id": "362c9986",
      "metadata": {
        "id": "362c9986"
      },
      "source": [
        "## 出力"
      ]
    },
    {
      "cell_type": "code",
      "execution_count": 23,
      "id": "299ab549",
      "metadata": {
        "id": "299ab549"
      },
      "outputs": [],
      "source": [
        "race_jisseki_df.to_pickle(OUTPUT_FILE)"
      ]
    },
    {
      "cell_type": "code",
      "execution_count": 24,
      "id": "abcf02da",
      "metadata": {
        "id": "abcf02da",
        "colab": {
          "base_uri": "https://localhost:8080/"
        },
        "outputId": "e86fa220-05c3-4743-f6ac-e8a0dc435bb2"
      },
      "outputs": [
        {
          "output_type": "stream",
          "name": "stdout",
          "text": [
            "2022-07-16 07:40:24.713349\n"
          ]
        }
      ],
      "source": [
        "print(datetime.datetime.now())"
      ]
    }
  ],
  "metadata": {
    "kernelspec": {
      "display_name": "Python 3 (ipykernel)",
      "language": "python",
      "name": "python3"
    },
    "language_info": {
      "codemirror_mode": {
        "name": "ipython",
        "version": 3
      },
      "file_extension": ".py",
      "mimetype": "text/x-python",
      "name": "python",
      "nbconvert_exporter": "python",
      "pygments_lexer": "ipython3",
      "version": "3.8.8"
    },
    "toc": {
      "base_numbering": 1,
      "nav_menu": {},
      "number_sections": true,
      "sideBar": true,
      "skip_h1_title": false,
      "title_cell": "Table of Contents",
      "title_sidebar": "Contents",
      "toc_cell": false,
      "toc_position": {
        "height": "calc(100% - 180px)",
        "left": "10px",
        "top": "150px",
        "width": "288px"
      },
      "toc_section_display": true,
      "toc_window_display": true
    },
    "colab": {
      "name": "03_01_基本データ結合.ipynb",
      "provenance": [],
      "collapsed_sections": [],
      "machine_shape": "hm",
      "include_colab_link": true
    },
    "gpuClass": "standard"
  },
  "nbformat": 4,
  "nbformat_minor": 5
}