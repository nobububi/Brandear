{
  "cells": [
    {
      "cell_type": "markdown",
      "metadata": {
        "id": "view-in-github",
        "colab_type": "text"
      },
      "source": [
        "<a href=\"https://colab.research.google.com/github/nobububi/Brandear/blob/master/code/03_02_%E5%9F%BA%E6%9C%AC%E7%89%B9%E5%BE%B4%E9%87%8F%E4%BD%9C%E6%88%90.ipynb\" target=\"_parent\"><img src=\"https://colab.research.google.com/assets/colab-badge.svg\" alt=\"Open In Colab\"/></a>"
      ]
    },
    {
      "cell_type": "code",
      "execution_count": 1,
      "id": "80cfbe98",
      "metadata": {
        "id": "80cfbe98"
      },
      "outputs": [],
      "source": [
        "import datetime\n",
        "import math\n",
        "\n",
        "import pandas as pd\n",
        "import numpy as np\n",
        "from google.colab import drive"
      ]
    },
    {
      "cell_type": "code",
      "execution_count": 2,
      "id": "f29cf4b5",
      "metadata": {
        "id": "f29cf4b5"
      },
      "outputs": [],
      "source": [
        "DATA_DIR = \"drive/MyDrive/data/\"\n",
        "\n",
        "INPUT_FILE = f\"{DATA_DIR}tiho_work/preprocess/03_01_race_jisseki_df.pickle\"\n",
        "OUTPUT_FILE = f\"{DATA_DIR}tiho_work/preprocess/03_02_race_jisseki_df.pickle\"\n"
      ]
    },
    {
      "cell_type": "code",
      "source": [
        "# 自分のドライブ配下をマウント\n",
        "drive.mount('/content/drive')"
      ],
      "metadata": {
        "colab": {
          "base_uri": "https://localhost:8080/"
        },
        "id": "0pMo1FJDYKBH",
        "outputId": "bd7c8ff9-19d4-4e4a-def2-7e727a9f3bbf"
      },
      "id": "0pMo1FJDYKBH",
      "execution_count": 3,
      "outputs": [
        {
          "output_type": "stream",
          "name": "stdout",
          "text": [
            "Drive already mounted at /content/drive; to attempt to forcibly remount, call drive.mount(\"/content/drive\", force_remount=True).\n"
          ]
        }
      ]
    },
    {
      "cell_type": "code",
      "source": [
        "import sys\n",
        "sys.path.append(f'drive/MyDrive/colab_notebooks/tiho/modules')\n",
        "import race_id_operator\n",
        "import change_type"
      ],
      "metadata": {
        "id": "Jovm3TyPaqRN"
      },
      "id": "Jovm3TyPaqRN",
      "execution_count": 4,
      "outputs": []
    },
    {
      "cell_type": "code",
      "execution_count": 5,
      "id": "f25f9d55",
      "metadata": {
        "id": "f25f9d55"
      },
      "outputs": [],
      "source": [
        "race_jisseki_df = pd.read_pickle(INPUT_FILE)"
      ]
    },
    {
      "cell_type": "code",
      "source": [
        "race_jisseki_df.head()"
      ],
      "metadata": {
        "colab": {
          "base_uri": "https://localhost:8080/",
          "height": 679
        },
        "id": "KD83Oe1AYdGm",
        "outputId": "e5a1588c-2601-443e-fcd8-1cbef6acec41"
      },
      "id": "KD83Oe1AYdGm",
      "execution_count": 6,
      "outputs": [
        {
          "output_type": "execute_result",
          "data": {
            "text/plain": [
              "  データ区分    データ作成年月日        競走コード  馬番  枠番      血統登録番号         馬名       開催年月日  \\\n",
              "0     7  2012-12-18  20501014301   1   1  1999109207    アケボノスター  2005-01-01   \n",
              "1     7  2012-12-18  20501014301   2   2  2000109171  カリスマサンガール  2005-01-01   \n",
              "2     7  2012-12-18  20501014301   3   3  2000109413  アルファモナカアン  2005-01-01   \n",
              "3     7  2012-12-18  20501014301   4   4  2000104939    ゴールドダイナ  2005-01-01   \n",
              "4     7  2012-12-18  20501014301   5   5  2000101705  フェアウェルガッド  2005-01-01   \n",
              "\n",
              "   馬記号コード  性別コード  ... 障不・着回数  芝16下・着回数  芝22下・着回数  芝22超・着回数  ダ16下・着回数 ダ22下・着回数  \\\n",
              "0       0      2  ...    0.0       0.0       0.0       0.0       0.0      0.0   \n",
              "1       0      2  ...    0.0       0.0       0.0       0.0       0.0      0.0   \n",
              "2       0      2  ...    0.0       0.0       0.0       0.0       0.0      0.0   \n",
              "3       0      2  ...    0.0       0.0       0.0       0.0       0.0      0.0   \n",
              "4       0      1  ...    0.0       0.0       0.0       0.0       0.0      0.0   \n",
              "\n",
              "   ダ22超・着回数 脚質傾向 登録レース数  baoz_ra_kyousoubamasuta_df  \n",
              "0       0.0  0.0    0.0                         1.0  \n",
              "1       0.0  0.0    0.0                         1.0  \n",
              "2       0.0  0.0    0.0                         1.0  \n",
              "3       0.0  0.0    0.0                         1.0  \n",
              "4       0.0  0.0    0.0                         1.0  \n",
              "\n",
              "[5 rows x 308 columns]"
            ],
            "text/html": [
              "\n",
              "  <div id=\"df-54a10b1e-7d05-43b8-8c9a-bfa825cbe724\">\n",
              "    <div class=\"colab-df-container\">\n",
              "      <div>\n",
              "<style scoped>\n",
              "    .dataframe tbody tr th:only-of-type {\n",
              "        vertical-align: middle;\n",
              "    }\n",
              "\n",
              "    .dataframe tbody tr th {\n",
              "        vertical-align: top;\n",
              "    }\n",
              "\n",
              "    .dataframe thead th {\n",
              "        text-align: right;\n",
              "    }\n",
              "</style>\n",
              "<table border=\"1\" class=\"dataframe\">\n",
              "  <thead>\n",
              "    <tr style=\"text-align: right;\">\n",
              "      <th></th>\n",
              "      <th>データ区分</th>\n",
              "      <th>データ作成年月日</th>\n",
              "      <th>競走コード</th>\n",
              "      <th>馬番</th>\n",
              "      <th>枠番</th>\n",
              "      <th>血統登録番号</th>\n",
              "      <th>馬名</th>\n",
              "      <th>開催年月日</th>\n",
              "      <th>馬記号コード</th>\n",
              "      <th>性別コード</th>\n",
              "      <th>...</th>\n",
              "      <th>障不・着回数</th>\n",
              "      <th>芝16下・着回数</th>\n",
              "      <th>芝22下・着回数</th>\n",
              "      <th>芝22超・着回数</th>\n",
              "      <th>ダ16下・着回数</th>\n",
              "      <th>ダ22下・着回数</th>\n",
              "      <th>ダ22超・着回数</th>\n",
              "      <th>脚質傾向</th>\n",
              "      <th>登録レース数</th>\n",
              "      <th>baoz_ra_kyousoubamasuta_df</th>\n",
              "    </tr>\n",
              "  </thead>\n",
              "  <tbody>\n",
              "    <tr>\n",
              "      <th>0</th>\n",
              "      <td>7</td>\n",
              "      <td>2012-12-18</td>\n",
              "      <td>20501014301</td>\n",
              "      <td>1</td>\n",
              "      <td>1</td>\n",
              "      <td>1999109207</td>\n",
              "      <td>アケボノスター</td>\n",
              "      <td>2005-01-01</td>\n",
              "      <td>0</td>\n",
              "      <td>2</td>\n",
              "      <td>...</td>\n",
              "      <td>0.0</td>\n",
              "      <td>0.0</td>\n",
              "      <td>0.0</td>\n",
              "      <td>0.0</td>\n",
              "      <td>0.0</td>\n",
              "      <td>0.0</td>\n",
              "      <td>0.0</td>\n",
              "      <td>0.0</td>\n",
              "      <td>0.0</td>\n",
              "      <td>1.0</td>\n",
              "    </tr>\n",
              "    <tr>\n",
              "      <th>1</th>\n",
              "      <td>7</td>\n",
              "      <td>2012-12-18</td>\n",
              "      <td>20501014301</td>\n",
              "      <td>2</td>\n",
              "      <td>2</td>\n",
              "      <td>2000109171</td>\n",
              "      <td>カリスマサンガール</td>\n",
              "      <td>2005-01-01</td>\n",
              "      <td>0</td>\n",
              "      <td>2</td>\n",
              "      <td>...</td>\n",
              "      <td>0.0</td>\n",
              "      <td>0.0</td>\n",
              "      <td>0.0</td>\n",
              "      <td>0.0</td>\n",
              "      <td>0.0</td>\n",
              "      <td>0.0</td>\n",
              "      <td>0.0</td>\n",
              "      <td>0.0</td>\n",
              "      <td>0.0</td>\n",
              "      <td>1.0</td>\n",
              "    </tr>\n",
              "    <tr>\n",
              "      <th>2</th>\n",
              "      <td>7</td>\n",
              "      <td>2012-12-18</td>\n",
              "      <td>20501014301</td>\n",
              "      <td>3</td>\n",
              "      <td>3</td>\n",
              "      <td>2000109413</td>\n",
              "      <td>アルファモナカアン</td>\n",
              "      <td>2005-01-01</td>\n",
              "      <td>0</td>\n",
              "      <td>2</td>\n",
              "      <td>...</td>\n",
              "      <td>0.0</td>\n",
              "      <td>0.0</td>\n",
              "      <td>0.0</td>\n",
              "      <td>0.0</td>\n",
              "      <td>0.0</td>\n",
              "      <td>0.0</td>\n",
              "      <td>0.0</td>\n",
              "      <td>0.0</td>\n",
              "      <td>0.0</td>\n",
              "      <td>1.0</td>\n",
              "    </tr>\n",
              "    <tr>\n",
              "      <th>3</th>\n",
              "      <td>7</td>\n",
              "      <td>2012-12-18</td>\n",
              "      <td>20501014301</td>\n",
              "      <td>4</td>\n",
              "      <td>4</td>\n",
              "      <td>2000104939</td>\n",
              "      <td>ゴールドダイナ</td>\n",
              "      <td>2005-01-01</td>\n",
              "      <td>0</td>\n",
              "      <td>2</td>\n",
              "      <td>...</td>\n",
              "      <td>0.0</td>\n",
              "      <td>0.0</td>\n",
              "      <td>0.0</td>\n",
              "      <td>0.0</td>\n",
              "      <td>0.0</td>\n",
              "      <td>0.0</td>\n",
              "      <td>0.0</td>\n",
              "      <td>0.0</td>\n",
              "      <td>0.0</td>\n",
              "      <td>1.0</td>\n",
              "    </tr>\n",
              "    <tr>\n",
              "      <th>4</th>\n",
              "      <td>7</td>\n",
              "      <td>2012-12-18</td>\n",
              "      <td>20501014301</td>\n",
              "      <td>5</td>\n",
              "      <td>5</td>\n",
              "      <td>2000101705</td>\n",
              "      <td>フェアウェルガッド</td>\n",
              "      <td>2005-01-01</td>\n",
              "      <td>0</td>\n",
              "      <td>1</td>\n",
              "      <td>...</td>\n",
              "      <td>0.0</td>\n",
              "      <td>0.0</td>\n",
              "      <td>0.0</td>\n",
              "      <td>0.0</td>\n",
              "      <td>0.0</td>\n",
              "      <td>0.0</td>\n",
              "      <td>0.0</td>\n",
              "      <td>0.0</td>\n",
              "      <td>0.0</td>\n",
              "      <td>1.0</td>\n",
              "    </tr>\n",
              "  </tbody>\n",
              "</table>\n",
              "<p>5 rows × 308 columns</p>\n",
              "</div>\n",
              "      <button class=\"colab-df-convert\" onclick=\"convertToInteractive('df-54a10b1e-7d05-43b8-8c9a-bfa825cbe724')\"\n",
              "              title=\"Convert this dataframe to an interactive table.\"\n",
              "              style=\"display:none;\">\n",
              "        \n",
              "  <svg xmlns=\"http://www.w3.org/2000/svg\" height=\"24px\"viewBox=\"0 0 24 24\"\n",
              "       width=\"24px\">\n",
              "    <path d=\"M0 0h24v24H0V0z\" fill=\"none\"/>\n",
              "    <path d=\"M18.56 5.44l.94 2.06.94-2.06 2.06-.94-2.06-.94-.94-2.06-.94 2.06-2.06.94zm-11 1L8.5 8.5l.94-2.06 2.06-.94-2.06-.94L8.5 2.5l-.94 2.06-2.06.94zm10 10l.94 2.06.94-2.06 2.06-.94-2.06-.94-.94-2.06-.94 2.06-2.06.94z\"/><path d=\"M17.41 7.96l-1.37-1.37c-.4-.4-.92-.59-1.43-.59-.52 0-1.04.2-1.43.59L10.3 9.45l-7.72 7.72c-.78.78-.78 2.05 0 2.83L4 21.41c.39.39.9.59 1.41.59.51 0 1.02-.2 1.41-.59l7.78-7.78 2.81-2.81c.8-.78.8-2.07 0-2.86zM5.41 20L4 18.59l7.72-7.72 1.47 1.35L5.41 20z\"/>\n",
              "  </svg>\n",
              "      </button>\n",
              "      \n",
              "  <style>\n",
              "    .colab-df-container {\n",
              "      display:flex;\n",
              "      flex-wrap:wrap;\n",
              "      gap: 12px;\n",
              "    }\n",
              "\n",
              "    .colab-df-convert {\n",
              "      background-color: #E8F0FE;\n",
              "      border: none;\n",
              "      border-radius: 50%;\n",
              "      cursor: pointer;\n",
              "      display: none;\n",
              "      fill: #1967D2;\n",
              "      height: 32px;\n",
              "      padding: 0 0 0 0;\n",
              "      width: 32px;\n",
              "    }\n",
              "\n",
              "    .colab-df-convert:hover {\n",
              "      background-color: #E2EBFA;\n",
              "      box-shadow: 0px 1px 2px rgba(60, 64, 67, 0.3), 0px 1px 3px 1px rgba(60, 64, 67, 0.15);\n",
              "      fill: #174EA6;\n",
              "    }\n",
              "\n",
              "    [theme=dark] .colab-df-convert {\n",
              "      background-color: #3B4455;\n",
              "      fill: #D2E3FC;\n",
              "    }\n",
              "\n",
              "    [theme=dark] .colab-df-convert:hover {\n",
              "      background-color: #434B5C;\n",
              "      box-shadow: 0px 1px 3px 1px rgba(0, 0, 0, 0.15);\n",
              "      filter: drop-shadow(0px 1px 2px rgba(0, 0, 0, 0.3));\n",
              "      fill: #FFFFFF;\n",
              "    }\n",
              "  </style>\n",
              "\n",
              "      <script>\n",
              "        const buttonEl =\n",
              "          document.querySelector('#df-54a10b1e-7d05-43b8-8c9a-bfa825cbe724 button.colab-df-convert');\n",
              "        buttonEl.style.display =\n",
              "          google.colab.kernel.accessAllowed ? 'block' : 'none';\n",
              "\n",
              "        async function convertToInteractive(key) {\n",
              "          const element = document.querySelector('#df-54a10b1e-7d05-43b8-8c9a-bfa825cbe724');\n",
              "          const dataTable =\n",
              "            await google.colab.kernel.invokeFunction('convertToInteractive',\n",
              "                                                     [key], {});\n",
              "          if (!dataTable) return;\n",
              "\n",
              "          const docLinkHtml = 'Like what you see? Visit the ' +\n",
              "            '<a target=\"_blank\" href=https://colab.research.google.com/notebooks/data_table.ipynb>data table notebook</a>'\n",
              "            + ' to learn more about interactive tables.';\n",
              "          element.innerHTML = '';\n",
              "          dataTable['output_type'] = 'display_data';\n",
              "          await google.colab.output.renderOutput(dataTable, element);\n",
              "          const docLink = document.createElement('div');\n",
              "          docLink.innerHTML = docLinkHtml;\n",
              "          element.appendChild(docLink);\n",
              "        }\n",
              "      </script>\n",
              "    </div>\n",
              "  </div>\n",
              "  "
            ]
          },
          "metadata": {},
          "execution_count": 6
        }
      ]
    },
    {
      "cell_type": "markdown",
      "source": [
        "### なんかレース数少ない？"
      ],
      "metadata": {
        "id": "7UiyLecMlHq5"
      },
      "id": "7UiyLecMlHq5"
    },
    {
      "cell_type": "code",
      "source": [
        "race_jisseki_df.shape"
      ],
      "metadata": {
        "colab": {
          "base_uri": "https://localhost:8080/"
        },
        "id": "qPe5vVsOlG8L",
        "outputId": "1ed24608-986f-4ab4-bdb1-e771890f183e"
      },
      "id": "qPe5vVsOlG8L",
      "execution_count": 7,
      "outputs": [
        {
          "output_type": "execute_result",
          "data": {
            "text/plain": [
              "(3241593, 308)"
            ]
          },
          "metadata": {},
          "execution_count": 7
        }
      ]
    },
    {
      "cell_type": "code",
      "source": [
        "tmp_df = race_jisseki_df[race_jisseki_df[\"開催年月日\"] == \"2018-07-03\"].copy()"
      ],
      "metadata": {
        "id": "L1F89DVslN6a"
      },
      "id": "L1F89DVslN6a",
      "execution_count": 8,
      "outputs": []
    },
    {
      "cell_type": "code",
      "source": [
        "# 2018/07/03で確認\n",
        "# https://nar.netkeiba.com/top/race_list.html?kaisai_date=20180703&kaisai_id=2018450703\n",
        "# パッと見全レースありそう\n",
        "tmp_df[[\"競走コード\", \"馬番\"]].drop_duplicates()[\"競走コード\"].value_counts().sort_index()"
      ],
      "metadata": {
        "colab": {
          "base_uri": "https://localhost:8080/"
        },
        "id": "HTTe8SVblNx6",
        "outputId": "7d99fc80-bb16-4b4e-85ec-56835283d1df"
      },
      "id": "HTTe8SVblNx6",
      "execution_count": 9,
      "outputs": [
        {
          "output_type": "execute_result",
          "data": {
            "text/plain": [
              "21807034501    12\n",
              "21807034502    12\n",
              "21807034503    12\n",
              "21807034504    10\n",
              "21807034505     8\n",
              "21807034506    12\n",
              "21807034507    11\n",
              "21807034508    11\n",
              "21807034509    14\n",
              "21807034510    14\n",
              "21807034511     8\n",
              "21807034512    12\n",
              "21807034601    11\n",
              "21807034602     7\n",
              "21807034603     9\n",
              "21807034604     9\n",
              "21807034605     8\n",
              "21807034606    10\n",
              "21807034607    10\n",
              "21807034608     9\n",
              "21807034609    10\n",
              "21807034610     9\n",
              "21807034611     7\n",
              "21807034612    10\n",
              "Name: 競走コード, dtype: int64"
            ]
          },
          "metadata": {},
          "execution_count": 9
        }
      ]
    },
    {
      "cell_type": "markdown",
      "id": "002afa91",
      "metadata": {
        "id": "002afa91"
      },
      "source": [
        "### date_int"
      ]
    },
    {
      "cell_type": "code",
      "execution_count": 10,
      "id": "c3aa4e38",
      "metadata": {
        "id": "c3aa4e38"
      },
      "outputs": [],
      "source": [
        "race_jisseki_df[\"date_int\"] = pd.to_datetime(race_jisseki_df[\"開催年月日\"]).dt.strftime('%Y%m%d').astype(int)"
      ]
    },
    {
      "cell_type": "markdown",
      "id": "42fd5a12",
      "metadata": {
        "id": "42fd5a12"
      },
      "source": [
        "### race_id"
      ]
    },
    {
      "cell_type": "code",
      "execution_count": 11,
      "id": "aa660459",
      "metadata": {
        "colab": {
          "base_uri": "https://localhost:8080/"
        },
        "id": "aa660459",
        "outputId": "1755dbf8-8d30-4750-9b8b-66c134606947"
      },
      "outputs": [
        {
          "output_type": "stream",
          "name": "stdout",
          "text": [
            "2022-07-16 06:11:45.571863\n",
            "2022-07-16 06:13:07.573983\n"
          ]
        }
      ],
      "source": [
        "print(datetime.datetime.now())\n",
        "# 1min\n",
        "race_jisseki_df[\"RACE_ID\"] = (\n",
        "    race_jisseki_df[[\"date_int\", \"競馬場コード\", \"開催回\", \"開催日目\", \"レース番号\"]]\n",
        "    .apply(lambda s: race_id_operator.make_RACEID(s[\"date_int\"], s[\"競馬場コード\"], s[\"開催回\"], s[\"開催日目\"], s[\"レース番号\"]), axis=1)\n",
        ")\n",
        "print(datetime.datetime.now())"
      ]
    },
    {
      "cell_type": "code",
      "execution_count": 12,
      "id": "80a51e68",
      "metadata": {
        "colab": {
          "base_uri": "https://localhost:8080/",
          "height": 206
        },
        "id": "80a51e68",
        "outputId": "690aa784-0d00-4fe7-9d3a-f9ce9e039c02"
      },
      "outputs": [
        {
          "output_type": "execute_result",
          "data": {
            "text/plain": [
              "   date_int 競馬場コード  開催回  開催日目  レース番号             RACE_ID\n",
              "0  20050101     43   11     1      1  20050101_43_11_1_1\n",
              "1  20050101     43   11     1      1  20050101_43_11_1_1\n",
              "2  20050101     43   11     1      1  20050101_43_11_1_1\n",
              "3  20050101     43   11     1      1  20050101_43_11_1_1\n",
              "4  20050101     43   11     1      1  20050101_43_11_1_1"
            ],
            "text/html": [
              "\n",
              "  <div id=\"df-fc1d0b47-d67d-4ce5-b468-5fad3ba85d38\">\n",
              "    <div class=\"colab-df-container\">\n",
              "      <div>\n",
              "<style scoped>\n",
              "    .dataframe tbody tr th:only-of-type {\n",
              "        vertical-align: middle;\n",
              "    }\n",
              "\n",
              "    .dataframe tbody tr th {\n",
              "        vertical-align: top;\n",
              "    }\n",
              "\n",
              "    .dataframe thead th {\n",
              "        text-align: right;\n",
              "    }\n",
              "</style>\n",
              "<table border=\"1\" class=\"dataframe\">\n",
              "  <thead>\n",
              "    <tr style=\"text-align: right;\">\n",
              "      <th></th>\n",
              "      <th>date_int</th>\n",
              "      <th>競馬場コード</th>\n",
              "      <th>開催回</th>\n",
              "      <th>開催日目</th>\n",
              "      <th>レース番号</th>\n",
              "      <th>RACE_ID</th>\n",
              "    </tr>\n",
              "  </thead>\n",
              "  <tbody>\n",
              "    <tr>\n",
              "      <th>0</th>\n",
              "      <td>20050101</td>\n",
              "      <td>43</td>\n",
              "      <td>11</td>\n",
              "      <td>1</td>\n",
              "      <td>1</td>\n",
              "      <td>20050101_43_11_1_1</td>\n",
              "    </tr>\n",
              "    <tr>\n",
              "      <th>1</th>\n",
              "      <td>20050101</td>\n",
              "      <td>43</td>\n",
              "      <td>11</td>\n",
              "      <td>1</td>\n",
              "      <td>1</td>\n",
              "      <td>20050101_43_11_1_1</td>\n",
              "    </tr>\n",
              "    <tr>\n",
              "      <th>2</th>\n",
              "      <td>20050101</td>\n",
              "      <td>43</td>\n",
              "      <td>11</td>\n",
              "      <td>1</td>\n",
              "      <td>1</td>\n",
              "      <td>20050101_43_11_1_1</td>\n",
              "    </tr>\n",
              "    <tr>\n",
              "      <th>3</th>\n",
              "      <td>20050101</td>\n",
              "      <td>43</td>\n",
              "      <td>11</td>\n",
              "      <td>1</td>\n",
              "      <td>1</td>\n",
              "      <td>20050101_43_11_1_1</td>\n",
              "    </tr>\n",
              "    <tr>\n",
              "      <th>4</th>\n",
              "      <td>20050101</td>\n",
              "      <td>43</td>\n",
              "      <td>11</td>\n",
              "      <td>1</td>\n",
              "      <td>1</td>\n",
              "      <td>20050101_43_11_1_1</td>\n",
              "    </tr>\n",
              "  </tbody>\n",
              "</table>\n",
              "</div>\n",
              "      <button class=\"colab-df-convert\" onclick=\"convertToInteractive('df-fc1d0b47-d67d-4ce5-b468-5fad3ba85d38')\"\n",
              "              title=\"Convert this dataframe to an interactive table.\"\n",
              "              style=\"display:none;\">\n",
              "        \n",
              "  <svg xmlns=\"http://www.w3.org/2000/svg\" height=\"24px\"viewBox=\"0 0 24 24\"\n",
              "       width=\"24px\">\n",
              "    <path d=\"M0 0h24v24H0V0z\" fill=\"none\"/>\n",
              "    <path d=\"M18.56 5.44l.94 2.06.94-2.06 2.06-.94-2.06-.94-.94-2.06-.94 2.06-2.06.94zm-11 1L8.5 8.5l.94-2.06 2.06-.94-2.06-.94L8.5 2.5l-.94 2.06-2.06.94zm10 10l.94 2.06.94-2.06 2.06-.94-2.06-.94-.94-2.06-.94 2.06-2.06.94z\"/><path d=\"M17.41 7.96l-1.37-1.37c-.4-.4-.92-.59-1.43-.59-.52 0-1.04.2-1.43.59L10.3 9.45l-7.72 7.72c-.78.78-.78 2.05 0 2.83L4 21.41c.39.39.9.59 1.41.59.51 0 1.02-.2 1.41-.59l7.78-7.78 2.81-2.81c.8-.78.8-2.07 0-2.86zM5.41 20L4 18.59l7.72-7.72 1.47 1.35L5.41 20z\"/>\n",
              "  </svg>\n",
              "      </button>\n",
              "      \n",
              "  <style>\n",
              "    .colab-df-container {\n",
              "      display:flex;\n",
              "      flex-wrap:wrap;\n",
              "      gap: 12px;\n",
              "    }\n",
              "\n",
              "    .colab-df-convert {\n",
              "      background-color: #E8F0FE;\n",
              "      border: none;\n",
              "      border-radius: 50%;\n",
              "      cursor: pointer;\n",
              "      display: none;\n",
              "      fill: #1967D2;\n",
              "      height: 32px;\n",
              "      padding: 0 0 0 0;\n",
              "      width: 32px;\n",
              "    }\n",
              "\n",
              "    .colab-df-convert:hover {\n",
              "      background-color: #E2EBFA;\n",
              "      box-shadow: 0px 1px 2px rgba(60, 64, 67, 0.3), 0px 1px 3px 1px rgba(60, 64, 67, 0.15);\n",
              "      fill: #174EA6;\n",
              "    }\n",
              "\n",
              "    [theme=dark] .colab-df-convert {\n",
              "      background-color: #3B4455;\n",
              "      fill: #D2E3FC;\n",
              "    }\n",
              "\n",
              "    [theme=dark] .colab-df-convert:hover {\n",
              "      background-color: #434B5C;\n",
              "      box-shadow: 0px 1px 3px 1px rgba(0, 0, 0, 0.15);\n",
              "      filter: drop-shadow(0px 1px 2px rgba(0, 0, 0, 0.3));\n",
              "      fill: #FFFFFF;\n",
              "    }\n",
              "  </style>\n",
              "\n",
              "      <script>\n",
              "        const buttonEl =\n",
              "          document.querySelector('#df-fc1d0b47-d67d-4ce5-b468-5fad3ba85d38 button.colab-df-convert');\n",
              "        buttonEl.style.display =\n",
              "          google.colab.kernel.accessAllowed ? 'block' : 'none';\n",
              "\n",
              "        async function convertToInteractive(key) {\n",
              "          const element = document.querySelector('#df-fc1d0b47-d67d-4ce5-b468-5fad3ba85d38');\n",
              "          const dataTable =\n",
              "            await google.colab.kernel.invokeFunction('convertToInteractive',\n",
              "                                                     [key], {});\n",
              "          if (!dataTable) return;\n",
              "\n",
              "          const docLinkHtml = 'Like what you see? Visit the ' +\n",
              "            '<a target=\"_blank\" href=https://colab.research.google.com/notebooks/data_table.ipynb>data table notebook</a>'\n",
              "            + ' to learn more about interactive tables.';\n",
              "          element.innerHTML = '';\n",
              "          dataTable['output_type'] = 'display_data';\n",
              "          await google.colab.output.renderOutput(dataTable, element);\n",
              "          const docLink = document.createElement('div');\n",
              "          docLink.innerHTML = docLinkHtml;\n",
              "          element.appendChild(docLink);\n",
              "        }\n",
              "      </script>\n",
              "    </div>\n",
              "  </div>\n",
              "  "
            ]
          },
          "metadata": {},
          "execution_count": 12
        }
      ],
      "source": [
        "race_jisseki_df[[\"date_int\", \"競馬場コード\", \"開催回\", \"開催日目\", \"レース番号\", \"RACE_ID\"]].head()"
      ]
    },
    {
      "cell_type": "markdown",
      "id": "03a4406d",
      "metadata": {
        "id": "03a4406d"
      },
      "source": [
        "### 月日"
      ]
    },
    {
      "cell_type": "code",
      "execution_count": 13,
      "id": "02a7644d",
      "metadata": {
        "id": "02a7644d"
      },
      "outputs": [],
      "source": [
        "race_jisseki_df['月'] = race_jisseki_df['date_int'].map(lambda x : int(str(x)[4:6]))\n",
        "race_jisseki_df['日'] = race_jisseki_df['date_int'].map(lambda x : int(str(x)[6:8]))"
      ]
    },
    {
      "cell_type": "code",
      "execution_count": 14,
      "id": "9f6874df",
      "metadata": {
        "colab": {
          "base_uri": "https://localhost:8080/"
        },
        "id": "9f6874df",
        "outputId": "123804fe-1202-4acf-d1e3-8ac9f3084ce4"
      },
      "outputs": [
        {
          "output_type": "execute_result",
          "data": {
            "text/plain": [
              "5     300570\n",
              "10    288122\n",
              "7     280932\n",
              "6     277213\n",
              "8     273145\n",
              "11    271845\n",
              "4     269364\n",
              "12    266439\n",
              "1     263131\n",
              "9     262847\n",
              "3     257475\n",
              "2     230510\n",
              "Name: 月, dtype: int64"
            ]
          },
          "metadata": {},
          "execution_count": 14
        }
      ],
      "source": [
        "race_jisseki_df['月'].value_counts()"
      ]
    },
    {
      "cell_type": "code",
      "execution_count": 15,
      "id": "0cbb3f9b",
      "metadata": {
        "colab": {
          "base_uri": "https://localhost:8080/"
        },
        "id": "0cbb3f9b",
        "outputId": "2bd92eca-3a85-4367-bc11-dbeab8e1136e"
      },
      "outputs": [
        {
          "output_type": "execute_result",
          "data": {
            "text/plain": [
              "3     111316\n",
              "23    111241\n",
              "5     109952\n",
              "20    109673\n",
              "24    109647\n",
              "14    109562\n",
              "4     109355\n",
              "21    109042\n",
              "17    109026\n",
              "11    108224\n",
              "15    107922\n",
              "16    107888\n",
              "12    106951\n",
              "18    106562\n",
              "10    106253\n",
              "13    106020\n",
              "22    105994\n",
              "19    105940\n",
              "2     105516\n",
              "28    105002\n",
              "9     104539\n",
              "25    104082\n",
              "26    103550\n",
              "27    103428\n",
              "1     102338\n",
              "8     102081\n",
              "6     101612\n",
              "29     99869\n",
              "7      99808\n",
              "30     96192\n",
              "31     63008\n",
              "Name: 日, dtype: int64"
            ]
          },
          "metadata": {},
          "execution_count": 15
        }
      ],
      "source": [
        "race_jisseki_df['日'].value_counts()"
      ]
    },
    {
      "cell_type": "markdown",
      "id": "c0dbc70b",
      "metadata": {
        "id": "c0dbc70b"
      },
      "source": [
        "### 馬年齢系"
      ]
    },
    {
      "cell_type": "code",
      "execution_count": 16,
      "id": "b832b7b4",
      "metadata": {
        "colab": {
          "base_uri": "https://localhost:8080/"
        },
        "id": "b832b7b4",
        "outputId": "9c7343a8-1598-4b76-e500-9cd7d0408758"
      },
      "outputs": [
        {
          "output_type": "execute_result",
          "data": {
            "text/plain": [
              "['データ作成年月日',\n",
              " '開催年月日',\n",
              " '年月日',\n",
              " '開催月日',\n",
              " '開催日目',\n",
              " '曜日コード',\n",
              " '競走馬登録年月日',\n",
              " '競走馬抹消年月日',\n",
              " '生年月日',\n",
              " '日']"
            ]
          },
          "metadata": {},
          "execution_count": 16
        }
      ],
      "source": [
        "[c for c in race_jisseki_df.columns if \"日\" in c]"
      ]
    },
    {
      "cell_type": "code",
      "source": [
        "race_jisseki_df[\"生年月日\"].head()"
      ],
      "metadata": {
        "colab": {
          "base_uri": "https://localhost:8080/"
        },
        "id": "Ddp9ub_abTC3",
        "outputId": "cd97d873-90b4-4f22-f86d-7e34c3760ad9"
      },
      "id": "Ddp9ub_abTC3",
      "execution_count": 17,
      "outputs": [
        {
          "output_type": "execute_result",
          "data": {
            "text/plain": [
              "0    1999-04-28\n",
              "1    2000-04-19\n",
              "2    2000-02-24\n",
              "3    2000-04-04\n",
              "4    2000-04-23\n",
              "Name: 生年月日, dtype: object"
            ]
          },
          "metadata": {},
          "execution_count": 17
        }
      ]
    },
    {
      "cell_type": "code",
      "source": [
        "s = \"2000-04-23\"\n",
        "s[0:4] + s[5:7] + s[8:10]"
      ],
      "metadata": {
        "colab": {
          "base_uri": "https://localhost:8080/",
          "height": 35
        },
        "id": "_tNdejArgFnF",
        "outputId": "b89efd55-cf19-495e-a7ca-94d6e17b991c"
      },
      "id": "_tNdejArgFnF",
      "execution_count": 18,
      "outputs": [
        {
          "output_type": "execute_result",
          "data": {
            "text/plain": [
              "'20000423'"
            ],
            "application/vnd.google.colaboratory.intrinsic+json": {
              "type": "string"
            }
          },
          "metadata": {},
          "execution_count": 18
        }
      ]
    },
    {
      "cell_type": "code",
      "execution_count": 19,
      "id": "19342887",
      "metadata": {
        "id": "19342887"
      },
      "outputs": [],
      "source": [
        "race_jisseki_df['生まれ月'] = race_jisseki_df['生年月日'].map(lambda x : int(str(x)[5:7]) if not pd.isnull(x) else np.nan)\n",
        "race_jisseki_df['生まれ月_sin'] = race_jisseki_df['生まれ月']\\\n",
        ".map(lambda x: math.sin(math.radians(360 * (x/12))) if not pd.isnull(x) else np.nan)\n",
        "race_jisseki_df['生まれ月_cos'] = race_jisseki_df['生まれ月']\\\n",
        ".map(lambda x: math.cos(math.radians(360 * (x/12)))if not pd.isnull(x) else np.nan)\n",
        "\n",
        "race_jisseki_df['馬日齢'] = (\n",
        "    race_jisseki_df['生年月日'].map(lambda x : 1 if not pd.isnull(x) else np.nan)\n",
        "    *(\n",
        "        race_jisseki_df['date_int'].map(lambda x : change_type.change_string_to_date(str(int(x))))\n",
        "        - race_jisseki_df['生年月日'].map(lambda x : change_type.change_string_to_date(x[0:4] + x[5:7] + x[8:10]) if not pd.isnull(x) else np.nan)\n",
        "     ).map(lambda x :x.days )\n",
        ")"
      ]
    },
    {
      "cell_type": "code",
      "source": [
        "race_jisseki_df[[\"生年月日\", '生まれ月', \"生まれ月_sin\", \"生まれ月_cos\", \"date_int\", \"馬日齢\"]].head()"
      ],
      "metadata": {
        "colab": {
          "base_uri": "https://localhost:8080/",
          "height": 206
        },
        "id": "l1OSQVINZyVn",
        "outputId": "1001ab4d-79e4-4637-ccb5-16352b03de28"
      },
      "id": "l1OSQVINZyVn",
      "execution_count": 20,
      "outputs": [
        {
          "output_type": "execute_result",
          "data": {
            "text/plain": [
              "         生年月日  生まれ月  生まれ月_sin  生まれ月_cos  date_int     馬日齢\n",
              "0  1999-04-28   4.0  0.866025      -0.5  20050101  2075.0\n",
              "1  2000-04-19   4.0  0.866025      -0.5  20050101  1718.0\n",
              "2  2000-02-24   2.0  0.866025       0.5  20050101  1773.0\n",
              "3  2000-04-04   4.0  0.866025      -0.5  20050101  1733.0\n",
              "4  2000-04-23   4.0  0.866025      -0.5  20050101  1714.0"
            ],
            "text/html": [
              "\n",
              "  <div id=\"df-996f7beb-b82c-4ccf-b3c6-a88cee7e6992\">\n",
              "    <div class=\"colab-df-container\">\n",
              "      <div>\n",
              "<style scoped>\n",
              "    .dataframe tbody tr th:only-of-type {\n",
              "        vertical-align: middle;\n",
              "    }\n",
              "\n",
              "    .dataframe tbody tr th {\n",
              "        vertical-align: top;\n",
              "    }\n",
              "\n",
              "    .dataframe thead th {\n",
              "        text-align: right;\n",
              "    }\n",
              "</style>\n",
              "<table border=\"1\" class=\"dataframe\">\n",
              "  <thead>\n",
              "    <tr style=\"text-align: right;\">\n",
              "      <th></th>\n",
              "      <th>生年月日</th>\n",
              "      <th>生まれ月</th>\n",
              "      <th>生まれ月_sin</th>\n",
              "      <th>生まれ月_cos</th>\n",
              "      <th>date_int</th>\n",
              "      <th>馬日齢</th>\n",
              "    </tr>\n",
              "  </thead>\n",
              "  <tbody>\n",
              "    <tr>\n",
              "      <th>0</th>\n",
              "      <td>1999-04-28</td>\n",
              "      <td>4.0</td>\n",
              "      <td>0.866025</td>\n",
              "      <td>-0.5</td>\n",
              "      <td>20050101</td>\n",
              "      <td>2075.0</td>\n",
              "    </tr>\n",
              "    <tr>\n",
              "      <th>1</th>\n",
              "      <td>2000-04-19</td>\n",
              "      <td>4.0</td>\n",
              "      <td>0.866025</td>\n",
              "      <td>-0.5</td>\n",
              "      <td>20050101</td>\n",
              "      <td>1718.0</td>\n",
              "    </tr>\n",
              "    <tr>\n",
              "      <th>2</th>\n",
              "      <td>2000-02-24</td>\n",
              "      <td>2.0</td>\n",
              "      <td>0.866025</td>\n",
              "      <td>0.5</td>\n",
              "      <td>20050101</td>\n",
              "      <td>1773.0</td>\n",
              "    </tr>\n",
              "    <tr>\n",
              "      <th>3</th>\n",
              "      <td>2000-04-04</td>\n",
              "      <td>4.0</td>\n",
              "      <td>0.866025</td>\n",
              "      <td>-0.5</td>\n",
              "      <td>20050101</td>\n",
              "      <td>1733.0</td>\n",
              "    </tr>\n",
              "    <tr>\n",
              "      <th>4</th>\n",
              "      <td>2000-04-23</td>\n",
              "      <td>4.0</td>\n",
              "      <td>0.866025</td>\n",
              "      <td>-0.5</td>\n",
              "      <td>20050101</td>\n",
              "      <td>1714.0</td>\n",
              "    </tr>\n",
              "  </tbody>\n",
              "</table>\n",
              "</div>\n",
              "      <button class=\"colab-df-convert\" onclick=\"convertToInteractive('df-996f7beb-b82c-4ccf-b3c6-a88cee7e6992')\"\n",
              "              title=\"Convert this dataframe to an interactive table.\"\n",
              "              style=\"display:none;\">\n",
              "        \n",
              "  <svg xmlns=\"http://www.w3.org/2000/svg\" height=\"24px\"viewBox=\"0 0 24 24\"\n",
              "       width=\"24px\">\n",
              "    <path d=\"M0 0h24v24H0V0z\" fill=\"none\"/>\n",
              "    <path d=\"M18.56 5.44l.94 2.06.94-2.06 2.06-.94-2.06-.94-.94-2.06-.94 2.06-2.06.94zm-11 1L8.5 8.5l.94-2.06 2.06-.94-2.06-.94L8.5 2.5l-.94 2.06-2.06.94zm10 10l.94 2.06.94-2.06 2.06-.94-2.06-.94-.94-2.06-.94 2.06-2.06.94z\"/><path d=\"M17.41 7.96l-1.37-1.37c-.4-.4-.92-.59-1.43-.59-.52 0-1.04.2-1.43.59L10.3 9.45l-7.72 7.72c-.78.78-.78 2.05 0 2.83L4 21.41c.39.39.9.59 1.41.59.51 0 1.02-.2 1.41-.59l7.78-7.78 2.81-2.81c.8-.78.8-2.07 0-2.86zM5.41 20L4 18.59l7.72-7.72 1.47 1.35L5.41 20z\"/>\n",
              "  </svg>\n",
              "      </button>\n",
              "      \n",
              "  <style>\n",
              "    .colab-df-container {\n",
              "      display:flex;\n",
              "      flex-wrap:wrap;\n",
              "      gap: 12px;\n",
              "    }\n",
              "\n",
              "    .colab-df-convert {\n",
              "      background-color: #E8F0FE;\n",
              "      border: none;\n",
              "      border-radius: 50%;\n",
              "      cursor: pointer;\n",
              "      display: none;\n",
              "      fill: #1967D2;\n",
              "      height: 32px;\n",
              "      padding: 0 0 0 0;\n",
              "      width: 32px;\n",
              "    }\n",
              "\n",
              "    .colab-df-convert:hover {\n",
              "      background-color: #E2EBFA;\n",
              "      box-shadow: 0px 1px 2px rgba(60, 64, 67, 0.3), 0px 1px 3px 1px rgba(60, 64, 67, 0.15);\n",
              "      fill: #174EA6;\n",
              "    }\n",
              "\n",
              "    [theme=dark] .colab-df-convert {\n",
              "      background-color: #3B4455;\n",
              "      fill: #D2E3FC;\n",
              "    }\n",
              "\n",
              "    [theme=dark] .colab-df-convert:hover {\n",
              "      background-color: #434B5C;\n",
              "      box-shadow: 0px 1px 3px 1px rgba(0, 0, 0, 0.15);\n",
              "      filter: drop-shadow(0px 1px 2px rgba(0, 0, 0, 0.3));\n",
              "      fill: #FFFFFF;\n",
              "    }\n",
              "  </style>\n",
              "\n",
              "      <script>\n",
              "        const buttonEl =\n",
              "          document.querySelector('#df-996f7beb-b82c-4ccf-b3c6-a88cee7e6992 button.colab-df-convert');\n",
              "        buttonEl.style.display =\n",
              "          google.colab.kernel.accessAllowed ? 'block' : 'none';\n",
              "\n",
              "        async function convertToInteractive(key) {\n",
              "          const element = document.querySelector('#df-996f7beb-b82c-4ccf-b3c6-a88cee7e6992');\n",
              "          const dataTable =\n",
              "            await google.colab.kernel.invokeFunction('convertToInteractive',\n",
              "                                                     [key], {});\n",
              "          if (!dataTable) return;\n",
              "\n",
              "          const docLinkHtml = 'Like what you see? Visit the ' +\n",
              "            '<a target=\"_blank\" href=https://colab.research.google.com/notebooks/data_table.ipynb>data table notebook</a>'\n",
              "            + ' to learn more about interactive tables.';\n",
              "          element.innerHTML = '';\n",
              "          dataTable['output_type'] = 'display_data';\n",
              "          await google.colab.output.renderOutput(dataTable, element);\n",
              "          const docLink = document.createElement('div');\n",
              "          docLink.innerHTML = docLinkHtml;\n",
              "          element.appendChild(docLink);\n",
              "        }\n",
              "      </script>\n",
              "    </div>\n",
              "  </div>\n",
              "  "
            ]
          },
          "metadata": {},
          "execution_count": 20
        }
      ]
    },
    {
      "cell_type": "code",
      "source": [
        "race_jisseki_df[['生まれ月', \"生まれ月_sin\", \"生まれ月_cos\"]].drop_duplicates()"
      ],
      "metadata": {
        "colab": {
          "base_uri": "https://localhost:8080/",
          "height": 457
        },
        "id": "loFs4fOJbn-I",
        "outputId": "ec501b4b-4b85-4a76-a175-3dc697870cdb"
      },
      "id": "loFs4fOJbn-I",
      "execution_count": 21,
      "outputs": [
        {
          "output_type": "execute_result",
          "data": {
            "text/plain": [
              "        生まれ月      生まれ月_sin      生まれ月_cos\n",
              "0        4.0  8.660254e-01 -5.000000e-01\n",
              "2        2.0  8.660254e-01  5.000000e-01\n",
              "5        3.0  1.000000e+00  6.123234e-17\n",
              "6        5.0  5.000000e-01 -8.660254e-01\n",
              "7        6.0  1.224647e-16 -1.000000e+00\n",
              "142      1.0  5.000000e-01  8.660254e-01\n",
              "489      8.0 -8.660254e-01 -5.000000e-01\n",
              "3661    10.0 -8.660254e-01  5.000000e-01\n",
              "4230     7.0 -5.000000e-01 -8.660254e-01\n",
              "8546     9.0 -1.000000e+00 -1.836970e-16\n",
              "24186   11.0 -5.000000e-01  8.660254e-01\n",
              "45175    NaN           NaN           NaN\n",
              "105465  12.0 -2.449294e-16  1.000000e+00"
            ],
            "text/html": [
              "\n",
              "  <div id=\"df-0c2d3134-84de-4443-8ab7-83d48dcb9b35\">\n",
              "    <div class=\"colab-df-container\">\n",
              "      <div>\n",
              "<style scoped>\n",
              "    .dataframe tbody tr th:only-of-type {\n",
              "        vertical-align: middle;\n",
              "    }\n",
              "\n",
              "    .dataframe tbody tr th {\n",
              "        vertical-align: top;\n",
              "    }\n",
              "\n",
              "    .dataframe thead th {\n",
              "        text-align: right;\n",
              "    }\n",
              "</style>\n",
              "<table border=\"1\" class=\"dataframe\">\n",
              "  <thead>\n",
              "    <tr style=\"text-align: right;\">\n",
              "      <th></th>\n",
              "      <th>生まれ月</th>\n",
              "      <th>生まれ月_sin</th>\n",
              "      <th>生まれ月_cos</th>\n",
              "    </tr>\n",
              "  </thead>\n",
              "  <tbody>\n",
              "    <tr>\n",
              "      <th>0</th>\n",
              "      <td>4.0</td>\n",
              "      <td>8.660254e-01</td>\n",
              "      <td>-5.000000e-01</td>\n",
              "    </tr>\n",
              "    <tr>\n",
              "      <th>2</th>\n",
              "      <td>2.0</td>\n",
              "      <td>8.660254e-01</td>\n",
              "      <td>5.000000e-01</td>\n",
              "    </tr>\n",
              "    <tr>\n",
              "      <th>5</th>\n",
              "      <td>3.0</td>\n",
              "      <td>1.000000e+00</td>\n",
              "      <td>6.123234e-17</td>\n",
              "    </tr>\n",
              "    <tr>\n",
              "      <th>6</th>\n",
              "      <td>5.0</td>\n",
              "      <td>5.000000e-01</td>\n",
              "      <td>-8.660254e-01</td>\n",
              "    </tr>\n",
              "    <tr>\n",
              "      <th>7</th>\n",
              "      <td>6.0</td>\n",
              "      <td>1.224647e-16</td>\n",
              "      <td>-1.000000e+00</td>\n",
              "    </tr>\n",
              "    <tr>\n",
              "      <th>142</th>\n",
              "      <td>1.0</td>\n",
              "      <td>5.000000e-01</td>\n",
              "      <td>8.660254e-01</td>\n",
              "    </tr>\n",
              "    <tr>\n",
              "      <th>489</th>\n",
              "      <td>8.0</td>\n",
              "      <td>-8.660254e-01</td>\n",
              "      <td>-5.000000e-01</td>\n",
              "    </tr>\n",
              "    <tr>\n",
              "      <th>3661</th>\n",
              "      <td>10.0</td>\n",
              "      <td>-8.660254e-01</td>\n",
              "      <td>5.000000e-01</td>\n",
              "    </tr>\n",
              "    <tr>\n",
              "      <th>4230</th>\n",
              "      <td>7.0</td>\n",
              "      <td>-5.000000e-01</td>\n",
              "      <td>-8.660254e-01</td>\n",
              "    </tr>\n",
              "    <tr>\n",
              "      <th>8546</th>\n",
              "      <td>9.0</td>\n",
              "      <td>-1.000000e+00</td>\n",
              "      <td>-1.836970e-16</td>\n",
              "    </tr>\n",
              "    <tr>\n",
              "      <th>24186</th>\n",
              "      <td>11.0</td>\n",
              "      <td>-5.000000e-01</td>\n",
              "      <td>8.660254e-01</td>\n",
              "    </tr>\n",
              "    <tr>\n",
              "      <th>45175</th>\n",
              "      <td>NaN</td>\n",
              "      <td>NaN</td>\n",
              "      <td>NaN</td>\n",
              "    </tr>\n",
              "    <tr>\n",
              "      <th>105465</th>\n",
              "      <td>12.0</td>\n",
              "      <td>-2.449294e-16</td>\n",
              "      <td>1.000000e+00</td>\n",
              "    </tr>\n",
              "  </tbody>\n",
              "</table>\n",
              "</div>\n",
              "      <button class=\"colab-df-convert\" onclick=\"convertToInteractive('df-0c2d3134-84de-4443-8ab7-83d48dcb9b35')\"\n",
              "              title=\"Convert this dataframe to an interactive table.\"\n",
              "              style=\"display:none;\">\n",
              "        \n",
              "  <svg xmlns=\"http://www.w3.org/2000/svg\" height=\"24px\"viewBox=\"0 0 24 24\"\n",
              "       width=\"24px\">\n",
              "    <path d=\"M0 0h24v24H0V0z\" fill=\"none\"/>\n",
              "    <path d=\"M18.56 5.44l.94 2.06.94-2.06 2.06-.94-2.06-.94-.94-2.06-.94 2.06-2.06.94zm-11 1L8.5 8.5l.94-2.06 2.06-.94-2.06-.94L8.5 2.5l-.94 2.06-2.06.94zm10 10l.94 2.06.94-2.06 2.06-.94-2.06-.94-.94-2.06-.94 2.06-2.06.94z\"/><path d=\"M17.41 7.96l-1.37-1.37c-.4-.4-.92-.59-1.43-.59-.52 0-1.04.2-1.43.59L10.3 9.45l-7.72 7.72c-.78.78-.78 2.05 0 2.83L4 21.41c.39.39.9.59 1.41.59.51 0 1.02-.2 1.41-.59l7.78-7.78 2.81-2.81c.8-.78.8-2.07 0-2.86zM5.41 20L4 18.59l7.72-7.72 1.47 1.35L5.41 20z\"/>\n",
              "  </svg>\n",
              "      </button>\n",
              "      \n",
              "  <style>\n",
              "    .colab-df-container {\n",
              "      display:flex;\n",
              "      flex-wrap:wrap;\n",
              "      gap: 12px;\n",
              "    }\n",
              "\n",
              "    .colab-df-convert {\n",
              "      background-color: #E8F0FE;\n",
              "      border: none;\n",
              "      border-radius: 50%;\n",
              "      cursor: pointer;\n",
              "      display: none;\n",
              "      fill: #1967D2;\n",
              "      height: 32px;\n",
              "      padding: 0 0 0 0;\n",
              "      width: 32px;\n",
              "    }\n",
              "\n",
              "    .colab-df-convert:hover {\n",
              "      background-color: #E2EBFA;\n",
              "      box-shadow: 0px 1px 2px rgba(60, 64, 67, 0.3), 0px 1px 3px 1px rgba(60, 64, 67, 0.15);\n",
              "      fill: #174EA6;\n",
              "    }\n",
              "\n",
              "    [theme=dark] .colab-df-convert {\n",
              "      background-color: #3B4455;\n",
              "      fill: #D2E3FC;\n",
              "    }\n",
              "\n",
              "    [theme=dark] .colab-df-convert:hover {\n",
              "      background-color: #434B5C;\n",
              "      box-shadow: 0px 1px 3px 1px rgba(0, 0, 0, 0.15);\n",
              "      filter: drop-shadow(0px 1px 2px rgba(0, 0, 0, 0.3));\n",
              "      fill: #FFFFFF;\n",
              "    }\n",
              "  </style>\n",
              "\n",
              "      <script>\n",
              "        const buttonEl =\n",
              "          document.querySelector('#df-0c2d3134-84de-4443-8ab7-83d48dcb9b35 button.colab-df-convert');\n",
              "        buttonEl.style.display =\n",
              "          google.colab.kernel.accessAllowed ? 'block' : 'none';\n",
              "\n",
              "        async function convertToInteractive(key) {\n",
              "          const element = document.querySelector('#df-0c2d3134-84de-4443-8ab7-83d48dcb9b35');\n",
              "          const dataTable =\n",
              "            await google.colab.kernel.invokeFunction('convertToInteractive',\n",
              "                                                     [key], {});\n",
              "          if (!dataTable) return;\n",
              "\n",
              "          const docLinkHtml = 'Like what you see? Visit the ' +\n",
              "            '<a target=\"_blank\" href=https://colab.research.google.com/notebooks/data_table.ipynb>data table notebook</a>'\n",
              "            + ' to learn more about interactive tables.';\n",
              "          element.innerHTML = '';\n",
              "          dataTable['output_type'] = 'display_data';\n",
              "          await google.colab.output.renderOutput(dataTable, element);\n",
              "          const docLink = document.createElement('div');\n",
              "          docLink.innerHTML = docLinkHtml;\n",
              "          element.appendChild(docLink);\n",
              "        }\n",
              "      </script>\n",
              "    </div>\n",
              "  </div>\n",
              "  "
            ]
          },
          "metadata": {},
          "execution_count": 21
        }
      ]
    },
    {
      "cell_type": "markdown",
      "source": [
        "### 経過日数"
      ],
      "metadata": {
        "id": "VroZVVLkhZJK"
      },
      "id": "VroZVVLkhZJK"
    },
    {
      "cell_type": "code",
      "source": [
        "print(datetime.datetime.now())\n",
        "race_jisseki_df = race_jisseki_df.sort_values(['馬名', 'date_int'])\n",
        "race_jisseki_df['date'] = race_jisseki_df['date_int'].map(lambda x : change_type.change_string_to_date(str(x)))\n",
        "race_jisseki_df['horse_past_days1'] = (\n",
        "    (\n",
        "        race_jisseki_df['date']\n",
        "        - race_jisseki_df.groupby('馬名')['date'].transform(lambda x : x.shift(1))\n",
        "    ).map(lambda x :x.days )\n",
        ")\n",
        "race_jisseki_df['horse_past_days2'] = (\n",
        "    (\n",
        "        race_jisseki_df.groupby('馬名')['date'].transform(lambda x : (x - x.shift(2)).map(lambda x :x.days ))\n",
        "    )\n",
        ")\n",
        "race_jisseki_df['horse_past_days3'] = (\n",
        "    (\n",
        "        race_jisseki_df.groupby('馬名')['date'].transform(lambda x : (x - x.shift(3)).map(lambda x :x.days ))\n",
        "    )\n",
        ")\n",
        "race_jisseki_df['horse_past_days4'] = (\n",
        "    (\n",
        "        race_jisseki_df.groupby('馬名')['date'].transform(lambda x : (x - x.shift(4)).map(lambda x :x.days ))\n",
        "    )\n",
        ")\n",
        "race_jisseki_df['horse_past_days5'] = (\n",
        "    (\n",
        "        race_jisseki_df.groupby('馬名')['date'].transform(lambda x : (x - x.shift(5)).map(lambda x :x.days ))\n",
        "    )\n",
        ")\n",
        "print(datetime.datetime.now())"
      ],
      "metadata": {
        "colab": {
          "base_uri": "https://localhost:8080/"
        },
        "id": "BmP0jipPhYQp",
        "outputId": "e274d1a9-eb29-40f0-8a18-1596231511be"
      },
      "id": "BmP0jipPhYQp",
      "execution_count": 22,
      "outputs": [
        {
          "output_type": "stream",
          "name": "stdout",
          "text": [
            "2022-07-16 06:15:18.686914\n",
            "2022-07-16 06:25:29.290288\n"
          ]
        }
      ]
    },
    {
      "cell_type": "code",
      "source": [
        "race_jisseki_df[[\"馬名\", \"date_int\", \"horse_past_days1\", \"horse_past_days2\", \"horse_past_days3\", \"horse_past_days4\", \"horse_past_days5\"]].iloc[5000:5100]"
      ],
      "metadata": {
        "colab": {
          "base_uri": "https://localhost:8080/",
          "height": 424
        },
        "id": "ydomFND7htTL",
        "outputId": "5c6c884d-5864-4471-c586-0cb4834c22fa"
      },
      "id": "ydomFND7htTL",
      "execution_count": 23,
      "outputs": [
        {
          "output_type": "execute_result",
          "data": {
            "text/plain": [
              "                馬名  date_int  horse_past_days1  horse_past_days2  \\\n",
              "2616252       アイアス  20190109              16.0              41.0   \n",
              "2683131       アイアス  20190527             138.0             154.0   \n",
              "2689941       アイアス  20190610              14.0             152.0   \n",
              "2698853       アイアス  20190628              18.0              32.0   \n",
              "2709342       アイアス  20190717              19.0              37.0   \n",
              "...            ...       ...               ...               ...   \n",
              "576871   アイアムアスリーダ  20071118               7.0              20.0   \n",
              "580964   アイアムアスリーダ  20071125               7.0              14.0   \n",
              "588396   アイアムアスリーダ  20071210              15.0              22.0   \n",
              "594403   アイアムアスリーダ  20071222              12.0              27.0   \n",
              "601016   アイアムアスリーダ  20080103              12.0              24.0   \n",
              "\n",
              "         horse_past_days3  horse_past_days4  horse_past_days5  \n",
              "2616252              55.0              99.0             127.0  \n",
              "2683131             179.0             193.0             237.0  \n",
              "2689941             168.0             193.0             207.0  \n",
              "2698853             170.0             186.0             211.0  \n",
              "2709342              51.0             189.0             205.0  \n",
              "...                   ...               ...               ...  \n",
              "576871               70.0             127.0             182.0  \n",
              "580964               27.0              77.0             134.0  \n",
              "588396               29.0              42.0              92.0  \n",
              "594403               34.0              41.0              54.0  \n",
              "601016               39.0              46.0              53.0  \n",
              "\n",
              "[100 rows x 7 columns]"
            ],
            "text/html": [
              "\n",
              "  <div id=\"df-58560331-e68c-41b4-a7df-8f377f07fd2c\">\n",
              "    <div class=\"colab-df-container\">\n",
              "      <div>\n",
              "<style scoped>\n",
              "    .dataframe tbody tr th:only-of-type {\n",
              "        vertical-align: middle;\n",
              "    }\n",
              "\n",
              "    .dataframe tbody tr th {\n",
              "        vertical-align: top;\n",
              "    }\n",
              "\n",
              "    .dataframe thead th {\n",
              "        text-align: right;\n",
              "    }\n",
              "</style>\n",
              "<table border=\"1\" class=\"dataframe\">\n",
              "  <thead>\n",
              "    <tr style=\"text-align: right;\">\n",
              "      <th></th>\n",
              "      <th>馬名</th>\n",
              "      <th>date_int</th>\n",
              "      <th>horse_past_days1</th>\n",
              "      <th>horse_past_days2</th>\n",
              "      <th>horse_past_days3</th>\n",
              "      <th>horse_past_days4</th>\n",
              "      <th>horse_past_days5</th>\n",
              "    </tr>\n",
              "  </thead>\n",
              "  <tbody>\n",
              "    <tr>\n",
              "      <th>2616252</th>\n",
              "      <td>アイアス</td>\n",
              "      <td>20190109</td>\n",
              "      <td>16.0</td>\n",
              "      <td>41.0</td>\n",
              "      <td>55.0</td>\n",
              "      <td>99.0</td>\n",
              "      <td>127.0</td>\n",
              "    </tr>\n",
              "    <tr>\n",
              "      <th>2683131</th>\n",
              "      <td>アイアス</td>\n",
              "      <td>20190527</td>\n",
              "      <td>138.0</td>\n",
              "      <td>154.0</td>\n",
              "      <td>179.0</td>\n",
              "      <td>193.0</td>\n",
              "      <td>237.0</td>\n",
              "    </tr>\n",
              "    <tr>\n",
              "      <th>2689941</th>\n",
              "      <td>アイアス</td>\n",
              "      <td>20190610</td>\n",
              "      <td>14.0</td>\n",
              "      <td>152.0</td>\n",
              "      <td>168.0</td>\n",
              "      <td>193.0</td>\n",
              "      <td>207.0</td>\n",
              "    </tr>\n",
              "    <tr>\n",
              "      <th>2698853</th>\n",
              "      <td>アイアス</td>\n",
              "      <td>20190628</td>\n",
              "      <td>18.0</td>\n",
              "      <td>32.0</td>\n",
              "      <td>170.0</td>\n",
              "      <td>186.0</td>\n",
              "      <td>211.0</td>\n",
              "    </tr>\n",
              "    <tr>\n",
              "      <th>2709342</th>\n",
              "      <td>アイアス</td>\n",
              "      <td>20190717</td>\n",
              "      <td>19.0</td>\n",
              "      <td>37.0</td>\n",
              "      <td>51.0</td>\n",
              "      <td>189.0</td>\n",
              "      <td>205.0</td>\n",
              "    </tr>\n",
              "    <tr>\n",
              "      <th>...</th>\n",
              "      <td>...</td>\n",
              "      <td>...</td>\n",
              "      <td>...</td>\n",
              "      <td>...</td>\n",
              "      <td>...</td>\n",
              "      <td>...</td>\n",
              "      <td>...</td>\n",
              "    </tr>\n",
              "    <tr>\n",
              "      <th>576871</th>\n",
              "      <td>アイアムアスリーダ</td>\n",
              "      <td>20071118</td>\n",
              "      <td>7.0</td>\n",
              "      <td>20.0</td>\n",
              "      <td>70.0</td>\n",
              "      <td>127.0</td>\n",
              "      <td>182.0</td>\n",
              "    </tr>\n",
              "    <tr>\n",
              "      <th>580964</th>\n",
              "      <td>アイアムアスリーダ</td>\n",
              "      <td>20071125</td>\n",
              "      <td>7.0</td>\n",
              "      <td>14.0</td>\n",
              "      <td>27.0</td>\n",
              "      <td>77.0</td>\n",
              "      <td>134.0</td>\n",
              "    </tr>\n",
              "    <tr>\n",
              "      <th>588396</th>\n",
              "      <td>アイアムアスリーダ</td>\n",
              "      <td>20071210</td>\n",
              "      <td>15.0</td>\n",
              "      <td>22.0</td>\n",
              "      <td>29.0</td>\n",
              "      <td>42.0</td>\n",
              "      <td>92.0</td>\n",
              "    </tr>\n",
              "    <tr>\n",
              "      <th>594403</th>\n",
              "      <td>アイアムアスリーダ</td>\n",
              "      <td>20071222</td>\n",
              "      <td>12.0</td>\n",
              "      <td>27.0</td>\n",
              "      <td>34.0</td>\n",
              "      <td>41.0</td>\n",
              "      <td>54.0</td>\n",
              "    </tr>\n",
              "    <tr>\n",
              "      <th>601016</th>\n",
              "      <td>アイアムアスリーダ</td>\n",
              "      <td>20080103</td>\n",
              "      <td>12.0</td>\n",
              "      <td>24.0</td>\n",
              "      <td>39.0</td>\n",
              "      <td>46.0</td>\n",
              "      <td>53.0</td>\n",
              "    </tr>\n",
              "  </tbody>\n",
              "</table>\n",
              "<p>100 rows × 7 columns</p>\n",
              "</div>\n",
              "      <button class=\"colab-df-convert\" onclick=\"convertToInteractive('df-58560331-e68c-41b4-a7df-8f377f07fd2c')\"\n",
              "              title=\"Convert this dataframe to an interactive table.\"\n",
              "              style=\"display:none;\">\n",
              "        \n",
              "  <svg xmlns=\"http://www.w3.org/2000/svg\" height=\"24px\"viewBox=\"0 0 24 24\"\n",
              "       width=\"24px\">\n",
              "    <path d=\"M0 0h24v24H0V0z\" fill=\"none\"/>\n",
              "    <path d=\"M18.56 5.44l.94 2.06.94-2.06 2.06-.94-2.06-.94-.94-2.06-.94 2.06-2.06.94zm-11 1L8.5 8.5l.94-2.06 2.06-.94-2.06-.94L8.5 2.5l-.94 2.06-2.06.94zm10 10l.94 2.06.94-2.06 2.06-.94-2.06-.94-.94-2.06-.94 2.06-2.06.94z\"/><path d=\"M17.41 7.96l-1.37-1.37c-.4-.4-.92-.59-1.43-.59-.52 0-1.04.2-1.43.59L10.3 9.45l-7.72 7.72c-.78.78-.78 2.05 0 2.83L4 21.41c.39.39.9.59 1.41.59.51 0 1.02-.2 1.41-.59l7.78-7.78 2.81-2.81c.8-.78.8-2.07 0-2.86zM5.41 20L4 18.59l7.72-7.72 1.47 1.35L5.41 20z\"/>\n",
              "  </svg>\n",
              "      </button>\n",
              "      \n",
              "  <style>\n",
              "    .colab-df-container {\n",
              "      display:flex;\n",
              "      flex-wrap:wrap;\n",
              "      gap: 12px;\n",
              "    }\n",
              "\n",
              "    .colab-df-convert {\n",
              "      background-color: #E8F0FE;\n",
              "      border: none;\n",
              "      border-radius: 50%;\n",
              "      cursor: pointer;\n",
              "      display: none;\n",
              "      fill: #1967D2;\n",
              "      height: 32px;\n",
              "      padding: 0 0 0 0;\n",
              "      width: 32px;\n",
              "    }\n",
              "\n",
              "    .colab-df-convert:hover {\n",
              "      background-color: #E2EBFA;\n",
              "      box-shadow: 0px 1px 2px rgba(60, 64, 67, 0.3), 0px 1px 3px 1px rgba(60, 64, 67, 0.15);\n",
              "      fill: #174EA6;\n",
              "    }\n",
              "\n",
              "    [theme=dark] .colab-df-convert {\n",
              "      background-color: #3B4455;\n",
              "      fill: #D2E3FC;\n",
              "    }\n",
              "\n",
              "    [theme=dark] .colab-df-convert:hover {\n",
              "      background-color: #434B5C;\n",
              "      box-shadow: 0px 1px 3px 1px rgba(0, 0, 0, 0.15);\n",
              "      filter: drop-shadow(0px 1px 2px rgba(0, 0, 0, 0.3));\n",
              "      fill: #FFFFFF;\n",
              "    }\n",
              "  </style>\n",
              "\n",
              "      <script>\n",
              "        const buttonEl =\n",
              "          document.querySelector('#df-58560331-e68c-41b4-a7df-8f377f07fd2c button.colab-df-convert');\n",
              "        buttonEl.style.display =\n",
              "          google.colab.kernel.accessAllowed ? 'block' : 'none';\n",
              "\n",
              "        async function convertToInteractive(key) {\n",
              "          const element = document.querySelector('#df-58560331-e68c-41b4-a7df-8f377f07fd2c');\n",
              "          const dataTable =\n",
              "            await google.colab.kernel.invokeFunction('convertToInteractive',\n",
              "                                                     [key], {});\n",
              "          if (!dataTable) return;\n",
              "\n",
              "          const docLinkHtml = 'Like what you see? Visit the ' +\n",
              "            '<a target=\"_blank\" href=https://colab.research.google.com/notebooks/data_table.ipynb>data table notebook</a>'\n",
              "            + ' to learn more about interactive tables.';\n",
              "          element.innerHTML = '';\n",
              "          dataTable['output_type'] = 'display_data';\n",
              "          await google.colab.output.renderOutput(dataTable, element);\n",
              "          const docLink = document.createElement('div');\n",
              "          docLink.innerHTML = docLinkHtml;\n",
              "          element.appendChild(docLink);\n",
              "        }\n",
              "      </script>\n",
              "    </div>\n",
              "  </div>\n",
              "  "
            ]
          },
          "metadata": {},
          "execution_count": 23
        }
      ]
    },
    {
      "cell_type": "markdown",
      "source": [
        "### 成績系"
      ],
      "metadata": {
        "id": "Ug4prtRymQDO"
      },
      "id": "Ug4prtRymQDO"
    },
    {
      "cell_type": "code",
      "source": [
        "[c for c in race_jisseki_df.columns if \"着順\" in c]"
      ],
      "metadata": {
        "colab": {
          "base_uri": "https://localhost:8080/"
        },
        "id": "33hfwTtemUBg",
        "outputId": "530a262b-50e5-464e-bc64-6ee06142c86c"
      },
      "id": "33hfwTtemUBg",
      "execution_count": 24,
      "outputs": [
        {
          "output_type": "execute_result",
          "data": {
            "text/plain": [
              "['確定着順', '前走着順']"
            ]
          },
          "metadata": {},
          "execution_count": 24
        }
      ]
    },
    {
      "cell_type": "code",
      "source": [
        "race_jisseki_df[\"確定着順\"].value_counts().sort_index()"
      ],
      "metadata": {
        "colab": {
          "base_uri": "https://localhost:8080/"
        },
        "id": "MHpMOXLYmduz",
        "outputId": "45f962ea-a28c-49b0-c97e-59e2da005dfa"
      },
      "id": "MHpMOXLYmduz",
      "execution_count": 25,
      "outputs": [
        {
          "output_type": "execute_result",
          "data": {
            "text/plain": [
              "0      36058\n",
              "1     299269\n",
              "2     298657\n",
              "3     298529\n",
              "4     298142\n",
              "5     298058\n",
              "6     296147\n",
              "7     290693\n",
              "8     275127\n",
              "9     241020\n",
              "10    191400\n",
              "11    129336\n",
              "12     99897\n",
              "13     62700\n",
              "14     51894\n",
              "15     36736\n",
              "16     27294\n",
              "17      5968\n",
              "18      4613\n",
              "19        18\n",
              "20        13\n",
              "21         8\n",
              "22         8\n",
              "23         6\n",
              "24         2\n",
              "Name: 確定着順, dtype: int64"
            ]
          },
          "metadata": {},
          "execution_count": 25
        }
      ]
    },
    {
      "cell_type": "code",
      "source": [
        "race_jisseki_df['異常'] = race_jisseki_df['確定着順'].map(lambda x : 1 if x == 0 else 0)\n",
        "# race_jisseki_df['着順END'] = race_jisseki_df['確定着順'].map(lambda x : x if x !=0 else 8)"
      ],
      "metadata": {
        "id": "9cZeRUn9mPMp"
      },
      "id": "9cZeRUn9mPMp",
      "execution_count": 26,
      "outputs": []
    },
    {
      "cell_type": "markdown",
      "source": [
        "### その他"
      ],
      "metadata": {
        "id": "GwiLZhPOhKiu"
      },
      "id": "GwiLZhPOhKiu"
    },
    {
      "cell_type": "code",
      "source": [
        "race_jisseki_df['馬番偶数'] =  race_jisseki_df['馬番'] %2 "
      ],
      "metadata": {
        "id": "pFMMCYNjcUo6"
      },
      "id": "pFMMCYNjcUo6",
      "execution_count": 27,
      "outputs": []
    },
    {
      "cell_type": "markdown",
      "source": [
        "## 保存"
      ],
      "metadata": {
        "id": "QRDWIfbBnGJ3"
      },
      "id": "QRDWIfbBnGJ3"
    },
    {
      "cell_type": "code",
      "source": [
        "race_jisseki_df.to_pickle(OUTPUT_FILE)"
      ],
      "metadata": {
        "id": "kfKxiZCMhRjX"
      },
      "id": "kfKxiZCMhRjX",
      "execution_count": 28,
      "outputs": []
    }
  ],
  "metadata": {
    "kernelspec": {
      "display_name": "Python 3 (ipykernel)",
      "language": "python",
      "name": "python3"
    },
    "language_info": {
      "codemirror_mode": {
        "name": "ipython",
        "version": 3
      },
      "file_extension": ".py",
      "mimetype": "text/x-python",
      "name": "python",
      "nbconvert_exporter": "python",
      "pygments_lexer": "ipython3",
      "version": "3.8.8"
    },
    "toc": {
      "base_numbering": 1,
      "nav_menu": {},
      "number_sections": true,
      "sideBar": true,
      "skip_h1_title": false,
      "title_cell": "Table of Contents",
      "title_sidebar": "Contents",
      "toc_cell": false,
      "toc_position": {},
      "toc_section_display": true,
      "toc_window_display": false
    },
    "colab": {
      "name": "03_02_基本特徴量作成.ipynb",
      "provenance": [],
      "collapsed_sections": [],
      "machine_shape": "hm",
      "include_colab_link": true
    },
    "gpuClass": "standard"
  },
  "nbformat": 4,
  "nbformat_minor": 5
}