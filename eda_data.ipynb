{
 "cells": [
  {
   "cell_type": "markdown",
   "metadata": {},
   "source": [
    "# データが大きすぎるために起きる問題点と解決策\n",
    "\n",
    "- 提出元データ\n",
    "    - 現状候補となるレコードが数十億(6000 * 600000)あり、特徴量エンジニアリングに時間がかかってしまう\n",
    "        - 学習用バリデーションデータでpdcaを早く回したいので、せめて数千万程度にしたい\n",
    "    - 正解となるレコードがより多く含まれている状態にしたい\n",
    "\n",
    "- 学習用データ\n",
    "    - 提出時に含まれるデータと同じような分布になって欲しいため、同じような前処理で作成したい\n",
    "        - 同じように作成した場合は、特徴量エンジニアリングに時間がかかってしまう\n",
    "    - データが多過ぎると、lightgbmのアンサンブルにしても時間がかかる\n",
    "    - 正解データは多く持っていた方が良いと思われる\n",
    "    - とりあえず正解データに適当にサンプリングしたオークションを付け加えたらどうにかなりそう?\n",
    "    \n",
    "- 学習用バリデーションデータ\n",
    "    - 提出用データ作成時と同様の処理をすることを考えると、特徴量エンジニアリングに時間がかかってしまう\n",
    "        - 学習用バリデーションデータでpdcaを早く回したいので、せめて数千万程度にしたい    \n",
    "        \n",
    "tobe\n",
    "- 提出元データ\n",
    "    - 数千万程度で、正解となるレコードがより多く含まれている状態にしたい\n",
    "- 学習用バリデーションデータ\n",
    "    - 提出元データと同じ\n",
    "- 学習用データ\n",
    "    - 数千万程度、提出用データと同じような分布を持っており、提出時に無いようなデータに過学習しない"
   ]
  },
  {
   "cell_type": "code",
   "execution_count": 1,
   "metadata": {},
   "outputs": [],
   "source": [
    "from os.path import dirname\n",
    "import os\n",
    "import datetime\n",
    "from dateutil.relativedelta import relativedelta\n",
    "\n",
    "import pandas as pd\n",
    "import numpy as np\n",
    "import matplotlib.pyplot as plt"
   ]
  },
  {
   "cell_type": "code",
   "execution_count": 2,
   "metadata": {},
   "outputs": [],
   "source": [
    "%load_ext autoreload\n",
    "%autoreload 2\n",
    "import brandear_est as be"
   ]
  },
  {
   "cell_type": "code",
   "execution_count": 4,
   "metadata": {},
   "outputs": [],
   "source": [
    "INPUT_DIR = os.path.join(os.getcwd(), \"../../data/input/\")\n",
    "IMD_DIR = os.path.join(os.getcwd(), \"../../data/intermediate/\")"
   ]
  },
  {
   "cell_type": "code",
   "execution_count": 5,
   "metadata": {},
   "outputs": [],
   "source": [
    "dset_to_period = {\n",
    "    \"train\": {\"oldest\": datetime.datetime(2019, 9, 3, 0, 0, 0),\n",
    "              \"newest\": datetime.datetime(2019, 9, 10, 0, 0, 0)},\n",
    "    \"valid_for_train\": {\"oldest\": datetime.datetime(2019, 9, 10, 0, 0, 0),\n",
    "              \"newest\": datetime.datetime(2019, 9, 17, 0, 0, 0),},\n",
    "    \"valid_for_sub\": {\"oldest\": datetime.datetime(2019, 9, 17, 0, 0, 0),\n",
    "              \"newest\": datetime.datetime(2019, 9, 24, 0, 0, 0),}\n",
    "}"
   ]
  },
  {
   "cell_type": "code",
   "execution_count": 6,
   "metadata": {},
   "outputs": [
    {
     "name": "stdout",
     "output_type": "stream",
     "text": [
      "Mem. usage decreased to 137.17 Mb (66.3% reduction)\n",
      "Mem. usage decreased to 67.53 Mb (46.9% reduction)\n",
      "Mem. usage decreased to 13.44 Mb (58.9% reduction)\n",
      "Mem. usage decreased to  9.45 Mb (54.2% reduction)\n"
     ]
    }
   ],
   "source": [
    "auction = be.read_csv(INPUT_DIR + \"auction.csv\")\n",
    "watch = be.read_csv(INPUT_DIR + \"watchlist.csv\")\n",
    "bid = be.read_csv(INPUT_DIR + \"shudounyuusatsu.csv\")\n",
    "bid_success = be.read_csv(INPUT_DIR + \"rakusatsu.csv\")\n",
    "\n",
    "watch.rename(columns={\"TourokuDate\": \"ActionDate\"}, inplace=True)\n",
    "bid.rename(columns={\"ShudouNyuusatsuDate\": \"ActionDate\"}, inplace=True)\n",
    "watch = be.to_datetime(watch)\n",
    "bid = be.to_datetime(bid)"
   ]
  },
  {
   "cell_type": "code",
   "execution_count": 7,
   "metadata": {},
   "outputs": [],
   "source": [
    "watch = watch.merge(auction, on=\"AuctionID\")\n",
    "bid = bid.merge(auction, on=\"AuctionID\")"
   ]
  },
  {
   "cell_type": "code",
   "execution_count": null,
   "metadata": {},
   "outputs": [],
   "source": []
  },
  {
   "cell_type": "code",
   "execution_count": 28,
   "metadata": {},
   "outputs": [],
   "source": [
    "def extract_target_aucs(watch, bid, dset_to_period, dset_type):\n",
    "    \"\"\"対象期間中に発生したアクションを抽出\"\"\"\n",
    "    oldest_dtime, newest_dtime = (\n",
    "        dset_to_period[dset_type][\"oldest\"],\n",
    "        dset_to_period[dset_type][\"newest\"]\n",
    "    )    \n",
    "    watch_actioned = (\n",
    "        watch[(watch[\"ActionDate\"] >= oldest_dtime) & (watch[\"ActionDate\"] < newest_dtime)]\n",
    "    )\n",
    "    bid_actioned = (\n",
    "        bid[(bid[\"ActionDate\"] >= oldest_dtime) & (bid[\"ActionDate\"] < newest_dtime)]\n",
    "    )\n",
    "    target_aucs = (\n",
    "        pd.concat([watch_actioned, bid_actioned], sort=False)\n",
    "    )\n",
    "    return target_aucs"
   ]
  },
  {
   "cell_type": "code",
   "execution_count": 27,
   "metadata": {},
   "outputs": [],
   "source": [
    "def merge_choiced_aucs(target_users, watch, bid, auction, oldest_dtime, col=\"ShouhinID\"):\n",
    "    # choiced_auc付与部分\n",
    "    # あるユーザーが現在までにアクションをした商品と同じ商品IDのオークションを抽出\n",
    "    # これが関数内で作成する学習データの大元\n",
    "    \n",
    "    # リークを防ぐため、特徴量、choiced_auc作成用のデータから正解データ抽出期間時のデータを削除する\n",
    "    watch_train = (\n",
    "        watch_targeted[watch_targeted[\"ActionDate\"] < oldest_dtime]\n",
    "        .merge(target_users, on=\"KaiinID\")\n",
    "    )\n",
    "    watch_train[\"watch_actioned\"] = 1\n",
    "    bid_train = (\n",
    "        bid_targeted[bid_targeted[\"ActionDate\"] < oldest_dtime]\n",
    "        .merge(target_users, on=\"KaiinID\")\n",
    "    )\n",
    "    bid_train[\"bid_actioned\"] = 1\n",
    "    \n",
    "    target_aucs = (\n",
    "        pd.concat([watch[[\"KaiinID\", col]], bid[[\"KaiinID\", col]]])\n",
    "            .drop_duplicates()\n",
    "            .merge(auction[[\"AuctionID\", col]], on=col)[[\"KaiinID\", \"AuctionID\"]]\n",
    "            .drop_duplicates()\n",
    "    )\n",
    "\n",
    "    auc_cols = (\n",
    "        ['AuctionID', 'ShouhinShubetsuID', 'ShouhinID', 'SaishuppinKaisuu',\n",
    "         'ConditionID', 'BrandID', 'GenreID', 'GenreGroupID', 'LineID',\n",
    "         'DanjobetsuID']\n",
    "    )\n",
    "\n",
    "    # 今回の対象ユーザーに絞る\n",
    "    target_data = (\n",
    "        target_users\n",
    "            .merge(target_aucs, on=\"KaiinID\")\n",
    "            .merge(auction[auc_cols], on=\"AuctionID\")\n",
    "    )\n",
    "\n",
    "    return target_data\n"
   ]
  },
  {
   "cell_type": "code",
   "execution_count": null,
   "metadata": {},
   "outputs": [],
   "source": []
  },
  {
   "cell_type": "code",
   "execution_count": 20,
   "metadata": {},
   "outputs": [],
   "source": [
    "def merge_users_actions(target_users, watch, bid, auction, oldest_dtime):\n",
    "    # choiced_auc付与部分\n",
    "    # あるユーザーが現在までにアクションをした商品と同じ商品IDのオークションを抽出\n",
    "    # これが関数内で作成する学習データの大元\n",
    "    \n",
    "    # リークを防ぐため、特徴量、choiced_auc作成用のデータから正解データ抽出期間時のデータを削除する\n",
    "    watch_target = (\n",
    "        watch[watch[\"ActionDate\"] < oldest_dtime]\n",
    "        .merge(target_users, on=\"KaiinID\")\n",
    "    )\n",
    "    bid_target = (\n",
    "        bid[bid[\"ActionDate\"] < oldest_dtime]\n",
    "        .merge(target_users, on=\"KaiinID\")\n",
    "    )\n",
    "    \n",
    "    users_actions = (\n",
    "        pd.concat([watch_target,bid_target], sort=False)\n",
    "            .merge(target_users, on=\"KaiinID\")\n",
    "    )\n",
    "\n",
    "    return users_actions\n"
   ]
  },
  {
   "cell_type": "code",
   "execution_count": 43,
   "metadata": {},
   "outputs": [],
   "source": [
    "def get_sample_aucs(action, watch, bid_success, dset_to_period, dset_type):\n",
    "    \n",
    "    sample_aucs = be.left_anti_join(\n",
    "        auction[(auction[\"CreateDate\"] > start_dt - relativedelta(months=2)) &\n",
    "                 (auction[\"CreateDate\"] < end_dt)][[\"AuctionID\"]],\n",
    "        bid_success, \"AuctionID\", \"AuctionID\"\n",
    "    )\n",
    "\n",
    "    return sample_aucs"
   ]
  },
  {
   "cell_type": "code",
   "execution_count": null,
   "metadata": {},
   "outputs": [],
   "source": []
  },
  {
   "cell_type": "code",
   "execution_count": null,
   "metadata": {},
   "outputs": [],
   "source": []
  },
  {
   "cell_type": "markdown",
   "metadata": {},
   "source": [
    "## 一部のサンプルユーザーを用いて、決定木分析で予測してみる?"
   ]
  },
  {
   "cell_type": "code",
   "execution_count": 9,
   "metadata": {},
   "outputs": [],
   "source": [
    "traget_aucs = extract_target_aucs(watch,bid, dset_to_period, \"train\")"
   ]
  },
  {
   "cell_type": "code",
   "execution_count": 36,
   "metadata": {},
   "outputs": [],
   "source": [
    "sample_ans = traget_aucs[[\"KaiinID\"] + list(auction.columns)].drop_duplicates().sample(n=100)"
   ]
  },
  {
   "cell_type": "code",
   "execution_count": 42,
   "metadata": {},
   "outputs": [
    {
     "data": {
      "text/html": [
       "<div>\n",
       "<style scoped>\n",
       "    .dataframe tbody tr th:only-of-type {\n",
       "        vertical-align: middle;\n",
       "    }\n",
       "\n",
       "    .dataframe tbody tr th {\n",
       "        vertical-align: top;\n",
       "    }\n",
       "\n",
       "    .dataframe thead th {\n",
       "        text-align: right;\n",
       "    }\n",
       "</style>\n",
       "<table border=\"1\" class=\"dataframe\">\n",
       "  <thead>\n",
       "    <tr style=\"text-align: right;\">\n",
       "      <th></th>\n",
       "      <th>KaiinID</th>\n",
       "      <th>AuctionID</th>\n",
       "      <th>ShouhinShubetsuID</th>\n",
       "      <th>ShouhinID</th>\n",
       "      <th>SaishuppinKaisuu</th>\n",
       "      <th>ConditionID</th>\n",
       "      <th>BrandID</th>\n",
       "      <th>GenreID</th>\n",
       "      <th>GenreGroupID</th>\n",
       "      <th>LineID</th>\n",
       "      <th>ColorID</th>\n",
       "      <th>DanjobetsuID</th>\n",
       "      <th>SankouKakaku</th>\n",
       "      <th>CreateDate</th>\n",
       "    </tr>\n",
       "  </thead>\n",
       "  <tbody>\n",
       "    <tr>\n",
       "      <th>1121214</th>\n",
       "      <td>63188</td>\n",
       "      <td>1514526</td>\n",
       "      <td>1</td>\n",
       "      <td>266549</td>\n",
       "      <td>0</td>\n",
       "      <td>6</td>\n",
       "      <td>79</td>\n",
       "      <td>338</td>\n",
       "      <td>35</td>\n",
       "      <td>0</td>\n",
       "      <td>15</td>\n",
       "      <td>2</td>\n",
       "      <td>3000</td>\n",
       "      <td>2019-07-27 09:35:57</td>\n",
       "    </tr>\n",
       "    <tr>\n",
       "      <th>1099466</th>\n",
       "      <td>125555</td>\n",
       "      <td>564028</td>\n",
       "      <td>1</td>\n",
       "      <td>384986</td>\n",
       "      <td>0</td>\n",
       "      <td>7</td>\n",
       "      <td>2971</td>\n",
       "      <td>33</td>\n",
       "      <td>33</td>\n",
       "      <td>0</td>\n",
       "      <td>0</td>\n",
       "      <td>2</td>\n",
       "      <td>3000</td>\n",
       "      <td>2019-09-05 09:33:09</td>\n",
       "    </tr>\n",
       "    <tr>\n",
       "      <th>1097180</th>\n",
       "      <td>110604</td>\n",
       "      <td>2375720</td>\n",
       "      <td>1</td>\n",
       "      <td>211226</td>\n",
       "      <td>0</td>\n",
       "      <td>7</td>\n",
       "      <td>69</td>\n",
       "      <td>13</td>\n",
       "      <td>13</td>\n",
       "      <td>0</td>\n",
       "      <td>0</td>\n",
       "      <td>2</td>\n",
       "      <td>3500</td>\n",
       "      <td>2019-05-30 09:37:22</td>\n",
       "    </tr>\n",
       "    <tr>\n",
       "      <th>852354</th>\n",
       "      <td>221780</td>\n",
       "      <td>2815663</td>\n",
       "      <td>1</td>\n",
       "      <td>770088</td>\n",
       "      <td>0</td>\n",
       "      <td>9</td>\n",
       "      <td>10390</td>\n",
       "      <td>15</td>\n",
       "      <td>24</td>\n",
       "      <td>0</td>\n",
       "      <td>0</td>\n",
       "      <td>2</td>\n",
       "      <td>12000</td>\n",
       "      <td>2019-08-09 09:36:18</td>\n",
       "    </tr>\n",
       "    <tr>\n",
       "      <th>946395</th>\n",
       "      <td>115034</td>\n",
       "      <td>2527624</td>\n",
       "      <td>1</td>\n",
       "      <td>2967940</td>\n",
       "      <td>107</td>\n",
       "      <td>5</td>\n",
       "      <td>66</td>\n",
       "      <td>9</td>\n",
       "      <td>9</td>\n",
       "      <td>0</td>\n",
       "      <td>0</td>\n",
       "      <td>1</td>\n",
       "      <td>40000</td>\n",
       "      <td>2018-12-12 09:30:18</td>\n",
       "    </tr>\n",
       "  </tbody>\n",
       "</table>\n",
       "</div>"
      ],
      "text/plain": [
       "         KaiinID  AuctionID  ShouhinShubetsuID  ShouhinID  SaishuppinKaisuu  \\\n",
       "1121214    63188    1514526                  1     266549                 0   \n",
       "1099466   125555     564028                  1     384986                 0   \n",
       "1097180   110604    2375720                  1     211226                 0   \n",
       "852354    221780    2815663                  1     770088                 0   \n",
       "946395    115034    2527624                  1    2967940               107   \n",
       "\n",
       "         ConditionID  BrandID  GenreID  GenreGroupID  LineID  ColorID  \\\n",
       "1121214            6       79      338            35       0       15   \n",
       "1099466            7     2971       33            33       0        0   \n",
       "1097180            7       69       13            13       0        0   \n",
       "852354             9    10390       15            24       0        0   \n",
       "946395             5       66        9             9       0        0   \n",
       "\n",
       "         DanjobetsuID  SankouKakaku           CreateDate  \n",
       "1121214             2          3000  2019-07-27 09:35:57  \n",
       "1099466             2          3000  2019-09-05 09:33:09  \n",
       "1097180             2          3500  2019-05-30 09:37:22  \n",
       "852354              2         12000  2019-08-09 09:36:18  \n",
       "946395              1         40000  2018-12-12 09:30:18  "
      ]
     },
     "execution_count": 42,
     "metadata": {},
     "output_type": "execute_result"
    }
   ],
   "source": [
    "sample_ans.head()"
   ]
  },
  {
   "cell_type": "code",
   "execution_count": null,
   "metadata": {},
   "outputs": [],
   "source": []
  },
  {
   "cell_type": "markdown",
   "metadata": {},
   "source": [
    "## 商品以外のもので履歴を探した時にどのくらいの正解率含有割合を作れるか"
   ]
  },
  {
   "cell_type": "code",
   "execution_count": 7,
   "metadata": {},
   "outputs": [],
   "source": [
    "def build_dataset(watch, bid, auction, dset_type, dset_to_period, target_users=None, col=\"ShouhinID\"):\n",
    "    oldest_dtime, newest_dtime = (\n",
    "        dset_to_period[dset_type][\"oldest\"],\n",
    "        dset_to_period[dset_type][\"newest\"]\n",
    "    )\n",
    "\n",
    "    # データセット作成の対象となるユーザー一覧\n",
    "    if dset_type != \"submission\":\n",
    "        watch_actioned = (\n",
    "            watch[(watch[\"ActionDate\"] >= oldest_dtime) & (watch[\"ActionDate\"] < newest_dtime)]\n",
    "        )\n",
    "        bid_actioned = (\n",
    "            bid[(bid[\"ActionDate\"] >= oldest_dtime) & (bid[\"ActionDate\"] < newest_dtime)]\n",
    "        )\n",
    "        target_users = (\n",
    "            pd.concat([watch_actioned, bid_actioned], sort=False)[[\"KaiinID\"]]\n",
    "            .drop_duplicates()\n",
    "        )\n",
    "        \n",
    "    watch_targeted = watch.merge(target_users, on=\"KaiinID\")\n",
    "    bid_targeted = bid.merge(target_users, on=\"KaiinID\")\n",
    "\n",
    "    # リークを防ぐため、特徴量、choiced_auc作成用のデータから正解データ抽出期間時のデータを削除する\n",
    "    watch_train = watch_targeted[watch_targeted[\"ActionDate\"] < oldest_dtime]\n",
    "    bid_train = bid_targeted[bid_targeted[\"ActionDate\"] < oldest_dtime]\n",
    "\n",
    "    # 予測対象とするオークションをルール,0次ベースのロジックで限定する\n",
    "    dataset = merge_choiced_aucs(target_users, watch_train, bid_train, auction, col)\n",
    "\n",
    "    # 正解データ付与\n",
    "    if dset_type != \"submission\":\n",
    "        watch_actioned[\"watch_actioned\"] = 1\n",
    "        bid_actioned[\"bid_actioned\"] = 1\n",
    "        dataset = (\n",
    "            dataset\n",
    "                .merge(watch_actioned[[\"KaiinID\", \"AuctionID\", \"watch_actioned\"]], on=[\"KaiinID\", \"AuctionID\"],\n",
    "                       how=\"left\")\n",
    "                .merge(bid_actioned[[\"KaiinID\", \"AuctionID\", \"bid_actioned\"]], on=[\"KaiinID\", \"AuctionID\"], how=\"left\")\n",
    "                .fillna(0)\n",
    "        )\n",
    "\n",
    "    return dataset\n",
    "\n",
    "    "
   ]
  },
  {
   "cell_type": "code",
   "execution_count": 8,
   "metadata": {},
   "outputs": [],
   "source": [
    "def merge_choiced_aucs(target_users, watch, bid, auction, col=\"ShouhinID\"):\n",
    "    # choiced_auc付与部分\n",
    "    # あるユーザーが現在までにアクションをした商品と同じ商品IDのオークションを抽出\n",
    "    # これが関数内で作成する学習データの大元\n",
    "    target_aucs = (\n",
    "        pd.concat([watch[[\"KaiinID\", col]], bid[[\"KaiinID\", col]]])\n",
    "            .drop_duplicates()\n",
    "            .merge(auction[[\"AuctionID\", col]], on=col)[[\"KaiinID\", \"AuctionID\"]]\n",
    "            .drop_duplicates()\n",
    "    )\n",
    "\n",
    "    auc_cols = (\n",
    "        ['AuctionID', 'ShouhinShubetsuID', 'ShouhinID', 'SaishuppinKaisuu',\n",
    "         'ConditionID', 'BrandID', 'GenreID', 'GenreGroupID', 'LineID',\n",
    "         'DanjobetsuID']\n",
    "    )\n",
    "\n",
    "    # 今回の対象ユーザーに絞る\n",
    "    target_data = (\n",
    "        target_users\n",
    "            .merge(target_aucs, on=\"KaiinID\")\n",
    "            .merge(auction[auc_cols], on=\"AuctionID\")\n",
    "    )\n",
    "\n",
    "    return target_data\n"
   ]
  },
  {
   "cell_type": "code",
   "execution_count": null,
   "metadata": {},
   "outputs": [
    {
     "name": "stdout",
     "output_type": "stream",
     "text": [
      "ShouhinID\n"
     ]
    },
    {
     "name": "stderr",
     "output_type": "stream",
     "text": [
      "/Users/nobuyuki.ishida/.pyenv/versions/3.7.5/lib/python3.7/site-packages/ipykernel_launcher.py:32: SettingWithCopyWarning: \n",
      "A value is trying to be set on a copy of a slice from a DataFrame.\n",
      "Try using .loc[row_indexer,col_indexer] = value instead\n",
      "\n",
      "See the caveats in the documentation: http://pandas.pydata.org/pandas-docs/stable/user_guide/indexing.html#returning-a-view-versus-a-copy\n",
      "/Users/nobuyuki.ishida/.pyenv/versions/3.7.5/lib/python3.7/site-packages/ipykernel_launcher.py:33: SettingWithCopyWarning: \n",
      "A value is trying to be set on a copy of a slice from a DataFrame.\n",
      "Try using .loc[row_indexer,col_indexer] = value instead\n",
      "\n",
      "See the caveats in the documentation: http://pandas.pydata.org/pandas-docs/stable/user_guide/indexing.html#returning-a-view-versus-a-copy\n"
     ]
    },
    {
     "name": "stdout",
     "output_type": "stream",
     "text": [
      "watch_actioned    3302.0\n",
      "bid_actioned      3718.0\n",
      "dtype: float64\n",
      "3284142\n",
      "BrandID\n"
     ]
    }
   ],
   "source": [
    "dset_type = \"train\"\n",
    "col_dset = {}\n",
    "for col in [\"ShouhinID\", \"BrandID\", \"GenreID\", \"GenreGroupID\", \"LineID\", \"ColorID\", \"DanjobetsuID\"]:\n",
    "    print(col)\n",
    "    col_dset[col] = build_dataset(watch, bid, auction, dset_type, dset_to_period, target_users=None, col=col)\n",
    "    print(col_dset[col][[\"watch_actioned\", \"bid_actioned\"]].sum())\n",
    "    print(col_dset[col].shape[0])"
   ]
  },
  {
   "cell_type": "code",
   "execution_count": null,
   "metadata": {},
   "outputs": [],
   "source": []
  },
  {
   "cell_type": "code",
   "execution_count": null,
   "metadata": {},
   "outputs": [],
   "source": []
  },
  {
   "cell_type": "code",
   "execution_count": null,
   "metadata": {},
   "outputs": [],
   "source": []
  },
  {
   "cell_type": "markdown",
   "metadata": {},
   "source": [
    "## アクションを起こしたユーザーがどのくらい同じ商品にアクションするかを調べる"
   ]
  },
  {
   "cell_type": "code",
   "execution_count": 12,
   "metadata": {},
   "outputs": [],
   "source": [
    "def extract_target_actions(watch, bid, dset_to_period, dset_type):\n",
    "\n",
    "    oldest_dtime, newest_dtime = (\n",
    "        dset_to_period[dset_type][\"oldest\"],\n",
    "        dset_to_period[dset_type][\"newest\"]\n",
    "    )\n",
    "    watch_actioned = (\n",
    "        watch[(watch[\"ActionDate\"] >= oldest_dtime) & (watch[\"ActionDate\"] < newest_dtime)]\n",
    "    )\n",
    "    bid_actioned = (\n",
    "        bid[(bid[\"ActionDate\"] >= oldest_dtime) & (bid[\"ActionDate\"] < newest_dtime)]\n",
    "    )\n",
    "    target_actions = (\n",
    "        pd.concat([watch_actioned, bid_actioned], sort=False)\n",
    "    )\n",
    "    return target_actions"
   ]
  },
  {
   "cell_type": "code",
   "execution_count": 13,
   "metadata": {},
   "outputs": [],
   "source": [
    "def extract_users_actions(users, auction, watch, bid, rakusatsu,oldest_dtime):\n",
    "\n",
    "    actions = (\n",
    "        pd.concat([watch[watch[\"ActionDate\"] < oldest_dtime],\n",
    "                        bid[bid[\"ActionDate\"] < oldest_dtime]], sort=False)\n",
    "    )\n",
    "    \n",
    "    users_actions = users.merge(actions, on=\"KaiinID\").merge(auction, on=\"AuctionID\")\n",
    "    \n",
    "    return users_actions"
   ]
  },
  {
   "cell_type": "code",
   "execution_count": 20,
   "metadata": {},
   "outputs": [],
   "source": [
    "dset_to_period[\"201909\"] = {\"oldest\": datetime.datetime(2019, 9, 1, 0, 0, 0),\n",
    "              \"newest\": datetime.datetime(2019, 9, 24, 0, 0, 0)}\n",
    "actions = extract_target_actions(watch, bid, dset_to_period, \"201909\")"
   ]
  },
  {
   "cell_type": "code",
   "execution_count": 23,
   "metadata": {},
   "outputs": [],
   "source": [
    "oldest_dtime = dset_to_period[\"201909\"][\"oldest\"]\n",
    "users_actions = extract_users_actions(actions[[\"KaiinID\"]].drop_duplicates(), auction, watch, bid, bid_success, oldest_dtime)"
   ]
  },
  {
   "cell_type": "code",
   "execution_count": 24,
   "metadata": {},
   "outputs": [
    {
     "data": {
      "text/html": [
       "<div>\n",
       "<style scoped>\n",
       "    .dataframe tbody tr th:only-of-type {\n",
       "        vertical-align: middle;\n",
       "    }\n",
       "\n",
       "    .dataframe tbody tr th {\n",
       "        vertical-align: top;\n",
       "    }\n",
       "\n",
       "    .dataframe thead th {\n",
       "        text-align: right;\n",
       "    }\n",
       "</style>\n",
       "<table border=\"1\" class=\"dataframe\">\n",
       "  <thead>\n",
       "    <tr style=\"text-align: right;\">\n",
       "      <th></th>\n",
       "      <th>KaiinID</th>\n",
       "      <th>AuctionID</th>\n",
       "      <th>ActionDate</th>\n",
       "      <th>SakujoFlag</th>\n",
       "      <th>Kingaku</th>\n",
       "      <th>Suuryou</th>\n",
       "      <th>SokketsuFlag</th>\n",
       "      <th>ShouhinShubetsuID</th>\n",
       "      <th>ShouhinID</th>\n",
       "      <th>SaishuppinKaisuu</th>\n",
       "      <th>ConditionID</th>\n",
       "      <th>BrandID</th>\n",
       "      <th>GenreID</th>\n",
       "      <th>GenreGroupID</th>\n",
       "      <th>LineID</th>\n",
       "      <th>ColorID</th>\n",
       "      <th>DanjobetsuID</th>\n",
       "      <th>SankouKakaku</th>\n",
       "      <th>CreateDate</th>\n",
       "    </tr>\n",
       "  </thead>\n",
       "  <tbody>\n",
       "    <tr>\n",
       "      <th>0</th>\n",
       "      <td>56840</td>\n",
       "      <td>681350</td>\n",
       "      <td>2018-09-20 17:34:19</td>\n",
       "      <td>1</td>\n",
       "      <td>NaN</td>\n",
       "      <td>NaN</td>\n",
       "      <td>NaN</td>\n",
       "      <td>1</td>\n",
       "      <td>1879243</td>\n",
       "      <td>0</td>\n",
       "      <td>6</td>\n",
       "      <td>4341</td>\n",
       "      <td>33</td>\n",
       "      <td>33</td>\n",
       "      <td>0</td>\n",
       "      <td>0</td>\n",
       "      <td>2</td>\n",
       "      <td>7800</td>\n",
       "      <td>2018-08-16 10:51:32</td>\n",
       "    </tr>\n",
       "    <tr>\n",
       "      <th>1</th>\n",
       "      <td>140863</td>\n",
       "      <td>681350</td>\n",
       "      <td>2018-09-14 23:23:50</td>\n",
       "      <td>1</td>\n",
       "      <td>NaN</td>\n",
       "      <td>NaN</td>\n",
       "      <td>NaN</td>\n",
       "      <td>1</td>\n",
       "      <td>1879243</td>\n",
       "      <td>0</td>\n",
       "      <td>6</td>\n",
       "      <td>4341</td>\n",
       "      <td>33</td>\n",
       "      <td>33</td>\n",
       "      <td>0</td>\n",
       "      <td>0</td>\n",
       "      <td>2</td>\n",
       "      <td>7800</td>\n",
       "      <td>2018-08-16 10:51:32</td>\n",
       "    </tr>\n",
       "    <tr>\n",
       "      <th>2</th>\n",
       "      <td>56840</td>\n",
       "      <td>2544841</td>\n",
       "      <td>2018-09-20 17:44:18</td>\n",
       "      <td>1</td>\n",
       "      <td>NaN</td>\n",
       "      <td>NaN</td>\n",
       "      <td>NaN</td>\n",
       "      <td>1</td>\n",
       "      <td>2320686</td>\n",
       "      <td>0</td>\n",
       "      <td>7</td>\n",
       "      <td>4341</td>\n",
       "      <td>82</td>\n",
       "      <td>19</td>\n",
       "      <td>0</td>\n",
       "      <td>0</td>\n",
       "      <td>2</td>\n",
       "      <td>3500</td>\n",
       "      <td>2018-08-25 11:11:21</td>\n",
       "    </tr>\n",
       "    <tr>\n",
       "      <th>3</th>\n",
       "      <td>72870</td>\n",
       "      <td>2544841</td>\n",
       "      <td>2018-09-03 07:15:47</td>\n",
       "      <td>1</td>\n",
       "      <td>NaN</td>\n",
       "      <td>NaN</td>\n",
       "      <td>NaN</td>\n",
       "      <td>1</td>\n",
       "      <td>2320686</td>\n",
       "      <td>0</td>\n",
       "      <td>7</td>\n",
       "      <td>4341</td>\n",
       "      <td>82</td>\n",
       "      <td>19</td>\n",
       "      <td>0</td>\n",
       "      <td>0</td>\n",
       "      <td>2</td>\n",
       "      <td>3500</td>\n",
       "      <td>2018-08-25 11:11:21</td>\n",
       "    </tr>\n",
       "    <tr>\n",
       "      <th>4</th>\n",
       "      <td>72870</td>\n",
       "      <td>2544841</td>\n",
       "      <td>2018-09-29 21:26:06</td>\n",
       "      <td>1</td>\n",
       "      <td>NaN</td>\n",
       "      <td>NaN</td>\n",
       "      <td>NaN</td>\n",
       "      <td>1</td>\n",
       "      <td>2320686</td>\n",
       "      <td>0</td>\n",
       "      <td>7</td>\n",
       "      <td>4341</td>\n",
       "      <td>82</td>\n",
       "      <td>19</td>\n",
       "      <td>0</td>\n",
       "      <td>0</td>\n",
       "      <td>2</td>\n",
       "      <td>3500</td>\n",
       "      <td>2018-08-25 11:11:21</td>\n",
       "    </tr>\n",
       "  </tbody>\n",
       "</table>\n",
       "</div>"
      ],
      "text/plain": [
       "   KaiinID  AuctionID          ActionDate  SakujoFlag  Kingaku  Suuryou  \\\n",
       "0    56840     681350 2018-09-20 17:34:19           1      NaN      NaN   \n",
       "1   140863     681350 2018-09-14 23:23:50           1      NaN      NaN   \n",
       "2    56840    2544841 2018-09-20 17:44:18           1      NaN      NaN   \n",
       "3    72870    2544841 2018-09-03 07:15:47           1      NaN      NaN   \n",
       "4    72870    2544841 2018-09-29 21:26:06           1      NaN      NaN   \n",
       "\n",
       "   SokketsuFlag  ShouhinShubetsuID  ShouhinID  SaishuppinKaisuu  ConditionID  \\\n",
       "0           NaN                  1    1879243                 0            6   \n",
       "1           NaN                  1    1879243                 0            6   \n",
       "2           NaN                  1    2320686                 0            7   \n",
       "3           NaN                  1    2320686                 0            7   \n",
       "4           NaN                  1    2320686                 0            7   \n",
       "\n",
       "   BrandID  GenreID  GenreGroupID  LineID  ColorID  DanjobetsuID  \\\n",
       "0     4341       33            33       0        0             2   \n",
       "1     4341       33            33       0        0             2   \n",
       "2     4341       82            19       0        0             2   \n",
       "3     4341       82            19       0        0             2   \n",
       "4     4341       82            19       0        0             2   \n",
       "\n",
       "   SankouKakaku           CreateDate  \n",
       "0          7800  2018-08-16 10:51:32  \n",
       "1          7800  2018-08-16 10:51:32  \n",
       "2          3500  2018-08-25 11:11:21  \n",
       "3          3500  2018-08-25 11:11:21  \n",
       "4          3500  2018-08-25 11:11:21  "
      ]
     },
     "execution_count": 24,
     "metadata": {},
     "output_type": "execute_result"
    }
   ],
   "source": [
    "users_actions.head()"
   ]
  },
  {
   "cell_type": "code",
   "execution_count": 25,
   "metadata": {},
   "outputs": [
    {
     "name": "stdout",
     "output_type": "stream",
     "text": [
      "KaiinID           NaN\n",
      "ShouhinID    0.865876\n",
      "dtype: float64\n",
      "KaiinID                   NaN\n",
      "ShouhinShubetsuID    0.067124\n",
      "dtype: float64\n",
      "ConditionID    0.131588\n",
      "KaiinID             NaN\n",
      "dtype: float64\n",
      "BrandID    0.279623\n",
      "KaiinID         NaN\n",
      "dtype: float64\n",
      "GenreID    0.226106\n",
      "KaiinID         NaN\n",
      "dtype: float64\n",
      "GenreGroupID    0.151877\n",
      "KaiinID              NaN\n",
      "dtype: float64\n",
      "KaiinID         NaN\n",
      "LineID     0.072249\n",
      "dtype: float64\n",
      "ColorID    0.206427\n",
      "KaiinID         NaN\n",
      "dtype: float64\n"
     ]
    }
   ],
   "source": [
    "for col in [\"ShouhinID\", \"ShouhinShubetsuID\", \"ConditionID\", \"BrandID\", \"GenreID\", \"GenreGroupID\", \"LineID\", \"ColorID\"]:\n",
    "    print((users_actions[[\"KaiinID\", col]].groupby(\"KaiinID\").nunique() / users_actions[[\"KaiinID\", col]].groupby(\"KaiinID\").count()).mean())"
   ]
  },
  {
   "cell_type": "code",
   "execution_count": 45,
   "metadata": {},
   "outputs": [
    {
     "data": {
      "text/plain": [
       "(array([1205.,  685.,  503.,  356.,  321.,  281.,  238.,  212.,  197.,\n",
       "         195.,  167.,  144.,  128.,  150.,  140.,  115.,  112.,  112.,\n",
       "          97.,  111.,  101.,   70.,   81.,   91.,   66.,   60.,   56.,\n",
       "          62.,   58.,   61.,   47.,   45.,   51.,   42.,   63.,   40.,\n",
       "          54.,   38.,   52.,   38.,   38.,   50.,   36.,   36.,   42.,\n",
       "          46.,   43.,   36.,   33.,   21.,   35.,   47.,   31.,   16.,\n",
       "          18.,   26.,   30.,   18.,   16.,   24.,   18.,   26.,   19.,\n",
       "          30.,   18.,   20.,   27.,   16.,   20.,   23.,   19.,   14.,\n",
       "          13.,   16.,   16.,   13.,   14.,   11.,   15.,   16.,   14.,\n",
       "          10.,   15.,   12.,   11.,    4.,   18.,   11.,   10.,   22.,\n",
       "          15.,    7.,    8.,    5.,   10.,    7.,    5.,   11.,   10.,\n",
       "          10.]),\n",
       " array([  1.  ,  10.98,  20.96,  30.94,  40.92,  50.9 ,  60.88,  70.86,\n",
       "         80.84,  90.82, 100.8 , 110.78, 120.76, 130.74, 140.72, 150.7 ,\n",
       "        160.68, 170.66, 180.64, 190.62, 200.6 , 210.58, 220.56, 230.54,\n",
       "        240.52, 250.5 , 260.48, 270.46, 280.44, 290.42, 300.4 , 310.38,\n",
       "        320.36, 330.34, 340.32, 350.3 , 360.28, 370.26, 380.24, 390.22,\n",
       "        400.2 , 410.18, 420.16, 430.14, 440.12, 450.1 , 460.08, 470.06,\n",
       "        480.04, 490.02, 500.  , 509.98, 519.96, 529.94, 539.92, 549.9 ,\n",
       "        559.88, 569.86, 579.84, 589.82, 599.8 , 609.78, 619.76, 629.74,\n",
       "        639.72, 649.7 , 659.68, 669.66, 679.64, 689.62, 699.6 , 709.58,\n",
       "        719.56, 729.54, 739.52, 749.5 , 759.48, 769.46, 779.44, 789.42,\n",
       "        799.4 , 809.38, 819.36, 829.34, 839.32, 849.3 , 859.28, 869.26,\n",
       "        879.24, 889.22, 899.2 , 909.18, 919.16, 929.14, 939.12, 949.1 ,\n",
       "        959.08, 969.06, 979.04, 989.02, 999.  ]),\n",
       " <a list of 100 Patch objects>)"
      ]
     },
     "execution_count": 45,
     "metadata": {},
     "output_type": "execute_result"
    },
    {
     "data": {
      "image/png": "[encoded data removed]",
      "text/plain": [
       "<Figure size 432x288 with 1 Axes>"
      ]
     },
     "metadata": {
      "needs_background": "light"
     },
     "output_type": "display_data"
    }
   ],
   "source": [
    "action_cnts = users_actions[\"KaiinID\"].value_counts()\n",
    "plt.hist(action_cnts[action_cnts < 1000], bins=100)"
   ]
  },
  {
   "cell_type": "code",
   "execution_count": 49,
   "metadata": {},
   "outputs": [
    {
     "name": "stderr",
     "output_type": "stream",
     "text": [
      "/Users/nobuyuki.ishida/.pyenv/versions/3.7.5/lib/python3.7/site-packages/ipykernel_launcher.py:1: FutureWarning: Sorting because non-concatenation axis is not aligned. A future version\n",
      "of pandas will change to not sort by default.\n",
      "\n",
      "To accept the future behavior, pass 'sort=False'.\n",
      "\n",
      "To retain the current behavior and silence the warning, pass 'sort=True'.\n",
      "\n",
      "  \"\"\"Entry point for launching an IPython kernel.\n"
     ]
    },
    {
     "data": {
      "text/plain": [
       "114     290128\n",
       "38      188225\n",
       "12      168337\n",
       "32      137865\n",
       "25      119777\n",
       "         ...  \n",
       "7478         1\n",
       "2303         1\n",
       "9785         1\n",
       "8906         1\n",
       "9279         1\n",
       "Name: BrandID, Length: 6820, dtype: int64"
      ]
     },
     "execution_count": 49,
     "metadata": {},
     "output_type": "execute_result"
    }
   ],
   "source": [
    "actions = pd.concat([watch, bid]).merge(auction, on=\"AuctionID\")"
   ]
  },
  {
   "cell_type": "code",
   "execution_count": 50,
   "metadata": {},
   "outputs": [],
   "source": [
    "brand = pd.read_csv(INPUT_DIR + \"brand.csv\")"
   ]
  },
  {
   "cell_type": "code",
   "execution_count": 58,
   "metadata": {},
   "outputs": [
    {
     "data": {
      "text/plain": [
       "(array([6.711e+03, 1.200e+01, 1.000e+00, 1.000e+00, 2.000e+00, 1.000e+00,\n",
       "        1.000e+00, 0.000e+00, 0.000e+00, 1.000e+00]),\n",
       " array([1.000000e+00, 2.901370e+04, 5.802640e+04, 8.703910e+04,\n",
       "        1.160518e+05, 1.450645e+05, 1.740772e+05, 2.030899e+05,\n",
       "        2.321026e+05, 2.611153e+05, 2.901280e+05]),\n",
       " <a list of 10 Patch objects>)"
      ]
     },
     "execution_count": 58,
     "metadata": {},
     "output_type": "execute_result"
    },
    {
     "data": {
      "image/png": "[encoded data removed]",
      "text/plain": [
       "<Figure size 432x288 with 1 Axes>"
      ]
     },
     "metadata": {
      "needs_background": "light"
     },
     "output_type": "display_data"
    }
   ],
   "source": [
    "plt.hist(actions.merge(brand, on=\"BrandID\")[\"BrandName1\"].value_counts(), label=\"index\")"
   ]
  },
  {
   "cell_type": "code",
   "execution_count": null,
   "metadata": {},
   "outputs": [],
   "source": []
  }
 ],
 "metadata": {
  "kernelspec": {
   "display_name": "Python 3",
   "language": "python",
   "name": "python3"
  },
  "language_info": {
   "codemirror_mode": {
    "name": "ipython",
    "version": 3
   },
   "file_extension": ".py",
   "mimetype": "text/x-python",
   "name": "python",
   "nbconvert_exporter": "python",
   "pygments_lexer": "ipython3",
   "version": "3.7.5"
  }
 },
 "nbformat": 4,
 "nbformat_minor": 2
}
