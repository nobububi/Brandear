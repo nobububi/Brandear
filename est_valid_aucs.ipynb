{
 "cells": [
  {
   "cell_type": "code",
   "execution_count": 64,
   "metadata": {},
   "outputs": [],
   "source": [
    "from os.path import dirname\n",
    "import os\n",
    "import datetime\n",
    "from dateutil.relativedelta import relativedelta\n",
    "\n",
    "import pandas as pd\n",
    "import swifter\n",
    "import numpy as np\n",
    "import matplotlib.pyplot as plt\n",
    "import lightgbm as lgb\n",
    "from sklearn.metrics import roc_curve\n",
    "from sklearn.metrics import roc_auc_score"
   ]
  },
  {
   "cell_type": "code",
   "execution_count": 65,
   "metadata": {},
   "outputs": [],
   "source": [
    "pd.set_option('display.max_columns', 50)"
   ]
  },
  {
   "cell_type": "code",
   "execution_count": 66,
   "metadata": {},
   "outputs": [
    {
     "name": "stdout",
     "output_type": "stream",
     "text": [
      "The autoreload extension is already loaded. To reload it, use:\n",
      "  %reload_ext autoreload\n"
     ]
    }
   ],
   "source": [
    "%load_ext autoreload\n",
    "%autoreload 2\n",
    "import brandear_est as be"
   ]
  },
  {
   "cell_type": "code",
   "execution_count": 67,
   "metadata": {},
   "outputs": [],
   "source": [
    "IMD_DIR = os.path.join(os.getcwd(), \"../../data/intermediate/\")\n",
    "INPUT_DIR = os.path.join(os.getcwd(), \"../../data/input\")\n",
    "\n",
    "IMD_INPUT_DIR = os.path.join(IMD_DIR, \"pickled_inputs\")\n",
    "IMD_OUTPUT_DIR = os.path.join(IMD_DIR, \"valid_aucs\")\n",
    "IMD_ARCHIVE_DIR = os.path.join(IMD_DIR, \"arc_valid_aucs\")\n",
    "\n",
    "dset_to_period = {\n",
    "    \"pre_train\": {\"oldest\": datetime.datetime(2019, 8, 26, 0, 0, 0),\n",
    "              \"newest\": datetime.datetime(2019, 9, 3, 0, 0, 0)},    \n",
    "    \"train\": {\"oldest\": datetime.datetime(2019, 9, 3, 0, 0, 0),\n",
    "              \"newest\": datetime.datetime(2019, 9, 10, 0, 0, 0)},\n",
    "    \"valid_for_train\": {\"oldest\": datetime.datetime(2019, 9, 10, 0, 0, 0),\n",
    "              \"newest\": datetime.datetime(2019, 9, 17, 0, 0, 0),},    \n",
    "    \"valid_for_sub\": {\"oldest\": datetime.datetime(2019, 9, 17, 0, 0, 0),\n",
    "              \"newest\": datetime.datetime(2019, 9, 24, 0, 0, 0),},\n",
    "    \"submission\": {\"oldest\": datetime.datetime(2019, 9, 24, 0, 0, 0),\n",
    "              \"newest\": datetime.datetime(2019, 10, 1, 0, 0, 0),},    \n",
    "}"
   ]
  },
  {
   "cell_type": "code",
   "execution_count": 68,
   "metadata": {},
   "outputs": [
    {
     "name": "stdout",
     "output_type": "stream",
     "text": [
      "Mem. usage decreased to  0.32 Mb (15.0% reduction)\n",
      "Mem. usage decreased to  0.01 Mb (32.2% reduction)\n",
      "Mem. usage decreased to  0.00 Mb (45.4% reduction)\n",
      "Mem. usage decreased to  0.00 Mb (33.4% reduction)\n",
      "Mem. usage decreased to  0.01 Mb (41.3% reduction)\n"
     ]
    }
   ],
   "source": [
    "# 元データ読み込み\n",
    "auction = pd.read_pickle(os.path.join(IMD_INPUT_DIR , \"auction.pkl\"))\n",
    "watch = pd.read_pickle(os.path.join(IMD_INPUT_DIR , \"watch.pkl\"))\n",
    "bid = pd.read_pickle(os.path.join(IMD_INPUT_DIR , \"bid.pkl\"))\n",
    "bid_success = pd.read_pickle(os.path.join(IMD_INPUT_DIR , \"bid_success.pkl\"))\n",
    "sample_sub = pd.read_csv(os.path.join(os.getcwd(), \"../../data/input\" , \"sample_submission.csv\"))\n",
    "sub_users = sample_sub[[\"KaiinID\"]].drop_duplicates()\n",
    "\n",
    "# ブランド作成日\n",
    "brand = be.read_csv(os.path.join(INPUT_DIR , \"brand.csv\"))\n",
    "# itemcolorid付与(色の大分類)\n",
    "color = be.read_csv(os.path.join(INPUT_DIR , \"color.csv\"))\n",
    "# カテゴリーid,itemdailID付与のためのItemShouID付与\n",
    "genre = be.read_csv(os.path.join(INPUT_DIR , \"genre.csv\"))\n",
    "# itemshowID,itemdailID付与\n",
    "itemshou = be.read_csv(os.path.join(INPUT_DIR , \"itemshou.csv\"))\n",
    "# itemlineID付与\n",
    "line = be.read_csv(os.path.join(INPUT_DIR , \"line.csv\"))"
   ]
  },
  {
   "cell_type": "code",
   "execution_count": 69,
   "metadata": {},
   "outputs": [],
   "source": [
    "# オークション情報拡充\n",
    "def rename(df, prefix):\n",
    "    target_columns = [\"ModifyDate\", \"CreateDate\"]\n",
    "    for target_column in target_columns:\n",
    "        if target_column in df.columns:\n",
    "            df.rename(columns={target_column: prefix + target_column}, inplace=True)\n",
    "    return df\n",
    "\n",
    "itemshou = rename(itemshou, prefix=\"ItemShow\")\n",
    "genre = rename(genre, prefix=\"Genre\")\n",
    "brand = rename(brand, prefix=\"Brand\")\n",
    "color = rename(color, prefix=\"Color\")\n",
    "line = rename(line, prefix=\"Line\")\n",
    "\n",
    "genre_mst = (\n",
    "    genre[[\"GenreID\", \"ItemShouID\", \"CategoryID\"]]\n",
    "    .merge(itemshou[[\"ItemShouID\", \"ItemDaiID\"]], on=\"ItemShouID\", how=\"inner\")\n",
    ")\n",
    "\n",
    "auction_mst = (\n",
    "    auction\n",
    "    .merge(genre_mst, on=\"GenreID\", how=\"left\")\n",
    "    .merge(brand[[\"BrandID\", \"BrandCreateDate\"]], on=\"BrandID\", how=\"left\")    \n",
    "    .merge(color[[\"ColorID\", \"ItemColorID\"]], on=\"ColorID\", how=\"left\")    \n",
    "    .merge(line[[\"LineID\", \"ItemLineID\", \"LineCreateDate\"]], on=\"LineID\", how=\"left\")        \n",
    "    .fillna(0)\n",
    ")\n",
    "auction_mst = be.to_datetime(auction_mst[sorted(list(auction_mst.columns))])"
   ]
  },
  {
   "cell_type": "code",
   "execution_count": 70,
   "metadata": {},
   "outputs": [],
   "source": [
    "def extract_target_actions(watch, bid, period):\n",
    "    watch_actioned = (\n",
    "        watch.loc[(watch[\"TourokuDate\"] >= period[\"oldest\"]) & (watch[\"TourokuDate\"] < period[\"newest\"]),\n",
    "                  [\"KaiinID\", \"AuctionID\"]]\n",
    "    )\n",
    "    bid_actioned = (\n",
    "        bid.loc[(bid[\"ShudouNyuusatsuDate\"] >= period[\"oldest\"]) & (bid[\"ShudouNyuusatsuDate\"] < period[\"newest\"]),\n",
    "                [\"KaiinID\", \"AuctionID\"]]\n",
    "    )\n",
    "\n",
    "    watch_actioned[\"watch_actioned\"] = 1\n",
    "    bid_actioned[\"bid_actioned\"] = 1\n",
    "\n",
    "    target_actions = (\n",
    "        watch_actioned\n",
    "        .merge(bid_actioned, on=[\"KaiinID\", \"AuctionID\"], how=\"outer\")\n",
    "        .drop_duplicates()\n",
    "        .fillna(0)\n",
    "    )\n",
    "    return target_actions\n",
    "\n",
    "    \n",
    "def arrange_dtime_condition(watch, bid, bid_success, auction, period):\n",
    "    retval = ((\n",
    "        watch[watch[\"TourokuDate\"] <= period[\"oldest\"]],\n",
    "        bid[bid[\"ShudouNyuusatsuDate\"] <= period[\"oldest\"]],\n",
    "        bid_success[bid_success[\"RakusatsuDate\"] < period[\"oldest\"]],\n",
    "        auction[auction[\"CreateDate\"] < period[\"newest\"]]\n",
    "    ))\n",
    "    return retval\n",
    "    \n",
    "\n",
    "def arrange_inputs(watch, bid, bid_success, auction, period):\n",
    "    \n",
    "    target_actions = extract_target_actions(watch, bid, period)\n",
    "    \n",
    "    watch_t, bid_t,  bid_success_t, auction_t = (\n",
    "        arrange_dtime_condition(watch, bid, bid_success, auction, period)\n",
    "    )\n",
    "    \n",
    "    arranged_inputs = (\n",
    "        watch_t.merge(auction_t, on=\"AuctionID\", how=\"left\"),\n",
    "        bid_t.merge(auction, on=\"AuctionID\", how=\"left\"),\n",
    "        bid_success_t,\n",
    "        auction_t,\n",
    "        target_actions\n",
    "    )\n",
    "    return arranged_inputs\n",
    "\n",
    "def extract_recent_data(df, date_col, base_dtime, days):\n",
    "    oldest_dtime = base_dtime - relativedelta(days=days)\n",
    "    return df[df[date_col] > oldest_dtime]"
   ]
  },
  {
   "cell_type": "code",
   "execution_count": 71,
   "metadata": {},
   "outputs": [],
   "source": [
    "def build_dataset_input(auction, bid_success, watch, bid, period, dset_type):\n",
    "    \n",
    "    watch_arranged, bid_arranged, bid_success_arranged, auction_arranged, target_actions = (\n",
    "        arrange_inputs(watch=watch, bid=bid, bid_success=bid_success, auction=auction, period=period)\n",
    "    )\n",
    "\n",
    "    aucs_with_cnts = (\n",
    "        auction_arranged.merge(\n",
    "            pd.concat([\n",
    "            auction_arranged[(auction_arranged[\"CreateDate\"] > period[\"newest\"] - relativedelta(months=1))][[\"AuctionID\"]],\n",
    "            watch_arranged[(watch_arranged[\"TourokuDate\"] > period[\"newest\"] - relativedelta(months=1))][[\"AuctionID\"]]\n",
    "            ]).drop_duplicates(), on=\"AuctionID\", how=\"inner\")\n",
    "    )\n",
    "    \n",
    "    # 落札しているオークションを除外\n",
    "    aucs_with_cnts = be.left_anti_join(aucs_with_cnts, bid_success_arranged, \"AuctionID\", \"AuctionID\")\n",
    "    \n",
    "    # 正解データ付与\n",
    "    target_aucs = target_actions[[\"AuctionID\", \"watch_actioned\", \"bid_actioned\"]].groupby(\"AuctionID\", as_index=False).max()\n",
    "    aucs_with_cnts = aucs_with_cnts.merge(target_aucs, on=\"AuctionID\", how=\"left\").fillna(0)    \n",
    "    \n",
    "    aucs_with_cnts[\"Brand_SankouKakaku\"] = aucs_with_cnts[\"SankouKakaku\"].map(\n",
    "        aucs_with_cnts[[\"BrandID\", \"SankouKakaku\"]].groupby(\"BrandID\")[\"SankouKakaku\"].mean()\n",
    "    ).fillna(0)\n",
    "    \n",
    "    aucs_with_cnts[\"inv_rate_to_Brand_SankouKakaku\"] = aucs_with_cnts[\"Brand_SankouKakaku\"] / aucs_with_cnts[\"SankouKakaku\"]\n",
    "        \n",
    "    # クロス集計\n",
    "    # クロス集計用にオークションデータ結合\n",
    "    newest_dtime, oldest_dtime = (period[\"newest\"], period[\"oldest\"])        \n",
    "    cross_conf = {\n",
    "        \"watch\": watch_arranged,\n",
    "        \"bid\": bid_arranged,\n",
    "        \"1m_watch\": extract_recent_data(watch_arranged, \"TourokuDate\", oldest_dtime, 30),\n",
    "        \"1m_bid\": extract_recent_data(bid_arranged, \"ShudouNyuusatsuDate\", oldest_dtime, 30)\n",
    "    }        \n",
    "    \n",
    "    col_sets = [[\"AuctionID\"], [\"ShouhinID\"], [\"BrandID\"], [\"LineID\"], [\"ItemShouID\"]]\n",
    "    \n",
    "    for prefix, feature_df in cross_conf.items():\n",
    "        aucs_with_cnts = be.add_cross_counts(aucs_with_cnts, feature_df, prefix=prefix, col_sets=col_sets)\n",
    "    \n",
    "        \n",
    "    # 経過日数の特徴量\n",
    "    aucs_with_time = aucs_with_cnts\n",
    "    aucs_with_time[\"elapsed_days\"] = aucs_with_time[\"CreateDate\"].apply(lambda d: (newest_dtime - d).days)\n",
    "    \n",
    "    dtime_feat_confs = [[\"watch\", \"TourokuDate\", watch_arranged],\n",
    "                       [\"bid\", \"ShudouNyuusatsuDate\", bid_arranged]]\n",
    "    for dtime_feat_conf in dtime_feat_confs:\n",
    "        prefix = dtime_feat_conf[0]\n",
    "        last_action = (\n",
    "            dtime_feat_conf[2][[\"AuctionID\", dtime_feat_conf[1]]]\n",
    "            .groupby(\"AuctionID\", as_index=False).min()\n",
    "            .rename(columns={dtime_feat_conf[1]: f\"{prefix}_elapsed_days\"})\n",
    "        )\n",
    "        last_action[f\"{prefix}_elapsed_days\"] = last_action[f\"{prefix}_elapsed_days\"].swifter.apply(lambda d: (oldest_dtime - d).days)\n",
    "        aucs_with_time = aucs_with_time.merge(last_action, on=\"AuctionID\", how=\"left\").fillna(0)    \n",
    "        \n",
    "    be.df2pkl(aucs_with_time, IMD_ARCHIVE_DIR, f\"{dset_type}_feature.pkl\")\n"
   ]
  },
  {
   "cell_type": "code",
   "execution_count": 23,
   "metadata": {
    "scrolled": true
   },
   "outputs": [
    {
     "name": "stdout",
     "output_type": "stream",
     "text": [
      "##################\n",
      "start cross count\n",
      "[['AuctionID'], ['ShouhinID'], ['BrandID'], ['LineID'], ['ItemShouID']]\n",
      "['AuctionID']\n",
      "['ShouhinID']\n",
      "['BrandID']\n",
      "['LineID']\n",
      "['ItemShouID']\n",
      "##################\n",
      "start cross count\n",
      "[['AuctionID'], ['ShouhinID'], ['BrandID'], ['LineID'], ['ItemShouID']]\n",
      "['AuctionID']\n",
      "['ShouhinID']\n",
      "['BrandID']\n",
      "['LineID']\n",
      "['ItemShouID']\n",
      "##################\n",
      "start cross count\n",
      "[['AuctionID'], ['ShouhinID'], ['BrandID'], ['LineID'], ['ItemShouID']]\n",
      "['AuctionID']\n",
      "['ShouhinID']\n",
      "['BrandID']\n",
      "['LineID']\n",
      "['ItemShouID']\n",
      "##################\n",
      "start cross count\n",
      "[['AuctionID'], ['ShouhinID'], ['BrandID'], ['LineID'], ['ItemShouID']]\n",
      "['AuctionID']\n",
      "['ShouhinID']\n",
      "['BrandID']\n",
      "['LineID']\n",
      "['ItemShouID']\n"
     ]
    },
    {
     "data": {
      "application/vnd.jupyter.widget-view+json": {
       "model_id": "9ae920d46048459e9e2979e4501c77cf",
       "version_major": 2,
       "version_minor": 0
      },
      "text/plain": [
       "HBox(children=(FloatProgress(value=0.0, description='Dask Apply', max=16.0, style=ProgressStyle(description_wi…"
      ]
     },
     "metadata": {},
     "output_type": "display_data"
    },
    {
     "name": "stdout",
     "output_type": "stream",
     "text": [
      "\n"
     ]
    },
    {
     "data": {
      "application/vnd.jupyter.widget-view+json": {
       "model_id": "1b9b0477c5334ca0b96f68389528c33b",
       "version_major": 2,
       "version_minor": 0
      },
      "text/plain": [
       "HBox(children=(FloatProgress(value=0.0, description='Dask Apply', max=16.0, style=ProgressStyle(description_wi…"
      ]
     },
     "metadata": {},
     "output_type": "display_data"
    },
    {
     "name": "stdout",
     "output_type": "stream",
     "text": [
      "\n",
      "##################\n",
      "start cross count\n",
      "[['AuctionID'], ['ShouhinID'], ['BrandID'], ['LineID'], ['ItemShouID']]\n",
      "['AuctionID']\n",
      "['ShouhinID']\n",
      "['BrandID']\n",
      "['LineID']\n",
      "['ItemShouID']\n",
      "##################\n",
      "start cross count\n",
      "[['AuctionID'], ['ShouhinID'], ['BrandID'], ['LineID'], ['ItemShouID']]\n",
      "['AuctionID']\n",
      "['ShouhinID']\n",
      "['BrandID']\n",
      "['LineID']\n",
      "['ItemShouID']\n",
      "##################\n",
      "start cross count\n",
      "[['AuctionID'], ['ShouhinID'], ['BrandID'], ['LineID'], ['ItemShouID']]\n",
      "['AuctionID']\n",
      "['ShouhinID']\n",
      "['BrandID']\n",
      "['LineID']\n",
      "['ItemShouID']\n",
      "##################\n",
      "start cross count\n",
      "[['AuctionID'], ['ShouhinID'], ['BrandID'], ['LineID'], ['ItemShouID']]\n",
      "['AuctionID']\n",
      "['ShouhinID']\n",
      "['BrandID']\n",
      "['LineID']\n",
      "['ItemShouID']\n"
     ]
    },
    {
     "data": {
      "application/vnd.jupyter.widget-view+json": {
       "model_id": "c26a02b533594209a7a2b16543889a72",
       "version_major": 2,
       "version_minor": 0
      },
      "text/plain": [
       "HBox(children=(FloatProgress(value=0.0, description='Dask Apply', max=16.0, style=ProgressStyle(description_wi…"
      ]
     },
     "metadata": {},
     "output_type": "display_data"
    },
    {
     "name": "stdout",
     "output_type": "stream",
     "text": [
      "\n"
     ]
    },
    {
     "data": {
      "application/vnd.jupyter.widget-view+json": {
       "model_id": "3c2ae754303f47f99d8bc597b5f0c8cf",
       "version_major": 2,
       "version_minor": 0
      },
      "text/plain": [
       "HBox(children=(FloatProgress(value=0.0, description='Dask Apply', max=16.0, style=ProgressStyle(description_wi…"
      ]
     },
     "metadata": {},
     "output_type": "display_data"
    },
    {
     "name": "stdout",
     "output_type": "stream",
     "text": [
      "\n",
      "##################\n",
      "start cross count\n",
      "[['AuctionID'], ['ShouhinID'], ['BrandID'], ['LineID'], ['ItemShouID']]\n",
      "['AuctionID']\n",
      "['ShouhinID']\n",
      "['BrandID']\n",
      "['LineID']\n",
      "['ItemShouID']\n",
      "##################\n",
      "start cross count\n",
      "[['AuctionID'], ['ShouhinID'], ['BrandID'], ['LineID'], ['ItemShouID']]\n",
      "['AuctionID']\n",
      "['ShouhinID']\n",
      "['BrandID']\n",
      "['LineID']\n",
      "['ItemShouID']\n",
      "##################\n",
      "start cross count\n",
      "[['AuctionID'], ['ShouhinID'], ['BrandID'], ['LineID'], ['ItemShouID']]\n",
      "['AuctionID']\n",
      "['ShouhinID']\n",
      "['BrandID']\n",
      "['LineID']\n",
      "['ItemShouID']\n",
      "##################\n",
      "start cross count\n",
      "[['AuctionID'], ['ShouhinID'], ['BrandID'], ['LineID'], ['ItemShouID']]\n",
      "['AuctionID']\n",
      "['ShouhinID']\n",
      "['BrandID']\n",
      "['LineID']\n",
      "['ItemShouID']\n"
     ]
    },
    {
     "data": {
      "application/vnd.jupyter.widget-view+json": {
       "model_id": "f4e0c7398b694e25ab889a747ec4a8b5",
       "version_major": 2,
       "version_minor": 0
      },
      "text/plain": [
       "HBox(children=(FloatProgress(value=0.0, description='Dask Apply', max=16.0, style=ProgressStyle(description_wi…"
      ]
     },
     "metadata": {},
     "output_type": "display_data"
    },
    {
     "name": "stdout",
     "output_type": "stream",
     "text": [
      "\n"
     ]
    },
    {
     "data": {
      "application/vnd.jupyter.widget-view+json": {
       "model_id": "8226b9a72ba44d139ca22db11ff11ace",
       "version_major": 2,
       "version_minor": 0
      },
      "text/plain": [
       "HBox(children=(FloatProgress(value=0.0, description='Dask Apply', max=16.0, style=ProgressStyle(description_wi…"
      ]
     },
     "metadata": {},
     "output_type": "display_data"
    },
    {
     "name": "stdout",
     "output_type": "stream",
     "text": [
      "\n",
      "##################\n",
      "start cross count\n",
      "[['AuctionID'], ['ShouhinID'], ['BrandID'], ['LineID'], ['ItemShouID']]\n",
      "['AuctionID']\n",
      "['ShouhinID']\n",
      "['BrandID']\n",
      "['LineID']\n",
      "['ItemShouID']\n",
      "##################\n",
      "start cross count\n",
      "[['AuctionID'], ['ShouhinID'], ['BrandID'], ['LineID'], ['ItemShouID']]\n",
      "['AuctionID']\n",
      "['ShouhinID']\n",
      "['BrandID']\n",
      "['LineID']\n",
      "['ItemShouID']\n",
      "##################\n",
      "start cross count\n",
      "[['AuctionID'], ['ShouhinID'], ['BrandID'], ['LineID'], ['ItemShouID']]\n",
      "['AuctionID']\n",
      "['ShouhinID']\n",
      "['BrandID']\n",
      "['LineID']\n",
      "['ItemShouID']\n",
      "##################\n",
      "start cross count\n",
      "[['AuctionID'], ['ShouhinID'], ['BrandID'], ['LineID'], ['ItemShouID']]\n",
      "['AuctionID']\n",
      "['ShouhinID']\n",
      "['BrandID']\n",
      "['LineID']\n",
      "['ItemShouID']\n"
     ]
    },
    {
     "data": {
      "application/vnd.jupyter.widget-view+json": {
       "model_id": "fb454be9a80c48d59867e556809b6d49",
       "version_major": 2,
       "version_minor": 0
      },
      "text/plain": [
       "HBox(children=(FloatProgress(value=0.0, description='Dask Apply', max=16.0, style=ProgressStyle(description_wi…"
      ]
     },
     "metadata": {},
     "output_type": "display_data"
    },
    {
     "name": "stdout",
     "output_type": "stream",
     "text": [
      "\n"
     ]
    },
    {
     "data": {
      "application/vnd.jupyter.widget-view+json": {
       "model_id": "c8bdc844cc9145bfbdb70de6aa2a44e4",
       "version_major": 2,
       "version_minor": 0
      },
      "text/plain": [
       "HBox(children=(FloatProgress(value=0.0, description='Dask Apply', max=16.0, style=ProgressStyle(description_wi…"
      ]
     },
     "metadata": {},
     "output_type": "display_data"
    },
    {
     "name": "stdout",
     "output_type": "stream",
     "text": [
      "\n",
      "##################\n",
      "start cross count\n",
      "[['AuctionID'], ['ShouhinID'], ['BrandID'], ['LineID'], ['ItemShouID']]\n",
      "['AuctionID']\n",
      "['ShouhinID']\n",
      "['BrandID']\n",
      "['LineID']\n",
      "['ItemShouID']\n",
      "##################\n",
      "start cross count\n",
      "[['AuctionID'], ['ShouhinID'], ['BrandID'], ['LineID'], ['ItemShouID']]\n",
      "['AuctionID']\n",
      "['ShouhinID']\n",
      "['BrandID']\n",
      "['LineID']\n",
      "['ItemShouID']\n",
      "##################\n",
      "start cross count\n",
      "[['AuctionID'], ['ShouhinID'], ['BrandID'], ['LineID'], ['ItemShouID']]\n",
      "['AuctionID']\n",
      "['ShouhinID']\n",
      "['BrandID']\n",
      "['LineID']\n",
      "['ItemShouID']\n",
      "##################\n",
      "start cross count\n",
      "[['AuctionID'], ['ShouhinID'], ['BrandID'], ['LineID'], ['ItemShouID']]\n",
      "['AuctionID']\n",
      "['ShouhinID']\n",
      "['BrandID']\n",
      "['LineID']\n",
      "['ItemShouID']\n"
     ]
    },
    {
     "data": {
      "application/vnd.jupyter.widget-view+json": {
       "model_id": "4489d62152d24871a54d3873ce8059e0",
       "version_major": 2,
       "version_minor": 0
      },
      "text/plain": [
       "HBox(children=(FloatProgress(value=0.0, description='Dask Apply', max=16.0, style=ProgressStyle(description_wi…"
      ]
     },
     "metadata": {},
     "output_type": "display_data"
    },
    {
     "name": "stdout",
     "output_type": "stream",
     "text": [
      "\n"
     ]
    },
    {
     "data": {
      "application/vnd.jupyter.widget-view+json": {
       "model_id": "7b14bdb47d59427190f0bbc4cc41604f",
       "version_major": 2,
       "version_minor": 0
      },
      "text/plain": [
       "HBox(children=(FloatProgress(value=0.0, description='Dask Apply', max=16.0, style=ProgressStyle(description_wi…"
      ]
     },
     "metadata": {},
     "output_type": "display_data"
    },
    {
     "name": "stdout",
     "output_type": "stream",
     "text": [
      "\n",
      "CPU times: user 1min 28s, sys: 28.3 s, total: 1min 56s\n",
      "Wall time: 2min 38s\n"
     ]
    }
   ],
   "source": [
    "%%time\n",
    "for dset_type in [\"pre_train\", \"train\", \"valid_for_train\", \"valid_for_sub\", \"submission\"]:\n",
    "    build_dataset_input(\n",
    "        auction=auction_mst,\n",
    "        bid_success=bid_success,\n",
    "        watch=watch,\n",
    "        bid=bid,\n",
    "        period=dset_to_period[dset_type],\n",
    "        dset_type=dset_type\n",
    "    )"
   ]
  },
  {
   "cell_type": "code",
   "execution_count": 74,
   "metadata": {},
   "outputs": [],
   "source": [
    "pre_train_dataset_input = pd.read_pickle(IMD_ARCHIVE_DIR + \"/pre_train_feature.pkl\")\n",
    "train_dataset_input = pd.read_pickle(IMD_ARCHIVE_DIR + \"/train_feature.pkl\")\n",
    "vt_dataset_input = pd.read_pickle(IMD_ARCHIVE_DIR + \"/valid_for_train_feature.pkl\")\n",
    "vs_dataset_input = pd.read_pickle(IMD_ARCHIVE_DIR + \"/valid_for_sub_feature.pkl\")\n",
    "sub_dataset_input = pd.read_pickle(IMD_ARCHIVE_DIR + \"/submission_feature.pkl\")"
   ]
  },
  {
   "cell_type": "code",
   "execution_count": 75,
   "metadata": {},
   "outputs": [],
   "source": [
    "def agg_target_cols(df):\n",
    "    df[\"actioned\"] = np.array(df[[\"watch_actioned\", \"bid_actioned\"]].astype(int)).max(axis=1)\n",
    "    \n",
    "agg_target_cols(pre_train_dataset_input)\n",
    "agg_target_cols(train_dataset_input)\n",
    "agg_target_cols(vt_dataset_input)\n",
    "agg_target_cols(vs_dataset_input)\n",
    "agg_target_cols(sub_dataset_input)"
   ]
  },
  {
   "cell_type": "code",
   "execution_count": 76,
   "metadata": {},
   "outputs": [],
   "source": [
    "drop_cols = ([\n",
    "    \"AuctionID\", \"BrandCreateDate\", \"BrandID\", \"CategoryID\", \"ColorID\", \"ConditionID\", \"CreateDate\", \"GenreGroupID\",\n",
    "    \"GenreID\", \"ItemColorID\", \"ItemDaiID\", \"ItemLineID\", \"ItemShouID\", \"LineCreateDate\", \"LineID\", \"ShouhinID\",\n",
    "    \"ShouhinShubetsuID\", \"watch_actioned\", \"bid_actioned\", \"actioned\"\n",
    "])\n",
    "\n",
    "ptr_dataset = be.DataSet(data=pre_train_dataset_input, drop_cols=drop_cols, target_col=\"actioned\")\n",
    "tr_dataset = be.DataSet(data=train_dataset_input, drop_cols=drop_cols, target_col=\"actioned\")\n",
    "vt_dataset = be.DataSet(data=vt_dataset_input, drop_cols=drop_cols, target_col=\"watch_actioned\")\n",
    "vs_dataset = be.DataSet(data=vs_dataset_input, drop_cols=drop_cols, target_col=\"watch_actioned\")\n",
    "sub_dataset = be.DataSet(data=sub_dataset_input, drop_cols=drop_cols, target_col=\"watch_actioned\")"
   ]
  },
  {
   "cell_type": "code",
   "execution_count": 77,
   "metadata": {},
   "outputs": [
    {
     "name": "stdout",
     "output_type": "stream",
     "text": [
      "[1]\tvalid_0's auc: 0.748099\n",
      "[2]\tvalid_0's auc: 0.75042\n",
      "[3]\tvalid_0's auc: 0.750249\n",
      "[4]\tvalid_0's auc: 0.751111\n",
      "[5]\tvalid_0's auc: 0.751098\n",
      "[6]\tvalid_0's auc: 0.753804\n",
      "[7]\tvalid_0's auc: 0.754541\n",
      "[8]\tvalid_0's auc: 0.755138\n",
      "[9]\tvalid_0's auc: 0.755894\n",
      "[10]\tvalid_0's auc: 0.756163\n",
      "[11]\tvalid_0's auc: 0.756293\n",
      "[12]\tvalid_0's auc: 0.756395\n",
      "[13]\tvalid_0's auc: 0.756386\n",
      "[14]\tvalid_0's auc: 0.756065\n",
      "[15]\tvalid_0's auc: 0.756124\n",
      "[16]\tvalid_0's auc: 0.756037\n",
      "[17]\tvalid_0's auc: 0.756379\n",
      "[18]\tvalid_0's auc: 0.756783\n",
      "[19]\tvalid_0's auc: 0.757117\n",
      "[20]\tvalid_0's auc: 0.757344\n",
      "[21]\tvalid_0's auc: 0.757534\n",
      "[22]\tvalid_0's auc: 0.757478\n",
      "[23]\tvalid_0's auc: 0.757476\n",
      "[24]\tvalid_0's auc: 0.757696\n",
      "[25]\tvalid_0's auc: 0.757701\n",
      "[26]\tvalid_0's auc: 0.757729\n",
      "[27]\tvalid_0's auc: 0.7579\n",
      "[28]\tvalid_0's auc: 0.757863\n",
      "[29]\tvalid_0's auc: 0.757866\n",
      "[30]\tvalid_0's auc: 0.757943\n",
      "[31]\tvalid_0's auc: 0.758061\n",
      "[32]\tvalid_0's auc: 0.758189\n",
      "[33]\tvalid_0's auc: 0.758201\n",
      "[34]\tvalid_0's auc: 0.758322\n",
      "[35]\tvalid_0's auc: 0.758401\n",
      "[36]\tvalid_0's auc: 0.758434\n",
      "[37]\tvalid_0's auc: 0.75859\n",
      "[38]\tvalid_0's auc: 0.758503\n",
      "[39]\tvalid_0's auc: 0.758488\n",
      "[40]\tvalid_0's auc: 0.758878\n",
      "[41]\tvalid_0's auc: 0.758951\n",
      "[42]\tvalid_0's auc: 0.758996\n",
      "[43]\tvalid_0's auc: 0.75907\n",
      "[44]\tvalid_0's auc: 0.759232\n",
      "[45]\tvalid_0's auc: 0.759338\n",
      "[46]\tvalid_0's auc: 0.759555\n",
      "[47]\tvalid_0's auc: 0.759622\n",
      "[48]\tvalid_0's auc: 0.759656\n",
      "[49]\tvalid_0's auc: 0.759807\n",
      "[50]\tvalid_0's auc: 0.760001\n",
      "[51]\tvalid_0's auc: 0.760016\n",
      "[52]\tvalid_0's auc: 0.760058\n",
      "[53]\tvalid_0's auc: 0.760164\n",
      "[54]\tvalid_0's auc: 0.76035\n",
      "[55]\tvalid_0's auc: 0.760388\n",
      "[56]\tvalid_0's auc: 0.760419\n",
      "[57]\tvalid_0's auc: 0.76052\n",
      "[58]\tvalid_0's auc: 0.760568\n",
      "[59]\tvalid_0's auc: 0.760724\n",
      "[60]\tvalid_0's auc: 0.76074\n",
      "[61]\tvalid_0's auc: 0.760735\n",
      "[62]\tvalid_0's auc: 0.760746\n",
      "[63]\tvalid_0's auc: 0.760919\n",
      "[64]\tvalid_0's auc: 0.761197\n",
      "[65]\tvalid_0's auc: 0.76137\n",
      "[66]\tvalid_0's auc: 0.761574\n",
      "[67]\tvalid_0's auc: 0.761814\n",
      "[68]\tvalid_0's auc: 0.761822\n",
      "[69]\tvalid_0's auc: 0.762023\n",
      "[70]\tvalid_0's auc: 0.762209\n",
      "[71]\tvalid_0's auc: 0.76231\n",
      "[72]\tvalid_0's auc: 0.762475\n",
      "[73]\tvalid_0's auc: 0.762524\n",
      "[74]\tvalid_0's auc: 0.762546\n",
      "[75]\tvalid_0's auc: 0.762806\n",
      "[76]\tvalid_0's auc: 0.762904\n",
      "[77]\tvalid_0's auc: 0.763009\n",
      "[78]\tvalid_0's auc: 0.763136\n",
      "[79]\tvalid_0's auc: 0.763203\n",
      "[80]\tvalid_0's auc: 0.763306\n",
      "[81]\tvalid_0's auc: 0.763497\n",
      "[82]\tvalid_0's auc: 0.763583\n",
      "[83]\tvalid_0's auc: 0.76362\n",
      "[84]\tvalid_0's auc: 0.763733\n",
      "[85]\tvalid_0's auc: 0.763909\n",
      "[86]\tvalid_0's auc: 0.763947\n",
      "[87]\tvalid_0's auc: 0.764\n",
      "[88]\tvalid_0's auc: 0.764073\n",
      "[89]\tvalid_0's auc: 0.764092\n",
      "[90]\tvalid_0's auc: 0.764248\n",
      "[91]\tvalid_0's auc: 0.764319\n",
      "[92]\tvalid_0's auc: 0.764466\n",
      "[93]\tvalid_0's auc: 0.764526\n",
      "[94]\tvalid_0's auc: 0.764558\n",
      "[95]\tvalid_0's auc: 0.764709\n",
      "[96]\tvalid_0's auc: 0.764814\n",
      "[97]\tvalid_0's auc: 0.76499\n",
      "[98]\tvalid_0's auc: 0.76505\n",
      "[99]\tvalid_0's auc: 0.765129\n",
      "[100]\tvalid_0's auc: 0.765253\n",
      "\n",
      "\n",
      "##################\n",
      "                                importance\n",
      "DanjobetsuID                            69\n",
      "SaishuppinKaisuu                       925\n",
      "SankouKakaku                           801\n",
      "Brand_SankouKakaku                       7\n",
      "inv_rate_to_Brand_SankouKakaku          20\n",
      "watch_AuctionID_cnt                    344\n",
      "watch_ShouhinID_cnt                    217\n",
      "watch_BrandID_cnt                      168\n",
      "watch_LineID_cnt                        15\n",
      "watch_ItemShouID_cnt                    75\n",
      "bid_AuctionID_cnt                        0\n",
      "bid_ShouhinID_cnt                        7\n",
      "bid_BrandID_cnt                         33\n",
      "bid_LineID_cnt                           0\n",
      "bid_ItemShouID_cnt                      62\n",
      "1m_watch_AuctionID_cnt                 263\n",
      "1m_watch_ShouhinID_cnt                 381\n",
      "1m_watch_BrandID_cnt                    81\n",
      "1m_watch_LineID_cnt                      0\n",
      "1m_watch_ItemShouID_cnt                 37\n",
      "1m_bid_AuctionID_cnt                     0\n",
      "1m_bid_ShouhinID_cnt                     0\n",
      "1m_bid_BrandID_cnt                      57\n",
      "1m_bid_LineID_cnt                        0\n",
      "1m_bid_ItemShouID_cnt                   68\n",
      "elapsed_days                          1153\n",
      "watch_elapsed_days                     286\n",
      "bid_elapsed_days                         0\n",
      "BrandID_target_mean                    606\n",
      "ItemShouID_target_mean                 600\n",
      "##################\n"
     ]
    }
   ],
   "source": [
    "# # 学習の様子可視化\n",
    "datasets = [ptr_dataset]\n",
    "for dataset in datasets:\n",
    "    \n",
    "    # train test split\n",
    "    train_dataset, test_dataset =be.DataSet.train_test_split(dataset)\n",
    "#     sampled_train = be.DataSet.under_sampling(train_dataset)\n",
    "\n",
    "    # target encoding\n",
    "    for cat_col in [\"BrandID\", \"ItemShouID\"]:\n",
    "        train_dataset.add_target_encode(cat_col=cat_col)\n",
    "        be.target_encode_for_test(train_dataset=train_dataset, test_dataset=test_dataset, cat_col=cat_col)    \n",
    "    \n",
    "    lgb_bi = be.LgbBinaryClassifier()\n",
    "    lgb_bi.train(train_dataset=train_dataset, valid_dataset=test_dataset, desc=True)    "
   ]
  },
  {
   "cell_type": "code",
   "execution_count": 78,
   "metadata": {
    "scrolled": true
   },
   "outputs": [],
   "source": [
    "# 予測値取得\n",
    "\n",
    "dataset_pairs = [\n",
    "    [ptr_dataset, tr_dataset],\n",
    "    [tr_dataset, vt_dataset],\n",
    "    [vt_dataset, vs_dataset],\n",
    "    [vs_dataset, sub_dataset]\n",
    "]\n",
    "\n",
    "for train_dataset, sub_dataset in dataset_pairs:\n",
    "    \n",
    "#     sampled_train = be.DataSet.under_sampling(train_dataset)\n",
    "    # target encoding\n",
    "    for cat_col in [\"BrandID\", \"ItemShouID\"]:\n",
    "        train_dataset.add_target_encode(cat_col=cat_col)\n",
    "        be.target_encode_for_test(train_dataset=train_dataset, test_dataset=sub_dataset, cat_col=cat_col)    \n",
    "\n",
    "    lgb_bi = be.LgbBinaryClassifier()        \n",
    "    lgb_bi.train(train_dataset=train_dataset)\n",
    "    \n",
    "    sub_dataset.set_pred(lgb_bi.predict(sub_dataset))    "
   ]
  },
  {
   "cell_type": "code",
   "execution_count": 31,
   "metadata": {},
   "outputs": [
    {
     "name": "stdout",
     "output_type": "stream",
     "text": [
      "auc :  0.7279253804699506\n"
     ]
    },
    {
     "data": {
      "image/png": "[encoded data removed]",
      "text/plain": [
       "<Figure size 432x288 with 1 Axes>"
      ]
     },
     "metadata": {
      "needs_background": "light"
     },
     "output_type": "display_data"
    }
   ],
   "source": [
    "dataset = vs_dataset\n",
    "print(\"auc : \", roc_auc_score(dataset.get_target(), dataset.data.pred))\n",
    "be.plot_roc_curve(dataset.get_target(), dataset.data.pred)\n",
    "be.plot_tpr_fpr(dataset.get_target(), dataset.data.pred)"
   ]
  },
  {
   "cell_type": "code",
   "execution_count": 13,
   "metadata": {},
   "outputs": [],
   "source": [
    "# def show_th_info(th, dataset):\n",
    "#     print(\"threshold : \", th)\n",
    "#     print(\"data size : \", dataset.data.shape[0])\n",
    "#     print(\"True count : \", dataset.data.query(f\"({dataset.target_col} == 1)\").shape[0])\n",
    "#     print(\"True and False larger than threshold : \", dataset.data.query(f\"pred >= {th}\").shape[0])\n",
    "#     print(\"True larger than threshold : \", dataset.data.query(f\"(pred >= {th}) & ({dataset.target_col} == 1)\").shape[0])"
   ]
  },
  {
   "cell_type": "code",
   "execution_count": 32,
   "metadata": {},
   "outputs": [],
   "source": [
    "be.df2pkl(tr_dataset.data, IMD_OUTPUT_DIR, f\"train.pkl\")\n",
    "be.df2pkl(vt_dataset.data, IMD_OUTPUT_DIR, f\"valid_for_train.pkl\")\n",
    "be.df2pkl(tr_dataset.data, IMD_OUTPUT_DIR, f\"valid_for_sub.pkl\")\n",
    "be.df2pkl(tr_dataset.data, IMD_OUTPUT_DIR, f\"submission.pkl\")"
   ]
  },
  {
   "cell_type": "code",
   "execution_count": 33,
   "metadata": {},
   "outputs": [
    {
     "name": "stdout",
     "output_type": "stream",
     "text": [
      "pre_train\n",
      "件数 :  88637\n",
      "watch :  61784\n",
      "bid :  10392\n",
      "watch and bid :  4429\n",
      "train\n",
      "件数 :  82729\n",
      "watch :  58425\n",
      "bid :  8672\n",
      "watch and bid :  3638\n",
      "valid_for_train\n",
      "件数 :  89910\n",
      "watch :  62536\n",
      "bid :  9042\n",
      "watch and bid :  3743\n",
      "valid_for_sub\n",
      "件数 :  91044\n",
      "watch :  64555\n",
      "bid :  9153\n",
      "watch and bid :  3852\n",
      "submission\n",
      "件数 :  0\n",
      "watch :  0\n",
      "bid :  0\n",
      "watch and bid :  0\n"
     ]
    }
   ],
   "source": [
    "for dset_type, period in dset_to_period.items():\n",
    "    print(dset_type)\n",
    "    tmp = extract_target_actions(watch, bid, period)\n",
    "    print(\"件数 : \", tmp.shape[0])\n",
    "    print(\"watch : \", tmp.query(\"watch_actioned == 1\")[[\"AuctionID\"]].drop_duplicates().shape[0])\n",
    "    print(\"bid : \", tmp.query(\"bid_actioned == 1\")[[\"AuctionID\"]].drop_duplicates().shape[0])\n",
    "    print(\"watch and bid : \", tmp.query(\"(watch_actioned == 1) & (bid_actioned == 1)\")[[\"AuctionID\"]].drop_duplicates().shape[0])"
   ]
  },
  {
   "cell_type": "code",
   "execution_count": 72,
   "metadata": {},
   "outputs": [],
   "source": [
    "def stack_target_actions(target_actions):\n",
    "    watch_target = target_actions.query(\"(watch_actioned == 1)\")[[\"KaiinID\", \"AuctionID\"]]\n",
    "    bid_target = target_actions.query(\"(bid_actioned == 1)\")[[\"KaiinID\", \"AuctionID\"]]\n",
    "    watch_target[\"score\"] = 1\n",
    "    bid_target[\"score\"] = 2\n",
    "    stacked_target_actions = pd.concat([watch_target, bid_target], sort=False)\n",
    "    return stacked_target_actions\n",
    "\n",
    "def dcg_at_k(r, k):\n",
    "    r = np.asfarray(r)[:k]\n",
    "    return np.sum((2 ** r - 1) / np.log2(np.arange(2, r.size + 2)))\n",
    "\n",
    "\n",
    "def ndcg_at_k(r, k):\n",
    "    dcg_max = dcg_at_k(sorted(r, reverse=True), k)\n",
    "    if not dcg_max:\n",
    "        return 0.\n",
    "    return dcg_at_k(r, k) / dcg_max\n",
    "\n",
    "\n",
    "def calc_ndcg(y_true, y_pred, k=20):\n",
    "    y_pred_cp = y_pred.copy()\n",
    "\n",
    "    actione_true = stack_target_actions(y_true)\n",
    "    actione_true[\"rank\"] = 100\n",
    "\n",
    "    y_pred_cp['rank'] = y_pred_cp.groupby('KaiinID')['AuctionID'].cumcount()\n",
    "\n",
    "    scored_pred = (\n",
    "        y_pred_cp.merge(actione_true[[\"KaiinID\", \"AuctionID\", \"score\"]], on=[\"KaiinID\", \"AuctionID\"],\n",
    "                        how=\"left\").fillna(0))\n",
    "\n",
    "    unchoiced_actiones = (\n",
    "        be.left_anti_join(actione_true, y_pred_cp, [\"KaiinID\", \"AuctionID\"], [\"KaiinID\", \"AuctionID\"]))\n",
    "\n",
    "    scored_actiones = (\n",
    "        pd.concat([scored_pred, unchoiced_actiones], sort=False)\n",
    "            .sort_values([\"KaiinID\", \"rank\"], ascending=[\"True\", \"True\"]))\n",
    "\n",
    "    dcgs = scored_actiones.groupby(\"KaiinID\")[\"score\"].apply(lambda s: ndcg_at_k(s.tolist(), k=20))\n",
    "#     ndcg = dcgs.mean()\n",
    "\n",
    "    return dcgs\n"
   ]
  },
  {
   "cell_type": "code",
   "execution_count": 73,
   "metadata": {},
   "outputs": [],
   "source": [
    "def show_th_info(th, dataset, dset_type):\n",
    "    print(\"threshold : \", th)\n",
    "    print(\"data size : \", dataset.data.shape[0])\n",
    "    print(\"True count : \", dataset.data.query(f\"({dataset.target_col} == 1)\").shape[0])\n",
    "    print(\"True and False larger than threshold : \", dataset.data.query(f\"pred >= {th}\").shape[0])\n",
    "    print(\"True larger than threshold : \", dataset.data.query(f\"(pred >= {th}) & ({dataset.target_col} == 1)\").shape[0])\n",
    "    y_true = extract_target_actions(watch, bid, dset_to_period[dset_type])\n",
    "    print(\"Target pair size\", y_true.shape[0])\n",
    "    cheat_pred = be.get_cheat_pred(\n",
    "        dataset.data.query(f\"pred >= {th}\")[[\"AuctionID\", \"pred\"]].merge(y_true[[\"AuctionID\", \"KaiinID\"]], on=\"AuctionID\", how=\"inner\"),\n",
    "        y_true\n",
    "    )\n",
    "    cheat_sub = be.adjust_sub_form(y_true[[\"KaiinID\"]].drop_duplicates(), cheat_pred, drop=True)\n",
    "    print(calc_ndcg(y_true, cheat_sub).mean())\n",
    "    fig, (axL, axR) = plt.subplots(ncols=2, figsize=(10,4))\n",
    "    axL.hist(dataset.data.query(f\"({dataset.target_col} == 1)\").pred, bins=100)\n",
    "    axR.hist(dataset.data.query(f\"({dataset.target_col} != 1)\").pred, bins=100)"
   ]
  },
  {
   "cell_type": "code",
   "execution_count": 82,
   "metadata": {},
   "outputs": [
    {
     "name": "stdout",
     "output_type": "stream",
     "text": [
      "threshold :  0.1\n",
      "data size :  364608\n",
      "True count :  45441\n",
      "True and False larger than threshold :  221217\n",
      "True larger than threshold :  38934\n",
      "Target pair size 91044\n",
      "0.7674918412437286\n"
     ]
    },
    {
     "data": {
      "image/png": "[encoded data removed]",
      "text/plain": [
       "<Figure size 720x288 with 2 Axes>"
      ]
     },
     "metadata": {
      "needs_background": "light"
     },
     "output_type": "display_data"
    }
   ],
   "source": [
    "show_th_info(0.1, vs_dataset, \"valid_for_sub\")"
   ]
  },
  {
   "cell_type": "code",
   "execution_count": 56,
   "metadata": {},
   "outputs": [
    {
     "data": {
      "text/plain": [
       "120000000"
      ]
     },
     "execution_count": 56,
     "metadata": {},
     "output_type": "execute_result"
    }
   ],
   "source": [
    "20000 * 6000"
   ]
  },
  {
   "cell_type": "code",
   "execution_count": null,
   "metadata": {},
   "outputs": [],
   "source": []
  }
 ],
 "metadata": {
  "kernelspec": {
   "display_name": "Python 3",
   "language": "python",
   "name": "python3"
  },
  "language_info": {
   "codemirror_mode": {
    "name": "ipython",
    "version": 3
   },
   "file_extension": ".py",
   "mimetype": "text/x-python",
   "name": "python",
   "nbconvert_exporter": "python",
   "pygments_lexer": "ipython3",
   "version": "3.7.5"
  }
 },
 "nbformat": 4,
 "nbformat_minor": 2
}
