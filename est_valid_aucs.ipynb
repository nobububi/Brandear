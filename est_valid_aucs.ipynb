{
 "cells": [
  {
   "cell_type": "code",
   "execution_count": 1,
   "metadata": {},
   "outputs": [],
   "source": [
    "from os.path import dirname\n",
    "import os\n",
    "import datetime\n",
    "from dateutil.relativedelta import relativedelta\n",
    "\n",
    "import pandas as pd\n",
    "import swifter\n",
    "import numpy as np\n",
    "import matplotlib.pyplot as plt\n",
    "import lightgbm as lgb\n",
    "from sklearn.metrics import roc_curve\n",
    "from sklearn.metrics import roc_auc_score"
   ]
  },
  {
   "cell_type": "code",
   "execution_count": 2,
   "metadata": {},
   "outputs": [],
   "source": [
    "pd.set_option('display.max_columns', 50)"
   ]
  },
  {
   "cell_type": "code",
   "execution_count": 3,
   "metadata": {},
   "outputs": [],
   "source": [
    "%load_ext autoreload\n",
    "%autoreload 2\n",
    "import brandear_est as be"
   ]
  },
  {
   "cell_type": "code",
   "execution_count": 4,
   "metadata": {},
   "outputs": [],
   "source": [
    "IMD_DIR = os.path.join(os.getcwd(), \"../../data/intermediate/\")\n",
    "\n",
    "IMD_INPUT_DIR = os.path.join(IMD_DIR, \"pickled_inputs\")\n",
    "IMD_OUTPUT_DIR = os.path.join(IMD_DIR, \"valid_aucs\")\n",
    "IMD_ARCHIVE_DIR = os.path.join(IMD_DIR, \"arc_valid_aucs\")\n",
    "\n",
    "dset_to_period = {\n",
    "    \"pre_train\": {\"oldest\": datetime.datetime(2019, 8, 26, 0, 0, 0),\n",
    "              \"newest\": datetime.datetime(2019, 9, 3, 0, 0, 0)},    \n",
    "    \"train\": {\"oldest\": datetime.datetime(2019, 9, 3, 0, 0, 0),\n",
    "              \"newest\": datetime.datetime(2019, 9, 10, 0, 0, 0)},\n",
    "    \"valid_for_train\": {\"oldest\": datetime.datetime(2019, 9, 10, 0, 0, 0),\n",
    "              \"newest\": datetime.datetime(2019, 9, 17, 0, 0, 0),},    \n",
    "    \"valid_for_sub\": {\"oldest\": datetime.datetime(2019, 9, 17, 0, 0, 0),\n",
    "              \"newest\": datetime.datetime(2019, 9, 24, 0, 0, 0),},\n",
    "    \"submission\": {\"oldest\": datetime.datetime(2019, 9, 24, 0, 0, 0),\n",
    "              \"newest\": datetime.datetime(2019, 10, 1, 0, 0, 0),},    \n",
    "}"
   ]
  },
  {
   "cell_type": "code",
   "execution_count": 5,
   "metadata": {},
   "outputs": [],
   "source": [
    "# 元データ読み込み\n",
    "auction = pd.read_pickle(os.path.join(IMD_INPUT_DIR , \"auction.pkl\"))\n",
    "watch = pd.read_pickle(os.path.join(IMD_INPUT_DIR , \"watch.pkl\"))\n",
    "bid = pd.read_pickle(os.path.join(IMD_INPUT_DIR , \"bid.pkl\"))\n",
    "bid_success = pd.read_pickle(os.path.join(IMD_INPUT_DIR , \"bid_success.pkl\"))\n",
    "sample_sub = pd.read_csv(os.path.join(os.getcwd(), \"../../data/input\" , \"sample_submission.csv\"))\n",
    "sub_users = sample_sub[[\"KaiinID\"]].drop_duplicates()"
   ]
  },
  {
   "cell_type": "code",
   "execution_count": 6,
   "metadata": {},
   "outputs": [],
   "source": [
    "def extract_target_actions(watch, bid, period):\n",
    "    watch_actioned = (\n",
    "        watch.loc[(watch[\"TourokuDate\"] >= period[\"oldest\"]) & (watch[\"TourokuDate\"] < period[\"newest\"]),\n",
    "                  [\"KaiinID\", \"AuctionID\"]]\n",
    "    )\n",
    "    bid_actioned = (\n",
    "        bid.loc[(bid[\"ShudouNyuusatsuDate\"] >= period[\"oldest\"]) & (bid[\"ShudouNyuusatsuDate\"] < period[\"newest\"]),\n",
    "                [\"KaiinID\", \"AuctionID\"]]\n",
    "    )\n",
    "\n",
    "    watch_actioned[\"watch_actioned\"] = 1\n",
    "    bid_actioned[\"bid_actioned\"] = 1\n",
    "\n",
    "    target_actions = (\n",
    "        watch_actioned\n",
    "        .merge(bid_actioned, on=[\"KaiinID\", \"AuctionID\"], how=\"outer\")\n",
    "        .drop_duplicates()\n",
    "        .fillna(0)\n",
    "    )\n",
    "    return target_actions\n",
    "\n",
    "    \n",
    "def arrange_dtime_condition(watch, bid, bid_success, auction, period):\n",
    "    retval = ((\n",
    "        watch[watch[\"TourokuDate\"] <= period[\"oldest\"]],\n",
    "        bid[bid[\"ShudouNyuusatsuDate\"] <= period[\"oldest\"]],\n",
    "        bid_success[bid_success[\"RakusatsuDate\"] < period[\"oldest\"]],\n",
    "        auction[auction[\"CreateDate\"] < period[\"newest\"]]\n",
    "    ))\n",
    "    return retval\n",
    "    \n",
    "\n",
    "def arrange_inputs(watch, bid, bid_success, auction, period):\n",
    "    \n",
    "    target_actions = extract_target_actions(watch, bid, period)\n",
    "    \n",
    "    watch_t, bid_t,  bid_success_t, auction_t = (\n",
    "        arrange_dtime_condition(watch, bid, bid_success, auction, period)\n",
    "    )\n",
    "    \n",
    "    arranged_inputs = (\n",
    "        watch_t.merge(auction_t, on=\"AuctionID\", how=\"left\"),\n",
    "        bid_t.merge(auction, on=\"AuctionID\", how=\"left\"),\n",
    "        bid_success_t,\n",
    "        auction_t,\n",
    "        target_actions\n",
    "    )\n",
    "    return arranged_inputs\n",
    "\n",
    "def extract_recent_data(df, date_col, base_dtime, days):\n",
    "    oldest_dtime = base_dtime - relativedelta(days=days)\n",
    "    return df[df[date_col] > oldest_dtime]"
   ]
  },
  {
   "cell_type": "code",
   "execution_count": 7,
   "metadata": {},
   "outputs": [],
   "source": [
    "def build_dataset_input(auction, bid_success, watch, bid, period):\n",
    "    \n",
    "    watch_arranged, bid_arranged, bid_success_arranged, auction_arranged, target_actions = (\n",
    "        arrange_inputs(watch=watch, bid=bid, bid_success=bid_success, auction=auction, period=period)\n",
    "    )\n",
    "\n",
    "    # 落札しているオークションを除外\n",
    "    aucs_with_cnts = be.left_anti_join(auction_arranged, bid_success_arranged, \"AuctionID\", \"AuctionID\")\n",
    "    \n",
    "    # 正解データ付与\n",
    "    target_aucs = target_actions[[\"AuctionID\", \"watch_actioned\", \"bid_actioned\"]].groupby(\"AuctionID\", as_index=False).max()\n",
    "    aucs_with_cnts = aucs_with_cnts.merge(target_aucs, on=\"AuctionID\", how=\"left\").fillna(0)    \n",
    "    \n",
    "    # クロス集計\n",
    "    # クロス集計用にオークションデータ結合\n",
    "    newest_dtime, oldest_dtime = (period[\"newest\"], period[\"oldest\"])        \n",
    "    cross_conf = {\n",
    "        \"watch\": watch_arranged,\n",
    "        \"bid\": bid_arranged,\n",
    "        \"7d_watch\": extract_recent_data(watch_arranged, \"TourokuDate\", oldest_dtime, 7),\n",
    "        \"7d_bid\": extract_recent_data(bid_arranged, \"ShudouNyuusatsuDate\", oldest_dtime, 7)\n",
    "    }\n",
    "    col_sets = [[\"AuctionID\"], [\"ShouhinID\"], [\"BrandID\"], [\"LineID\"]]\n",
    "    \n",
    "    for prefix, feature_df in cross_conf.items():\n",
    "        aucs_with_cnts = be.add_cross_counts(aucs_with_cnts, feature_df, prefix=prefix, col_sets=col_sets)\n",
    "    \n",
    "    \n",
    "    # 経過日数の特徴量\n",
    "    aucs_with_time = aucs_with_cnts\n",
    "    aucs_with_time[\"elapsed_days\"] = aucs_with_time[\"CreateDate\"].apply(lambda d: (newest_dtime - d).days)\n",
    "    \n",
    "    dtime_feat_confs = [[\"watch\", \"TourokuDate\", watch_arranged],\n",
    "                       [\"bid\", \"ShudouNyuusatsuDate\", bid_arranged]]\n",
    "    for dtime_feat_conf in dtime_feat_confs:\n",
    "        prefix = dtime_feat_conf[0]\n",
    "        last_action = (\n",
    "            dtime_feat_conf[2][[\"AuctionID\", dtime_feat_conf[1]]]\n",
    "            .groupby(\"AuctionID\", as_index=False).max()\n",
    "            .rename(columns={dtime_feat_conf[1]: f\"{prefix}_elapsed_days\"})\n",
    "        )\n",
    "        last_action[f\"{prefix}_elapsed_days\"] = last_action[f\"{prefix}_elapsed_days\"].swifter.apply(lambda d: (oldest_dtime - d).days)\n",
    "        aucs_with_time = aucs_with_time.merge(last_action, on=\"AuctionID\", how=\"left\").fillna(999)    \n",
    "\n",
    "    return aucs_with_time\n"
   ]
  },
  {
   "cell_type": "code",
   "execution_count": 8,
   "metadata": {},
   "outputs": [
    {
     "name": "stdout",
     "output_type": "stream",
     "text": [
      "##################\n",
      "start cross count\n",
      "[['AuctionID'], ['ShouhinID'], ['BrandID'], ['LineID']]\n",
      "['AuctionID']\n",
      "['ShouhinID']\n",
      "['BrandID']\n",
      "['LineID']\n",
      "##################\n",
      "start cross count\n",
      "[['AuctionID'], ['ShouhinID'], ['BrandID'], ['LineID']]\n",
      "['AuctionID']\n",
      "['ShouhinID']\n",
      "['BrandID']\n",
      "['LineID']\n",
      "##################\n",
      "start cross count\n",
      "[['AuctionID'], ['ShouhinID'], ['BrandID'], ['LineID']]\n",
      "['AuctionID']\n",
      "['ShouhinID']\n",
      "['BrandID']\n",
      "['LineID']\n",
      "##################\n",
      "start cross count\n",
      "[['AuctionID'], ['ShouhinID'], ['BrandID'], ['LineID']]\n",
      "['AuctionID']\n",
      "['ShouhinID']\n",
      "['BrandID']\n",
      "['LineID']\n"
     ]
    },
    {
     "data": {
      "application/vnd.jupyter.widget-view+json": {
       "model_id": "81b9de298f4b4384bf01f3b3a9b34a84",
       "version_major": 2,
       "version_minor": 0
      },
      "text/plain": [
       "HBox(children=(FloatProgress(value=0.0, description='Dask Apply', max=16.0, style=ProgressStyle(description_wi…"
      ]
     },
     "metadata": {},
     "output_type": "display_data"
    },
    {
     "name": "stdout",
     "output_type": "stream",
     "text": [
      "\n"
     ]
    },
    {
     "data": {
      "application/vnd.jupyter.widget-view+json": {
       "model_id": "b12343dd696a43f68efddde93d33ba04",
       "version_major": 2,
       "version_minor": 0
      },
      "text/plain": [
       "HBox(children=(FloatProgress(value=0.0, description='Dask Apply', max=16.0, style=ProgressStyle(description_wi…"
      ]
     },
     "metadata": {},
     "output_type": "display_data"
    },
    {
     "name": "stdout",
     "output_type": "stream",
     "text": [
      "\n"
     ]
    }
   ],
   "source": [
    "pre_train_dataset_input = build_dataset_input(auction, bid_success, watch, bid, dset_to_period[\"pre_train\"])"
   ]
  },
  {
   "cell_type": "code",
   "execution_count": 7,
   "metadata": {},
   "outputs": [],
   "source": [
    "%%time\n",
    "pre_train_dataset_input = build_dataset_input(auction, bid_success, watch, bid, dset_to_period[\"pre_train\"])\n",
    "train_dataset_input = build_dataset_input(auction, bid_success, watch, bid, dset_to_period[\"train\"])\n",
    "vt_dataset_input = build_dataset_input(auction, bid_success, watch, bid, dset_to_period[\"valid_for_train\"])\n",
    "vs_dataset_input = build_dataset_input(auction, bid_success, watch, bid, dset_to_period[\"valid_for_sub\"])\n",
    "sub_dataset_input = build_dataset_input(auction, bid_success, watch, bid, dset_to_period[\"submission\"])"
   ]
  },
  {
   "cell_type": "code",
   "execution_count": 10,
   "metadata": {},
   "outputs": [],
   "source": [
    "# be.df2pkl(pre_train_dataset_input, IMD_ARCHIVE_DIR, \"watch_pre_train_feature.pkl\")"
   ]
  },
  {
   "cell_type": "code",
   "execution_count": 8,
   "metadata": {},
   "outputs": [
    {
     "name": "stdout",
     "output_type": "stream",
     "text": [
      "train_dataset_input.pkl : 202001310957\n",
      "vt_dataset_input.pkl : 202001310958\n",
      "vs_dataset_input.pkl : 202001310958\n",
      "sub_dataset_input.pkl : 202001310958\n"
     ]
    }
   ],
   "source": [
    "# be.to_pickle(train_dataset_input, IMD_DIR, \"train_dataset_input.pkl\")\n",
    "# be.to_pickle(vt_dataset_input, IMD_DIR, \"vt_dataset_input.pkl\")\n",
    "# be.to_pickle(vs_dataset_input, IMD_DIR, \"vs_dataset_input.pkl\")\n",
    "# be.to_pickle(sub_dataset_input, IMD_DIR, \"sub_dataset_input.pkl\")"
   ]
  },
  {
   "cell_type": "code",
   "execution_count": 7,
   "metadata": {},
   "outputs": [],
   "source": [
    "pre_train_dataset_input = pd.read_pickle(IMD_ARCHIVE_DIR + \"/pre_train_feature.pkl\")\n",
    "train_dataset_input = pd.read_pickle(IMD_ARCHIVE_DIR + \"/train_feature.pkl\")\n",
    "vt_dataset_input = pd.read_pickle(IMD_ARCHIVE_DIR + \"/valid_for_train_feature.pkl\")\n",
    "vs_dataset_input = pd.read_pickle(IMD_ARCHIVE_DIR + \"/valid_for_sub_feature.pkl\")\n",
    "sub_dataset_input = pd.read_pickle(IMD_ARCHIVE_DIR + \"/submission_feature.pkl\")"
   ]
  },
  {
   "cell_type": "code",
   "execution_count": 8,
   "metadata": {},
   "outputs": [],
   "source": [
    "drop_cols = [\"AuctionID\", \"watch_actioned\", \"bid_actioned\",\"CreateDate\",\n",
    "             \"ShouhinID\", \"BrandID\", \"GenreID\", \"GenreGroupID\", \"ColorID\", \"pred\"]\n",
    "\n",
    "# watch_ptr_dataset = be.DataSet(data=pre_train_dataset_input, drop_cols=drop_cols, target_col=\"watch_actioned\")\n",
    "# watch_tr_dataset = be.DataSet(data=train_dataset_input, drop_cols=drop_cols, target_col=\"watch_actioned\")\n",
    "# watch_vt_dataset = be.DataSet(data=vt_dataset_input, drop_cols=drop_cols, target_col=\"watch_actioned\")\n",
    "# watch_vs_dataset = be.DataSet(data=vs_dataset_input, drop_cols=drop_cols, target_col=\"watch_actioned\")\n",
    "# watch_sub_dataset = be.DataSet(data=sub_dataset_input, drop_cols=drop_cols, target_col=\"watch_actioned\")\n",
    "\n",
    "# bid_ptr_dataset = be.DataSet(data=pre_train_dataset_input, drop_cols=drop_cols, target_col=\"bid_actioned\")\n",
    "# bid_tr_dataset = be.DataSet(data=train_dataset_input, drop_cols=drop_cols, target_col=\"bid_actioned\")\n",
    "# bid_vt_dataset = be.DataSet(data=vt_dataset_input, drop_cols=drop_cols, target_col=\"bid_actioned\")\n",
    "# bid_vs_dataset = be.DataSet(data=vs_dataset_input, drop_cols=drop_cols, target_col=\"bid_actioned\")\n",
    "# bid_sub_dataset = be.DataSet(data=sub_dataset_input, drop_cols=drop_cols, target_col=\"bid_actioned\")\n"
   ]
  },
  {
   "cell_type": "code",
   "execution_count": 74,
   "metadata": {},
   "outputs": [
    {
     "name": "stdout",
     "output_type": "stream",
     "text": [
      "watch\n",
      "[1]\tvalid_0's auc: 0.968667\n",
      "[2]\tvalid_0's auc: 0.969011\n",
      "[3]\tvalid_0's auc: 0.969093\n",
      "[4]\tvalid_0's auc: 0.96908\n",
      "[5]\tvalid_0's auc: 0.969609\n",
      "[6]\tvalid_0's auc: 0.969677\n",
      "[7]\tvalid_0's auc: 0.96993\n",
      "[8]\tvalid_0's auc: 0.969981\n",
      "[9]\tvalid_0's auc: 0.970003\n",
      "[10]\tvalid_0's auc: 0.97006\n",
      "[11]\tvalid_0's auc: 0.970077\n",
      "[12]\tvalid_0's auc: 0.971435\n",
      "[13]\tvalid_0's auc: 0.971525\n",
      "[14]\tvalid_0's auc: 0.971554\n",
      "[15]\tvalid_0's auc: 0.9716\n",
      "[16]\tvalid_0's auc: 0.971597\n",
      "[17]\tvalid_0's auc: 0.971661\n",
      "[18]\tvalid_0's auc: 0.971682\n",
      "[19]\tvalid_0's auc: 0.971685\n",
      "[20]\tvalid_0's auc: 0.9717\n",
      "[21]\tvalid_0's auc: 0.97171\n",
      "[22]\tvalid_0's auc: 0.971834\n",
      "[23]\tvalid_0's auc: 0.971839\n",
      "[24]\tvalid_0's auc: 0.971838\n",
      "[25]\tvalid_0's auc: 0.971845\n",
      "[26]\tvalid_0's auc: 0.971872\n",
      "[27]\tvalid_0's auc: 0.97188\n",
      "[28]\tvalid_0's auc: 0.971874\n",
      "[29]\tvalid_0's auc: 0.971896\n",
      "[30]\tvalid_0's auc: 0.971887\n",
      "[31]\tvalid_0's auc: 0.971947\n",
      "[32]\tvalid_0's auc: 0.971989\n",
      "[33]\tvalid_0's auc: 0.972032\n",
      "[34]\tvalid_0's auc: 0.972061\n",
      "[35]\tvalid_0's auc: 0.972096\n",
      "[36]\tvalid_0's auc: 0.972081\n",
      "[37]\tvalid_0's auc: 0.972104\n",
      "[38]\tvalid_0's auc: 0.972113\n",
      "[39]\tvalid_0's auc: 0.97214\n",
      "[40]\tvalid_0's auc: 0.97215\n",
      "[41]\tvalid_0's auc: 0.972169\n",
      "[42]\tvalid_0's auc: 0.972172\n",
      "[43]\tvalid_0's auc: 0.972176\n",
      "[44]\tvalid_0's auc: 0.972176\n",
      "[45]\tvalid_0's auc: 0.97218\n",
      "[46]\tvalid_0's auc: 0.972665\n",
      "[47]\tvalid_0's auc: 0.972666\n",
      "[48]\tvalid_0's auc: 0.972675\n",
      "[49]\tvalid_0's auc: 0.972655\n",
      "[50]\tvalid_0's auc: 0.972666\n",
      "[51]\tvalid_0's auc: 0.972674\n",
      "[52]\tvalid_0's auc: 0.972734\n",
      "[53]\tvalid_0's auc: 0.972732\n",
      "[54]\tvalid_0's auc: 0.972739\n",
      "[55]\tvalid_0's auc: 0.972751\n",
      "[56]\tvalid_0's auc: 0.972751\n",
      "[57]\tvalid_0's auc: 0.972729\n",
      "[58]\tvalid_0's auc: 0.972732\n",
      "[59]\tvalid_0's auc: 0.972743\n",
      "[60]\tvalid_0's auc: 0.972753\n",
      "[61]\tvalid_0's auc: 0.972757\n",
      "[62]\tvalid_0's auc: 0.972756\n",
      "[63]\tvalid_0's auc: 0.972773\n",
      "[64]\tvalid_0's auc: 0.972774\n",
      "[65]\tvalid_0's auc: 0.972876\n",
      "[66]\tvalid_0's auc: 0.972883\n",
      "[67]\tvalid_0's auc: 0.972955\n",
      "[68]\tvalid_0's auc: 0.972962\n",
      "[69]\tvalid_0's auc: 0.972966\n",
      "[70]\tvalid_0's auc: 0.972983\n",
      "[71]\tvalid_0's auc: 0.97298\n",
      "[72]\tvalid_0's auc: 0.973058\n",
      "[73]\tvalid_0's auc: 0.97306\n",
      "[74]\tvalid_0's auc: 0.973085\n",
      "[75]\tvalid_0's auc: 0.973097\n",
      "[76]\tvalid_0's auc: 0.973102\n",
      "[77]\tvalid_0's auc: 0.973104\n",
      "[78]\tvalid_0's auc: 0.973111\n",
      "[79]\tvalid_0's auc: 0.973115\n",
      "[80]\tvalid_0's auc: 0.97314\n",
      "[81]\tvalid_0's auc: 0.973276\n",
      "[82]\tvalid_0's auc: 0.973268\n",
      "[83]\tvalid_0's auc: 0.973275\n",
      "[84]\tvalid_0's auc: 0.973297\n",
      "[85]\tvalid_0's auc: 0.973296\n",
      "[86]\tvalid_0's auc: 0.973293\n",
      "[87]\tvalid_0's auc: 0.973288\n",
      "[88]\tvalid_0's auc: 0.973422\n",
      "[89]\tvalid_0's auc: 0.973407\n",
      "[90]\tvalid_0's auc: 0.973426\n",
      "[91]\tvalid_0's auc: 0.973401\n",
      "[92]\tvalid_0's auc: 0.973295\n",
      "[93]\tvalid_0's auc: 0.973308\n",
      "[94]\tvalid_0's auc: 0.973294\n",
      "[95]\tvalid_0's auc: 0.973312\n",
      "[96]\tvalid_0's auc: 0.9733\n",
      "[97]\tvalid_0's auc: 0.973428\n",
      "[98]\tvalid_0's auc: 0.973449\n",
      "[99]\tvalid_0's auc: 0.973469\n",
      "[100]\tvalid_0's auc: 0.973539\n",
      "\n",
      "\n",
      "##################\n",
      "                        importance\n",
      "ShouhinShubetsuID               22\n",
      "SaishuppinKaisuu               514\n",
      "ConditionID                     44\n",
      "LineID                           2\n",
      "DanjobetsuID                   207\n",
      "SankouKakaku                   376\n",
      "watch_AuctionID_cnt             87\n",
      "watch_ShouhinID_cnt            332\n",
      "watch_BrandID_cnt              241\n",
      "watch_LineID_cnt                 0\n",
      "bid_AuctionID_cnt                0\n",
      "bid_ShouhinID_cnt               16\n",
      "bid_BrandID_cnt                 50\n",
      "bid_LineID_cnt                   0\n",
      "7d_watch_AuctionID_cnt          19\n",
      "7d_watch_ShouhinID_cnt          29\n",
      "7d_watch_BrandID_cnt            23\n",
      "7d_watch_LineID_cnt              0\n",
      "7d_bid_AuctionID_cnt             0\n",
      "7d_bid_ShouhinID_cnt             0\n",
      "7d_bid_BrandID_cnt             168\n",
      "7d_bid_LineID_cnt                0\n",
      "elapsed_days                  1125\n",
      "bid_elapsed_days                 0\n",
      "watch_elapsed_days            1191\n",
      "BrandID_target_mean            734\n",
      "##################\n"
     ]
    }
   ],
   "source": [
    "# # 学習の様子可視化\n",
    "for target, dataset in {\"watch\": bid_vs_dataset}.items():\n",
    "    print(target)\n",
    "    \n",
    "    # train test split\n",
    "    train_dataset, test_dataset =be.DataSet.train_test_split(dataset)\n",
    "    sampled_train = be.DataSet.under_sampling(train_dataset)\n",
    "\n",
    "    # target encoding\n",
    "    cat_col = \"BrandID\"\n",
    "    sampled_train.add_target_encode(cat_col=cat_col)\n",
    "    be.target_encode_for_test(train_dataset=sampled_train, test_dataset=test_dataset, cat_col=cat_col)    \n",
    "    \n",
    "    lgb_bi = be.LgbBinaryClassifier()\n",
    "    lgb_bi.train(train_dataset=sampled_train, valid_dataset=test_dataset, desc=True)    "
   ]
  },
  {
   "cell_type": "code",
   "execution_count": 75,
   "metadata": {},
   "outputs": [],
   "source": [
    "# 予測値取得\n",
    "\n",
    "dataset_pairs = [\n",
    "#     [watch_ptr_dataset, watch_tr_dataset],\n",
    "#     [watch_tr_dataset, watch_vt_dataset],\n",
    "#     [watch_vt_dataset, watch_vs_dataset],\n",
    "#     [watch_vs_dataset, watch_sub_dataset],\n",
    "    [bid_ptr_dataset, bid_tr_dataset],\n",
    "    [bid_tr_dataset, bid_vt_dataset],\n",
    "    [bid_vt_dataset, bid_vs_dataset],\n",
    "    [bid_vs_dataset, bid_sub_dataset],    \n",
    "]\n",
    "\n",
    "for train_dataset, sub_dataset in dataset_pairs:\n",
    "    \n",
    "    sampled_train = be.DataSet.under_sampling(train_dataset)\n",
    "    # target encoding\n",
    "    cat_col = \"BrandID\"\n",
    "    sampled_train.add_target_encode(cat_col=cat_col)\n",
    "    be.target_encode_for_test(train_dataset=train_dataset, test_dataset=sub_dataset, cat_col=cat_col)    \n",
    "    lgb_bi.train(train_dataset=sampled_train)\n",
    "    sub_dataset.set_pred(lgb_bi.predict(sub_dataset))    "
   ]
  },
  {
   "cell_type": "code",
   "execution_count": 67,
   "metadata": {},
   "outputs": [
    {
     "name": "stdout",
     "output_type": "stream",
     "text": [
      "watch\n",
      "auc :  0.9078185704556132\n"
     ]
    },
    {
     "data": {
      "image/png": "[encoded data removed]",
      "text/plain": [
       "<Figure size 432x288 with 1 Axes>"
      ]
     },
     "metadata": {
      "needs_background": "light"
     },
     "output_type": "display_data"
    }
   ],
   "source": [
    "target = \"watch\"\n",
    "dataset = watch_tr_dataset\n",
    "print(target)\n",
    "print(\"auc : \", roc_auc_score(dataset.get_target(), dataset.data.pred))\n",
    "be.plot_roc_curve(dataset.get_target(), dataset.data.pred)\n",
    "be.plot_tpr_fpr(dataset.get_target(), dataset.data.pred)"
   ]
  },
  {
   "cell_type": "code",
   "execution_count": 76,
   "metadata": {},
   "outputs": [
    {
     "name": "stdout",
     "output_type": "stream",
     "text": [
      "bid\n",
      "auc :  0.9718533851424488\n"
     ]
    },
    {
     "data": {
      "image/png": "[encoded data removed]",
      "text/plain": [
       "<Figure size 432x288 with 1 Axes>"
      ]
     },
     "metadata": {
      "needs_background": "light"
     },
     "output_type": "display_data"
    }
   ],
   "source": [
    "target = \"bid\"\n",
    "dataset = bid_vs_dataset\n",
    "print(target)\n",
    "print(\"auc : \", roc_auc_score(dataset.get_target(), dataset.data.pred))\n",
    "be.plot_roc_curve(dataset.get_target(), dataset.data.pred)\n",
    "be.plot_tpr_fpr(dataset.get_target(), dataset.data.pred)"
   ]
  },
  {
   "cell_type": "code",
   "execution_count": 10,
   "metadata": {},
   "outputs": [],
   "source": [
    "def show_th_info(th, dataset):\n",
    "    print(\"threshold : \", th)\n",
    "    print(\"data size : \", dataset.data.shape[0])\n",
    "    print(\"True count : \", dataset.data.query(f\"({dataset.target_col} == 1)\").shape[0])\n",
    "    print(\"True and False larger than threshold : \", dataset.data.query(f\"pred >= {th}\").shape[0])\n",
    "    print(\"True larger than threshold : \", dataset.data.query(f\"(pred >= {th}) & ({dataset.target_col} == 1)\").shape[0])"
   ]
  },
  {
   "cell_type": "code",
   "execution_count": 78,
   "metadata": {},
   "outputs": [
    {
     "name": "stdout",
     "output_type": "stream",
     "text": [
      "threshold :  0.3\n",
      "data size :  3473433\n",
      "True count :  58372\n",
      "True and False larger than threshold :  19283\n",
      "True larger than threshold :  7230\n"
     ]
    }
   ],
   "source": [
    "show_th_info(th=0.3, dataset=watch_tr_dataset)"
   ]
  },
  {
   "cell_type": "code",
   "execution_count": 16,
   "metadata": {},
   "outputs": [
    {
     "name": "stdout",
     "output_type": "stream",
     "text": [
      "threshold :  0.56\n",
      "data size :  3596238\n",
      "True count :  9153\n",
      "True and False larger than threshold :  6416\n",
      "True larger than threshold :  1166\n"
     ]
    }
   ],
   "source": [
    "tmp = pd.read_pickle(IMD_OUTPUT_DIR + \"/bid_valid_for_sub.pkl\")\n",
    "bid_vs_dataset = be.DataSet(data=tmp, drop_cols=drop_cols, target_col=\"bid_actioned\")\n",
    "show_th_info(th=0.56, dataset=bid_vs_dataset)"
   ]
  },
  {
   "cell_type": "code",
   "execution_count": 86,
   "metadata": {},
   "outputs": [],
   "source": [
    "df2pkl(watch_tr_dataset.data, IMD_OUTPUT_DIR, \"watch_train.pkl\")\n",
    "# be.to_pickle(watch_vt_dataset.data, IMD_DIR, \"watch_vt_dataset.pkl\")\n",
    "# be.to_pickle(watch_vs_dataset.data, IMD_DIR, \"watch_vs_dataset.pkl\")\n",
    "# be.to_pickle(watch_sub_dataset.data, IMD_DIR, \"watch_sub_dataset.pkl\")\n",
    "\n",
    "df2pkl(bid_tr_dataset.data, IMD_OUTPUT_DIR, \"bid_train.pkl\")\n",
    "df2pkl(bid_vt_dataset.data, IMD_OUTPUT_DIR, \"bid_valid_for_train.pkl\")\n",
    "df2pkl(bid_vs_dataset.data, IMD_OUTPUT_DIR, \"bid_valid_for_sub.pkl\")\n",
    "df2pkl(bid_sub_dataset.data, IMD_OUTPUT_DIR, \"bid_submission.pkl\")"
   ]
  },
  {
   "cell_type": "code",
   "execution_count": 22,
   "metadata": {},
   "outputs": [
    {
     "name": "stdout",
     "output_type": "stream",
     "text": [
      "pre_train\n",
      "件数 :  88637\n",
      "watch :  61784\n",
      "bid :  10392\n",
      "watch and bid :  4429\n",
      "train\n",
      "件数 :  82729\n",
      "watch :  58425\n",
      "bid :  8672\n",
      "watch and bid :  3638\n",
      "valid_for_train\n",
      "件数 :  89910\n",
      "watch :  62536\n",
      "bid :  9042\n",
      "watch and bid :  3743\n",
      "valid_for_sub\n",
      "件数 :  91044\n",
      "watch :  64555\n",
      "bid :  9153\n",
      "watch and bid :  3852\n",
      "submission\n",
      "件数 :  0\n",
      "watch :  0\n",
      "bid :  0\n",
      "watch and bid :  0\n"
     ]
    }
   ],
   "source": [
    "for dset_type, period in dset_to_period.items():\n",
    "    print(dset_type)\n",
    "    tmp = extract_target_actions(watch, bid, period)\n",
    "    print(\"件数 : \", tmp.shape[0])\n",
    "    print(\"watch : \", tmp.query(\"watch_actioned == 1\")[[\"AuctionID\"]].drop_duplicates().shape[0])\n",
    "    print(\"bid : \", tmp.query(\"bid_actioned == 1\")[[\"AuctionID\"]].drop_duplicates().shape[0])\n",
    "    print(\"watch and bid : \", tmp.query(\"(watch_actioned == 1) & (bid_actioned == 1)\")[[\"AuctionID\"]].drop_duplicates().shape[0])    "
   ]
  },
  {
   "cell_type": "code",
   "execution_count": 19,
   "metadata": {},
   "outputs": [
    {
     "data": {
      "text/html": [
       "<div>\n",
       "<style scoped>\n",
       "    .dataframe tbody tr th:only-of-type {\n",
       "        vertical-align: middle;\n",
       "    }\n",
       "\n",
       "    .dataframe tbody tr th {\n",
       "        vertical-align: top;\n",
       "    }\n",
       "\n",
       "    .dataframe thead th {\n",
       "        text-align: right;\n",
       "    }\n",
       "</style>\n",
       "<table border=\"1\" class=\"dataframe\">\n",
       "  <thead>\n",
       "    <tr style=\"text-align: right;\">\n",
       "      <th></th>\n",
       "      <th>KaiinID</th>\n",
       "      <th>AuctionID</th>\n",
       "      <th>watch_actioned</th>\n",
       "      <th>bid_actioned</th>\n",
       "    </tr>\n",
       "  </thead>\n",
       "  <tbody>\n",
       "    <tr>\n",
       "      <th>0</th>\n",
       "      <td>220095</td>\n",
       "      <td>300285</td>\n",
       "      <td>1.0</td>\n",
       "      <td>0.0</td>\n",
       "    </tr>\n",
       "    <tr>\n",
       "      <th>1</th>\n",
       "      <td>222537</td>\n",
       "      <td>2438868</td>\n",
       "      <td>1.0</td>\n",
       "      <td>0.0</td>\n",
       "    </tr>\n",
       "    <tr>\n",
       "      <th>2</th>\n",
       "      <td>59964</td>\n",
       "      <td>2250447</td>\n",
       "      <td>1.0</td>\n",
       "      <td>0.0</td>\n",
       "    </tr>\n",
       "    <tr>\n",
       "      <th>3</th>\n",
       "      <td>90462</td>\n",
       "      <td>2582548</td>\n",
       "      <td>1.0</td>\n",
       "      <td>0.0</td>\n",
       "    </tr>\n",
       "    <tr>\n",
       "      <th>4</th>\n",
       "      <td>18739</td>\n",
       "      <td>1084034</td>\n",
       "      <td>1.0</td>\n",
       "      <td>0.0</td>\n",
       "    </tr>\n",
       "    <tr>\n",
       "      <th>...</th>\n",
       "      <td>...</td>\n",
       "      <td>...</td>\n",
       "      <td>...</td>\n",
       "      <td>...</td>\n",
       "    </tr>\n",
       "    <tr>\n",
       "      <th>90355</th>\n",
       "      <td>68248</td>\n",
       "      <td>1323870</td>\n",
       "      <td>0.0</td>\n",
       "      <td>1.0</td>\n",
       "    </tr>\n",
       "    <tr>\n",
       "      <th>90356</th>\n",
       "      <td>218663</td>\n",
       "      <td>1323870</td>\n",
       "      <td>0.0</td>\n",
       "      <td>1.0</td>\n",
       "    </tr>\n",
       "    <tr>\n",
       "      <th>90357</th>\n",
       "      <td>187590</td>\n",
       "      <td>1527196</td>\n",
       "      <td>0.0</td>\n",
       "      <td>1.0</td>\n",
       "    </tr>\n",
       "    <tr>\n",
       "      <th>90358</th>\n",
       "      <td>170490</td>\n",
       "      <td>2449338</td>\n",
       "      <td>0.0</td>\n",
       "      <td>1.0</td>\n",
       "    </tr>\n",
       "    <tr>\n",
       "      <th>90359</th>\n",
       "      <td>41045</td>\n",
       "      <td>2898703</td>\n",
       "      <td>0.0</td>\n",
       "      <td>1.0</td>\n",
       "    </tr>\n",
       "  </tbody>\n",
       "</table>\n",
       "<p>88637 rows × 4 columns</p>\n",
       "</div>"
      ],
      "text/plain": [
       "       KaiinID  AuctionID  watch_actioned  bid_actioned\n",
       "0       220095     300285             1.0           0.0\n",
       "1       222537    2438868             1.0           0.0\n",
       "2        59964    2250447             1.0           0.0\n",
       "3        90462    2582548             1.0           0.0\n",
       "4        18739    1084034             1.0           0.0\n",
       "...        ...        ...             ...           ...\n",
       "90355    68248    1323870             0.0           1.0\n",
       "90356   218663    1323870             0.0           1.0\n",
       "90357   187590    1527196             0.0           1.0\n",
       "90358   170490    2449338             0.0           1.0\n",
       "90359    41045    2898703             0.0           1.0\n",
       "\n",
       "[88637 rows x 4 columns]"
      ]
     },
     "execution_count": 19,
     "metadata": {},
     "output_type": "execute_result"
    }
   ],
   "source": [
    "extract_target_actions(watch, bid, dset_to_period[\"pre_train\"])"
   ]
  },
  {
   "cell_type": "code",
   "execution_count": null,
   "metadata": {},
   "outputs": [],
   "source": []
  }
 ],
 "metadata": {
  "kernelspec": {
   "display_name": "Python 3",
   "language": "python",
   "name": "python3"
  },
  "language_info": {
   "codemirror_mode": {
    "name": "ipython",
    "version": 3
   },
   "file_extension": ".py",
   "mimetype": "text/x-python",
   "name": "python",
   "nbconvert_exporter": "python",
   "pygments_lexer": "ipython3",
   "version": "3.7.5"
  }
 },
 "nbformat": 4,
 "nbformat_minor": 2
}
