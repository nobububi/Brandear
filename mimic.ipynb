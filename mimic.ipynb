{
 "cells": [
  {
   "cell_type": "code",
   "execution_count": 8,
   "metadata": {},
   "outputs": [],
   "source": [
    "from os.path import dirname\n",
    "import os\n",
    "import datetime\n",
    "\n",
    "import pandas as pd\n",
    "import numpy as np\n",
    "import matplotlib.pyplot as plt\n",
    "import lightgbm as lgb"
   ]
  },
  {
   "cell_type": "code",
   "execution_count": 180,
   "metadata": {},
   "outputs": [],
   "source": [
    "pd.set_option('display.max_columns', 50)"
   ]
  },
  {
   "cell_type": "code",
   "execution_count": 141,
   "metadata": {},
   "outputs": [
    {
     "name": "stdout",
     "output_type": "stream",
     "text": [
      "The autoreload extension is already loaded. To reload it, use:\n",
      "  %reload_ext autoreload\n"
     ]
    }
   ],
   "source": [
    "%load_ext autoreload\n",
    "%autoreload 2\n",
    "from utils import *"
   ]
  },
  {
   "cell_type": "code",
   "execution_count": 138,
   "metadata": {},
   "outputs": [],
   "source": [
    "MIMIC_DIR = os.path.join(os.getcwd(), \"../../data/mimic/\")\n",
    "INPUT_DIR = os.path.join(os.getcwd(), \"../../data/input/\")"
   ]
  },
  {
   "cell_type": "code",
   "execution_count": null,
   "metadata": {},
   "outputs": [],
   "source": [
    "sample_sub = pd.read_csv(INPUT_DIR + \"sample_submission.csv\")\n",
    "sub_users = sample_sub[[\"KaiinID\"]].drop_duplicates()"
   ]
  },
  {
   "cell_type": "code",
   "execution_count": 229,
   "metadata": {},
   "outputs": [],
   "source": [
    "auction = pd.read_csv(INPUT_DIR + \"auction.csv\")\n",
    "watch = pd.read_csv(INPUT_DIR + \"watchlist.csv\")\n",
    "bid = pd.read_csv(INPUT_DIR + \"shudounyuusatsu.csv\")\n",
    "bid_success = pd.read_csv(INPUT_DIR + \"rakusatsu.csv\")"
   ]
  },
  {
   "cell_type": "code",
   "execution_count": 230,
   "metadata": {},
   "outputs": [],
   "source": [
    "access_date = datetime.datetime(2019, 10, 1, 0, 0, 0)\n",
    "access_period = -7"
   ]
  },
  {
   "cell_type": "code",
   "execution_count": 231,
   "metadata": {},
   "outputs": [],
   "source": [
    "auction = to_datetime(auction)\n",
    "auction[\"CreateDate\"] = auction[\"CreateDate\"].apply(lambda d: (d - access_date).days)\n",
    "watch = to_datetime(watch)\n",
    "watch[\"TourokuDateDelta\"] = watch[\"TourokuDate\"].apply(lambda d: (d - access_date).days)\n",
    "watch = watch.merge(auction, on=\"AuctionID\")\n",
    "bid = to_datetime(bid)\n",
    "bid[\"ShudouNyuusatsuDateDelta\"] = bid[\"ShudouNyuusatsuDate\"].apply(lambda d: (d - access_date).days)\n",
    "bid = bid.merge(auction, on=\"AuctionID\")\n",
    "bid_success = to_datetime(bid_success)\n",
    "bid_success[\"RakusatsuDateDelta\"] = bid_success[\"RakusatsuDate\"].apply(lambda d: (d - access_date).days)\n",
    "bid_success = bid_success.merge(auction, on=\"AuctionID\")"
   ]
  },
  {
   "cell_type": "code",
   "execution_count": 370,
   "metadata": {},
   "outputs": [],
   "source": [
    "# auction.to_pickle(\"auction.pkl\")\n",
    "# watch.to_pickle(\"watch.pkl\")\n",
    "# bid.to_pickle(\"bid.pkl\")\n",
    "# bid_success.to_pickle(\"bid_success.pkl\")\n",
    "auction= pd.read_pickle(\"auction.pkl\")\n",
    "watch= pd.read_pickle(\"watch.pkl\")\n",
    "bid= pd.read_pickle(\"bid.pkl\")\n",
    "bid_success= pd.read_pickle(\"bid_success.pkl\")"
   ]
  },
  {
   "cell_type": "code",
   "execution_count": 390,
   "metadata": {},
   "outputs": [
    {
     "data": {
      "text/plain": [
       "[1]"
      ]
     },
     "execution_count": 390,
     "metadata": {},
     "output_type": "execute_result"
    }
   ],
   "source": [
    "[i for i in range(1,2)]"
   ]
  },
  {
   "cell_type": "code",
   "execution_count": 371,
   "metadata": {},
   "outputs": [
    {
     "name": "stdout",
     "output_type": "stream",
     "text": [
      "1\n"
     ]
    },
    {
     "name": "stderr",
     "output_type": "stream",
     "text": [
      "/Users/nobuyuki.ishida/.pyenv/versions/3.7.5/lib/python3.7/site-packages/ipykernel_launcher.py:43: SettingWithCopyWarning: \n",
      "A value is trying to be set on a copy of a slice from a DataFrame.\n",
      "Try using .loc[row_indexer,col_indexer] = value instead\n",
      "\n",
      "See the caveats in the documentation: http://pandas.pydata.org/pandas-docs/stable/user_guide/indexing.html#returning-a-view-versus-a-copy\n",
      "/Users/nobuyuki.ishida/.pyenv/versions/3.7.5/lib/python3.7/site-packages/ipykernel_launcher.py:23: SettingWithCopyWarning: \n",
      "A value is trying to be set on a copy of a slice from a DataFrame.\n",
      "Try using .loc[row_indexer,col_indexer] = value instead\n",
      "\n",
      "See the caveats in the documentation: http://pandas.pydata.org/pandas-docs/stable/user_guide/indexing.html#returning-a-view-versus-a-copy\n",
      "/Users/nobuyuki.ishida/.pyenv/versions/3.7.5/lib/python3.7/site-packages/ipykernel_launcher.py:24: SettingWithCopyWarning: \n",
      "A value is trying to be set on a copy of a slice from a DataFrame.\n",
      "Try using .loc[row_indexer,col_indexer] = value instead\n",
      "\n",
      "See the caveats in the documentation: http://pandas.pydata.org/pandas-docs/stable/user_guide/indexing.html#returning-a-view-versus-a-copy\n"
     ]
    },
    {
     "name": "stdout",
     "output_type": "stream",
     "text": [
      "2\n",
      "3\n",
      "4\n"
     ]
    }
   ],
   "source": [
    "period_stack_num = 4\n",
    "\n",
    "dataset_buf = []\n",
    "for i in range(1, period_stack_num + 1):\n",
    "    print(i)\n",
    "    watch_actioned = (\n",
    "        watch.query(f\"(TourokuDateDelta >= {access_period} - 7 * {i}) & (TourokuDateDelta < {access_period} - 7 * {i - 1})\")\n",
    "    )\n",
    "    bid_actioned = (\n",
    "        bid\n",
    "        .query(f\"(ShudouNyuusatsuDateDelta >= {access_period} - 7 * {i}) & (ShudouNyuusatsuDateDelta < {access_period} - 7 * {i - 1})\")\n",
    "    )\n",
    "    user_cand = (\n",
    "        pd.concat([watch_actioned, bid_actioned], sort=False)[[\"KaiinID\"]]\n",
    "        .drop_duplicates()\n",
    "    )\n",
    "    watch_train = watch.query(f\"TourokuDateDelta < {access_period} - 7 * {i}\")\n",
    "    bid_train = bid.query(f\"ShudouNyuusatsuDateDelta < {access_period} - 7 * {i}\")\n",
    "    bid_success_train = bid_success.query(f\"RakusatsuDateDelta < {access_period} - 7 * {i}\")    \n",
    "\n",
    "    train_dataset = build_dataset(user_cand, watch_train, bid_train, access_period - 7 * i)    \n",
    "    \n",
    "    watch_actioned[\"watch_actioned\"] = 1\n",
    "    bid_actioned[\"bid_actioned\"] = 1\n",
    "    train_dataset = (\n",
    "        train_dataset\n",
    "        .merge(watch_actioned[[\"KaiinID\", \"AuctionID\", \"watch_actioned\"]], on=[\"KaiinID\", \"AuctionID\"], how=\"left\")\n",
    "        .merge(bid_actioned[[\"KaiinID\", \"AuctionID\", \"bid_actioned\"]], on=[\"KaiinID\", \"AuctionID\"], how=\"left\")\n",
    "        .fillna(0)\n",
    "    )\n",
    "    \n",
    "    dataset_buf.append(train_dataset)\n",
    "\n",
    "train_datasets = pd.concat(dataset_buf)"
   ]
  },
  {
   "cell_type": "code",
   "execution_count": 372,
   "metadata": {},
   "outputs": [],
   "source": [
    "def build_dataset(user_cand, watch, bid, period):\n",
    "    \n",
    "    # あるユーザーが現在までにアクションをした商品と同じ商品IDのオークションを抽出\n",
    "    # これが関数内で作成する学習データの大元\n",
    "    aucs_cand = (\n",
    "        pd.concat([watch[[\"KaiinID\", \"ShouhinID\"]], bid[[\"KaiinID\", \"ShouhinID\"]]])\n",
    "        .drop_duplicates()\n",
    "        .merge(auction[[\"AuctionID\", \"ShouhinID\"]], on=\"ShouhinID\")[[\"KaiinID\", \"AuctionID\"]]\n",
    "        .drop_duplicates()\n",
    "    )\n",
    "    \n",
    "    auction[\"TmpCreateDateDelta\"] = auction[\"CreateDate\"] - period    \n",
    "    auc_cols = (\n",
    "        ['AuctionID', 'ShouhinShubetsuID', 'ShouhinID', 'SaishuppinKaisuu',\n",
    "       'ConditionID', 'BrandID', 'GenreID', 'GenreGroupID', 'LineID',\n",
    "       'DanjobetsuID', 'TmpCreateDateDelta']\n",
    "    )\n",
    "    # 今回の対象ユーザーに絞る\n",
    "    train_data = (\n",
    "        user_cand\n",
    "        .merge(aucs_cand, on=\"KaiinID\")\n",
    "        .merge(auction[auc_cols], on=\"AuctionID\")\n",
    "    )\n",
    "    \n",
    "    \n",
    "    train_data = add_time_features(train_data, watch, \"TourokuDateDelta\", \"watch\", period)\n",
    "    train_data = add_value_counts(\n",
    "        train_data, watch, [[\"AuctionID\"], [\"ShouhinID\"], [\"BrandID\"], [\"LineID\"], [\"KaiinID\", \"ShouhinID\"], \n",
    "        [\"KaiinID\", \"BrandID\"], [\"KaiinID\", \"GenreGroupID\"], [\"KaiinID\", \"LineID\"]], \"watch\"\n",
    "    )\n",
    "\n",
    "    train_data = add_time_features(train_data, bid, \"ShudouNyuusatsuDateDelta\", \"bid\", period)\n",
    "    train_data = add_value_counts(\n",
    "        train_data, bid, [[\"AuctionID\"], [\"ShouhinID\"], [\"BrandID\"], [\"LineID\"], [\"KaiinID\", \"ShouhinID\"], \n",
    "        [\"KaiinID\", \"BrandID\"], [\"KaiinID\", \"GenreGroupID\"], [\"KaiinID\", \"LineID\"]], \"bid\"\n",
    "    )    \n",
    "    \n",
    "    drop_cols = [\"ShouhinShubetsuID\", \"ShouhinID\", \"BrandID\", \"GenreID\", \"GenreGroupID\", \"LineID\"]\n",
    "    \n",
    "    train_data = train_data.drop(drop_cols, axis=1).fillna(-1)\n",
    "    \n",
    "    return train_data\n",
    "    \n",
    "def add_time_features(df, feature_df, time_col, prefix, period):\n",
    "    tmp_time_col = f\"Tmp_{time_col}\"\n",
    "    key_cols = [\"KaiinID\", \"AuctionID\"]\n",
    "    feature_df[tmp_time_col] = feature_df[time_col] - period\n",
    "    time_features = (\n",
    "        feature_df\n",
    "        .groupby(key_cols)[tmp_time_col]\n",
    "        .agg([\"count\", \"max\", \"min\"])\n",
    "        .rename(columns={\"count\": f\"{prefix}_ua_cnt\", \"max\": f\"{prefix}_ua_newest\", \"min\": f\"{prefix}_ua_oldest\"})\n",
    "    )\n",
    "    time_features[f\"{prefix}_period\"] = time_features[f\"{prefix}_ua_newest\"] - time_features[f\"{prefix}_ua_oldest\"]\n",
    "    output = df.merge(time_features, on=key_cols, how=\"left\")\n",
    "    return output\n",
    "\n",
    "def add_value_counts(df, feature_df, colsets, prefix):\n",
    "    df_cp = df.copy()\n",
    "    for colset in colsets:\n",
    "        if len(colset) == 2:\n",
    "            cnts = (\n",
    "                feature_df[colset + [\"AuctionID\"]].groupby(colset, as_index=False).count()\n",
    "                .rename(columns={\"AuctionID\": f\"{prefix}_{colset[0]}_{colset[1]}_cnt\"})\n",
    "            )\n",
    "        elif len(colset) == 1: \n",
    "            col = colset[0]\n",
    "            cnts = feature_df[col].value_counts().reset_index().rename(columns={\"index\": col, col: f\"{prefix}_{col}_cnt\"})\n",
    "        \n",
    "        df_cp = df_cp.merge(cnts, on=colset, how=\"left\")\n",
    "    return df_cp\n"
   ]
  },
  {
   "cell_type": "code",
   "execution_count": 373,
   "metadata": {},
   "outputs": [],
   "source": [
    "sub_mimic = build_dataset(sub_users, watch, bid, access_period)"
   ]
  },
  {
   "cell_type": "code",
   "execution_count": 388,
   "metadata": {},
   "outputs": [
    {
     "data": {
      "text/plain": [
       "(13312315, 32)"
      ]
     },
     "execution_count": 388,
     "metadata": {},
     "output_type": "execute_result"
    }
   ],
   "source": [
    "train_datasets.shape"
   ]
  },
  {
   "cell_type": "code",
   "execution_count": 375,
   "metadata": {},
   "outputs": [
    {
     "data": {
      "text/html": [
       "<div>\n",
       "<style scoped>\n",
       "    .dataframe tbody tr th:only-of-type {\n",
       "        vertical-align: middle;\n",
       "    }\n",
       "\n",
       "    .dataframe tbody tr th {\n",
       "        vertical-align: top;\n",
       "    }\n",
       "\n",
       "    .dataframe thead th {\n",
       "        text-align: right;\n",
       "    }\n",
       "</style>\n",
       "<table border=\"1\" class=\"dataframe\">\n",
       "  <thead>\n",
       "    <tr style=\"text-align: right;\">\n",
       "      <th></th>\n",
       "      <th>KaiinID</th>\n",
       "      <th>AuctionID</th>\n",
       "      <th>SaishuppinKaisuu</th>\n",
       "      <th>ConditionID</th>\n",
       "      <th>DanjobetsuID</th>\n",
       "      <th>TmpCreateDateDelta</th>\n",
       "      <th>watch_ua_cnt</th>\n",
       "      <th>watch_ua_newest</th>\n",
       "      <th>watch_ua_oldest</th>\n",
       "      <th>watch_period</th>\n",
       "      <th>watch_AuctionID_cnt</th>\n",
       "      <th>watch_ShouhinID_cnt</th>\n",
       "      <th>watch_BrandID_cnt</th>\n",
       "      <th>watch_LineID_cnt</th>\n",
       "      <th>watch_KaiinID_ShouhinID_cnt</th>\n",
       "      <th>watch_KaiinID_BrandID_cnt</th>\n",
       "      <th>watch_KaiinID_GenreGroupID_cnt</th>\n",
       "      <th>watch_KaiinID_LineID_cnt</th>\n",
       "      <th>bid_ua_cnt</th>\n",
       "      <th>bid_ua_newest</th>\n",
       "      <th>bid_ua_oldest</th>\n",
       "      <th>bid_period</th>\n",
       "      <th>bid_AuctionID_cnt</th>\n",
       "      <th>bid_ShouhinID_cnt</th>\n",
       "      <th>bid_BrandID_cnt</th>\n",
       "      <th>bid_LineID_cnt</th>\n",
       "      <th>bid_KaiinID_ShouhinID_cnt</th>\n",
       "      <th>bid_KaiinID_BrandID_cnt</th>\n",
       "      <th>bid_KaiinID_GenreGroupID_cnt</th>\n",
       "      <th>bid_KaiinID_LineID_cnt</th>\n",
       "      <th>watch_actioned</th>\n",
       "      <th>bid_actioned</th>\n",
       "    </tr>\n",
       "  </thead>\n",
       "  <tbody>\n",
       "    <tr>\n",
       "      <th>0</th>\n",
       "      <td>134759</td>\n",
       "      <td>1862947</td>\n",
       "      <td>0</td>\n",
       "      <td>6</td>\n",
       "      <td>2</td>\n",
       "      <td>-389</td>\n",
       "      <td>1.0</td>\n",
       "      <td>-357.0</td>\n",
       "      <td>-357.0</td>\n",
       "      <td>0.0</td>\n",
       "      <td>9.0</td>\n",
       "      <td>9.0</td>\n",
       "      <td>9757.0</td>\n",
       "      <td>3874863</td>\n",
       "      <td>1.0</td>\n",
       "      <td>4.0</td>\n",
       "      <td>101.0</td>\n",
       "      <td>479.0</td>\n",
       "      <td>-1.0</td>\n",
       "      <td>-1.0</td>\n",
       "      <td>-1.0</td>\n",
       "      <td>-1.0</td>\n",
       "      <td>1.0</td>\n",
       "      <td>1.0</td>\n",
       "      <td>821.0</td>\n",
       "      <td>560636.0</td>\n",
       "      <td>-1.0</td>\n",
       "      <td>-1.0</td>\n",
       "      <td>17.0</td>\n",
       "      <td>65.0</td>\n",
       "      <td>0.0</td>\n",
       "      <td>0.0</td>\n",
       "    </tr>\n",
       "    <tr>\n",
       "      <th>1647206</th>\n",
       "      <td>134759</td>\n",
       "      <td>1862947</td>\n",
       "      <td>0</td>\n",
       "      <td>6</td>\n",
       "      <td>2</td>\n",
       "      <td>-382</td>\n",
       "      <td>1.0</td>\n",
       "      <td>-350.0</td>\n",
       "      <td>-350.0</td>\n",
       "      <td>0.0</td>\n",
       "      <td>9.0</td>\n",
       "      <td>9.0</td>\n",
       "      <td>9548.0</td>\n",
       "      <td>3794469</td>\n",
       "      <td>1.0</td>\n",
       "      <td>4.0</td>\n",
       "      <td>99.0</td>\n",
       "      <td>462.0</td>\n",
       "      <td>-1.0</td>\n",
       "      <td>-1.0</td>\n",
       "      <td>-1.0</td>\n",
       "      <td>-1.0</td>\n",
       "      <td>1.0</td>\n",
       "      <td>1.0</td>\n",
       "      <td>796.0</td>\n",
       "      <td>549648.0</td>\n",
       "      <td>-1.0</td>\n",
       "      <td>-1.0</td>\n",
       "      <td>16.0</td>\n",
       "      <td>63.0</td>\n",
       "      <td>0.0</td>\n",
       "      <td>0.0</td>\n",
       "    </tr>\n",
       "    <tr>\n",
       "      <th>147587</th>\n",
       "      <td>134759</td>\n",
       "      <td>1862947</td>\n",
       "      <td>0</td>\n",
       "      <td>6</td>\n",
       "      <td>2</td>\n",
       "      <td>-375</td>\n",
       "      <td>1.0</td>\n",
       "      <td>-343.0</td>\n",
       "      <td>-343.0</td>\n",
       "      <td>0.0</td>\n",
       "      <td>9.0</td>\n",
       "      <td>9.0</td>\n",
       "      <td>9397.0</td>\n",
       "      <td>3720858</td>\n",
       "      <td>1.0</td>\n",
       "      <td>4.0</td>\n",
       "      <td>96.0</td>\n",
       "      <td>452.0</td>\n",
       "      <td>-1.0</td>\n",
       "      <td>-1.0</td>\n",
       "      <td>-1.0</td>\n",
       "      <td>-1.0</td>\n",
       "      <td>1.0</td>\n",
       "      <td>1.0</td>\n",
       "      <td>785.0</td>\n",
       "      <td>539407.0</td>\n",
       "      <td>-1.0</td>\n",
       "      <td>-1.0</td>\n",
       "      <td>16.0</td>\n",
       "      <td>63.0</td>\n",
       "      <td>0.0</td>\n",
       "      <td>0.0</td>\n",
       "    </tr>\n",
       "    <tr>\n",
       "      <th>507082</th>\n",
       "      <td>134759</td>\n",
       "      <td>1862947</td>\n",
       "      <td>0</td>\n",
       "      <td>6</td>\n",
       "      <td>2</td>\n",
       "      <td>-368</td>\n",
       "      <td>1.0</td>\n",
       "      <td>-336.0</td>\n",
       "      <td>-336.0</td>\n",
       "      <td>0.0</td>\n",
       "      <td>9.0</td>\n",
       "      <td>9.0</td>\n",
       "      <td>9211.0</td>\n",
       "      <td>3650794</td>\n",
       "      <td>1.0</td>\n",
       "      <td>4.0</td>\n",
       "      <td>96.0</td>\n",
       "      <td>449.0</td>\n",
       "      <td>-1.0</td>\n",
       "      <td>-1.0</td>\n",
       "      <td>-1.0</td>\n",
       "      <td>-1.0</td>\n",
       "      <td>1.0</td>\n",
       "      <td>1.0</td>\n",
       "      <td>763.0</td>\n",
       "      <td>529031.0</td>\n",
       "      <td>-1.0</td>\n",
       "      <td>-1.0</td>\n",
       "      <td>16.0</td>\n",
       "      <td>63.0</td>\n",
       "      <td>0.0</td>\n",
       "      <td>0.0</td>\n",
       "    </tr>\n",
       "  </tbody>\n",
       "</table>\n",
       "</div>"
      ],
      "text/plain": [
       "         KaiinID  AuctionID  SaishuppinKaisuu  ConditionID  DanjobetsuID  \\\n",
       "0         134759    1862947                 0            6             2   \n",
       "1647206   134759    1862947                 0            6             2   \n",
       "147587    134759    1862947                 0            6             2   \n",
       "507082    134759    1862947                 0            6             2   \n",
       "\n",
       "         TmpCreateDateDelta  watch_ua_cnt  watch_ua_newest  watch_ua_oldest  \\\n",
       "0                      -389           1.0           -357.0           -357.0   \n",
       "1647206                -382           1.0           -350.0           -350.0   \n",
       "147587                 -375           1.0           -343.0           -343.0   \n",
       "507082                 -368           1.0           -336.0           -336.0   \n",
       "\n",
       "         watch_period  watch_AuctionID_cnt  watch_ShouhinID_cnt  \\\n",
       "0                 0.0                  9.0                  9.0   \n",
       "1647206           0.0                  9.0                  9.0   \n",
       "147587            0.0                  9.0                  9.0   \n",
       "507082            0.0                  9.0                  9.0   \n",
       "\n",
       "         watch_BrandID_cnt  watch_LineID_cnt  watch_KaiinID_ShouhinID_cnt  \\\n",
       "0                   9757.0           3874863                          1.0   \n",
       "1647206             9548.0           3794469                          1.0   \n",
       "147587              9397.0           3720858                          1.0   \n",
       "507082              9211.0           3650794                          1.0   \n",
       "\n",
       "         watch_KaiinID_BrandID_cnt  watch_KaiinID_GenreGroupID_cnt  \\\n",
       "0                              4.0                           101.0   \n",
       "1647206                        4.0                            99.0   \n",
       "147587                         4.0                            96.0   \n",
       "507082                         4.0                            96.0   \n",
       "\n",
       "         watch_KaiinID_LineID_cnt  bid_ua_cnt  bid_ua_newest  bid_ua_oldest  \\\n",
       "0                           479.0        -1.0           -1.0           -1.0   \n",
       "1647206                     462.0        -1.0           -1.0           -1.0   \n",
       "147587                      452.0        -1.0           -1.0           -1.0   \n",
       "507082                      449.0        -1.0           -1.0           -1.0   \n",
       "\n",
       "         bid_period  bid_AuctionID_cnt  bid_ShouhinID_cnt  bid_BrandID_cnt  \\\n",
       "0              -1.0                1.0                1.0            821.0   \n",
       "1647206        -1.0                1.0                1.0            796.0   \n",
       "147587         -1.0                1.0                1.0            785.0   \n",
       "507082         -1.0                1.0                1.0            763.0   \n",
       "\n",
       "         bid_LineID_cnt  bid_KaiinID_ShouhinID_cnt  bid_KaiinID_BrandID_cnt  \\\n",
       "0              560636.0                       -1.0                     -1.0   \n",
       "1647206        549648.0                       -1.0                     -1.0   \n",
       "147587         539407.0                       -1.0                     -1.0   \n",
       "507082         529031.0                       -1.0                     -1.0   \n",
       "\n",
       "         bid_KaiinID_GenreGroupID_cnt  bid_KaiinID_LineID_cnt  watch_actioned  \\\n",
       "0                                17.0                    65.0             0.0   \n",
       "1647206                          16.0                    63.0             0.0   \n",
       "147587                           16.0                    63.0             0.0   \n",
       "507082                           16.0                    63.0             0.0   \n",
       "\n",
       "         bid_actioned  \n",
       "0                 0.0  \n",
       "1647206           0.0  \n",
       "147587            0.0  \n",
       "507082            0.0  "
      ]
     },
     "execution_count": 375,
     "metadata": {},
     "output_type": "execute_result"
    }
   ],
   "source": [
    "train_datasets.query(\"(KaiinID == 134759) & (AuctionID == 1862947)\")"
   ]
  },
  {
   "cell_type": "code",
   "execution_count": null,
   "metadata": {},
   "outputs": [],
   "source": []
  },
  {
   "cell_type": "code",
   "execution_count": 378,
   "metadata": {},
   "outputs": [],
   "source": [
    "sub_mimic.to_pickle(\"sub_mimic2.pkl\")"
   ]
  },
  {
   "cell_type": "code",
   "execution_count": 379,
   "metadata": {},
   "outputs": [],
   "source": [
    "train_datasets.to_pickle(\"train_datasets2.pkl\")"
   ]
  },
  {
   "cell_type": "code",
   "execution_count": null,
   "metadata": {},
   "outputs": [],
   "source": []
  },
  {
   "cell_type": "code",
   "execution_count": null,
   "metadata": {},
   "outputs": [],
   "source": []
  },
  {
   "cell_type": "code",
   "execution_count": 380,
   "metadata": {},
   "outputs": [],
   "source": [
    "train = pd.read_pickle(\"train_datasets2.pkl\")\n",
    "sub = pd.read_pickle(\"sub_mimic2.pkl\")"
   ]
  },
  {
   "cell_type": "code",
   "execution_count": 381,
   "metadata": {},
   "outputs": [],
   "source": [
    "lbg_params = {\n",
    "    \"objective\": \"binary\",\n",
    "    \"nround\": 500,\n",
    "    \"learning_rate\": 0.01,\n",
    "    \"max_depth\": 6,\n",
    "    \"num_leaves\": 127\n",
    "}\n",
    "\n",
    "drop_cols = [\"KaiinID\", \"AuctionID\", \"watch_actioned\", \"bid_actioned\"]\n",
    "\n",
    "watch_model = lgb.train(\n",
    "    params=lbg_params,\n",
    "    train_set=lgb.Dataset(np.array(train.drop(drop_cols, axis=1)), label = np.array(train[\"watch_actioned\"]))\n",
    ")\n",
    "nyuusatsu_model = lgb.train(\n",
    "    params=lbg_params,\n",
    "    train_set=lgb.Dataset(np.array(train.drop(drop_cols, axis=1)), label = np.array(train[\"bid_actioned\"]))    \n",
    ")"
   ]
  },
  {
   "cell_type": "code",
   "execution_count": 382,
   "metadata": {},
   "outputs": [],
   "source": [
    "watch_pred = watch_model.predict(np.array(sub.drop([\"AuctionID\", \"KaiinID\"], axis=1)))\n",
    "nyuusatsu_pred = nyuusatsu_model.predict(np.array(sub.drop([\"AuctionID\", \"KaiinID\"], axis=1)))"
   ]
  },
  {
   "cell_type": "code",
   "execution_count": 383,
   "metadata": {},
   "outputs": [],
   "source": [
    "sub[\"watch_pred\"] = watch_pred\n",
    "sub[\"nyuusatsu_pred\"] = nyuusatsu_pred"
   ]
  },
  {
   "cell_type": "code",
   "execution_count": 384,
   "metadata": {},
   "outputs": [
    {
     "name": "stderr",
     "output_type": "stream",
     "text": [
      "/Users/nobuyuki.ishida/.pyenv/versions/3.7.5/lib/python3.7/site-packages/ipykernel_launcher.py:2: SettingWithCopyWarning: \n",
      "A value is trying to be set on a copy of a slice from a DataFrame.\n",
      "Try using .loc[row_indexer,col_indexer] = value instead\n",
      "\n",
      "See the caveats in the documentation: http://pandas.pydata.org/pandas-docs/stable/user_guide/indexing.html#returning-a-view-versus-a-copy\n",
      "  \n"
     ]
    }
   ],
   "source": [
    "sub_pred = sub[[\"KaiinID\", \"AuctionID\", \"watch_pred\", \"nyuusatsu_pred\"]]\n",
    "sub_pred[\"score\"] = sub_pred[\"watch_pred\"] * 0.2 + sub_pred[\"nyuusatsu_pred\"] * 0.8\n",
    "sub_ranks = sub_users.merge(sub_pred, on=\"KaiinID\", how=\"left\")[[\"KaiinID\", \"AuctionID\", \"score\"]]"
   ]
  },
  {
   "cell_type": "code",
   "execution_count": 385,
   "metadata": {},
   "outputs": [],
   "source": [
    "def comple_submit_auc(df):\n",
    "    candidate_aucs = (\n",
    "        df[[\"AuctionID\", \"score\"]].groupby(\"AuctionID\", as_index=False).mean().sort_values(\"score\", ascending=False).iloc[:40,:]\n",
    "    )\n",
    "    candidate_aucs[\"score\"] = 0\n",
    "    target_users = df.groupby(\"KaiinID\", as_index=False).count().query(\"score < 20\")[\"KaiinID\"].tolist()\n",
    "    buf = []\n",
    "    for user in target_users:\n",
    "        candidate_aucs_tmp = candidate_aucs.copy()\n",
    "        candidate_aucs_tmp[\"KaiinID\"] = user\n",
    "        buf.append(candidate_aucs_tmp)\n",
    "    df_comple = pd.concat(buf)\n",
    "    df_colmled = pd.concat([df, df_comple])\n",
    "    return df_colmled"
   ]
  },
  {
   "cell_type": "code",
   "execution_count": 386,
   "metadata": {},
   "outputs": [
    {
     "name": "stderr",
     "output_type": "stream",
     "text": [
      "/Users/nobuyuki.ishida/.pyenv/versions/3.7.5/lib/python3.7/site-packages/ipykernel_launcher.py:13: FutureWarning: Sorting because non-concatenation axis is not aligned. A future version\n",
      "of pandas will change to not sort by default.\n",
      "\n",
      "To accept the future behavior, pass 'sort=False'.\n",
      "\n",
      "To retain the current behavior and silence the warning, pass 'sort=True'.\n",
      "\n",
      "  del sys.path[0]\n"
     ]
    }
   ],
   "source": [
    "sub_ranks = comple_submit_auc(sub_ranks)"
   ]
  },
  {
   "cell_type": "code",
   "execution_count": 387,
   "metadata": {},
   "outputs": [
    {
     "name": "stderr",
     "output_type": "stream",
     "text": [
      "/Users/nobuyuki.ishida/.pyenv/versions/3.7.5/lib/python3.7/site-packages/ipykernel_launcher.py:4: SettingWithCopyWarning: \n",
      "A value is trying to be set on a copy of a slice from a DataFrame\n",
      "\n",
      "See the caveats in the documentation: http://pandas.pydata.org/pandas-docs/stable/user_guide/indexing.html#returning-a-view-versus-a-copy\n",
      "  after removing the cwd from sys.path.\n"
     ]
    }
   ],
   "source": [
    "sub_ranks.sort_values(['KaiinID', 'score'], ascending=[True, False], inplace=True)\n",
    "sub_ranks['rank'] = sub_ranks.groupby('KaiinID')['score'].cumcount()\n",
    "sub_valid = sub_ranks.query(\"rank < =19\")\n",
    "sub_valid.sort_values(['KaiinID', 'score'], ascending=[True, False], inplace=True)\n",
    "sub_valid[[\"KaiinID\", \"AuctionID\"]].to_csv(\"submit.csv\", index=False)"
   ]
  },
  {
   "cell_type": "code",
   "execution_count": null,
   "metadata": {},
   "outputs": [],
   "source": []
  }
 ],
 "metadata": {
  "kernelspec": {
   "display_name": "Python 3",
   "language": "python",
   "name": "python3"
  },
  "language_info": {
   "codemirror_mode": {
    "name": "ipython",
    "version": 3
   },
   "file_extension": ".py",
   "mimetype": "text/x-python",
   "name": "python",
   "nbconvert_exporter": "python",
   "pygments_lexer": "ipython3",
   "version": "3.7.5"
  }
 },
 "nbformat": 4,
 "nbformat_minor": 2
}
