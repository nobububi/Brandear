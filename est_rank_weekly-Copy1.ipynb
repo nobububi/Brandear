{
 "cells": [
  {
   "cell_type": "markdown",
   "metadata": {},
   "source": [
    "- 落札されているオークションは除外する\n",
    "- 乱数設定\n",
    "- 以前の候補数は4億"
   ]
  },
  {
   "cell_type": "code",
   "execution_count": 149,
   "metadata": {},
   "outputs": [],
   "source": [
    "from os.path import dirname\n",
    "import os\n",
    "import datetime\n",
    "from dateutil.relativedelta import relativedelta\n",
    "import pathlib\n",
    "import re\n",
    "import joblib\n",
    "\n",
    "import pandas as pd\n",
    "import numpy as np\n",
    "import matplotlib.pyplot as plt\n",
    "import lightgbm as lgb\n",
    "from sklearn.metrics import roc_auc_score\n",
    "from sklearn.model_selection import KFold\n",
    "from sklearn.model_selection import train_test_split"
   ]
  },
  {
   "cell_type": "code",
   "execution_count": 150,
   "metadata": {},
   "outputs": [],
   "source": [
    "pd.set_option('display.max_columns', 50)"
   ]
  },
  {
   "cell_type": "code",
   "execution_count": 151,
   "metadata": {},
   "outputs": [],
   "source": [
    "# %load_ext autoreload\n",
    "# %autoreload 2\n",
    "import brandear_est as be"
   ]
  },
  {
   "cell_type": "code",
   "execution_count": 152,
   "metadata": {},
   "outputs": [],
   "source": [
    "SUB_DIR = os.path.join(os.getcwd(), \"../../data/submit\")\n",
    "IMD_DIR = os.path.join(os.getcwd(), \"../../data/intermediate/\")\n",
    "INPUT_DIR = os.path.join(os.getcwd(), \"../../data/input\")\n",
    "\n",
    "IMD_INPUT_DIR = os.path.join(IMD_DIR, \"pickled_inputs\")\n",
    "IMD_RANK_WEEKLY_DIR = os.path.join(IMD_DIR, \"rank_weekly\")\n",
    "IMD_ARCHIVE_DIR = os.path.join(IMD_DIR, \"arc_rank_weekly\")\n",
    "IMD_VALID_AUCS_DIR = os.path.join(IMD_DIR, \"valid_aucs\")\n",
    "\n",
    "dset_to_period = {\n",
    "    \"train\": {\"oldest\": datetime.datetime(2019, 9, 3, 0, 0, 0),\n",
    "              \"newest\": datetime.datetime(2019, 9, 10, 0, 0, 0)},\n",
    "    \"valid_for_train\": {\"oldest\": datetime.datetime(2019, 9, 10, 0, 0, 0),\n",
    "              \"newest\": datetime.datetime(2019, 9, 17, 0, 0, 0),},    \n",
    "    \"valid_for_sub\": {\"oldest\": datetime.datetime(2019, 9, 17, 0, 0, 0),\n",
    "              \"newest\": datetime.datetime(2019, 9, 24, 0, 0, 0),},\n",
    "    \"submission\": {\"oldest\": datetime.datetime(2019, 9, 24, 0, 0, 0),\n",
    "              \"newest\": datetime.datetime(2019, 10, 1, 0, 0, 0),},    \n",
    "}"
   ]
  },
  {
   "cell_type": "code",
   "execution_count": 153,
   "metadata": {},
   "outputs": [],
   "source": [
    "# 元データ読み込み\n",
    "auction = pd.read_pickle(os.path.join(IMD_INPUT_DIR , \"auction.pkl\"))\n",
    "watch = pd.read_pickle(os.path.join(IMD_INPUT_DIR , \"watch.pkl\"))\n",
    "bid = pd.read_pickle(os.path.join(IMD_INPUT_DIR , \"bid.pkl\"))\n",
    "bid_success = pd.read_pickle(os.path.join(IMD_INPUT_DIR , \"bid_success.pkl\"))\n",
    "sample_sub = pd.read_csv(os.path.join(os.getcwd(), \"../../data/input\" , \"sample_submission.csv\"))\n",
    "sub_users = sample_sub[[\"KaiinID\"]].drop_duplicates()"
   ]
  },
  {
   "cell_type": "code",
   "execution_count": 154,
   "metadata": {},
   "outputs": [
    {
     "name": "stdout",
     "output_type": "stream",
     "text": [
      "Mem. usage decreased to  0.32 Mb (15.0% reduction)\n",
      "Mem. usage decreased to  0.01 Mb (32.2% reduction)\n",
      "Mem. usage decreased to  0.00 Mb (45.4% reduction)\n",
      "Mem. usage decreased to  0.00 Mb (33.4% reduction)\n",
      "Mem. usage decreased to  0.01 Mb (41.3% reduction)\n"
     ]
    }
   ],
   "source": [
    "# ブランド作成日\n",
    "brand = be.read_csv(os.path.join(INPUT_DIR , \"brand.csv\"))\n",
    "# itemcolorid付与(色の大分類)\n",
    "color = be.read_csv(os.path.join(INPUT_DIR , \"color.csv\"))\n",
    "# カテゴリーid,itemdailID付与のためのItemShouID付与\n",
    "genre = be.read_csv(os.path.join(INPUT_DIR , \"genre.csv\"))\n",
    "# itemshowID,itemdailID付与\n",
    "itemshou = be.read_csv(os.path.join(INPUT_DIR , \"itemshou.csv\"))\n",
    "# itemlineID付与\n",
    "line = be.read_csv(os.path.join(INPUT_DIR , \"line.csv\"))"
   ]
  },
  {
   "cell_type": "code",
   "execution_count": 155,
   "metadata": {},
   "outputs": [],
   "source": [
    "# オークション情報拡充\n",
    "def rename(df, prefix):\n",
    "    target_columns = [\"ModifyDate\", \"CreateDate\"]\n",
    "    for target_column in target_columns:\n",
    "        if target_column in df.columns:\n",
    "            df.rename(columns={target_column: prefix + target_column}, inplace=True)\n",
    "    return df\n",
    "\n",
    "itemshou = rename(itemshou, prefix=\"ItemShow\")\n",
    "genre = rename(genre, prefix=\"Genre\")\n",
    "brand = rename(brand, prefix=\"Brand\")\n",
    "color = rename(color, prefix=\"Color\")\n",
    "line = rename(line, prefix=\"Line\")\n",
    "\n",
    "genre_mst = (\n",
    "    genre[[\"GenreID\", \"ItemShouID\", \"CategoryID\"]]\n",
    "    .merge(itemshou[[\"ItemShouID\", \"ItemDaiID\"]], on=\"ItemShouID\", how=\"inner\")\n",
    ")\n",
    "\n",
    "auction_mst = (\n",
    "    auction\n",
    "    .merge(genre_mst, on=\"GenreID\", how=\"left\")\n",
    "    .merge(brand[[\"BrandID\", \"BrandCreateDate\"]], on=\"BrandID\", how=\"left\")    \n",
    "    .merge(color[[\"ColorID\", \"ItemColorID\"]], on=\"ColorID\", how=\"left\")    \n",
    "    .merge(line[[\"LineID\", \"ItemLineID\", \"LineCreateDate\"]], on=\"LineID\", how=\"left\")        \n",
    "    .fillna(0)\n",
    ")\n",
    "auction_mst = be.to_datetime(auction_mst[sorted(list(auction_mst.columns))])"
   ]
  },
  {
   "cell_type": "code",
   "execution_count": 156,
   "metadata": {},
   "outputs": [],
   "source": [
    "def extract_target_actions(watch, bid, period):\n",
    "    watch_actioned = (\n",
    "        watch.loc[(watch[\"TourokuDate\"] >= period[\"oldest\"]) & (watch[\"TourokuDate\"] < period[\"newest\"]),\n",
    "                  [\"KaiinID\", \"AuctionID\"]]\n",
    "    )\n",
    "    bid_actioned = (\n",
    "        bid.loc[(bid[\"ShudouNyuusatsuDate\"] >= period[\"oldest\"]) & (bid[\"ShudouNyuusatsuDate\"] < period[\"newest\"]),\n",
    "                [\"KaiinID\", \"AuctionID\"]]\n",
    "    )\n",
    "    # 学習用データの際は正解データを作成する\n",
    "    watch_actioned[\"watch_actioned\"] = 1\n",
    "    bid_actioned[\"bid_actioned\"] = 1\n",
    "\n",
    "    target_actions = (\n",
    "        watch_actioned\n",
    "        .merge(bid_actioned, on=[\"KaiinID\", \"AuctionID\"], how=\"outer\")\n",
    "        .drop_duplicates()\n",
    "        .fillna(0)\n",
    "    )\n",
    "\n",
    "    return target_actions\n",
    "\n",
    "\n",
    "def build_target_candidate(actions, auc_dataset, period, target_users, target_col, dset_type, target_actions):\n",
    "        \n",
    "    users_auc_cands_cross = None\n",
    "    \n",
    "    if dset_type == \"submission\":\n",
    "        # 有望オークションと、ユーザーとのクロスジョインから候補作成        \n",
    "        users_auc_cands_cross = be.cross_join(target_users, auc_dataset)\n",
    "    else:\n",
    "        # クロスジョイン後正解データをジョイン\n",
    "        users_auc_cands_cross = (\n",
    "            be.cross_join(target_users, auc_dataset)\n",
    "            .merge(target_actions, on=[\"KaiinID\", \"AuctionID\"], how=\"left\")\n",
    "            .fillna(0)\n",
    "        )\n",
    "                \n",
    "    return users_auc_cands_cross\n",
    "\n",
    "\n",
    "def extract_similar_aucs(target_users, auction, actions, period):\n",
    "    similar_aucs = (\n",
    "        actions.merge(target_users, on=\"KaiinID\", how=\"inner\")\n",
    "            .merge(auction, on=\"ShouhinID\")\n",
    "    )\n",
    "    return similar_aucs"
   ]
  },
  {
   "cell_type": "code",
   "execution_count": 157,
   "metadata": {},
   "outputs": [],
   "source": [
    "def arrange_dtime_condition(watch, bid, bid_success, auction, period):\n",
    "    retval = ((\n",
    "        watch[watch[\"TourokuDate\"] <= period[\"oldest\"]],\n",
    "        bid[bid[\"ShudouNyuusatsuDate\"] <= period[\"oldest\"]],\n",
    "        bid_success[bid_success[\"RakusatsuDate\"] < period[\"oldest\"]],\n",
    "        auction[auction[\"CreateDate\"] < period[\"newest\"]]\n",
    "    ))\n",
    "    return retval\n",
    "    \n",
    "\n",
    "def arrange_inputs(watch, bid, bid_success, auction, period):\n",
    "    \n",
    "    target_actions = extract_target_actions(watch, bid, period)\n",
    "    \n",
    "    watch_t, bid_t,  bid_success_t, auction_t = (\n",
    "        arrange_dtime_condition(watch, bid, bid_success, auction, period)\n",
    "    )\n",
    "    \n",
    "    arranged_inputs = (\n",
    "        watch_t.merge(auction_t, on=\"AuctionID\", how=\"left\"),\n",
    "        bid_t.merge(auction, on=\"AuctionID\", how=\"left\"),\n",
    "        bid_success_t.merge(auction, on=\"AuctionID\", how=\"left\"),\n",
    "        auction_t,\n",
    "        target_actions\n",
    "    )\n",
    "    return arranged_inputs"
   ]
  },
  {
   "cell_type": "code",
   "execution_count": 158,
   "metadata": {},
   "outputs": [],
   "source": [
    "def df2comp_pkl(df, output_dir, filename):\n",
    "    os.makedirs(output_dir, exist_ok=True)\n",
    "    with open(os.path.join(output_dir, filename), mode=\"wb\") as f:\n",
    "        joblib.dump(df, f, compress=3)"
   ]
  },
  {
   "cell_type": "code",
   "execution_count": 159,
   "metadata": {},
   "outputs": [],
   "source": [
    "# tr_dataset_input = pd.read_pickle(IMD_VALID_AUCS_DIR + \"/train.pkl\")\n",
    "vt_dataset_input = pd.read_pickle(IMD_VALID_AUCS_DIR + \"/valid_for_train.pkl\")\n",
    "vs_dataset_input = pd.read_pickle(IMD_VALID_AUCS_DIR + \"/valid_for_sub.pkl\")\n",
    "# sub_dataset_input = pd.read_pickle(IMD_VALID_AUCS_DIR + \"/submission.pkl\")"
   ]
  },
  {
   "cell_type": "code",
   "execution_count": 161,
   "metadata": {
    "scrolled": true
   },
   "outputs": [
    {
     "name": "stdout",
     "output_type": "stream",
     "text": [
      "submission 分割 0 番目\n",
      "submission 分割 1 番目\n",
      "submission 分割 2 番目\n",
      "submission 分割 3 番目\n",
      "submission 分割 4 番目\n",
      "submission 分割 5 番目\n",
      "submission 分割 6 番目\n",
      "submission 分割 7 番目\n",
      "submission 分割 8 番目\n",
      "submission 分割 9 番目\n",
      "submission 分割 10 番目\n",
      "submission 分割 11 番目\n",
      "submission 分割 12 番目\n",
      "submission 分割 13 番目\n",
      "submission 分割 14 番目\n",
      "submission 分割 15 番目\n",
      "submission 分割 16 番目\n",
      "submission 分割 17 番目\n",
      "submission 分割 18 番目\n",
      "submission 分割 19 番目\n",
      "submission 分割 20 番目\n",
      "submission 分割 21 番目\n",
      "submission 分割 22 番目\n",
      "submission 分割 23 番目\n",
      "submission 分割 24 番目\n",
      "submission 分割 25 番目\n",
      "submission 分割 26 番目\n",
      "submission 分割 27 番目\n",
      "submission 分割 28 番目\n",
      "submission 分割 29 番目\n",
      "submission 分割 30 番目\n",
      "submission 分割 31 番目\n",
      "submission 分割 32 番目\n",
      "submission 分割 33 番目\n",
      "submission 分割 34 番目\n",
      "submission 分割 35 番目\n",
      "submission 分割 36 番目\n",
      "submission 分割 37 番目\n",
      "submission 分割 38 番目\n",
      "submission 分割 39 番目\n",
      "submission 分割 40 番目\n",
      "submission 分割 41 番目\n",
      "submission 分割 42 番目\n",
      "submission 分割 43 番目\n",
      "submission 分割 44 番目\n",
      "submission 分割 45 番目\n",
      "submission 分割 46 番目\n",
      "submission 分割 47 番目\n",
      "submission 分割 48 番目\n",
      "submission 分割 49 番目\n",
      "submission 分割 50 番目\n",
      "submission 分割 51 番目\n",
      "submission 分割 52 番目\n",
      "submission 分割 53 番目\n",
      "submission 分割 54 番目\n",
      "submission 分割 55 番目\n"
     ]
    }
   ],
   "source": [
    "# %%time\n",
    "\n",
    "auc_attr_col = [\n",
    "    \"AuctionID\", \"ShouhinID\", \"BrandID\", \"ItemShouID\",\n",
    "    \"SaishuppinKaisuu\", \"SankouKakaku\", \"1m_watch_AuctionID_cnt\", \"1m_watch_ShouhinID_cnt\", \"1m_watch_ItemShouID_cnt\",\n",
    "    \"elapsed_days\", \"watch_elapsed_days\"\n",
    "]\n",
    "\n",
    "target_col = \"watch_actioned\"\n",
    "\n",
    "dataset_inputs = {\n",
    "#     \"train\": watch_train_dataset,\n",
    "#     \"valid_for_train\": vt_dataset_input,\n",
    "#     \"valid_for_sub\": vs_dataset_input\n",
    "    \"submission\": sub_dataset_input\n",
    "}\n",
    "\n",
    "valid_auc_th = 0.1\n",
    "\n",
    "for dset_type, dataset_input in dataset_inputs.items():\n",
    "        \n",
    "    auc_dataset = dataset_input.query(f\"pred >= {valid_auc_th}\")[auc_attr_col]\n",
    "    \n",
    "    watch_arranged, bid_arranged, bid_success_arranged, auction_arranged, target_actions = (\n",
    "        arrange_inputs(watch=watch, bid=bid, bid_success=bid_success, auction=auction_mst, period=dset_to_period[dset_type])\n",
    "    )\n",
    "\n",
    "    # 特徴量作成\n",
    "    w_k_cnts = be.cross_counts(watch_arranged, \"KaiinID\")\n",
    "    w_ka_cnts = be.cross_counts(watch_arranged, [\"KaiinID\", \"AuctionID\"])\n",
    "    w_ks_cnts = be.cross_counts(watch_arranged, [\"KaiinID\", \"ShouhinID\"])\n",
    "    w_kb_cnts = be.cross_counts(watch_arranged, [\"KaiinID\", \"BrandID\"])\n",
    "    w_ki_cnts = be.cross_counts(watch_arranged, [\"KaiinID\", \"ItemShouID\"])\n",
    "    \n",
    "    actions = (\n",
    "        pd.concat([watch_arranged, bid_arranged], sort=False)[[\"AuctionID\", \"KaiinID\", \"ShouhinID\"]]\n",
    "        .drop_duplicates().drop(\"AuctionID\", axis=1)\n",
    "    )\n",
    "    \n",
    "    targets = None\n",
    "    \n",
    "    if dset_type != \"submission\":\n",
    "        targets = target_actions.sort_values(\"KaiinID\").reset_index(drop=True)[[\"KaiinID\"]].drop_duplicates()\n",
    "    else:\n",
    "        targets = sub_users\n",
    "        \n",
    "    \n",
    "    for g, split_targets in targets.groupby(targets[\"KaiinID\"] // 5000):\n",
    "        \n",
    "        print(dset_type, \"分割\",g, \"番目\")        \n",
    "        if (g > 10) & (dset_type == \"valid_for_train\") : continue\n",
    "\n",
    "        splited_candidates = build_target_candidate(\n",
    "            actions=actions,\n",
    "            auc_dataset=auc_dataset[auc_attr_col],\n",
    "            period=dset_to_period[dset_type],\n",
    "            target_users=split_targets,\n",
    "            target_col=target_col,\n",
    "            dset_type=dset_type,\n",
    "            target_actions=target_actions\n",
    "        )\n",
    "        \n",
    "        splited_candidates_feat = (\n",
    "            splited_candidates\n",
    "            .merge(w_k_cnts, on=\"KaiinID\", how=\"left\")\n",
    "            .merge(w_ka_cnts, on=[\"KaiinID\", \"AuctionID\"], how=\"left\")\n",
    "            .merge(w_ks_cnts, on=[\"KaiinID\", \"ShouhinID\"], how=\"left\")\n",
    "            .merge(w_kb_cnts, on=[\"KaiinID\", \"BrandID\"], how=\"left\")\n",
    "            .merge(w_ki_cnts, on=[\"KaiinID\", \"ItemShouID\"], how=\"left\")\n",
    "            .drop([\"ShouhinID\", \"BrandID\", \"ItemShouID\"], axis=1)\n",
    "            .fillna(0)\n",
    "        )\n",
    "        \n",
    "        splited_candidates_feat[\"BrandID_KaiinID_rate\"] = (\n",
    "            splited_candidates_feat[\"KaiinID_BrandID_cnt\"] / splited_candidates_feat[\"KaiinID_cnt\"]\n",
    "        ).fillna(0)\n",
    "        splited_candidates_feat[\"ItemShouID_KaiinID_rate\"] = (\n",
    "            splited_candidates_feat[\"KaiinID_ItemShouID_cnt\"] / splited_candidates_feat[\"KaiinID_cnt\"]\n",
    "        ).fillna(0)\n",
    "        \n",
    "        splited_candidates_feat.drop([\"KaiinID_BrandID_cnt\", \"KaiinID_ItemShouID_cnt\"], axis=1, inplace=True)\n",
    "        \n",
    "        df2comp_pkl(splited_candidates_feat, IMD_ARCHIVE_DIR + \"/\"  + dset_type + \"/\", f\"split_cands_{g}.pkl\")"
   ]
  },
  {
   "cell_type": "code",
   "execution_count": 162,
   "metadata": {},
   "outputs": [],
   "source": [
    "def read_comp_pkl(path):\n",
    "    with open(path, mode=\"rb\") as f:\n",
    "        retval = joblib.load(f)    \n",
    "    return retval"
   ]
  },
  {
   "cell_type": "code",
   "execution_count": 163,
   "metadata": {},
   "outputs": [],
   "source": [
    "drop_cols = [\"KaiinID\", \"AuctionID\", \"bid_actioned\", \"watch_actioned\"]\n",
    "target_col=\"watch_actioned\"\n",
    "\n",
    "# vs_dataset_input = read_comp_pkl(IMD_ARCHIVE_DIR + \"/valid_for_sub/split_cands_8.pkl\").drop_duplicates()\n",
    "# vs_dataset = be.DataSet(data=vs_dataset_input,drop_cols=drop_cols, target_col=target_col)"
   ]
  },
  {
   "cell_type": "code",
   "execution_count": 164,
   "metadata": {
    "scrolled": true
   },
   "outputs": [
    {
     "ename": "FileNotFoundError",
     "evalue": "[Errno 2] No such file or directory: '/Users/nobuyuki.ishida/Practice/competition/nishika/Brandear/code/brandear_est/../../data/intermediate/arc_rank_weekly/valid_for_train'",
     "output_type": "error",
     "traceback": [
      "\u001b[0;31m---------------------------------------------------------------------------\u001b[0m",
      "\u001b[0;31mFileNotFoundError\u001b[0m                         Traceback (most recent call last)",
      "\u001b[0;32m<timed exec>\u001b[0m in \u001b[0;36m<module>\u001b[0;34m\u001b[0m\n",
      "\u001b[0;32m<timed exec>\u001b[0m in \u001b[0;36m<listcomp>\u001b[0;34m(.0)\u001b[0m\n",
      "\u001b[0;32m~/.pyenv/versions/3.7.5/lib/python3.7/pathlib.py\u001b[0m in \u001b[0;36miterdir\u001b[0;34m(self)\u001b[0m\n\u001b[1;32m   1088\u001b[0m         \u001b[0;32mif\u001b[0m \u001b[0mself\u001b[0m\u001b[0;34m.\u001b[0m\u001b[0m_closed\u001b[0m\u001b[0;34m:\u001b[0m\u001b[0;34m\u001b[0m\u001b[0;34m\u001b[0m\u001b[0m\n\u001b[1;32m   1089\u001b[0m             \u001b[0mself\u001b[0m\u001b[0;34m.\u001b[0m\u001b[0m_raise_closed\u001b[0m\u001b[0;34m(\u001b[0m\u001b[0;34m)\u001b[0m\u001b[0;34m\u001b[0m\u001b[0;34m\u001b[0m\u001b[0m\n\u001b[0;32m-> 1090\u001b[0;31m         \u001b[0;32mfor\u001b[0m \u001b[0mname\u001b[0m \u001b[0;32min\u001b[0m \u001b[0mself\u001b[0m\u001b[0;34m.\u001b[0m\u001b[0m_accessor\u001b[0m\u001b[0;34m.\u001b[0m\u001b[0mlistdir\u001b[0m\u001b[0;34m(\u001b[0m\u001b[0mself\u001b[0m\u001b[0;34m)\u001b[0m\u001b[0;34m:\u001b[0m\u001b[0;34m\u001b[0m\u001b[0;34m\u001b[0m\u001b[0m\n\u001b[0m\u001b[1;32m   1091\u001b[0m             \u001b[0;32mif\u001b[0m \u001b[0mname\u001b[0m \u001b[0;32min\u001b[0m \u001b[0;34m{\u001b[0m\u001b[0;34m'.'\u001b[0m\u001b[0;34m,\u001b[0m \u001b[0;34m'..'\u001b[0m\u001b[0;34m}\u001b[0m\u001b[0;34m:\u001b[0m\u001b[0;34m\u001b[0m\u001b[0;34m\u001b[0m\u001b[0m\n\u001b[1;32m   1092\u001b[0m                 \u001b[0;31m# Yielding a path object for these makes little sense\u001b[0m\u001b[0;34m\u001b[0m\u001b[0;34m\u001b[0m\u001b[0;34m\u001b[0m\u001b[0m\n",
      "\u001b[0;31mFileNotFoundError\u001b[0m: [Errno 2] No such file or directory: '/Users/nobuyuki.ishida/Practice/competition/nishika/Brandear/code/brandear_est/../../data/intermediate/arc_rank_weekly/valid_for_train'"
     ]
    }
   ],
   "source": [
    "%%time\n",
    "## 予測\n",
    "\n",
    "dset_pairs = [\n",
    "    {\"old\": \"valid_for_sub\", \"new\": \"submission\"}\n",
    "]\n",
    "for dset_pair in dset_pairs:\n",
    "\n",
    "    paths = (\n",
    "        sorted([p for p in pathlib.Path(IMD_ARCHIVE_DIR + \"/\" + dset_pair['old']).iterdir()\n",
    "               if os.path.basename(p) != \".DS_Store\"])[:10]\n",
    "    )\n",
    "    df_buf = []\n",
    "    for path in paths:\n",
    "        print(path)\n",
    "        with open(path, mode=\"rb\") as f:\n",
    "            tmp_df = joblib.load(f).drop_duplicates()\n",
    "#             tmp_df = joblib.load(f)\n",
    "        df_buf.append(\n",
    "            tmp_df.query(\"(watch_actioned == 1) | (bid_actioned == 1)\").sample(frac=1, random_state=1).groupby(\"KaiinID\").head(4)\n",
    "        )\n",
    "        df_buf.append(\n",
    "            tmp_df.query(\"(watch_actioned != 1) & (bid_actioned != 1)\").sample(frac=0.01, random_state=1).groupby(\"KaiinID\").head(200)\n",
    "        )\n",
    "    dataset_input = pd.concat(df_buf)\n",
    "\n",
    "    vt_dataset = be.DataSet(data=dataset_input,drop_cols=drop_cols, target_col=\"watch_actioned\")\n",
    "    lgb_bi = be.LgbBinaryClassifier()\n",
    "    lgb_bi.train(train_dataset=vt_dataset, desc=True)    \n",
    "\n",
    "    for i, path in enumerate(pathlib.Path(IMD_ARCHIVE_DIR + \"/\" + dset_pair[\"new\"]).iterdir()):\n",
    "        if os.path.basename(path) == \".DS_Store\": continue\n",
    "        sub_dataset = be.DataSet(data=read_comp_pkl(path), drop_cols=drop_cols, target_col=target_col)        \n",
    "        pred = lgb_bi.predict(sub_dataset)\n",
    "        sub_dataset.set_pred(pred)\n",
    "        \n",
    "        df2comp_pkl(sub_dataset.data, IMD_ARCHIVE_DIR + f\"/{dset_pair['new']}_pred/\", os.path.basename(path)) \n",
    "        os.remove(path)"
   ]
  },
  {
   "cell_type": "code",
   "execution_count": 165,
   "metadata": {
    "scrolled": true
   },
   "outputs": [
    {
     "ename": "FileNotFoundError",
     "evalue": "[Errno 2] No such file or directory: '/Users/nobuyuki.ishida/Practice/competition/nishika/Brandear/code/brandear_est/../../data/intermediate/arc_rank_weekly/valid_for_sub_pred'",
     "output_type": "error",
     "traceback": [
      "\u001b[0;31m---------------------------------------------------------------------------\u001b[0m",
      "\u001b[0;31mFileNotFoundError\u001b[0m                         Traceback (most recent call last)",
      "\u001b[0;32m<timed exec>\u001b[0m in \u001b[0;36m<module>\u001b[0;34m\u001b[0m\n",
      "\u001b[0;32m~/.pyenv/versions/3.7.5/lib/python3.7/pathlib.py\u001b[0m in \u001b[0;36miterdir\u001b[0;34m(self)\u001b[0m\n\u001b[1;32m   1088\u001b[0m         \u001b[0;32mif\u001b[0m \u001b[0mself\u001b[0m\u001b[0;34m.\u001b[0m\u001b[0m_closed\u001b[0m\u001b[0;34m:\u001b[0m\u001b[0;34m\u001b[0m\u001b[0;34m\u001b[0m\u001b[0m\n\u001b[1;32m   1089\u001b[0m             \u001b[0mself\u001b[0m\u001b[0;34m.\u001b[0m\u001b[0m_raise_closed\u001b[0m\u001b[0;34m(\u001b[0m\u001b[0;34m)\u001b[0m\u001b[0;34m\u001b[0m\u001b[0;34m\u001b[0m\u001b[0m\n\u001b[0;32m-> 1090\u001b[0;31m         \u001b[0;32mfor\u001b[0m \u001b[0mname\u001b[0m \u001b[0;32min\u001b[0m \u001b[0mself\u001b[0m\u001b[0;34m.\u001b[0m\u001b[0m_accessor\u001b[0m\u001b[0;34m.\u001b[0m\u001b[0mlistdir\u001b[0m\u001b[0;34m(\u001b[0m\u001b[0mself\u001b[0m\u001b[0;34m)\u001b[0m\u001b[0;34m:\u001b[0m\u001b[0;34m\u001b[0m\u001b[0;34m\u001b[0m\u001b[0m\n\u001b[0m\u001b[1;32m   1091\u001b[0m             \u001b[0;32mif\u001b[0m \u001b[0mname\u001b[0m \u001b[0;32min\u001b[0m \u001b[0;34m{\u001b[0m\u001b[0;34m'.'\u001b[0m\u001b[0;34m,\u001b[0m \u001b[0;34m'..'\u001b[0m\u001b[0;34m}\u001b[0m\u001b[0;34m:\u001b[0m\u001b[0;34m\u001b[0m\u001b[0;34m\u001b[0m\u001b[0m\n\u001b[1;32m   1092\u001b[0m                 \u001b[0;31m# Yielding a path object for these makes little sense\u001b[0m\u001b[0;34m\u001b[0m\u001b[0;34m\u001b[0m\u001b[0;34m\u001b[0m\u001b[0m\n",
      "\u001b[0;31mFileNotFoundError\u001b[0m: [Errno 2] No such file or directory: '/Users/nobuyuki.ishida/Practice/competition/nishika/Brandear/code/brandear_est/../../data/intermediate/arc_rank_weekly/valid_for_sub_pred'"
     ]
    }
   ],
   "source": [
    "%%time\n",
    "## 予測値上位の候補を出力\n",
    "target_col = \"watch_actioned\"\n",
    "th = 1600\n",
    "dset_types = [\"valid_for_sub\"]\n",
    "for dset_type in dset_types:\n",
    "    choiced_cands_buf = []    \n",
    "    for i, path in enumerate(pathlib.Path(IMD_ARCHIVE_DIR + f\"/{dset_type}_pred/\").iterdir()):\n",
    "        print(path)\n",
    "        if os.path.basename(path) == \".DS_Store\": continue\n",
    "        splited_action_cands = (\n",
    "            read_comp_pkl(path)\n",
    "            .sort_values(['KaiinID', 'pred'], ascending=[True, False])\n",
    "        )\n",
    "        splited_action_cands['rank'] = splited_action_cands.groupby('KaiinID')['pred'].cumcount()        \n",
    "        choiced_cands = splited_action_cands.query(f\"rank <= {th}\")\n",
    "        choiced_cands_buf.append(choiced_cands)\n",
    "\n",
    "    be.df2pkl(pd.concat(choiced_cands_buf), IMD_RANK_WEEKLY_DIR, f\"{dset_type}_{th}_tmp.pkl\")"
   ]
  },
  {
   "cell_type": "code",
   "execution_count": 41,
   "metadata": {},
   "outputs": [],
   "source": [
    "def stack_target_actions(target_actions):\n",
    "    watch_target = target_actions.query(\"(watch_actioned == 1)\")[[\"KaiinID\", \"AuctionID\"]]\n",
    "    bid_target = target_actions.query(\"(bid_actioned == 1)\")[[\"KaiinID\", \"AuctionID\"]]\n",
    "    watch_target[\"score\"] = 1\n",
    "    bid_target[\"score\"] = 2\n",
    "    stacked_target_actions = pd.concat([watch_target, bid_target], sort=False)\n",
    "    return stacked_target_actions\n",
    "\n",
    "def dcg_at_k(r, k):\n",
    "    r = np.asfarray(r)[:k]\n",
    "    return np.sum((2 ** r - 1) / np.log2(np.arange(2, r.size + 2)))\n",
    "\n",
    "\n",
    "def ndcg_at_k(r, k):\n",
    "    dcg_max = dcg_at_k(sorted(r, reverse=True), k)\n",
    "    if not dcg_max:\n",
    "        return 0.\n",
    "    return dcg_at_k(r, k) / dcg_max\n",
    "\n",
    "\n",
    "def calc_ndcg(y_true, y_pred, k=20):\n",
    "    y_pred_cp = y_pred.copy()\n",
    "\n",
    "    actione_true = stack_target_actions(y_true)\n",
    "    actione_true[\"rank\"] = 100\n",
    "\n",
    "    y_pred_cp['rank'] = y_pred_cp.groupby('KaiinID')['AuctionID'].cumcount()\n",
    "\n",
    "    scored_pred = (\n",
    "        y_pred_cp.merge(actione_true[[\"KaiinID\", \"AuctionID\", \"score\"]], on=[\"KaiinID\", \"AuctionID\"],\n",
    "                        how=\"left\").fillna(0))\n",
    "\n",
    "    unchoiced_actiones = (\n",
    "        be.left_anti_join(actione_true, y_pred_cp, [\"KaiinID\", \"AuctionID\"], [\"KaiinID\", \"AuctionID\"]))\n",
    "\n",
    "    scored_actiones = (\n",
    "        pd.concat([scored_pred, unchoiced_actiones], sort=False)\n",
    "            .sort_values([\"KaiinID\", \"rank\"], ascending=[\"True\", \"True\"]))\n",
    "\n",
    "    dcgs = scored_actiones.groupby(\"KaiinID\")[\"score\"].apply(lambda s: ndcg_at_k(s.tolist(), k=20))\n",
    "#     ndcg = dcgs.mean()\n",
    "\n",
    "    return dcgs\n"
   ]
  },
  {
   "cell_type": "code",
   "execution_count": 133,
   "metadata": {},
   "outputs": [
    {
     "name": "stderr",
     "output_type": "stream",
     "text": [
      "/Users/nobuyuki.ishida/.pyenv/versions/3.7.5/lib/python3.7/site-packages/ipykernel_launcher.py:12: FutureWarning: Sorting because non-concatenation axis is not aligned. A future version\n",
      "of pandas will change to not sort by default.\n",
      "\n",
      "To accept the future behavior, pass 'sort=False'.\n",
      "\n",
      "To retain the current behavior and silence the warning, pass 'sort=True'.\n",
      "\n",
      "  if sys.path[0] == '':\n"
     ]
    },
    {
     "name": "stdout",
     "output_type": "stream",
     "text": [
      "0.28234715074670846\n"
     ]
    }
   ],
   "source": [
    "tmp = pd.read_pickle(IMD_RANK_WEEKLY_DIR + \"/watch_valid_for_sub_1600.pkl\")[[\"AuctionID\", \"KaiinID\"]].drop_duplicates()\n",
    "\n",
    "dset_type = \"valid_for_sub\"\n",
    "\n",
    "watch_arranged, bid_arranged, bid_success_arranged, auction_arranged, target_actions = (\n",
    "    arrange_inputs(watch=watch, bid=bid, bid_success=bid_success, auction=auction_mst, period=dset_to_period[dset_type])\n",
    ")\n",
    "\n",
    "tmp_sim = extract_similar_aucs(\n",
    "    target_users=target_actions[[\"KaiinID\"]].drop_duplicates(),\n",
    "    auction=auction_arranged,\n",
    "    actions=pd.concat([watch_arranged, bid_arranged])[[\"KaiinID\", \"ShouhinID\"]],\n",
    "    period=dset_to_period[dset_type]\n",
    ")[[\"AuctionID\", \"KaiinID\"]].drop_duplicates()\n",
    "\n",
    "cheat_pred = be.get_cheat_pred(\n",
    "    data=pd.concat([tmp]).drop_duplicates() ,\n",
    "    target_actions=target_actions\n",
    ")\n",
    "\n",
    "cheat_sub = be.adjust_sub_form(target_actions[[\"KaiinID\"]].drop_duplicates(), cheat_pred, drop=True)\n",
    "dcgs = calc_ndcg(target_actions, cheat_sub)\n",
    "print(dcgs.mean())"
   ]
  },
  {
   "cell_type": "code",
   "execution_count": 119,
   "metadata": {},
   "outputs": [
    {
     "data": {
      "text/plain": [
       "(array([3.917e+03, 0.000e+00, 0.000e+00, 0.000e+00, 0.000e+00, 8.000e+00,\n",
       "        9.000e+00, 1.200e+01, 2.300e+01, 2.000e+01, 6.000e+00, 3.500e+01,\n",
       "        1.200e+01, 1.700e+01, 1.130e+02, 3.500e+01, 3.100e+01, 3.400e+01,\n",
       "        4.200e+01, 2.200e+01, 5.300e+01, 3.000e+01, 3.300e+01, 1.190e+02,\n",
       "        3.300e+01, 5.300e+01, 2.300e+01, 5.400e+01, 1.700e+01, 2.400e+01,\n",
       "        9.800e+01, 1.400e+01, 2.800e+01, 8.500e+01, 2.500e+01, 3.100e+01,\n",
       "        5.500e+01, 3.100e+01, 3.300e+01, 6.400e+01, 1.900e+01, 5.500e+01,\n",
       "        1.400e+01, 2.400e+01, 3.000e+01, 1.700e+01, 1.150e+02, 1.200e+01,\n",
       "        2.200e+01, 3.000e+01, 1.600e+01, 3.200e+01, 1.200e+01, 1.300e+01,\n",
       "        7.000e+00, 3.400e+01, 3.200e+01, 1.200e+01, 2.300e+01, 5.000e+00,\n",
       "        2.600e+01, 1.140e+02, 4.000e+00, 2.600e+01, 3.300e+01, 1.500e+01,\n",
       "        6.000e+00, 7.000e+00, 9.000e+00, 8.000e+00, 9.000e+00, 6.000e+00,\n",
       "        2.400e+01, 6.000e+00, 3.000e+00, 2.000e+00, 3.000e+01, 8.000e+00,\n",
       "        0.000e+00, 2.100e+01, 4.000e+00, 0.000e+00, 1.400e+01, 7.000e+00,\n",
       "        4.000e+00, 2.000e+00, 5.000e+00, 2.000e+00, 1.000e+00, 1.000e+00,\n",
       "        6.000e+00, 2.000e+00, 1.000e+00, 1.000e+00, 1.000e+00, 0.000e+00,\n",
       "        1.000e+00, 0.000e+00, 0.000e+00, 1.720e+02]),\n",
       " array([0.  , 0.01, 0.02, 0.03, 0.04, 0.05, 0.06, 0.07, 0.08, 0.09, 0.1 ,\n",
       "        0.11, 0.12, 0.13, 0.14, 0.15, 0.16, 0.17, 0.18, 0.19, 0.2 , 0.21,\n",
       "        0.22, 0.23, 0.24, 0.25, 0.26, 0.27, 0.28, 0.29, 0.3 , 0.31, 0.32,\n",
       "        0.33, 0.34, 0.35, 0.36, 0.37, 0.38, 0.39, 0.4 , 0.41, 0.42, 0.43,\n",
       "        0.44, 0.45, 0.46, 0.47, 0.48, 0.49, 0.5 , 0.51, 0.52, 0.53, 0.54,\n",
       "        0.55, 0.56, 0.57, 0.58, 0.59, 0.6 , 0.61, 0.62, 0.63, 0.64, 0.65,\n",
       "        0.66, 0.67, 0.68, 0.69, 0.7 , 0.71, 0.72, 0.73, 0.74, 0.75, 0.76,\n",
       "        0.77, 0.78, 0.79, 0.8 , 0.81, 0.82, 0.83, 0.84, 0.85, 0.86, 0.87,\n",
       "        0.88, 0.89, 0.9 , 0.91, 0.92, 0.93, 0.94, 0.95, 0.96, 0.97, 0.98,\n",
       "        0.99, 1.  ]),\n",
       " <a list of 100 Patch objects>)"
      ]
     },
     "execution_count": 119,
     "metadata": {},
     "output_type": "execute_result"
    },
    {
     "data": {
      "image/png": "[encoded data removed]",
      "text/plain": [
       "<Figure size 432x288 with 1 Axes>"
      ]
     },
     "metadata": {
      "needs_background": "light"
     },
     "output_type": "display_data"
    }
   ],
   "source": [
    "plt.hist(dcgs, bins=100)"
   ]
  },
  {
   "cell_type": "code",
   "execution_count": 113,
   "metadata": {},
   "outputs": [
    {
     "data": {
      "text/plain": [
       "watch_actioned    5781.0\n",
       "bid_actioned      1440.0\n",
       "dtype: float64"
      ]
     },
     "execution_count": 113,
     "metadata": {},
     "output_type": "execute_result"
    }
   ],
   "source": [
    "target_actions.merge(tmp, on=[\"KaiinID\", \"AuctionID\"])[[\"watch_actioned\", \"bid_actioned\"]].sum()"
   ]
  },
  {
   "cell_type": "code",
   "execution_count": 79,
   "metadata": {},
   "outputs": [
    {
     "data": {
      "text/plain": [
       "(625650, 2)"
      ]
     },
     "execution_count": 79,
     "metadata": {},
     "output_type": "execute_result"
    }
   ],
   "source": [
    "tmp_sim.shape"
   ]
  },
  {
   "cell_type": "code",
   "execution_count": 77,
   "metadata": {},
   "outputs": [
    {
     "data": {
      "text/html": [
       "<div>\n",
       "<style scoped>\n",
       "    .dataframe tbody tr th:only-of-type {\n",
       "        vertical-align: middle;\n",
       "    }\n",
       "\n",
       "    .dataframe tbody tr th {\n",
       "        vertical-align: top;\n",
       "    }\n",
       "\n",
       "    .dataframe thead th {\n",
       "        text-align: right;\n",
       "    }\n",
       "</style>\n",
       "<table border=\"1\" class=\"dataframe\">\n",
       "  <thead>\n",
       "    <tr style=\"text-align: right;\">\n",
       "      <th></th>\n",
       "      <th>KaiinID</th>\n",
       "      <th>AuctionID</th>\n",
       "      <th>watch_actioned</th>\n",
       "      <th>bid_actioned</th>\n",
       "    </tr>\n",
       "  </thead>\n",
       "  <tbody>\n",
       "    <tr>\n",
       "      <th>0</th>\n",
       "      <td>16624</td>\n",
       "      <td>389994</td>\n",
       "      <td>1.0</td>\n",
       "      <td>0.0</td>\n",
       "    </tr>\n",
       "    <tr>\n",
       "      <th>1</th>\n",
       "      <td>16624</td>\n",
       "      <td>3978324</td>\n",
       "      <td>1.0</td>\n",
       "      <td>0.0</td>\n",
       "    </tr>\n",
       "    <tr>\n",
       "      <th>2</th>\n",
       "      <td>16624</td>\n",
       "      <td>843549</td>\n",
       "      <td>1.0</td>\n",
       "      <td>0.0</td>\n",
       "    </tr>\n",
       "    <tr>\n",
       "      <th>3</th>\n",
       "      <td>28440</td>\n",
       "      <td>1371989</td>\n",
       "      <td>1.0</td>\n",
       "      <td>0.0</td>\n",
       "    </tr>\n",
       "    <tr>\n",
       "      <th>4</th>\n",
       "      <td>28440</td>\n",
       "      <td>2950880</td>\n",
       "      <td>1.0</td>\n",
       "      <td>0.0</td>\n",
       "    </tr>\n",
       "    <tr>\n",
       "      <th>...</th>\n",
       "      <td>...</td>\n",
       "      <td>...</td>\n",
       "      <td>...</td>\n",
       "      <td>...</td>\n",
       "    </tr>\n",
       "    <tr>\n",
       "      <th>1124</th>\n",
       "      <td>35338</td>\n",
       "      <td>957825</td>\n",
       "      <td>0.0</td>\n",
       "      <td>1.0</td>\n",
       "    </tr>\n",
       "    <tr>\n",
       "      <th>1125</th>\n",
       "      <td>35338</td>\n",
       "      <td>3603726</td>\n",
       "      <td>0.0</td>\n",
       "      <td>1.0</td>\n",
       "    </tr>\n",
       "    <tr>\n",
       "      <th>1126</th>\n",
       "      <td>43876</td>\n",
       "      <td>2905429</td>\n",
       "      <td>0.0</td>\n",
       "      <td>1.0</td>\n",
       "    </tr>\n",
       "    <tr>\n",
       "      <th>1127</th>\n",
       "      <td>43876</td>\n",
       "      <td>4014953</td>\n",
       "      <td>0.0</td>\n",
       "      <td>1.0</td>\n",
       "    </tr>\n",
       "    <tr>\n",
       "      <th>1128</th>\n",
       "      <td>6638</td>\n",
       "      <td>2785949</td>\n",
       "      <td>0.0</td>\n",
       "      <td>1.0</td>\n",
       "    </tr>\n",
       "  </tbody>\n",
       "</table>\n",
       "<p>1129 rows × 4 columns</p>\n",
       "</div>"
      ],
      "text/plain": [
       "      KaiinID  AuctionID  watch_actioned  bid_actioned\n",
       "0       16624     389994             1.0           0.0\n",
       "1       16624    3978324             1.0           0.0\n",
       "2       16624     843549             1.0           0.0\n",
       "3       28440    1371989             1.0           0.0\n",
       "4       28440    2950880             1.0           0.0\n",
       "...       ...        ...             ...           ...\n",
       "1124    35338     957825             0.0           1.0\n",
       "1125    35338    3603726             0.0           1.0\n",
       "1126    43876    2905429             0.0           1.0\n",
       "1127    43876    4014953             0.0           1.0\n",
       "1128     6638    2785949             0.0           1.0\n",
       "\n",
       "[1129 rows x 4 columns]"
      ]
     },
     "execution_count": 77,
     "metadata": {},
     "output_type": "execute_result"
    }
   ],
   "source": [
    "target_actions.merge(tmp[[\"KaiinID\"]].drop_duplicates(), on=\"KaiinID\").merge(tmp, on=[\"KaiinID\", \"AuctionID\"])"
   ]
  },
  {
   "cell_type": "code",
   "execution_count": 73,
   "metadata": {},
   "outputs": [
    {
     "data": {
      "text/plain": [
       "score    2770.0\n",
       "dtype: float64"
      ]
     },
     "execution_count": 73,
     "metadata": {},
     "output_type": "execute_result"
    }
   ],
   "source": [
    "cheat_pred[[\"score\"]].sum()"
   ]
  },
  {
   "cell_type": "code",
   "execution_count": 68,
   "metadata": {},
   "outputs": [
    {
     "data": {
      "text/plain": [
       "KaiinID    1026\n",
       "dtype: int64"
      ]
     },
     "execution_count": 68,
     "metadata": {},
     "output_type": "execute_result"
    }
   ],
   "source": [
    "cheat_pred[[\"KaiinID\"]].nunique()"
   ]
  },
  {
   "cell_type": "code",
   "execution_count": 71,
   "metadata": {},
   "outputs": [
    {
     "name": "stdout",
     "output_type": "stream",
     "text": [
      "(20520, 2)\n",
      "KaiinID    1026\n",
      "dtype: int64\n"
     ]
    }
   ],
   "source": [
    "print(cheat_sub.shape)\n",
    "print(cheat_sub[[\"KaiinID\"]].nunique())"
   ]
  },
  {
   "cell_type": "code",
   "execution_count": 65,
   "metadata": {},
   "outputs": [
    {
     "data": {
      "text/plain": [
       "count    1026.000000\n",
       "mean        0.252026\n",
       "std         0.319217\n",
       "min         0.000000\n",
       "25%         0.000000\n",
       "50%         0.000000\n",
       "75%         0.469395\n",
       "max         1.000000\n",
       "Name: score, dtype: float64"
      ]
     },
     "execution_count": 65,
     "metadata": {},
     "output_type": "execute_result"
    }
   ],
   "source": [
    "dcgs.describe()"
   ]
  },
  {
   "cell_type": "code",
   "execution_count": 58,
   "metadata": {},
   "outputs": [
    {
     "data": {
      "text/plain": [
       "(array([537.,   0.,   0.,   0.,   0.,   0.,   1.,   1.,   0.,   4.,   0.,\n",
       "          3.,   0.,   1.,  15.,   6.,   5.,   1.,   2.,   4.,   7.,   3.,\n",
       "          3.,  23.,   3.,   8.,   2.,   9.,   1.,   2.,  21.,   0.,   3.,\n",
       "         16.,   0.,   1.,   9.,   6.,   7.,  17.,   4.,   6.,   3.,   2.,\n",
       "          7.,   2.,  27.,   4.,   4.,   7.,   7.,   4.,   3.,   1.,   8.,\n",
       "          8.,   5.,   0.,   6.,   2.,   9.,  21.,   4.,   4.,  12.,   8.,\n",
       "          2.,   4.,   3.,   5.,   4.,   0.,  10.,   3.,   1.,   0.,   8.,\n",
       "          2.,   4.,   6.,   4.,   0.,   5.,   3.,   1.,   3.,   1.,   2.,\n",
       "          2.,   1.,   2.,   2.,   0.,   4.,   0.,   2.,   0.,   1.,   0.,\n",
       "         52.]),\n",
       " array([0.  , 0.01, 0.02, 0.03, 0.04, 0.05, 0.06, 0.07, 0.08, 0.09, 0.1 ,\n",
       "        0.11, 0.12, 0.13, 0.14, 0.15, 0.16, 0.17, 0.18, 0.19, 0.2 , 0.21,\n",
       "        0.22, 0.23, 0.24, 0.25, 0.26, 0.27, 0.28, 0.29, 0.3 , 0.31, 0.32,\n",
       "        0.33, 0.34, 0.35, 0.36, 0.37, 0.38, 0.39, 0.4 , 0.41, 0.42, 0.43,\n",
       "        0.44, 0.45, 0.46, 0.47, 0.48, 0.49, 0.5 , 0.51, 0.52, 0.53, 0.54,\n",
       "        0.55, 0.56, 0.57, 0.58, 0.59, 0.6 , 0.61, 0.62, 0.63, 0.64, 0.65,\n",
       "        0.66, 0.67, 0.68, 0.69, 0.7 , 0.71, 0.72, 0.73, 0.74, 0.75, 0.76,\n",
       "        0.77, 0.78, 0.79, 0.8 , 0.81, 0.82, 0.83, 0.84, 0.85, 0.86, 0.87,\n",
       "        0.88, 0.89, 0.9 , 0.91, 0.92, 0.93, 0.94, 0.95, 0.96, 0.97, 0.98,\n",
       "        0.99, 1.  ]),\n",
       " <a list of 100 Patch objects>)"
      ]
     },
     "execution_count": 58,
     "metadata": {},
     "output_type": "execute_result"
    },
    {
     "data": {
      "image/png": "[encoded data removed]",
      "text/plain": [
       "<Figure size 432x288 with 1 Axes>"
      ]
     },
     "metadata": {
      "needs_background": "light"
     },
     "output_type": "display_data"
    }
   ],
   "source": [
    "plt.hist(dcgs, bins=100)"
   ]
  },
  {
   "cell_type": "code",
   "execution_count": 45,
   "metadata": {},
   "outputs": [
    {
     "data": {
      "text/plain": [
       "(array([543.,  37.,  61.,  81.,  66.,  46.,  70.,  38.,  22.,  62.]),\n",
       " array([0. , 0.1, 0.2, 0.3, 0.4, 0.5, 0.6, 0.7, 0.8, 0.9, 1. ]),\n",
       " <a list of 10 Patch objects>)"
      ]
     },
     "execution_count": 45,
     "metadata": {},
     "output_type": "execute_result"
    },
    {
     "data": {
      "image/png": "[encoded data removed]",
      "text/plain": [
       "<Figure size 432x288 with 1 Axes>"
      ]
     },
     "metadata": {
      "needs_background": "light"
     },
     "output_type": "display_data"
    }
   ],
   "source": [
    "plt.hist(dcgs)"
   ]
  },
  {
   "cell_type": "code",
   "execution_count": 94,
   "metadata": {},
   "outputs": [
    {
     "ename": "KeyboardInterrupt",
     "evalue": "",
     "output_type": "error",
     "traceback": [
      "\u001b[0;31m---------------------------------------------------------------------------\u001b[0m",
      "\u001b[0;31mKeyboardInterrupt\u001b[0m                         Traceback (most recent call last)",
      "\u001b[0;32m<timed exec>\u001b[0m in \u001b[0;36m<module>\u001b[0;34m\u001b[0m\n",
      "\u001b[0;32m<ipython-input-53-7e9d9acf4bb3>\u001b[0m in \u001b[0;36mread_comp_pkl\u001b[0;34m(path)\u001b[0m\n\u001b[1;32m      1\u001b[0m \u001b[0;32mdef\u001b[0m \u001b[0mread_comp_pkl\u001b[0m\u001b[0;34m(\u001b[0m\u001b[0mpath\u001b[0m\u001b[0;34m)\u001b[0m\u001b[0;34m:\u001b[0m\u001b[0;34m\u001b[0m\u001b[0;34m\u001b[0m\u001b[0m\n\u001b[1;32m      2\u001b[0m     \u001b[0;32mwith\u001b[0m \u001b[0mopen\u001b[0m\u001b[0;34m(\u001b[0m\u001b[0mpath\u001b[0m\u001b[0;34m,\u001b[0m \u001b[0mmode\u001b[0m\u001b[0;34m=\u001b[0m\u001b[0;34m\"rb\"\u001b[0m\u001b[0;34m)\u001b[0m \u001b[0;32mas\u001b[0m \u001b[0mf\u001b[0m\u001b[0;34m:\u001b[0m\u001b[0;34m\u001b[0m\u001b[0;34m\u001b[0m\u001b[0m\n\u001b[0;32m----> 3\u001b[0;31m         \u001b[0mretval\u001b[0m \u001b[0;34m=\u001b[0m \u001b[0mjoblib\u001b[0m\u001b[0;34m.\u001b[0m\u001b[0mload\u001b[0m\u001b[0;34m(\u001b[0m\u001b[0mf\u001b[0m\u001b[0;34m)\u001b[0m\u001b[0;34m\u001b[0m\u001b[0;34m\u001b[0m\u001b[0m\n\u001b[0m\u001b[1;32m      4\u001b[0m     \u001b[0;32mreturn\u001b[0m \u001b[0mretval\u001b[0m\u001b[0;34m\u001b[0m\u001b[0;34m\u001b[0m\u001b[0m\n",
      "\u001b[0;32m~/.pyenv/versions/3.7.5/lib/python3.7/site-packages/joblib/numpy_pickle.py\u001b[0m in \u001b[0;36mload\u001b[0;34m(filename, mmap_mode)\u001b[0m\n\u001b[1;32m    593\u001b[0m         \u001b[0mfilename\u001b[0m \u001b[0;34m=\u001b[0m \u001b[0mgetattr\u001b[0m\u001b[0;34m(\u001b[0m\u001b[0mfobj\u001b[0m\u001b[0;34m,\u001b[0m \u001b[0;34m'name'\u001b[0m\u001b[0;34m,\u001b[0m \u001b[0;34m''\u001b[0m\u001b[0;34m)\u001b[0m\u001b[0;34m\u001b[0m\u001b[0;34m\u001b[0m\u001b[0m\n\u001b[1;32m    594\u001b[0m         \u001b[0;32mwith\u001b[0m \u001b[0m_read_fileobject\u001b[0m\u001b[0;34m(\u001b[0m\u001b[0mfobj\u001b[0m\u001b[0;34m,\u001b[0m \u001b[0mfilename\u001b[0m\u001b[0;34m,\u001b[0m \u001b[0mmmap_mode\u001b[0m\u001b[0;34m)\u001b[0m \u001b[0;32mas\u001b[0m \u001b[0mfobj\u001b[0m\u001b[0;34m:\u001b[0m\u001b[0;34m\u001b[0m\u001b[0;34m\u001b[0m\u001b[0m\n\u001b[0;32m--> 595\u001b[0;31m             \u001b[0mobj\u001b[0m \u001b[0;34m=\u001b[0m \u001b[0m_unpickle\u001b[0m\u001b[0;34m(\u001b[0m\u001b[0mfobj\u001b[0m\u001b[0;34m)\u001b[0m\u001b[0;34m\u001b[0m\u001b[0;34m\u001b[0m\u001b[0m\n\u001b[0m\u001b[1;32m    596\u001b[0m     \u001b[0;32melse\u001b[0m\u001b[0;34m:\u001b[0m\u001b[0;34m\u001b[0m\u001b[0;34m\u001b[0m\u001b[0m\n\u001b[1;32m    597\u001b[0m         \u001b[0;32mwith\u001b[0m \u001b[0mopen\u001b[0m\u001b[0;34m(\u001b[0m\u001b[0mfilename\u001b[0m\u001b[0;34m,\u001b[0m \u001b[0;34m'rb'\u001b[0m\u001b[0;34m)\u001b[0m \u001b[0;32mas\u001b[0m \u001b[0mf\u001b[0m\u001b[0;34m:\u001b[0m\u001b[0;34m\u001b[0m\u001b[0;34m\u001b[0m\u001b[0m\n",
      "\u001b[0;32m~/.pyenv/versions/3.7.5/lib/python3.7/site-packages/joblib/numpy_pickle.py\u001b[0m in \u001b[0;36m_unpickle\u001b[0;34m(fobj, filename, mmap_mode)\u001b[0m\n\u001b[1;32m    527\u001b[0m     \u001b[0mobj\u001b[0m \u001b[0;34m=\u001b[0m \u001b[0;32mNone\u001b[0m\u001b[0;34m\u001b[0m\u001b[0;34m\u001b[0m\u001b[0m\n\u001b[1;32m    528\u001b[0m     \u001b[0;32mtry\u001b[0m\u001b[0;34m:\u001b[0m\u001b[0;34m\u001b[0m\u001b[0;34m\u001b[0m\u001b[0m\n\u001b[0;32m--> 529\u001b[0;31m         \u001b[0mobj\u001b[0m \u001b[0;34m=\u001b[0m \u001b[0munpickler\u001b[0m\u001b[0;34m.\u001b[0m\u001b[0mload\u001b[0m\u001b[0;34m(\u001b[0m\u001b[0;34m)\u001b[0m\u001b[0;34m\u001b[0m\u001b[0;34m\u001b[0m\u001b[0m\n\u001b[0m\u001b[1;32m    530\u001b[0m         \u001b[0;32mif\u001b[0m \u001b[0munpickler\u001b[0m\u001b[0;34m.\u001b[0m\u001b[0mcompat_mode\u001b[0m\u001b[0;34m:\u001b[0m\u001b[0;34m\u001b[0m\u001b[0;34m\u001b[0m\u001b[0m\n\u001b[1;32m    531\u001b[0m             warnings.warn(\"The file '%s' has been generated with a \"\n",
      "\u001b[0;32m~/.pyenv/versions/3.7.5/lib/python3.7/pickle.py\u001b[0m in \u001b[0;36mload\u001b[0;34m(self)\u001b[0m\n\u001b[1;32m   1086\u001b[0m                     \u001b[0;32mraise\u001b[0m \u001b[0mEOFError\u001b[0m\u001b[0;34m\u001b[0m\u001b[0;34m\u001b[0m\u001b[0m\n\u001b[1;32m   1087\u001b[0m                 \u001b[0;32massert\u001b[0m \u001b[0misinstance\u001b[0m\u001b[0;34m(\u001b[0m\u001b[0mkey\u001b[0m\u001b[0;34m,\u001b[0m \u001b[0mbytes_types\u001b[0m\u001b[0;34m)\u001b[0m\u001b[0;34m\u001b[0m\u001b[0;34m\u001b[0m\u001b[0m\n\u001b[0;32m-> 1088\u001b[0;31m                 \u001b[0mdispatch\u001b[0m\u001b[0;34m[\u001b[0m\u001b[0mkey\u001b[0m\u001b[0;34m[\u001b[0m\u001b[0;36m0\u001b[0m\u001b[0;34m]\u001b[0m\u001b[0;34m]\u001b[0m\u001b[0;34m(\u001b[0m\u001b[0mself\u001b[0m\u001b[0;34m)\u001b[0m\u001b[0;34m\u001b[0m\u001b[0;34m\u001b[0m\u001b[0m\n\u001b[0m\u001b[1;32m   1089\u001b[0m         \u001b[0;32mexcept\u001b[0m \u001b[0m_Stop\u001b[0m \u001b[0;32mas\u001b[0m \u001b[0mstopinst\u001b[0m\u001b[0;34m:\u001b[0m\u001b[0;34m\u001b[0m\u001b[0;34m\u001b[0m\u001b[0m\n\u001b[1;32m   1090\u001b[0m             \u001b[0;32mreturn\u001b[0m \u001b[0mstopinst\u001b[0m\u001b[0;34m.\u001b[0m\u001b[0mvalue\u001b[0m\u001b[0;34m\u001b[0m\u001b[0;34m\u001b[0m\u001b[0m\n",
      "\u001b[0;32m~/.pyenv/versions/3.7.5/lib/python3.7/site-packages/joblib/numpy_pickle.py\u001b[0m in \u001b[0;36mload_build\u001b[0;34m(self)\u001b[0m\n\u001b[1;32m    353\u001b[0m             \u001b[0;32mif\u001b[0m \u001b[0misinstance\u001b[0m\u001b[0;34m(\u001b[0m\u001b[0marray_wrapper\u001b[0m\u001b[0;34m,\u001b[0m \u001b[0mNDArrayWrapper\u001b[0m\u001b[0;34m)\u001b[0m\u001b[0;34m:\u001b[0m\u001b[0;34m\u001b[0m\u001b[0;34m\u001b[0m\u001b[0m\n\u001b[1;32m    354\u001b[0m                 \u001b[0mself\u001b[0m\u001b[0;34m.\u001b[0m\u001b[0mcompat_mode\u001b[0m \u001b[0;34m=\u001b[0m \u001b[0;32mTrue\u001b[0m\u001b[0;34m\u001b[0m\u001b[0;34m\u001b[0m\u001b[0m\n\u001b[0;32m--> 355\u001b[0;31m             \u001b[0mself\u001b[0m\u001b[0;34m.\u001b[0m\u001b[0mstack\u001b[0m\u001b[0;34m.\u001b[0m\u001b[0mappend\u001b[0m\u001b[0;34m(\u001b[0m\u001b[0marray_wrapper\u001b[0m\u001b[0;34m.\u001b[0m\u001b[0mread\u001b[0m\u001b[0;34m(\u001b[0m\u001b[0mself\u001b[0m\u001b[0;34m)\u001b[0m\u001b[0;34m)\u001b[0m\u001b[0;34m\u001b[0m\u001b[0;34m\u001b[0m\u001b[0m\n\u001b[0m\u001b[1;32m    356\u001b[0m \u001b[0;34m\u001b[0m\u001b[0m\n\u001b[1;32m    357\u001b[0m     \u001b[0;31m# Be careful to register our new method.\u001b[0m\u001b[0;34m\u001b[0m\u001b[0;34m\u001b[0m\u001b[0;34m\u001b[0m\u001b[0m\n",
      "\u001b[0;32m~/.pyenv/versions/3.7.5/lib/python3.7/site-packages/joblib/numpy_pickle.py\u001b[0m in \u001b[0;36mread\u001b[0;34m(self, unpickler)\u001b[0m\n\u001b[1;32m    196\u001b[0m             \u001b[0marray\u001b[0m \u001b[0;34m=\u001b[0m \u001b[0mself\u001b[0m\u001b[0;34m.\u001b[0m\u001b[0mread_mmap\u001b[0m\u001b[0;34m(\u001b[0m\u001b[0munpickler\u001b[0m\u001b[0;34m)\u001b[0m\u001b[0;34m\u001b[0m\u001b[0;34m\u001b[0m\u001b[0m\n\u001b[1;32m    197\u001b[0m         \u001b[0;32melse\u001b[0m\u001b[0;34m:\u001b[0m\u001b[0;34m\u001b[0m\u001b[0;34m\u001b[0m\u001b[0m\n\u001b[0;32m--> 198\u001b[0;31m             \u001b[0marray\u001b[0m \u001b[0;34m=\u001b[0m \u001b[0mself\u001b[0m\u001b[0;34m.\u001b[0m\u001b[0mread_array\u001b[0m\u001b[0;34m(\u001b[0m\u001b[0munpickler\u001b[0m\u001b[0;34m)\u001b[0m\u001b[0;34m\u001b[0m\u001b[0;34m\u001b[0m\u001b[0m\n\u001b[0m\u001b[1;32m    199\u001b[0m \u001b[0;34m\u001b[0m\u001b[0m\n\u001b[1;32m    200\u001b[0m         \u001b[0;31m# Manage array subclass case\u001b[0m\u001b[0;34m\u001b[0m\u001b[0;34m\u001b[0m\u001b[0;34m\u001b[0m\u001b[0m\n",
      "\u001b[0;32m~/.pyenv/versions/3.7.5/lib/python3.7/site-packages/joblib/numpy_pickle.py\u001b[0m in \u001b[0;36mread_array\u001b[0;34m(self, unpickler)\u001b[0m\n\u001b[1;32m    147\u001b[0m                     \u001b[0mread_size\u001b[0m \u001b[0;34m=\u001b[0m \u001b[0mint\u001b[0m\u001b[0;34m(\u001b[0m\u001b[0mread_count\u001b[0m \u001b[0;34m*\u001b[0m \u001b[0mself\u001b[0m\u001b[0;34m.\u001b[0m\u001b[0mdtype\u001b[0m\u001b[0;34m.\u001b[0m\u001b[0mitemsize\u001b[0m\u001b[0;34m)\u001b[0m\u001b[0;34m\u001b[0m\u001b[0;34m\u001b[0m\u001b[0m\n\u001b[1;32m    148\u001b[0m                     data = _read_bytes(unpickler.file_handle,\n\u001b[0;32m--> 149\u001b[0;31m                                        read_size, \"array data\")\n\u001b[0m\u001b[1;32m    150\u001b[0m                     \u001b[0marray\u001b[0m\u001b[0;34m[\u001b[0m\u001b[0mi\u001b[0m\u001b[0;34m:\u001b[0m\u001b[0mi\u001b[0m \u001b[0;34m+\u001b[0m \u001b[0mread_count\u001b[0m\u001b[0;34m]\u001b[0m \u001b[0;34m=\u001b[0m\u001b[0;31m \u001b[0m\u001b[0;31m\\\u001b[0m\u001b[0;34m\u001b[0m\u001b[0;34m\u001b[0m\u001b[0m\n\u001b[1;32m    151\u001b[0m                         unpickler.np.frombuffer(data, dtype=self.dtype,\n",
      "\u001b[0;32m~/.pyenv/versions/3.7.5/lib/python3.7/site-packages/joblib/numpy_pickle_utils.py\u001b[0m in \u001b[0;36m_read_bytes\u001b[0;34m(fp, size, error_template)\u001b[0m\n\u001b[1;32m    233\u001b[0m         \u001b[0;31m# done about that.  note that regular files can't be non-blocking\u001b[0m\u001b[0;34m\u001b[0m\u001b[0;34m\u001b[0m\u001b[0;34m\u001b[0m\u001b[0m\n\u001b[1;32m    234\u001b[0m         \u001b[0;32mtry\u001b[0m\u001b[0;34m:\u001b[0m\u001b[0;34m\u001b[0m\u001b[0;34m\u001b[0m\u001b[0m\n\u001b[0;32m--> 235\u001b[0;31m             \u001b[0mr\u001b[0m \u001b[0;34m=\u001b[0m \u001b[0mfp\u001b[0m\u001b[0;34m.\u001b[0m\u001b[0mread\u001b[0m\u001b[0;34m(\u001b[0m\u001b[0msize\u001b[0m \u001b[0;34m-\u001b[0m \u001b[0mlen\u001b[0m\u001b[0;34m(\u001b[0m\u001b[0mdata\u001b[0m\u001b[0;34m)\u001b[0m\u001b[0;34m)\u001b[0m\u001b[0;34m\u001b[0m\u001b[0;34m\u001b[0m\u001b[0m\n\u001b[0m\u001b[1;32m    236\u001b[0m             \u001b[0mdata\u001b[0m \u001b[0;34m+=\u001b[0m \u001b[0mr\u001b[0m\u001b[0;34m\u001b[0m\u001b[0;34m\u001b[0m\u001b[0m\n\u001b[1;32m    237\u001b[0m             \u001b[0;32mif\u001b[0m \u001b[0mlen\u001b[0m\u001b[0;34m(\u001b[0m\u001b[0mr\u001b[0m\u001b[0;34m)\u001b[0m \u001b[0;34m==\u001b[0m \u001b[0;36m0\u001b[0m \u001b[0;32mor\u001b[0m \u001b[0mlen\u001b[0m\u001b[0;34m(\u001b[0m\u001b[0mdata\u001b[0m\u001b[0;34m)\u001b[0m \u001b[0;34m==\u001b[0m \u001b[0msize\u001b[0m\u001b[0;34m:\u001b[0m\u001b[0;34m\u001b[0m\u001b[0;34m\u001b[0m\u001b[0m\n",
      "\u001b[0;32m~/.pyenv/versions/3.7.5/lib/python3.7/site-packages/joblib/compressor.py\u001b[0m in \u001b[0;36mreadinto\u001b[0;34m(self, b)\u001b[0m\n\u001b[1;32m    491\u001b[0m         \"\"\"\n\u001b[1;32m    492\u001b[0m         \u001b[0;32mwith\u001b[0m \u001b[0mself\u001b[0m\u001b[0;34m.\u001b[0m\u001b[0m_lock\u001b[0m\u001b[0;34m:\u001b[0m\u001b[0;34m\u001b[0m\u001b[0;34m\u001b[0m\u001b[0m\n\u001b[0;32m--> 493\u001b[0;31m             \u001b[0;32mreturn\u001b[0m \u001b[0mio\u001b[0m\u001b[0;34m.\u001b[0m\u001b[0mBufferedIOBase\u001b[0m\u001b[0;34m.\u001b[0m\u001b[0mreadinto\u001b[0m\u001b[0;34m(\u001b[0m\u001b[0mself\u001b[0m\u001b[0;34m,\u001b[0m \u001b[0mb\u001b[0m\u001b[0;34m)\u001b[0m\u001b[0;34m\u001b[0m\u001b[0;34m\u001b[0m\u001b[0m\n\u001b[0m\u001b[1;32m    494\u001b[0m \u001b[0;34m\u001b[0m\u001b[0m\n\u001b[1;32m    495\u001b[0m     \u001b[0;32mdef\u001b[0m \u001b[0mwrite\u001b[0m\u001b[0;34m(\u001b[0m\u001b[0mself\u001b[0m\u001b[0;34m,\u001b[0m \u001b[0mdata\u001b[0m\u001b[0;34m)\u001b[0m\u001b[0;34m:\u001b[0m\u001b[0;34m\u001b[0m\u001b[0;34m\u001b[0m\u001b[0m\n",
      "\u001b[0;31mKeyboardInterrupt\u001b[0m: "
     ]
    }
   ],
   "source": [
    "%%time\n",
    "## 件数を取得\n",
    "dset_types = [\"valid_for_sub\"]\n",
    "for dset_type in dset_types:\n",
    "    cnt_sum = 0\n",
    "    for i, path in enumerate(pathlib.Path(IMD_ARCHIVE_DIR + f\"/{dset_type}/\").iterdir()):\n",
    "        if os.path.basename(path) == \".DS_Store\": continue\n",
    "        cnt_sum += read_comp_pkl(path).shape[0]\n",
    "\n",
    "print(cnt_sum)"
   ]
  },
  {
   "cell_type": "code",
   "execution_count": 12,
   "metadata": {},
   "outputs": [
    {
     "name": "stdout",
     "output_type": "stream",
     "text": [
      "valid_for_sub\n",
      "91044\n",
      "44055\n"
     ]
    }
   ],
   "source": [
    "# フィルターをかける前のデータにどのくらいの正解データがあるか\n",
    "dset_types = [\"valid_for_sub\"]\n",
    "for dset_type in dset_types:\n",
    "    target_actions_cnt = 0\n",
    "    target_actions_pair = (\n",
    "        extract_target_actions(watch, bid, dset_to_period[dset_type])[[\"AuctionID\", \"KaiinID\"]].drop_duplicates()\n",
    "    )\n",
    "    for i, path in enumerate(pathlib.Path(IMD_ARCHIVE_DIR + f\"/watch_{dset_type}_feature_pred/\").iterdir()):\n",
    "        if os.path.basename(path) == \".DS_Store\": continue\n",
    "        splited_action_cands = pd.read_pickle(path)\n",
    "        target_actions_cnt += splited_action_cands[[\"AuctionID\", \"KaiinID\"]].merge(target_actions_pair, on=[\"AuctionID\", \"KaiinID\"]).shape[0]\n",
    "    print(dset_type)\n",
    "    print(target_actions_pair.shape[0])\n",
    "    print(target_actions_cnt)"
   ]
  },
  {
   "cell_type": "code",
   "execution_count": 19,
   "metadata": {},
   "outputs": [
    {
     "name": "stdout",
     "output_type": "stream",
     "text": [
      "valid_for_sub\n",
      "91044\n",
      "15846\n"
     ]
    }
   ],
   "source": [
    "## フィルターをかけた後にどのくらいの正解データがあるか\n",
    "dset_types = [\"valid_for_sub\"]\n",
    "for dset_type in dset_types:\n",
    "    choiced = pd.read_pickle(IMD_RANK_WEEKLY_DIR +  f\"/watch_{dset_type}.pkl\")[[\"AuctionID\", \"KaiinID\"]]\n",
    "    target_actions_pair = (\n",
    "        extract_target_actions(watch, bid, dset_to_period[dset_type])[[\"AuctionID\", \"KaiinID\"]].drop_duplicates()\n",
    "    )\n",
    "    print(dset_type)\n",
    "    print(target_actions_pair.shape[0])\n",
    "    print(choiced.merge(target_actions_pair, on=[\"AuctionID\", \"KaiinID\"]).shape[0])"
   ]
  },
  {
   "cell_type": "code",
   "execution_count": 32,
   "metadata": {},
   "outputs": [
    {
     "name": "stderr",
     "output_type": "stream",
     "text": [
      "/Users/nobuyuki.ishida/.pyenv/versions/3.7.5/lib/python3.7/site-packages/ipykernel_launcher.py:12: FutureWarning: Sorting because non-concatenation axis is not aligned. A future version\n",
      "of pandas will change to not sort by default.\n",
      "\n",
      "To accept the future behavior, pass 'sort=False'.\n",
      "\n",
      "To retain the current behavior and silence the warning, pass 'sort=True'.\n",
      "\n",
      "  if sys.path[0] == '':\n"
     ]
    },
    {
     "name": "stdout",
     "output_type": "stream",
     "text": [
      "valid_for_sub\n",
      "3445777\n",
      "91044\n",
      "6731\n"
     ]
    }
   ],
   "source": [
    "## 商品紐付けのみでどのくらいの正解データがあるか\n",
    "dset_types = [\"valid_for_sub\"]\n",
    "for dset_type in dset_types:\n",
    "    target_actions_pair = (\n",
    "        extract_target_actions(watch, bid, dset_to_period[dset_type])[[\"AuctionID\", \"KaiinID\"]].drop_duplicates()\n",
    "    )\n",
    "    watch_arranged, bid_arranged, auction_arranged, target_actions = (\n",
    "        arrange_inputs(watch=watch, bid=bid, auction=auction, period=dset_to_period[dset_type])\n",
    "    )\n",
    "    similar_aucs = extract_similar_aucs(\n",
    "        target_users=target_actions_pair[[\"KaiinID\"]].drop_duplicates(), auction=auction,\n",
    "        actions=pd.concat([watch_arranged, bid_arranged])[[\"KaiinID\", \"ShouhinID\"]].drop_duplicates(), period=dset_to_period[dset_type]\n",
    "    )\n",
    "\n",
    "    print(dset_type)\n",
    "    print(similar_aucs.shape[0])\n",
    "    print(target_actions_pair.shape[0])\n",
    "    print(similar_aucs.merge(target_actions_pair, on=[\"AuctionID\", \"KaiinID\"]).shape[0])"
   ]
  },
  {
   "cell_type": "code",
   "execution_count": null,
   "metadata": {},
   "outputs": [],
   "source": []
  },
  {
   "cell_type": "code",
   "execution_count": 299,
   "metadata": {},
   "outputs": [
    {
     "name": "stdout",
     "output_type": "stream",
     "text": [
      "watch\n",
      "auc :  0.8984988936359313\n"
     ]
    },
    {
     "data": {
      "image/png": "[encoded data removed]",
      "text/plain": [
       "<Figure size 432x288 with 1 Axes>"
      ]
     },
     "metadata": {
      "needs_background": "light"
     },
     "output_type": "display_data"
    }
   ],
   "source": [
    "# 推定の精度\n",
    "tmp = pd.read_pickle(path)\n",
    "sub_dataset = be.DataSet(data=tmp, drop_cols=drop_cols, target_col=target_col)\n",
    "\n",
    "target = \"watch\"\n",
    "dataset = sub_dataset\n",
    "print(target)\n",
    "print(\"auc : \", roc_auc_score(dataset.get_target(), dataset.data.pred))\n",
    "be.plot_roc_curve(dataset.get_target(), dataset.data.pred)\n",
    "be.plot_tpr_fpr(dataset.get_target(), dataset.data.pred)"
   ]
  },
  {
   "cell_type": "code",
   "execution_count": 9,
   "metadata": {},
   "outputs": [],
   "source": [
    "tmp = pd.read_pickle(IMD_ARCHIVE_DIR + \"/valid_for_train_feature_pred/split_cands_0.pkl\")"
   ]
  },
  {
   "cell_type": "code",
   "execution_count": null,
   "metadata": {},
   "outputs": [],
   "source": []
  }
 ],
 "metadata": {
  "kernelspec": {
   "display_name": "Python 3",
   "language": "python",
   "name": "python3"
  },
  "language_info": {
   "codemirror_mode": {
    "name": "ipython",
    "version": 3
   },
   "file_extension": ".py",
   "mimetype": "text/x-python",
   "name": "python",
   "nbconvert_exporter": "python",
   "pygments_lexer": "ipython3",
   "version": "3.7.5"
  }
 },
 "nbformat": 4,
 "nbformat_minor": 2
}
