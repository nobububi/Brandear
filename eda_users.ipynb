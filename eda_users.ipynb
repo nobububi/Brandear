{
 "cells": [
  {
   "cell_type": "code",
   "execution_count": 1,
   "metadata": {},
   "outputs": [],
   "source": [
    "from os.path import dirname\n",
    "import os\n",
    "import datetime\n",
    "from dateutil.relativedelta import relativedelta\n",
    "\n",
    "import pandas as pd\n",
    "import numpy as np\n",
    "import matplotlib.pyplot as plt\n",
    "import lightgbm as lgb"
   ]
  },
  {
   "cell_type": "code",
   "execution_count": 2,
   "metadata": {},
   "outputs": [],
   "source": [
    "pd.set_option('display.max_columns', 50)"
   ]
  },
  {
   "cell_type": "code",
   "execution_count": 3,
   "metadata": {},
   "outputs": [],
   "source": [
    "%load_ext autoreload\n",
    "%autoreload 2\n",
    "import brandear_est as be"
   ]
  },
  {
   "cell_type": "code",
   "execution_count": 4,
   "metadata": {},
   "outputs": [],
   "source": [
    "MIMIC_DIR = os.path.join(os.getcwd(), \"../../data/mimic/\")\n",
    "INPUT_DIR = os.path.join(os.getcwd(), \"../../data/input/\")\n",
    "IMD_DIR = os.path.join(os.getcwd(), \"../../data/intermediate/\")\n",
    "SUBMIT_DIR = os.path.join(os.getcwd(), \"../../data/submit/\")\n",
    "\n",
    "dset_to_period = {\n",
    "    \"train\": {\"oldest\": datetime.datetime(2019, 9, 3, 0, 0, 0),\n",
    "              \"newest\": datetime.datetime(2019, 9, 10, 0, 0, 0)},\n",
    "    \"valid_for_train\": {\"oldest\": datetime.datetime(2019, 9, 10, 0, 0, 0),\n",
    "              \"newest\": datetime.datetime(2019, 9, 17, 0, 0, 0),},    \n",
    "    \"valid_for_sub\": {\"oldest\": datetime.datetime(2019, 9, 17, 0, 0, 0),\n",
    "              \"newest\": datetime.datetime(2019, 9, 24, 0, 0, 0),},\n",
    "    \"submission\": {\"oldest\": datetime.datetime(2019, 9, 24, 0, 0, 0),\n",
    "              \"newest\": datetime.datetime(2019, 10, 1, 0, 0, 0),},    \n",
    "}"
   ]
  },
  {
   "cell_type": "code",
   "execution_count": 5,
   "metadata": {},
   "outputs": [],
   "source": [
    "# 元データ読み込み\n",
    "auction= pd.read_pickle(IMD_DIR + \"202001171749\" + \"_auction.pkl\")\n",
    "watch= pd.read_pickle(IMD_DIR + \"202001171749\" + \"_watch.pkl\")\n",
    "bid= pd.read_pickle(IMD_DIR + \"202001171749\" + \"_bid.pkl\")\n",
    "bid_success= pd.read_pickle(IMD_DIR + \"202001171749\" + \"_bid_success.pkl\")\n",
    "sample_sub = pd.read_csv(INPUT_DIR + \"sample_submission.csv\")    \n",
    "\n",
    "sub_users = sample_sub[[\"KaiinID\"]].drop_duplicates()\n"
   ]
  },
  {
   "cell_type": "code",
   "execution_count": 6,
   "metadata": {},
   "outputs": [],
   "source": [
    "# 特徴量計算対象データセット作成\n",
    "train_dataset_base= pd.read_pickle(IMD_DIR + \"202001201749\" + \"_train_dataset_base.pkl\")\n",
    "vt_dataset_base= pd.read_pickle(IMD_DIR + \"202001201749\" + \"_vt_dataset_base.pkl\")\n",
    "vs_dataset_base= pd.read_pickle(IMD_DIR + \"202001201749\" + \"_vs_dataset_base.pkl\")\n",
    "sub_dataset_base= pd.read_pickle(IMD_DIR + \"202001201749\" + \"_sub_dataset_base.pkl\") "
   ]
  },
  {
   "cell_type": "code",
   "execution_count": 7,
   "metadata": {},
   "outputs": [],
   "source": [
    "# 特徴量計算\n",
    "#     train_dataset = pd.read_pickle(IMD_DIR + \"202001201925\" + \"_train_dataset.pkl\")\n",
    "vt_dataset = pd.read_pickle(IMD_DIR + \"202001211552\" + \"_vt_dataset.pkl\")\n",
    "vs_dataset = pd.read_pickle(IMD_DIR + \"202001211552\" + \"_vs_dataset.pkl\")\n",
    "sub_dataset = pd.read_pickle(IMD_DIR + \"202001211552\" + \"_sub_dataset.pkl\") "
   ]
  },
  {
   "cell_type": "code",
   "execution_count": null,
   "metadata": {},
   "outputs": [],
   "source": []
  },
  {
   "cell_type": "code",
   "execution_count": 117,
   "metadata": {},
   "outputs": [
    {
     "data": {
      "text/html": [
       "<div>\n",
       "<style scoped>\n",
       "    .dataframe tbody tr th:only-of-type {\n",
       "        vertical-align: middle;\n",
       "    }\n",
       "\n",
       "    .dataframe tbody tr th {\n",
       "        vertical-align: top;\n",
       "    }\n",
       "\n",
       "    .dataframe thead th {\n",
       "        text-align: right;\n",
       "    }\n",
       "</style>\n",
       "<table border=\"1\" class=\"dataframe\">\n",
       "  <thead>\n",
       "    <tr style=\"text-align: right;\">\n",
       "      <th></th>\n",
       "      <th>KaiinID</th>\n",
       "      <th>AuctionID</th>\n",
       "      <th>watch_actioned</th>\n",
       "      <th>bid_actioned</th>\n",
       "    </tr>\n",
       "  </thead>\n",
       "  <tbody>\n",
       "    <tr>\n",
       "      <th>0</th>\n",
       "      <td>53</td>\n",
       "      <td>1819</td>\n",
       "      <td>0.0</td>\n",
       "      <td>0.0</td>\n",
       "    </tr>\n",
       "    <tr>\n",
       "      <th>1</th>\n",
       "      <td>53</td>\n",
       "      <td>2927</td>\n",
       "      <td>0.0</td>\n",
       "      <td>0.0</td>\n",
       "    </tr>\n",
       "    <tr>\n",
       "      <th>2</th>\n",
       "      <td>53</td>\n",
       "      <td>3786</td>\n",
       "      <td>0.0</td>\n",
       "      <td>0.0</td>\n",
       "    </tr>\n",
       "    <tr>\n",
       "      <th>3</th>\n",
       "      <td>53</td>\n",
       "      <td>4282</td>\n",
       "      <td>0.0</td>\n",
       "      <td>0.0</td>\n",
       "    </tr>\n",
       "    <tr>\n",
       "      <th>4</th>\n",
       "      <td>53</td>\n",
       "      <td>6614</td>\n",
       "      <td>0.0</td>\n",
       "      <td>0.0</td>\n",
       "    </tr>\n",
       "  </tbody>\n",
       "</table>\n",
       "</div>"
      ],
      "text/plain": [
       "   KaiinID  AuctionID  watch_actioned  bid_actioned\n",
       "0       53       1819             0.0           0.0\n",
       "1       53       2927             0.0           0.0\n",
       "2       53       3786             0.0           0.0\n",
       "3       53       4282             0.0           0.0\n",
       "4       53       6614             0.0           0.0"
      ]
     },
     "execution_count": 117,
     "metadata": {},
     "output_type": "execute_result"
    }
   ],
   "source": [
    "vt_dataset_base.head()"
   ]
  },
  {
   "cell_type": "code",
   "execution_count": null,
   "metadata": {},
   "outputs": [],
   "source": []
  },
  {
   "cell_type": "code",
   "execution_count": 8,
   "metadata": {},
   "outputs": [],
   "source": [
    "watch_auc = watch.merge(auction, on=\"AuctionID\", how=\"inner\")"
   ]
  },
  {
   "cell_type": "code",
   "execution_count": 9,
   "metadata": {},
   "outputs": [],
   "source": [
    "target_actions = be.extract_target_actions(watch, bid, dset_to_period[\"valid_for_sub\"])\n",
    "target_users = target_actions[[\"KaiinID\"]].drop_duplicates()"
   ]
  },
  {
   "cell_type": "code",
   "execution_count": 10,
   "metadata": {},
   "outputs": [],
   "source": [
    "valid_aucs = be.extract_valid_aucs(auction, watch, bid_success, dset_to_period[\"valid_for_sub\"])"
   ]
  },
  {
   "cell_type": "code",
   "execution_count": 11,
   "metadata": {},
   "outputs": [],
   "source": [
    "def get_mode_pairs(watch_auc, target_users, valid_aucs, key):\n",
    "    user_modes= (\n",
    "        watch_auc.merge(target_users, on=[\"KaiinID\"], how=\"inner\")[[\"KaiinID\", key]]\n",
    "        .groupby([\"KaiinID\", key], as_index=False).size().unstack().idxmax(1).reset_index()\n",
    "        .rename(columns={0: key})\n",
    "    )\n",
    "    mode_pairs = (\n",
    "        auction[[key, \"AuctionID\"]].merge(valid_aucs, on=\"AuctionID\", how=\"inner\")\n",
    "        .merge(user_modes, on=key, how=\"inner\")\n",
    "    )\n",
    "    return mode_pairs"
   ]
  },
  {
   "cell_type": "code",
   "execution_count": 52,
   "metadata": {},
   "outputs": [],
   "source": [
    "def get_user_mode(watch_auc, target_users, key):\n",
    "    user_modes= (\n",
    "        watch_auc.merge(target_users, on=[\"KaiinID\"], how=\"inner\")[[\"KaiinID\", key]]\n",
    "        .groupby([\"KaiinID\", key], as_index=False).size().unstack().idxmax(1).reset_index()\n",
    "        .rename(columns={0: key})\n",
    "    )\n",
    "    return user_modes"
   ]
  },
  {
   "cell_type": "code",
   "execution_count": 111,
   "metadata": {},
   "outputs": [
    {
     "data": {
      "text/html": [
       "<div>\n",
       "<style scoped>\n",
       "    .dataframe tbody tr th:only-of-type {\n",
       "        vertical-align: middle;\n",
       "    }\n",
       "\n",
       "    .dataframe tbody tr th {\n",
       "        vertical-align: top;\n",
       "    }\n",
       "\n",
       "    .dataframe thead th {\n",
       "        text-align: right;\n",
       "    }\n",
       "</style>\n",
       "<table border=\"1\" class=\"dataframe\">\n",
       "  <thead>\n",
       "    <tr style=\"text-align: right;\">\n",
       "      <th></th>\n",
       "      <th>KaiinID</th>\n",
       "      <th>BrandID</th>\n",
       "      <th>LineID</th>\n",
       "    </tr>\n",
       "  </thead>\n",
       "  <tbody>\n",
       "    <tr>\n",
       "      <th>0</th>\n",
       "      <td>22</td>\n",
       "      <td>10</td>\n",
       "      <td>2</td>\n",
       "    </tr>\n",
       "    <tr>\n",
       "      <th>1</th>\n",
       "      <td>22</td>\n",
       "      <td>12</td>\n",
       "      <td>28</td>\n",
       "    </tr>\n",
       "    <tr>\n",
       "      <th>2</th>\n",
       "      <td>22</td>\n",
       "      <td>19</td>\n",
       "      <td>3</td>\n",
       "    </tr>\n",
       "    <tr>\n",
       "      <th>3</th>\n",
       "      <td>22</td>\n",
       "      <td>30</td>\n",
       "      <td>2</td>\n",
       "    </tr>\n",
       "    <tr>\n",
       "      <th>4</th>\n",
       "      <td>22</td>\n",
       "      <td>47</td>\n",
       "      <td>21</td>\n",
       "    </tr>\n",
       "    <tr>\n",
       "      <th>...</th>\n",
       "      <td>...</td>\n",
       "      <td>...</td>\n",
       "      <td>...</td>\n",
       "    </tr>\n",
       "    <tr>\n",
       "      <th>776810</th>\n",
       "      <td>277891</td>\n",
       "      <td>10326</td>\n",
       "      <td>1</td>\n",
       "    </tr>\n",
       "    <tr>\n",
       "      <th>776811</th>\n",
       "      <td>277891</td>\n",
       "      <td>10364</td>\n",
       "      <td>1</td>\n",
       "    </tr>\n",
       "    <tr>\n",
       "      <th>776812</th>\n",
       "      <td>277891</td>\n",
       "      <td>10438</td>\n",
       "      <td>20</td>\n",
       "    </tr>\n",
       "    <tr>\n",
       "      <th>776813</th>\n",
       "      <td>277891</td>\n",
       "      <td>10594</td>\n",
       "      <td>7</td>\n",
       "    </tr>\n",
       "    <tr>\n",
       "      <th>776814</th>\n",
       "      <td>277892</td>\n",
       "      <td>503</td>\n",
       "      <td>1</td>\n",
       "    </tr>\n",
       "  </tbody>\n",
       "</table>\n",
       "<p>776815 rows × 3 columns</p>\n",
       "</div>"
      ],
      "text/plain": [
       "        KaiinID  BrandID  LineID\n",
       "0            22       10       2\n",
       "1            22       12      28\n",
       "2            22       19       3\n",
       "3            22       30       2\n",
       "4            22       47      21\n",
       "...         ...      ...     ...\n",
       "776810   277891    10326       1\n",
       "776811   277891    10364       1\n",
       "776812   277891    10438      20\n",
       "776813   277891    10594       7\n",
       "776814   277892      503       1\n",
       "\n",
       "[776815 rows x 3 columns]"
      ]
     },
     "execution_count": 111,
     "metadata": {},
     "output_type": "execute_result"
    }
   ],
   "source": [
    "watch_auc.groupby([\"KaiinID\", \"BrandID\"], as_index=False).size().reset_index().rename(columns={0: key})"
   ]
  },
  {
   "cell_type": "code",
   "execution_count": 36,
   "metadata": {},
   "outputs": [],
   "source": [
    "mode_pairs = get_mode_pairs(watch_auc, target_users, valid_aucs, \"BrandID\")"
   ]
  },
  {
   "cell_type": "code",
   "execution_count": 37,
   "metadata": {},
   "outputs": [
    {
     "name": "stdout",
     "output_type": "stream",
     "text": [
      "(41191423, 3)\n",
      "(21200, 5)\n"
     ]
    }
   ],
   "source": [
    "print(mode_pairs.shape)\n",
    "print(mode_pairs.merge(target_actions, on=[\"KaiinID\", \"AuctionID\"], how=\"inner\").shape)"
   ]
  },
  {
   "cell_type": "code",
   "execution_count": 82,
   "metadata": {},
   "outputs": [
    {
     "data": {
      "text/html": [
       "<div>\n",
       "<style scoped>\n",
       "    .dataframe tbody tr th:only-of-type {\n",
       "        vertical-align: middle;\n",
       "    }\n",
       "\n",
       "    .dataframe tbody tr th {\n",
       "        vertical-align: top;\n",
       "    }\n",
       "\n",
       "    .dataframe thead th {\n",
       "        text-align: right;\n",
       "    }\n",
       "</style>\n",
       "<table border=\"1\" class=\"dataframe\">\n",
       "  <thead>\n",
       "    <tr style=\"text-align: right;\">\n",
       "      <th></th>\n",
       "      <th>AuctionID</th>\n",
       "    </tr>\n",
       "  </thead>\n",
       "  <tbody>\n",
       "    <tr>\n",
       "      <th>0</th>\n",
       "      <td>4066465</td>\n",
       "    </tr>\n",
       "    <tr>\n",
       "      <th>1</th>\n",
       "      <td>622037</td>\n",
       "    </tr>\n",
       "    <tr>\n",
       "      <th>2</th>\n",
       "      <td>3447030</td>\n",
       "    </tr>\n",
       "    <tr>\n",
       "      <th>3</th>\n",
       "      <td>957658</td>\n",
       "    </tr>\n",
       "    <tr>\n",
       "      <th>5</th>\n",
       "      <td>1242382</td>\n",
       "    </tr>\n",
       "    <tr>\n",
       "      <th>...</th>\n",
       "      <td>...</td>\n",
       "    </tr>\n",
       "    <tr>\n",
       "      <th>816273</th>\n",
       "      <td>3636243</td>\n",
       "    </tr>\n",
       "    <tr>\n",
       "      <th>816274</th>\n",
       "      <td>2927568</td>\n",
       "    </tr>\n",
       "    <tr>\n",
       "      <th>816275</th>\n",
       "      <td>976663</td>\n",
       "    </tr>\n",
       "    <tr>\n",
       "      <th>816276</th>\n",
       "      <td>739919</td>\n",
       "    </tr>\n",
       "    <tr>\n",
       "      <th>816279</th>\n",
       "      <td>831361</td>\n",
       "    </tr>\n",
       "  </tbody>\n",
       "</table>\n",
       "<p>751419 rows × 1 columns</p>\n",
       "</div>"
      ],
      "text/plain": [
       "        AuctionID\n",
       "0         4066465\n",
       "1          622037\n",
       "2         3447030\n",
       "3          957658\n",
       "5         1242382\n",
       "...           ...\n",
       "816273    3636243\n",
       "816274    2927568\n",
       "816275     976663\n",
       "816276     739919\n",
       "816279     831361\n",
       "\n",
       "[751419 rows x 1 columns]"
      ]
     },
     "execution_count": 82,
     "metadata": {},
     "output_type": "execute_result"
    }
   ],
   "source": []
  },
  {
   "cell_type": "code",
   "execution_count": 86,
   "metadata": {},
   "outputs": [],
   "source": [
    "brand_mode = get_user_mode(watch_auc, target_users, \"BrandID\")\n",
    "gend_mode = get_user_mode(watch_auc, target_users, \"DanjobetsuID\")\n",
    "color_mode = get_user_mode(watch_auc, target_users, \"ColorID\")\n",
    "geng_mode = get_user_mode(watch_auc, target_users, \"GenreGroupID\") \n",
    "gen_mode = get_user_mode(watch_auc, target_users, \"GenreID\") \n",
    "con_mode = get_user_mode(watch_auc, target_users, \"ConditionID\") "
   ]
  },
  {
   "cell_type": "code",
   "execution_count": 87,
   "metadata": {},
   "outputs": [],
   "source": [
    "q_df = pd.concat([\n",
    "    brand_mode,\n",
    "    gend_mode.drop(\"KaiinID\", axis=1),\n",
    "    color_mode.drop(\"KaiinID\", axis=1), \n",
    "    geng_mode.drop(\"KaiinID\", axis=1),\n",
    "    gen_mode.drop(\"KaiinID\", axis=1),\n",
    "    con_mode.drop(\"KaiinID\", axis=1)], axis=1)"
   ]
  },
  {
   "cell_type": "code",
   "execution_count": 93,
   "metadata": {},
   "outputs": [],
   "source": [
    "q_re = q_df.merge(\n",
    "    auction.merge(valid_aucs, on=\"AuctionID\", how=\"inner\"),\n",
    "    on=[\"DanjobetsuID\", \"ColorID\", \"GenreGroupID\", \"GenreID\", \"ConditionID\"], how=\"inner\")"
   ]
  },
  {
   "cell_type": "code",
   "execution_count": 94,
   "metadata": {},
   "outputs": [
    {
     "data": {
      "text/html": [
       "<div>\n",
       "<style scoped>\n",
       "    .dataframe tbody tr th:only-of-type {\n",
       "        vertical-align: middle;\n",
       "    }\n",
       "\n",
       "    .dataframe tbody tr th {\n",
       "        vertical-align: top;\n",
       "    }\n",
       "\n",
       "    .dataframe thead th {\n",
       "        text-align: right;\n",
       "    }\n",
       "</style>\n",
       "<table border=\"1\" class=\"dataframe\">\n",
       "  <thead>\n",
       "    <tr style=\"text-align: right;\">\n",
       "      <th></th>\n",
       "      <th>KaiinID</th>\n",
       "      <th>BrandID_x</th>\n",
       "      <th>DanjobetsuID</th>\n",
       "      <th>ColorID</th>\n",
       "      <th>GenreGroupID</th>\n",
       "      <th>GenreID</th>\n",
       "      <th>ConditionID</th>\n",
       "      <th>AuctionID</th>\n",
       "      <th>ShouhinShubetsuID</th>\n",
       "      <th>ShouhinID</th>\n",
       "      <th>SaishuppinKaisuu</th>\n",
       "      <th>BrandID_y</th>\n",
       "      <th>LineID</th>\n",
       "      <th>SankouKakaku</th>\n",
       "      <th>CreateDate</th>\n",
       "    </tr>\n",
       "  </thead>\n",
       "  <tbody>\n",
       "    <tr>\n",
       "      <th>0</th>\n",
       "      <td>22</td>\n",
       "      <td>12</td>\n",
       "      <td>0</td>\n",
       "      <td>0</td>\n",
       "      <td>312</td>\n",
       "      <td>321</td>\n",
       "      <td>6</td>\n",
       "      <td>4079311</td>\n",
       "      <td>1</td>\n",
       "      <td>1132159</td>\n",
       "      <td>0</td>\n",
       "      <td>1011</td>\n",
       "      <td>0</td>\n",
       "      <td>1000</td>\n",
       "      <td>2019-07-27 09:31:45</td>\n",
       "    </tr>\n",
       "    <tr>\n",
       "      <th>1</th>\n",
       "      <td>22</td>\n",
       "      <td>12</td>\n",
       "      <td>0</td>\n",
       "      <td>0</td>\n",
       "      <td>312</td>\n",
       "      <td>321</td>\n",
       "      <td>6</td>\n",
       "      <td>3036982</td>\n",
       "      <td>1</td>\n",
       "      <td>2651629</td>\n",
       "      <td>334</td>\n",
       "      <td>1</td>\n",
       "      <td>0</td>\n",
       "      <td>10000</td>\n",
       "      <td>2019-07-27 09:31:48</td>\n",
       "    </tr>\n",
       "    <tr>\n",
       "      <th>2</th>\n",
       "      <td>22</td>\n",
       "      <td>12</td>\n",
       "      <td>0</td>\n",
       "      <td>0</td>\n",
       "      <td>312</td>\n",
       "      <td>321</td>\n",
       "      <td>6</td>\n",
       "      <td>3747358</td>\n",
       "      <td>1</td>\n",
       "      <td>1171525</td>\n",
       "      <td>0</td>\n",
       "      <td>32</td>\n",
       "      <td>0</td>\n",
       "      <td>2500</td>\n",
       "      <td>2019-07-27 09:31:48</td>\n",
       "    </tr>\n",
       "    <tr>\n",
       "      <th>3</th>\n",
       "      <td>22</td>\n",
       "      <td>12</td>\n",
       "      <td>0</td>\n",
       "      <td>0</td>\n",
       "      <td>312</td>\n",
       "      <td>321</td>\n",
       "      <td>6</td>\n",
       "      <td>442922</td>\n",
       "      <td>1</td>\n",
       "      <td>1282599</td>\n",
       "      <td>0</td>\n",
       "      <td>119</td>\n",
       "      <td>0</td>\n",
       "      <td>5000</td>\n",
       "      <td>2019-07-27 09:32:09</td>\n",
       "    </tr>\n",
       "    <tr>\n",
       "      <th>4</th>\n",
       "      <td>22</td>\n",
       "      <td>12</td>\n",
       "      <td>0</td>\n",
       "      <td>0</td>\n",
       "      <td>312</td>\n",
       "      <td>321</td>\n",
       "      <td>6</td>\n",
       "      <td>813198</td>\n",
       "      <td>1</td>\n",
       "      <td>640133</td>\n",
       "      <td>0</td>\n",
       "      <td>2479</td>\n",
       "      <td>0</td>\n",
       "      <td>6000</td>\n",
       "      <td>2019-07-27 09:32:13</td>\n",
       "    </tr>\n",
       "  </tbody>\n",
       "</table>\n",
       "</div>"
      ],
      "text/plain": [
       "   KaiinID  BrandID_x  DanjobetsuID  ColorID  GenreGroupID  GenreID  \\\n",
       "0       22         12             0        0           312      321   \n",
       "1       22         12             0        0           312      321   \n",
       "2       22         12             0        0           312      321   \n",
       "3       22         12             0        0           312      321   \n",
       "4       22         12             0        0           312      321   \n",
       "\n",
       "   ConditionID  AuctionID  ShouhinShubetsuID  ShouhinID  SaishuppinKaisuu  \\\n",
       "0            6    4079311                  1    1132159                 0   \n",
       "1            6    3036982                  1    2651629               334   \n",
       "2            6    3747358                  1    1171525                 0   \n",
       "3            6     442922                  1    1282599                 0   \n",
       "4            6     813198                  1     640133                 0   \n",
       "\n",
       "   BrandID_y  LineID  SankouKakaku          CreateDate  \n",
       "0       1011       0          1000 2019-07-27 09:31:45  \n",
       "1          1       0         10000 2019-07-27 09:31:48  \n",
       "2         32       0          2500 2019-07-27 09:31:48  \n",
       "3        119       0          5000 2019-07-27 09:32:09  \n",
       "4       2479       0          6000 2019-07-27 09:32:13  "
      ]
     },
     "execution_count": 94,
     "metadata": {},
     "output_type": "execute_result"
    }
   ],
   "source": [
    "q_re.head()"
   ]
  },
  {
   "cell_type": "code",
   "execution_count": 95,
   "metadata": {},
   "outputs": [
    {
     "name": "stdout",
     "output_type": "stream",
     "text": [
      "(35518961, 15)\n",
      "(5960, 4)\n"
     ]
    }
   ],
   "source": [
    "print(q_re.shape)\n",
    "print(q_re[[\"KaiinID\", \"AuctionID\"]].merge(target_actions, on=[\"KaiinID\", \"AuctionID\"], how=\"inner\").shape)"
   ]
  },
  {
   "cell_type": "code",
   "execution_count": 96,
   "metadata": {},
   "outputs": [
    {
     "data": {
      "text/plain": [
       "(751419, 1)"
      ]
     },
     "execution_count": 96,
     "metadata": {},
     "output_type": "execute_result"
    }
   ],
   "source": [
    "valid_aucs.shape"
   ]
  },
  {
   "cell_type": "code",
   "execution_count": 104,
   "metadata": {},
   "outputs": [
    {
     "data": {
      "text/plain": [
       "(array([151.,  10.,   5.,   2.,   3.,   3.,   0.,   3.,   0.,   2.,   0.,\n",
       "          1.,   0.,   1.,   0.,   0.,   0.,   1.,   0.,   0.,   1.,   0.,\n",
       "          0.,   1.,   0.,   0.,   0.,   0.,   0.,   0.,   0.,   0.,   0.,\n",
       "          1.,   0.,   0.,   0.,   0.,   0.,   0.,   0.,   0.,   0.,   0.,\n",
       "          0.,   0.,   0.,   0.,   1.,   0.,   0.,   0.,   0.,   0.,   0.,\n",
       "          0.,   0.,   0.,   0.,   0.,   0.,   0.,   0.,   0.,   0.,   0.,\n",
       "          0.,   0.,   0.,   0.,   0.,   0.,   0.,   0.,   0.,   0.,   0.,\n",
       "          0.,   0.,   0.,   0.,   0.,   0.,   0.,   0.,   0.,   0.,   0.,\n",
       "          0.,   0.,   0.,   0.,   0.,   0.,   0.,   0.,   0.,   0.,   0.,\n",
       "          1.]),\n",
       " array([1.00000e+00, 1.62500e+01, 3.15000e+01, 4.67500e+01, 6.20000e+01,\n",
       "        7.72500e+01, 9.25000e+01, 1.07750e+02, 1.23000e+02, 1.38250e+02,\n",
       "        1.53500e+02, 1.68750e+02, 1.84000e+02, 1.99250e+02, 2.14500e+02,\n",
       "        2.29750e+02, 2.45000e+02, 2.60250e+02, 2.75500e+02, 2.90750e+02,\n",
       "        3.06000e+02, 3.21250e+02, 3.36500e+02, 3.51750e+02, 3.67000e+02,\n",
       "        3.82250e+02, 3.97500e+02, 4.12750e+02, 4.28000e+02, 4.43250e+02,\n",
       "        4.58500e+02, 4.73750e+02, 4.89000e+02, 5.04250e+02, 5.19500e+02,\n",
       "        5.34750e+02, 5.50000e+02, 5.65250e+02, 5.80500e+02, 5.95750e+02,\n",
       "        6.11000e+02, 6.26250e+02, 6.41500e+02, 6.56750e+02, 6.72000e+02,\n",
       "        6.87250e+02, 7.02500e+02, 7.17750e+02, 7.33000e+02, 7.48250e+02,\n",
       "        7.63500e+02, 7.78750e+02, 7.94000e+02, 8.09250e+02, 8.24500e+02,\n",
       "        8.39750e+02, 8.55000e+02, 8.70250e+02, 8.85500e+02, 9.00750e+02,\n",
       "        9.16000e+02, 9.31250e+02, 9.46500e+02, 9.61750e+02, 9.77000e+02,\n",
       "        9.92250e+02, 1.00750e+03, 1.02275e+03, 1.03800e+03, 1.05325e+03,\n",
       "        1.06850e+03, 1.08375e+03, 1.09900e+03, 1.11425e+03, 1.12950e+03,\n",
       "        1.14475e+03, 1.16000e+03, 1.17525e+03, 1.19050e+03, 1.20575e+03,\n",
       "        1.22100e+03, 1.23625e+03, 1.25150e+03, 1.26675e+03, 1.28200e+03,\n",
       "        1.29725e+03, 1.31250e+03, 1.32775e+03, 1.34300e+03, 1.35825e+03,\n",
       "        1.37350e+03, 1.38875e+03, 1.40400e+03, 1.41925e+03, 1.43450e+03,\n",
       "        1.44975e+03, 1.46500e+03, 1.48025e+03, 1.49550e+03, 1.51075e+03,\n",
       "        1.52600e+03]),\n",
       " <a list of 100 Patch objects>)"
      ]
     },
     "execution_count": 104,
     "metadata": {},
     "output_type": "execute_result"
    },
    {
     "data": {
      "image/png": "[encoded data removed]",
      "text/plain": [
       "<Figure size 432x288 with 1 Axes>"
      ]
     },
     "metadata": {
      "needs_background": "light"
     },
     "output_type": "display_data"
    }
   ],
   "source": [
    "plt.hist(target_actions[[\"KaiinID\", \"AuctionID\"]].groupby(\"KaiinID\").count()[\"AuctionID\"].value_counts(), bins=100)"
   ]
  },
  {
   "cell_type": "code",
   "execution_count": 107,
   "metadata": {},
   "outputs": [
    {
     "ename": "NameError",
     "evalue": "name 'dataset' is not defined",
     "output_type": "error",
     "traceback": [
      "\u001b[0;31m---------------------------------------------------------------------------\u001b[0m",
      "\u001b[0;31mNameError\u001b[0m                                 Traceback (most recent call last)",
      "\u001b[0;32m<ipython-input-107-b9978dedd5aa>\u001b[0m in \u001b[0;36m<module>\u001b[0;34m\u001b[0m\n\u001b[1;32m      1\u001b[0m dataset = add_value_counts(\n\u001b[0;32m----> 2\u001b[0;31m     \u001b[0mdataset\u001b[0m\u001b[0;34m=\u001b[0m\u001b[0mdataset\u001b[0m\u001b[0;34m,\u001b[0m\u001b[0;34m\u001b[0m\u001b[0;34m\u001b[0m\u001b[0m\n\u001b[0m\u001b[1;32m      3\u001b[0m     \u001b[0mfeature_df\u001b[0m\u001b[0;34m=\u001b[0m\u001b[0mwatch_auc\u001b[0m\u001b[0;34m,\u001b[0m\u001b[0;34m\u001b[0m\u001b[0;34m\u001b[0m\u001b[0m\n\u001b[1;32m      4\u001b[0m     \u001b[0mcolsets\u001b[0m\u001b[0;34m=\u001b[0m\u001b[0mcol_sets\u001b[0m\u001b[0;34m,\u001b[0m\u001b[0;34m\u001b[0m\u001b[0;34m\u001b[0m\u001b[0m\n\u001b[1;32m      5\u001b[0m     \u001b[0mprefix\u001b[0m\u001b[0;34m=\u001b[0m\u001b[0;34m\"watch\"\u001b[0m\u001b[0;34m,\u001b[0m\u001b[0;34m\u001b[0m\u001b[0;34m\u001b[0m\u001b[0m\n",
      "\u001b[0;31mNameError\u001b[0m: name 'dataset' is not defined"
     ]
    }
   ],
   "source": [
    "dataset = add_value_counts(\n",
    "    dataset=dataset,\n",
    "    feature_df=watch_auc,\n",
    "    colsets=col_sets,\n",
    "    prefix=\"watch\",\n",
    "    oldest_dtime=period[\"oldest\"],\n",
    "    time_col=\"TourokuDate\"\n",
    ")"
   ]
  },
  {
   "cell_type": "code",
   "execution_count": 115,
   "metadata": {},
   "outputs": [],
   "source": [
    "def get_value_counts(feature_df, colset, prefix, oldest_dtime, time_col):\n",
    "    feature_valid = feature_df[feature_df[time_col] < oldest_dtime]\n",
    "    if len(colset) == 2:\n",
    "        cnts = (\n",
    "            feature_df.groupby(colset, as_index=False).size().reset_index()\n",
    "            .rename(columns={0: f\"{prefix}_{colset[0]}_{colset[1]}_cnt\"})\n",
    "        )\n",
    "    elif len(colset) == 1:\n",
    "        col = colset[0]\n",
    "        cnts = (\n",
    "            feature_valid[col].value_counts().reset_index()\n",
    "            .rename(columns={\"index\": col, col: f\"{prefix}_{col}_cnt\"})\n",
    "        )\n",
    "    return cnts"
   ]
  },
  {
   "cell_type": "code",
   "execution_count": null,
   "metadata": {},
   "outputs": [],
   "source": [
    "for colset in colsets\n",
    "    be.to_pickle(FEATURE)"
   ]
  },
  {
   "cell_type": "code",
   "execution_count": 116,
   "metadata": {},
   "outputs": [
    {
     "data": {
      "text/html": [
       "<div>\n",
       "<style scoped>\n",
       "    .dataframe tbody tr th:only-of-type {\n",
       "        vertical-align: middle;\n",
       "    }\n",
       "\n",
       "    .dataframe tbody tr th {\n",
       "        vertical-align: top;\n",
       "    }\n",
       "\n",
       "    .dataframe thead th {\n",
       "        text-align: right;\n",
       "    }\n",
       "</style>\n",
       "<table border=\"1\" class=\"dataframe\">\n",
       "  <thead>\n",
       "    <tr style=\"text-align: right;\">\n",
       "      <th></th>\n",
       "      <th>KaiinID</th>\n",
       "      <th>BrandID</th>\n",
       "      <th>watch_KaiinID_BrandID_cnt</th>\n",
       "    </tr>\n",
       "  </thead>\n",
       "  <tbody>\n",
       "    <tr>\n",
       "      <th>0</th>\n",
       "      <td>22</td>\n",
       "      <td>10</td>\n",
       "      <td>2</td>\n",
       "    </tr>\n",
       "    <tr>\n",
       "      <th>1</th>\n",
       "      <td>22</td>\n",
       "      <td>12</td>\n",
       "      <td>28</td>\n",
       "    </tr>\n",
       "    <tr>\n",
       "      <th>2</th>\n",
       "      <td>22</td>\n",
       "      <td>19</td>\n",
       "      <td>3</td>\n",
       "    </tr>\n",
       "    <tr>\n",
       "      <th>3</th>\n",
       "      <td>22</td>\n",
       "      <td>30</td>\n",
       "      <td>2</td>\n",
       "    </tr>\n",
       "    <tr>\n",
       "      <th>4</th>\n",
       "      <td>22</td>\n",
       "      <td>47</td>\n",
       "      <td>21</td>\n",
       "    </tr>\n",
       "    <tr>\n",
       "      <th>...</th>\n",
       "      <td>...</td>\n",
       "      <td>...</td>\n",
       "      <td>...</td>\n",
       "    </tr>\n",
       "    <tr>\n",
       "      <th>776810</th>\n",
       "      <td>277891</td>\n",
       "      <td>10326</td>\n",
       "      <td>1</td>\n",
       "    </tr>\n",
       "    <tr>\n",
       "      <th>776811</th>\n",
       "      <td>277891</td>\n",
       "      <td>10364</td>\n",
       "      <td>1</td>\n",
       "    </tr>\n",
       "    <tr>\n",
       "      <th>776812</th>\n",
       "      <td>277891</td>\n",
       "      <td>10438</td>\n",
       "      <td>20</td>\n",
       "    </tr>\n",
       "    <tr>\n",
       "      <th>776813</th>\n",
       "      <td>277891</td>\n",
       "      <td>10594</td>\n",
       "      <td>7</td>\n",
       "    </tr>\n",
       "    <tr>\n",
       "      <th>776814</th>\n",
       "      <td>277892</td>\n",
       "      <td>503</td>\n",
       "      <td>1</td>\n",
       "    </tr>\n",
       "  </tbody>\n",
       "</table>\n",
       "<p>776815 rows × 3 columns</p>\n",
       "</div>"
      ],
      "text/plain": [
       "        KaiinID  BrandID  watch_KaiinID_BrandID_cnt\n",
       "0            22       10                          2\n",
       "1            22       12                         28\n",
       "2            22       19                          3\n",
       "3            22       30                          2\n",
       "4            22       47                         21\n",
       "...         ...      ...                        ...\n",
       "776810   277891    10326                          1\n",
       "776811   277891    10364                          1\n",
       "776812   277891    10438                         20\n",
       "776813   277891    10594                          7\n",
       "776814   277892      503                          1\n",
       "\n",
       "[776815 rows x 3 columns]"
      ]
     },
     "execution_count": 116,
     "metadata": {},
     "output_type": "execute_result"
    }
   ],
   "source": [
    "get_value_counts(watch_auc, [\"KaiinID\", \"BrandID\"], \"watch\", dset_to_period[\"valid_for_sub\"][\"oldest\"], \"TourokuDate\")"
   ]
  },
  {
   "cell_type": "code",
   "execution_count": null,
   "metadata": {},
   "outputs": [],
   "source": []
  }
 ],
 "metadata": {
  "kernelspec": {
   "display_name": "Python 3",
   "language": "python",
   "name": "python3"
  },
  "language_info": {
   "codemirror_mode": {
    "name": "ipython",
    "version": 3
   },
   "file_extension": ".py",
   "mimetype": "text/x-python",
   "name": "python",
   "nbconvert_exporter": "python",
   "pygments_lexer": "ipython3",
   "version": "3.7.5"
  }
 },
 "nbformat": 4,
 "nbformat_minor": 2
}
