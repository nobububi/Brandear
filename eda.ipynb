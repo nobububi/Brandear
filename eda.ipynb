{
 "cells": [
  {
   "cell_type": "markdown",
   "metadata": {},
   "source": [
    "# 概要\n",
    "- 各データの期間について\n",
    "- 予測対象となるauctionについて\n",
    "- テストデータについて\n",
    "- どのオークションがシステム的に候補から外れるか"
   ]
  },
  {
   "cell_type": "code",
   "execution_count": 130,
   "metadata": {},
   "outputs": [],
   "source": [
    "from os.path import dirname\n",
    "import os\n",
    "import datetime\n",
    "\n",
    "import pandas as pd\n",
    "import numpy as np\n",
    "import matplotlib.pyplot as plt"
   ]
  },
  {
   "cell_type": "code",
   "execution_count": 72,
   "metadata": {},
   "outputs": [
    {
     "name": "stdout",
     "output_type": "stream",
     "text": [
      "The autoreload extension is already loaded. To reload it, use:\n",
      "  %reload_ext autoreload\n"
     ]
    }
   ],
   "source": [
    "%load_ext autoreload\n",
    "%autoreload 2\n",
    "from utils import *"
   ]
  },
  {
   "cell_type": "code",
   "execution_count": 2,
   "metadata": {},
   "outputs": [],
   "source": [
    "INPUT_DIR = os.path.join(os.getcwd(), \"../../data/input/\")"
   ]
  },
  {
   "cell_type": "markdown",
   "metadata": {},
   "source": [
    "## 各データの期間について\n",
    "- 20190924以降のデータが入っているテーブル\n",
    "    - auction\n",
    "    - brand"
   ]
  },
  {
   "cell_type": "code",
   "execution_count": 311,
   "metadata": {},
   "outputs": [
    {
     "name": "stdout",
     "output_type": "stream",
     "text": [
      "(4109559, 13)\n",
      "2019-09-30 10:00:58\n",
      "ShouhinID    3002614\n",
      "dtype: int64\n"
     ]
    },
    {
     "data": {
      "text/html": [
       "<div>\n",
       "<style scoped>\n",
       "    .dataframe tbody tr th:only-of-type {\n",
       "        vertical-align: middle;\n",
       "    }\n",
       "\n",
       "    .dataframe tbody tr th {\n",
       "        vertical-align: top;\n",
       "    }\n",
       "\n",
       "    .dataframe thead th {\n",
       "        text-align: right;\n",
       "    }\n",
       "</style>\n",
       "<table border=\"1\" class=\"dataframe\">\n",
       "  <thead>\n",
       "    <tr style=\"text-align: right;\">\n",
       "      <th></th>\n",
       "      <th>AuctionID</th>\n",
       "      <th>ShouhinShubetsuID</th>\n",
       "      <th>ShouhinID</th>\n",
       "      <th>SaishuppinKaisuu</th>\n",
       "      <th>ConditionID</th>\n",
       "      <th>BrandID</th>\n",
       "      <th>GenreID</th>\n",
       "      <th>GenreGroupID</th>\n",
       "      <th>LineID</th>\n",
       "      <th>ColorID</th>\n",
       "      <th>DanjobetsuID</th>\n",
       "      <th>SankouKakaku</th>\n",
       "      <th>CreateDate</th>\n",
       "    </tr>\n",
       "  </thead>\n",
       "  <tbody>\n",
       "    <tr>\n",
       "      <th>0</th>\n",
       "      <td>4066465</td>\n",
       "      <td>1</td>\n",
       "      <td>620477</td>\n",
       "      <td>334</td>\n",
       "      <td>6</td>\n",
       "      <td>494</td>\n",
       "      <td>321</td>\n",
       "      <td>312</td>\n",
       "      <td>0</td>\n",
       "      <td>15</td>\n",
       "      <td>0</td>\n",
       "      <td>4000</td>\n",
       "      <td>2019-07-27 09:31:34</td>\n",
       "    </tr>\n",
       "    <tr>\n",
       "      <th>1</th>\n",
       "      <td>622037</td>\n",
       "      <td>1</td>\n",
       "      <td>1146271</td>\n",
       "      <td>0</td>\n",
       "      <td>6</td>\n",
       "      <td>32</td>\n",
       "      <td>321</td>\n",
       "      <td>312</td>\n",
       "      <td>0</td>\n",
       "      <td>304</td>\n",
       "      <td>0</td>\n",
       "      <td>4500</td>\n",
       "      <td>2019-07-27 09:31:34</td>\n",
       "    </tr>\n",
       "    <tr>\n",
       "      <th>2</th>\n",
       "      <td>3447030</td>\n",
       "      <td>1</td>\n",
       "      <td>1069454</td>\n",
       "      <td>0</td>\n",
       "      <td>6</td>\n",
       "      <td>30</td>\n",
       "      <td>320</td>\n",
       "      <td>312</td>\n",
       "      <td>0</td>\n",
       "      <td>338</td>\n",
       "      <td>0</td>\n",
       "      <td>3000</td>\n",
       "      <td>2019-07-27 09:31:34</td>\n",
       "    </tr>\n",
       "    <tr>\n",
       "      <th>3</th>\n",
       "      <td>957658</td>\n",
       "      <td>1</td>\n",
       "      <td>661292</td>\n",
       "      <td>0</td>\n",
       "      <td>6</td>\n",
       "      <td>30</td>\n",
       "      <td>321</td>\n",
       "      <td>312</td>\n",
       "      <td>0</td>\n",
       "      <td>188</td>\n",
       "      <td>0</td>\n",
       "      <td>3500</td>\n",
       "      <td>2019-07-27 09:31:34</td>\n",
       "    </tr>\n",
       "    <tr>\n",
       "      <th>4</th>\n",
       "      <td>2496085</td>\n",
       "      <td>1</td>\n",
       "      <td>2207903</td>\n",
       "      <td>0</td>\n",
       "      <td>6</td>\n",
       "      <td>569</td>\n",
       "      <td>6</td>\n",
       "      <td>314</td>\n",
       "      <td>0</td>\n",
       "      <td>0</td>\n",
       "      <td>0</td>\n",
       "      <td>8000</td>\n",
       "      <td>2019-07-27 09:31:34</td>\n",
       "    </tr>\n",
       "  </tbody>\n",
       "</table>\n",
       "</div>"
      ],
      "text/plain": [
       "   AuctionID  ShouhinShubetsuID  ShouhinID  SaishuppinKaisuu  ConditionID  \\\n",
       "0    4066465                  1     620477               334            6   \n",
       "1     622037                  1    1146271                 0            6   \n",
       "2    3447030                  1    1069454                 0            6   \n",
       "3     957658                  1     661292                 0            6   \n",
       "4    2496085                  1    2207903                 0            6   \n",
       "\n",
       "   BrandID  GenreID  GenreGroupID  LineID  ColorID  DanjobetsuID  \\\n",
       "0      494      321           312       0       15             0   \n",
       "1       32      321           312       0      304             0   \n",
       "2       30      320           312       0      338             0   \n",
       "3       30      321           312       0      188             0   \n",
       "4      569        6           314       0        0             0   \n",
       "\n",
       "   SankouKakaku           CreateDate  \n",
       "0          4000  2019-07-27 09:31:34  \n",
       "1          4500  2019-07-27 09:31:34  \n",
       "2          3000  2019-07-27 09:31:34  \n",
       "3          3500  2019-07-27 09:31:34  \n",
       "4          8000  2019-07-27 09:31:34  "
      ]
     },
     "execution_count": 311,
     "metadata": {},
     "output_type": "execute_result"
    }
   ],
   "source": [
    "auction = pd.read_csv(INPUT_DIR + \"auction.csv\")\n",
    "print(auction.shape)\n",
    "print(auction[\"CreateDate\"].max())\n",
    "print(auction[[\"ShouhinID\"]].nunique())\n",
    "auction.head()"
   ]
  },
  {
   "cell_type": "code",
   "execution_count": 151,
   "metadata": {},
   "outputs": [
    {
     "name": "stdout",
     "output_type": "stream",
     "text": [
      "2019-10-25 06:00:01\n"
     ]
    },
    {
     "data": {
      "text/html": [
       "<div>\n",
       "<style scoped>\n",
       "    .dataframe tbody tr th:only-of-type {\n",
       "        vertical-align: middle;\n",
       "    }\n",
       "\n",
       "    .dataframe tbody tr th {\n",
       "        vertical-align: top;\n",
       "    }\n",
       "\n",
       "    .dataframe thead th {\n",
       "        text-align: right;\n",
       "    }\n",
       "</style>\n",
       "<table border=\"1\" class=\"dataframe\">\n",
       "  <thead>\n",
       "    <tr style=\"text-align: right;\">\n",
       "      <th></th>\n",
       "      <th>BrandID</th>\n",
       "      <th>BrandName1</th>\n",
       "      <th>BrandName2</th>\n",
       "      <th>ModifyDate</th>\n",
       "      <th>CreateDate</th>\n",
       "    </tr>\n",
       "  </thead>\n",
       "  <tbody>\n",
       "    <tr>\n",
       "      <th>0</th>\n",
       "      <td>1</td>\n",
       "      <td>アンテプリマ</td>\n",
       "      <td>ANTEPRIMA</td>\n",
       "      <td>2010-09-17 11:25:29</td>\n",
       "      <td>2010-09-10 12:06:39</td>\n",
       "    </tr>\n",
       "    <tr>\n",
       "      <th>1</th>\n",
       "      <td>2</td>\n",
       "      <td>アイグナー</td>\n",
       "      <td>AIGNER</td>\n",
       "      <td>2010-09-17 11:25:29</td>\n",
       "      <td>2010-09-10 12:06:39</td>\n",
       "    </tr>\n",
       "    <tr>\n",
       "      <th>2</th>\n",
       "      <td>3</td>\n",
       "      <td>アルマーニジーンズ</td>\n",
       "      <td>ARMANIJEANS</td>\n",
       "      <td>2010-09-17 11:25:29</td>\n",
       "      <td>2010-09-10 12:06:39</td>\n",
       "    </tr>\n",
       "    <tr>\n",
       "      <th>3</th>\n",
       "      <td>4</td>\n",
       "      <td>アルマーニエクスチェンジ</td>\n",
       "      <td>ARMANIEX</td>\n",
       "      <td>2010-09-17 11:25:29</td>\n",
       "      <td>2010-09-10 12:06:39</td>\n",
       "    </tr>\n",
       "    <tr>\n",
       "      <th>4</th>\n",
       "      <td>5</td>\n",
       "      <td>アナスイ</td>\n",
       "      <td>ANNA SUI</td>\n",
       "      <td>2010-09-17 11:25:29</td>\n",
       "      <td>2010-09-10 12:06:39</td>\n",
       "    </tr>\n",
       "  </tbody>\n",
       "</table>\n",
       "</div>"
      ],
      "text/plain": [
       "   BrandID    BrandName1   BrandName2           ModifyDate  \\\n",
       "0        1        アンテプリマ    ANTEPRIMA  2010-09-17 11:25:29   \n",
       "1        2         アイグナー       AIGNER  2010-09-17 11:25:29   \n",
       "2        3     アルマーニジーンズ  ARMANIJEANS  2010-09-17 11:25:29   \n",
       "3        4  アルマーニエクスチェンジ     ARMANIEX  2010-09-17 11:25:29   \n",
       "4        5          アナスイ     ANNA SUI  2010-09-17 11:25:29   \n",
       "\n",
       "            CreateDate  \n",
       "0  2010-09-10 12:06:39  \n",
       "1  2010-09-10 12:06:39  \n",
       "2  2010-09-10 12:06:39  \n",
       "3  2010-09-10 12:06:39  \n",
       "4  2010-09-10 12:06:39  "
      ]
     },
     "execution_count": 151,
     "metadata": {},
     "output_type": "execute_result"
    }
   ],
   "source": [
    "brand = pd.read_csv(INPUT_DIR + \"brand.csv\")\n",
    "print(brand[\"CreateDate\"].max())\n",
    "brand.head()"
   ]
  },
  {
   "cell_type": "code",
   "execution_count": 153,
   "metadata": {},
   "outputs": [
    {
     "name": "stdout",
     "output_type": "stream",
     "text": [
      "2010-09-15 14:55:36\n"
     ]
    },
    {
     "data": {
      "text/html": [
       "<div>\n",
       "<style scoped>\n",
       "    .dataframe tbody tr th:only-of-type {\n",
       "        vertical-align: middle;\n",
       "    }\n",
       "\n",
       "    .dataframe tbody tr th {\n",
       "        vertical-align: top;\n",
       "    }\n",
       "\n",
       "    .dataframe thead th {\n",
       "        text-align: right;\n",
       "    }\n",
       "</style>\n",
       "<table border=\"1\" class=\"dataframe\">\n",
       "  <thead>\n",
       "    <tr style=\"text-align: right;\">\n",
       "      <th></th>\n",
       "      <th>CategoryID</th>\n",
       "      <th>CategoryName</th>\n",
       "      <th>ModifyDate</th>\n",
       "      <th>CreateDate</th>\n",
       "    </tr>\n",
       "  </thead>\n",
       "  <tbody>\n",
       "    <tr>\n",
       "      <th>0</th>\n",
       "      <td>1</td>\n",
       "      <td>バッグ</td>\n",
       "      <td>2010-09-15 14:55:36</td>\n",
       "      <td>2010-09-15 14:55:36</td>\n",
       "    </tr>\n",
       "    <tr>\n",
       "      <th>1</th>\n",
       "      <td>2</td>\n",
       "      <td>財布</td>\n",
       "      <td>2010-09-15 14:55:36</td>\n",
       "      <td>2010-09-15 14:55:36</td>\n",
       "    </tr>\n",
       "    <tr>\n",
       "      <th>2</th>\n",
       "      <td>3</td>\n",
       "      <td>服飾雑貨</td>\n",
       "      <td>2010-09-15 14:55:36</td>\n",
       "      <td>2010-09-15 14:55:36</td>\n",
       "    </tr>\n",
       "    <tr>\n",
       "      <th>3</th>\n",
       "      <td>4</td>\n",
       "      <td>アクセサリー</td>\n",
       "      <td>2010-09-15 14:55:36</td>\n",
       "      <td>2010-09-15 14:55:36</td>\n",
       "    </tr>\n",
       "    <tr>\n",
       "      <th>4</th>\n",
       "      <td>5</td>\n",
       "      <td>トップス</td>\n",
       "      <td>2010-09-15 14:55:36</td>\n",
       "      <td>2010-09-15 14:55:36</td>\n",
       "    </tr>\n",
       "    <tr>\n",
       "      <th>5</th>\n",
       "      <td>6</td>\n",
       "      <td>ワンピース</td>\n",
       "      <td>2010-09-15 14:55:36</td>\n",
       "      <td>2010-09-15 14:55:36</td>\n",
       "    </tr>\n",
       "    <tr>\n",
       "      <th>6</th>\n",
       "      <td>7</td>\n",
       "      <td>ボトムス</td>\n",
       "      <td>2010-09-15 14:55:36</td>\n",
       "      <td>2010-09-15 14:55:36</td>\n",
       "    </tr>\n",
       "    <tr>\n",
       "      <th>7</th>\n",
       "      <td>8</td>\n",
       "      <td>アウター</td>\n",
       "      <td>2010-09-15 14:55:36</td>\n",
       "      <td>2010-09-15 14:55:36</td>\n",
       "    </tr>\n",
       "    <tr>\n",
       "      <th>8</th>\n",
       "      <td>9</td>\n",
       "      <td>スーツ</td>\n",
       "      <td>2010-09-15 14:55:36</td>\n",
       "      <td>2010-09-15 14:55:36</td>\n",
       "    </tr>\n",
       "    <tr>\n",
       "      <th>9</th>\n",
       "      <td>10</td>\n",
       "      <td>靴</td>\n",
       "      <td>2010-09-15 14:55:36</td>\n",
       "      <td>2010-09-15 14:55:36</td>\n",
       "    </tr>\n",
       "    <tr>\n",
       "      <th>10</th>\n",
       "      <td>11</td>\n",
       "      <td>腕時計</td>\n",
       "      <td>2010-09-15 14:55:36</td>\n",
       "      <td>2010-09-15 14:55:36</td>\n",
       "    </tr>\n",
       "    <tr>\n",
       "      <th>11</th>\n",
       "      <td>12</td>\n",
       "      <td>食器</td>\n",
       "      <td>2010-09-15 14:55:36</td>\n",
       "      <td>2010-09-15 14:55:36</td>\n",
       "    </tr>\n",
       "  </tbody>\n",
       "</table>\n",
       "</div>"
      ],
      "text/plain": [
       "    CategoryID CategoryName           ModifyDate           CreateDate\n",
       "0            1          バッグ  2010-09-15 14:55:36  2010-09-15 14:55:36\n",
       "1            2           財布  2010-09-15 14:55:36  2010-09-15 14:55:36\n",
       "2            3         服飾雑貨  2010-09-15 14:55:36  2010-09-15 14:55:36\n",
       "3            4       アクセサリー  2010-09-15 14:55:36  2010-09-15 14:55:36\n",
       "4            5         トップス  2010-09-15 14:55:36  2010-09-15 14:55:36\n",
       "5            6        ワンピース  2010-09-15 14:55:36  2010-09-15 14:55:36\n",
       "6            7         ボトムス  2010-09-15 14:55:36  2010-09-15 14:55:36\n",
       "7            8         アウター  2010-09-15 14:55:36  2010-09-15 14:55:36\n",
       "8            9          スーツ  2010-09-15 14:55:36  2010-09-15 14:55:36\n",
       "9           10            靴  2010-09-15 14:55:36  2010-09-15 14:55:36\n",
       "10          11          腕時計  2010-09-15 14:55:36  2010-09-15 14:55:36\n",
       "11          12           食器  2010-09-15 14:55:36  2010-09-15 14:55:36"
      ]
     },
     "execution_count": 153,
     "metadata": {},
     "output_type": "execute_result"
    }
   ],
   "source": [
    "category = pd.read_csv(INPUT_DIR + \"category.csv\")\n",
    "print(category[\"CreateDate\"].max())\n",
    "category"
   ]
  },
  {
   "cell_type": "code",
   "execution_count": 154,
   "metadata": {},
   "outputs": [
    {
     "name": "stdout",
     "output_type": "stream",
     "text": [
      "2010-04-02 13:25:07\n"
     ]
    },
    {
     "data": {
      "text/html": [
       "<div>\n",
       "<style scoped>\n",
       "    .dataframe tbody tr th:only-of-type {\n",
       "        vertical-align: middle;\n",
       "    }\n",
       "\n",
       "    .dataframe tbody tr th {\n",
       "        vertical-align: top;\n",
       "    }\n",
       "\n",
       "    .dataframe thead th {\n",
       "        text-align: right;\n",
       "    }\n",
       "</style>\n",
       "<table border=\"1\" class=\"dataframe\">\n",
       "  <thead>\n",
       "    <tr style=\"text-align: right;\">\n",
       "      <th></th>\n",
       "      <th>ColorID</th>\n",
       "      <th>ColorName</th>\n",
       "      <th>ItemColorID</th>\n",
       "      <th>ModifyDate</th>\n",
       "      <th>CreateDate</th>\n",
       "    </tr>\n",
       "  </thead>\n",
       "  <tbody>\n",
       "    <tr>\n",
       "      <th>0</th>\n",
       "      <td>1</td>\n",
       "      <td>オフホワイト</td>\n",
       "      <td>1</td>\n",
       "      <td>2010-04-02 13:25:06</td>\n",
       "      <td>2010-04-02 13:25:06</td>\n",
       "    </tr>\n",
       "    <tr>\n",
       "      <th>1</th>\n",
       "      <td>2</td>\n",
       "      <td>オフホワイト基調</td>\n",
       "      <td>1</td>\n",
       "      <td>2010-04-02 13:25:06</td>\n",
       "      <td>2010-04-02 13:25:06</td>\n",
       "    </tr>\n",
       "    <tr>\n",
       "      <th>2</th>\n",
       "      <td>3</td>\n",
       "      <td>アズール</td>\n",
       "      <td>1</td>\n",
       "      <td>2010-04-02 13:25:06</td>\n",
       "      <td>2010-04-02 13:25:06</td>\n",
       "    </tr>\n",
       "    <tr>\n",
       "      <th>3</th>\n",
       "      <td>4</td>\n",
       "      <td>パール</td>\n",
       "      <td>1</td>\n",
       "      <td>2010-04-02 13:25:06</td>\n",
       "      <td>2010-04-02 13:25:06</td>\n",
       "    </tr>\n",
       "    <tr>\n",
       "      <th>4</th>\n",
       "      <td>5</td>\n",
       "      <td>パールホワイト</td>\n",
       "      <td>1</td>\n",
       "      <td>2010-04-02 13:25:06</td>\n",
       "      <td>2010-04-02 13:25:06</td>\n",
       "    </tr>\n",
       "  </tbody>\n",
       "</table>\n",
       "</div>"
      ],
      "text/plain": [
       "   ColorID ColorName  ItemColorID           ModifyDate           CreateDate\n",
       "0        1    オフホワイト            1  2010-04-02 13:25:06  2010-04-02 13:25:06\n",
       "1        2  オフホワイト基調            1  2010-04-02 13:25:06  2010-04-02 13:25:06\n",
       "2        3      アズール            1  2010-04-02 13:25:06  2010-04-02 13:25:06\n",
       "3        4       パール            1  2010-04-02 13:25:06  2010-04-02 13:25:06\n",
       "4        5   パールホワイト            1  2010-04-02 13:25:06  2010-04-02 13:25:06"
      ]
     },
     "execution_count": 154,
     "metadata": {},
     "output_type": "execute_result"
    }
   ],
   "source": [
    "color = pd.read_csv(INPUT_DIR + \"color.csv\")\n",
    "print(color[\"CreateDate\"].max())\n",
    "color.head()"
   ]
  },
  {
   "cell_type": "code",
   "execution_count": 155,
   "metadata": {},
   "outputs": [
    {
     "name": "stdout",
     "output_type": "stream",
     "text": [
      "2010-04-02 13:25:07\n"
     ]
    },
    {
     "data": {
      "text/html": [
       "<div>\n",
       "<style scoped>\n",
       "    .dataframe tbody tr th:only-of-type {\n",
       "        vertical-align: middle;\n",
       "    }\n",
       "\n",
       "    .dataframe tbody tr th {\n",
       "        vertical-align: top;\n",
       "    }\n",
       "\n",
       "    .dataframe thead th {\n",
       "        text-align: right;\n",
       "    }\n",
       "</style>\n",
       "<table border=\"1\" class=\"dataframe\">\n",
       "  <thead>\n",
       "    <tr style=\"text-align: right;\">\n",
       "      <th></th>\n",
       "      <th>DanjobetsuID</th>\n",
       "      <th>DanjobetsuName</th>\n",
       "      <th>ModifyDate</th>\n",
       "      <th>CreateDate</th>\n",
       "    </tr>\n",
       "  </thead>\n",
       "  <tbody>\n",
       "    <tr>\n",
       "      <th>0</th>\n",
       "      <td>1</td>\n",
       "      <td>メンズ</td>\n",
       "      <td>2010-04-02 13:25:07</td>\n",
       "      <td>2010-04-02 13:25:07</td>\n",
       "    </tr>\n",
       "    <tr>\n",
       "      <th>1</th>\n",
       "      <td>2</td>\n",
       "      <td>レディース</td>\n",
       "      <td>2010-04-02 13:25:07</td>\n",
       "      <td>2010-04-02 13:25:07</td>\n",
       "    </tr>\n",
       "    <tr>\n",
       "      <th>2</th>\n",
       "      <td>3</td>\n",
       "      <td>ユニセックス</td>\n",
       "      <td>2010-04-02 13:25:07</td>\n",
       "      <td>2010-04-02 13:25:07</td>\n",
       "    </tr>\n",
       "  </tbody>\n",
       "</table>\n",
       "</div>"
      ],
      "text/plain": [
       "   DanjobetsuID DanjobetsuName           ModifyDate           CreateDate\n",
       "0             1            メンズ  2010-04-02 13:25:07  2010-04-02 13:25:07\n",
       "1             2          レディース  2010-04-02 13:25:07  2010-04-02 13:25:07\n",
       "2             3         ユニセックス  2010-04-02 13:25:07  2010-04-02 13:25:07"
      ]
     },
     "execution_count": 155,
     "metadata": {},
     "output_type": "execute_result"
    }
   ],
   "source": [
    "danjobetsu = pd.read_csv(INPUT_DIR + \"danjobetsu.csv\")\n",
    "print(danjobetsu[\"CreateDate\"].max())\n",
    "danjobetsu"
   ]
  },
  {
   "cell_type": "code",
   "execution_count": 156,
   "metadata": {},
   "outputs": [
    {
     "name": "stdout",
     "output_type": "stream",
     "text": [
      "2010-09-07 00:00:00\n"
     ]
    },
    {
     "data": {
      "text/html": [
       "<div>\n",
       "<style scoped>\n",
       "    .dataframe tbody tr th:only-of-type {\n",
       "        vertical-align: middle;\n",
       "    }\n",
       "\n",
       "    .dataframe tbody tr th {\n",
       "        vertical-align: top;\n",
       "    }\n",
       "\n",
       "    .dataframe thead th {\n",
       "        text-align: right;\n",
       "    }\n",
       "</style>\n",
       "<table border=\"1\" class=\"dataframe\">\n",
       "  <thead>\n",
       "    <tr style=\"text-align: right;\">\n",
       "      <th></th>\n",
       "      <th>GenreID</th>\n",
       "      <th>GenreName</th>\n",
       "      <th>GenreGroupID</th>\n",
       "      <th>ItemShouID</th>\n",
       "      <th>CategoryID</th>\n",
       "      <th>ModifyDate</th>\n",
       "      <th>CreateDate</th>\n",
       "    </tr>\n",
       "  </thead>\n",
       "  <tbody>\n",
       "    <tr>\n",
       "      <th>0</th>\n",
       "      <td>1</td>\n",
       "      <td>その他アクセサリー</td>\n",
       "      <td>1</td>\n",
       "      <td>36</td>\n",
       "      <td>4</td>\n",
       "      <td>2010-09-15 15:29:28</td>\n",
       "      <td>2010-04-02 13:25:06</td>\n",
       "    </tr>\n",
       "    <tr>\n",
       "      <th>1</th>\n",
       "      <td>2</td>\n",
       "      <td>アンサンブル</td>\n",
       "      <td>21</td>\n",
       "      <td>43</td>\n",
       "      <td>5</td>\n",
       "      <td>2010-09-15 15:29:28</td>\n",
       "      <td>2010-04-02 13:25:06</td>\n",
       "    </tr>\n",
       "    <tr>\n",
       "      <th>2</th>\n",
       "      <td>3</td>\n",
       "      <td>イヤリング</td>\n",
       "      <td>296</td>\n",
       "      <td>32</td>\n",
       "      <td>4</td>\n",
       "      <td>2010-09-15 15:29:28</td>\n",
       "      <td>2010-04-02 13:25:06</td>\n",
       "    </tr>\n",
       "    <tr>\n",
       "      <th>3</th>\n",
       "      <td>6</td>\n",
       "      <td>キーケース</td>\n",
       "      <td>314</td>\n",
       "      <td>12</td>\n",
       "      <td>2</td>\n",
       "      <td>2010-09-15 15:29:28</td>\n",
       "      <td>2010-04-02 13:25:06</td>\n",
       "    </tr>\n",
       "    <tr>\n",
       "      <th>4</th>\n",
       "      <td>7</td>\n",
       "      <td>キーホルダー</td>\n",
       "      <td>7</td>\n",
       "      <td>12</td>\n",
       "      <td>2</td>\n",
       "      <td>2010-09-15 15:29:28</td>\n",
       "      <td>2010-04-02 13:25:06</td>\n",
       "    </tr>\n",
       "  </tbody>\n",
       "</table>\n",
       "</div>"
      ],
      "text/plain": [
       "   GenreID  GenreName  GenreGroupID  ItemShouID  CategoryID  \\\n",
       "0        1  その他アクセサリー             1          36           4   \n",
       "1        2     アンサンブル            21          43           5   \n",
       "2        3      イヤリング           296          32           4   \n",
       "3        6      キーケース           314          12           2   \n",
       "4        7     キーホルダー             7          12           2   \n",
       "\n",
       "            ModifyDate           CreateDate  \n",
       "0  2010-09-15 15:29:28  2010-04-02 13:25:06  \n",
       "1  2010-09-15 15:29:28  2010-04-02 13:25:06  \n",
       "2  2010-09-15 15:29:28  2010-04-02 13:25:06  \n",
       "3  2010-09-15 15:29:28  2010-04-02 13:25:06  \n",
       "4  2010-09-15 15:29:28  2010-04-02 13:25:06  "
      ]
     },
     "execution_count": 156,
     "metadata": {},
     "output_type": "execute_result"
    }
   ],
   "source": [
    "genre = pd.read_csv(INPUT_DIR + \"genre.csv\")\n",
    "print(genre[\"CreateDate\"].max())\n",
    "genre.head()"
   ]
  },
  {
   "cell_type": "code",
   "execution_count": 157,
   "metadata": {},
   "outputs": [
    {
     "name": "stdout",
     "output_type": "stream",
     "text": [
      "2010-04-02 13:25:06\n"
     ]
    },
    {
     "data": {
      "text/html": [
       "<div>\n",
       "<style scoped>\n",
       "    .dataframe tbody tr th:only-of-type {\n",
       "        vertical-align: middle;\n",
       "    }\n",
       "\n",
       "    .dataframe tbody tr th {\n",
       "        vertical-align: top;\n",
       "    }\n",
       "\n",
       "    .dataframe thead th {\n",
       "        text-align: right;\n",
       "    }\n",
       "</style>\n",
       "<table border=\"1\" class=\"dataframe\">\n",
       "  <thead>\n",
       "    <tr style=\"text-align: right;\">\n",
       "      <th></th>\n",
       "      <th>GenreGroupID</th>\n",
       "      <th>GenreGroupName</th>\n",
       "      <th>ShouhinShubetsuID</th>\n",
       "      <th>ModifyDate</th>\n",
       "      <th>CreateDate</th>\n",
       "    </tr>\n",
       "  </thead>\n",
       "  <tbody>\n",
       "    <tr>\n",
       "      <th>0</th>\n",
       "      <td>1</td>\n",
       "      <td>アクセサリー（他）</td>\n",
       "      <td>1</td>\n",
       "      <td>2010-04-02 13:25:06</td>\n",
       "      <td>2010-04-02 13:25:06</td>\n",
       "    </tr>\n",
       "    <tr>\n",
       "      <th>1</th>\n",
       "      <td>7</td>\n",
       "      <td>キーホルダー</td>\n",
       "      <td>1</td>\n",
       "      <td>2010-04-02 13:25:06</td>\n",
       "      <td>2010-04-02 13:25:06</td>\n",
       "    </tr>\n",
       "    <tr>\n",
       "      <th>2</th>\n",
       "      <td>9</td>\n",
       "      <td>コート</td>\n",
       "      <td>1</td>\n",
       "      <td>2010-04-02 13:25:06</td>\n",
       "      <td>2010-04-02 13:25:06</td>\n",
       "    </tr>\n",
       "    <tr>\n",
       "      <th>3</th>\n",
       "      <td>10</td>\n",
       "      <td>サングラス</td>\n",
       "      <td>1</td>\n",
       "      <td>2010-04-02 13:25:06</td>\n",
       "      <td>2010-04-02 13:25:06</td>\n",
       "    </tr>\n",
       "    <tr>\n",
       "      <th>4</th>\n",
       "      <td>13</td>\n",
       "      <td>ジャケット</td>\n",
       "      <td>1</td>\n",
       "      <td>2010-04-02 13:25:06</td>\n",
       "      <td>2010-04-02 13:25:06</td>\n",
       "    </tr>\n",
       "  </tbody>\n",
       "</table>\n",
       "</div>"
      ],
      "text/plain": [
       "   GenreGroupID GenreGroupName  ShouhinShubetsuID           ModifyDate  \\\n",
       "0             1      アクセサリー（他）                  1  2010-04-02 13:25:06   \n",
       "1             7         キーホルダー                  1  2010-04-02 13:25:06   \n",
       "2             9            コート                  1  2010-04-02 13:25:06   \n",
       "3            10          サングラス                  1  2010-04-02 13:25:06   \n",
       "4            13          ジャケット                  1  2010-04-02 13:25:06   \n",
       "\n",
       "            CreateDate  \n",
       "0  2010-04-02 13:25:06  \n",
       "1  2010-04-02 13:25:06  \n",
       "2  2010-04-02 13:25:06  \n",
       "3  2010-04-02 13:25:06  \n",
       "4  2010-04-02 13:25:06  "
      ]
     },
     "execution_count": 157,
     "metadata": {},
     "output_type": "execute_result"
    }
   ],
   "source": [
    "genregroup = pd.read_csv(INPUT_DIR + \"genregroup.csv\")\n",
    "print(genregroup[\"CreateDate\"].max())\n",
    "genregroup.head()"
   ]
  },
  {
   "cell_type": "code",
   "execution_count": 158,
   "metadata": {},
   "outputs": [
    {
     "name": "stdout",
     "output_type": "stream",
     "text": [
      "2010-09-07 00:00:00\n"
     ]
    },
    {
     "data": {
      "text/html": [
       "<div>\n",
       "<style scoped>\n",
       "    .dataframe tbody tr th:only-of-type {\n",
       "        vertical-align: middle;\n",
       "    }\n",
       "\n",
       "    .dataframe tbody tr th {\n",
       "        vertical-align: top;\n",
       "    }\n",
       "\n",
       "    .dataframe thead th {\n",
       "        text-align: right;\n",
       "    }\n",
       "</style>\n",
       "<table border=\"1\" class=\"dataframe\">\n",
       "  <thead>\n",
       "    <tr style=\"text-align: right;\">\n",
       "      <th></th>\n",
       "      <th>ItemShouID</th>\n",
       "      <th>ItemShouName</th>\n",
       "      <th>ItemDaiID</th>\n",
       "      <th>ModifyDate</th>\n",
       "      <th>CreateDate</th>\n",
       "    </tr>\n",
       "  </thead>\n",
       "  <tbody>\n",
       "    <tr>\n",
       "      <th>0</th>\n",
       "      <td>1</td>\n",
       "      <td>ハンドバッグ</td>\n",
       "      <td>1</td>\n",
       "      <td>2010-04-02 13:25:06</td>\n",
       "      <td>2010-04-02 13:25:06</td>\n",
       "    </tr>\n",
       "    <tr>\n",
       "      <th>1</th>\n",
       "      <td>2</td>\n",
       "      <td>ショルダーバッグ</td>\n",
       "      <td>1</td>\n",
       "      <td>2010-04-02 13:25:06</td>\n",
       "      <td>2010-04-02 13:25:06</td>\n",
       "    </tr>\n",
       "    <tr>\n",
       "      <th>2</th>\n",
       "      <td>3</td>\n",
       "      <td>トートバッグ</td>\n",
       "      <td>1</td>\n",
       "      <td>2010-04-02 13:25:06</td>\n",
       "      <td>2010-04-02 13:25:06</td>\n",
       "    </tr>\n",
       "    <tr>\n",
       "      <th>3</th>\n",
       "      <td>4</td>\n",
       "      <td>セカンド・クラッチバッグ</td>\n",
       "      <td>1</td>\n",
       "      <td>2010-04-02 13:25:06</td>\n",
       "      <td>2010-04-02 13:25:06</td>\n",
       "    </tr>\n",
       "    <tr>\n",
       "      <th>4</th>\n",
       "      <td>5</td>\n",
       "      <td>リュックサック</td>\n",
       "      <td>1</td>\n",
       "      <td>2010-04-02 13:25:06</td>\n",
       "      <td>2010-04-02 13:25:06</td>\n",
       "    </tr>\n",
       "  </tbody>\n",
       "</table>\n",
       "</div>"
      ],
      "text/plain": [
       "   ItemShouID  ItemShouName  ItemDaiID           ModifyDate  \\\n",
       "0           1        ハンドバッグ          1  2010-04-02 13:25:06   \n",
       "1           2      ショルダーバッグ          1  2010-04-02 13:25:06   \n",
       "2           3        トートバッグ          1  2010-04-02 13:25:06   \n",
       "3           4  セカンド・クラッチバッグ          1  2010-04-02 13:25:06   \n",
       "4           5       リュックサック          1  2010-04-02 13:25:06   \n",
       "\n",
       "            CreateDate  \n",
       "0  2010-04-02 13:25:06  \n",
       "1  2010-04-02 13:25:06  \n",
       "2  2010-04-02 13:25:06  \n",
       "3  2010-04-02 13:25:06  \n",
       "4  2010-04-02 13:25:06  "
      ]
     },
     "execution_count": 158,
     "metadata": {},
     "output_type": "execute_result"
    }
   ],
   "source": [
    "itemshou = pd.read_csv(INPUT_DIR + \"itemshou.csv\")\n",
    "print(itemshou[\"CreateDate\"].max())\n",
    "itemshou.head()"
   ]
  },
  {
   "cell_type": "code",
   "execution_count": 159,
   "metadata": {},
   "outputs": [
    {
     "name": "stdout",
     "output_type": "stream",
     "text": [
      "2019-08-06 11:17:07\n"
     ]
    },
    {
     "data": {
      "text/html": [
       "<div>\n",
       "<style scoped>\n",
       "    .dataframe tbody tr th:only-of-type {\n",
       "        vertical-align: middle;\n",
       "    }\n",
       "\n",
       "    .dataframe tbody tr th {\n",
       "        vertical-align: top;\n",
       "    }\n",
       "\n",
       "    .dataframe thead th {\n",
       "        text-align: right;\n",
       "    }\n",
       "</style>\n",
       "<table border=\"1\" class=\"dataframe\">\n",
       "  <thead>\n",
       "    <tr style=\"text-align: right;\">\n",
       "      <th></th>\n",
       "      <th>LineID</th>\n",
       "      <th>LineName</th>\n",
       "      <th>BrandID</th>\n",
       "      <th>ItemLineID</th>\n",
       "      <th>ModifyDate</th>\n",
       "      <th>CreateDate</th>\n",
       "    </tr>\n",
       "  </thead>\n",
       "  <tbody>\n",
       "    <tr>\n",
       "      <th>0</th>\n",
       "      <td>1</td>\n",
       "      <td>エピ</td>\n",
       "      <td>114</td>\n",
       "      <td>7</td>\n",
       "      <td>2010-04-02 13:25:06</td>\n",
       "      <td>2010-04-02 13:25:06</td>\n",
       "    </tr>\n",
       "    <tr>\n",
       "      <th>1</th>\n",
       "      <td>2</td>\n",
       "      <td>タイガ</td>\n",
       "      <td>114</td>\n",
       "      <td>6</td>\n",
       "      <td>2010-04-02 13:25:06</td>\n",
       "      <td>2010-04-02 13:25:06</td>\n",
       "    </tr>\n",
       "    <tr>\n",
       "      <th>2</th>\n",
       "      <td>3</td>\n",
       "      <td>ダミエ</td>\n",
       "      <td>114</td>\n",
       "      <td>5</td>\n",
       "      <td>2010-04-02 13:25:06</td>\n",
       "      <td>2010-04-02 13:25:06</td>\n",
       "    </tr>\n",
       "    <tr>\n",
       "      <th>3</th>\n",
       "      <td>4</td>\n",
       "      <td>モノグラムマルチカラー</td>\n",
       "      <td>114</td>\n",
       "      <td>3</td>\n",
       "      <td>2010-04-02 13:25:06</td>\n",
       "      <td>2010-04-02 13:25:06</td>\n",
       "    </tr>\n",
       "    <tr>\n",
       "      <th>4</th>\n",
       "      <td>5</td>\n",
       "      <td>モノグラム</td>\n",
       "      <td>114</td>\n",
       "      <td>1</td>\n",
       "      <td>2010-04-02 13:25:06</td>\n",
       "      <td>2010-04-02 13:25:06</td>\n",
       "    </tr>\n",
       "  </tbody>\n",
       "</table>\n",
       "</div>"
      ],
      "text/plain": [
       "   LineID     LineName  BrandID  ItemLineID           ModifyDate  \\\n",
       "0       1           エピ      114           7  2010-04-02 13:25:06   \n",
       "1       2          タイガ      114           6  2010-04-02 13:25:06   \n",
       "2       3          ダミエ      114           5  2010-04-02 13:25:06   \n",
       "3       4  モノグラムマルチカラー      114           3  2010-04-02 13:25:06   \n",
       "4       5        モノグラム      114           1  2010-04-02 13:25:06   \n",
       "\n",
       "            CreateDate  \n",
       "0  2010-04-02 13:25:06  \n",
       "1  2010-04-02 13:25:06  \n",
       "2  2010-04-02 13:25:06  \n",
       "3  2010-04-02 13:25:06  \n",
       "4  2010-04-02 13:25:06  "
      ]
     },
     "execution_count": 159,
     "metadata": {},
     "output_type": "execute_result"
    }
   ],
   "source": [
    "line = pd.read_csv(INPUT_DIR + \"line.csv\")\n",
    "print(line[\"CreateDate\"].max())\n",
    "line.head()"
   ]
  },
  {
   "cell_type": "code",
   "execution_count": 160,
   "metadata": {},
   "outputs": [
    {
     "name": "stdout",
     "output_type": "stream",
     "text": [
      "2019-10-25 16:05:20\n"
     ]
    },
    {
     "data": {
      "text/html": [
       "<div>\n",
       "<style scoped>\n",
       "    .dataframe tbody tr th:only-of-type {\n",
       "        vertical-align: middle;\n",
       "    }\n",
       "\n",
       "    .dataframe tbody tr th {\n",
       "        vertical-align: top;\n",
       "    }\n",
       "\n",
       "    .dataframe thead th {\n",
       "        text-align: right;\n",
       "    }\n",
       "</style>\n",
       "<table border=\"1\" class=\"dataframe\">\n",
       "  <thead>\n",
       "    <tr style=\"text-align: right;\">\n",
       "      <th></th>\n",
       "      <th>KaiinID</th>\n",
       "      <th>RepeaterFlag</th>\n",
       "      <th>SeinengappiDate</th>\n",
       "      <th>CreateDate</th>\n",
       "    </tr>\n",
       "  </thead>\n",
       "  <tbody>\n",
       "    <tr>\n",
       "      <th>0</th>\n",
       "      <td>171036</td>\n",
       "      <td>1.0</td>\n",
       "      <td>NaN</td>\n",
       "      <td>2010-11-08 06:38:50</td>\n",
       "    </tr>\n",
       "    <tr>\n",
       "      <th>1</th>\n",
       "      <td>160541</td>\n",
       "      <td>0.0</td>\n",
       "      <td>NaN</td>\n",
       "      <td>2010-11-08 06:51:10</td>\n",
       "    </tr>\n",
       "    <tr>\n",
       "      <th>2</th>\n",
       "      <td>271092</td>\n",
       "      <td>NaN</td>\n",
       "      <td>NaN</td>\n",
       "      <td>2010-11-08 08:11:57</td>\n",
       "    </tr>\n",
       "    <tr>\n",
       "      <th>3</th>\n",
       "      <td>124089</td>\n",
       "      <td>NaN</td>\n",
       "      <td>NaN</td>\n",
       "      <td>2010-11-08 09:20:56</td>\n",
       "    </tr>\n",
       "    <tr>\n",
       "      <th>4</th>\n",
       "      <td>256950</td>\n",
       "      <td>NaN</td>\n",
       "      <td>NaN</td>\n",
       "      <td>2010-11-08 09:33:51</td>\n",
       "    </tr>\n",
       "  </tbody>\n",
       "</table>\n",
       "</div>"
      ],
      "text/plain": [
       "   KaiinID  RepeaterFlag SeinengappiDate           CreateDate\n",
       "0   171036           1.0             NaN  2010-11-08 06:38:50\n",
       "1   160541           0.0             NaN  2010-11-08 06:51:10\n",
       "2   271092           NaN             NaN  2010-11-08 08:11:57\n",
       "3   124089           NaN             NaN  2010-11-08 09:20:56\n",
       "4   256950           NaN             NaN  2010-11-08 09:33:51"
      ]
     },
     "execution_count": 160,
     "metadata": {},
     "output_type": "execute_result"
    }
   ],
   "source": [
    "kaiin = pd.read_csv(INPUT_DIR + \"kaiin.csv\")\n",
    "print(kaiin[\"CreateDate\"].max())\n",
    "kaiin.head()"
   ]
  },
  {
   "cell_type": "code",
   "execution_count": 168,
   "metadata": {},
   "outputs": [
    {
     "name": "stdout",
     "output_type": "stream",
     "text": [
      "(4165155, 4)\n",
      "1    3921759\n",
      "0     243396\n",
      "Name: SakujoFlag, dtype: int64\n",
      "2019-09-23 23:59:59\n"
     ]
    },
    {
     "data": {
      "text/html": [
       "<div>\n",
       "<style scoped>\n",
       "    .dataframe tbody tr th:only-of-type {\n",
       "        vertical-align: middle;\n",
       "    }\n",
       "\n",
       "    .dataframe tbody tr th {\n",
       "        vertical-align: top;\n",
       "    }\n",
       "\n",
       "    .dataframe thead th {\n",
       "        text-align: right;\n",
       "    }\n",
       "</style>\n",
       "<table border=\"1\" class=\"dataframe\">\n",
       "  <thead>\n",
       "    <tr style=\"text-align: right;\">\n",
       "      <th></th>\n",
       "      <th>KaiinID</th>\n",
       "      <th>AuctionID</th>\n",
       "      <th>TourokuDate</th>\n",
       "      <th>SakujoFlag</th>\n",
       "    </tr>\n",
       "  </thead>\n",
       "  <tbody>\n",
       "    <tr>\n",
       "      <th>0</th>\n",
       "      <td>231713</td>\n",
       "      <td>1036190</td>\n",
       "      <td>2018-09-01 00:00:16</td>\n",
       "      <td>1</td>\n",
       "    </tr>\n",
       "    <tr>\n",
       "      <th>1</th>\n",
       "      <td>225585</td>\n",
       "      <td>4043640</td>\n",
       "      <td>2018-09-01 00:00:34</td>\n",
       "      <td>1</td>\n",
       "    </tr>\n",
       "    <tr>\n",
       "      <th>2</th>\n",
       "      <td>75217</td>\n",
       "      <td>3100882</td>\n",
       "      <td>2018-09-01 00:00:44</td>\n",
       "      <td>1</td>\n",
       "    </tr>\n",
       "    <tr>\n",
       "      <th>3</th>\n",
       "      <td>86693</td>\n",
       "      <td>655600</td>\n",
       "      <td>2018-09-01 00:00:51</td>\n",
       "      <td>1</td>\n",
       "    </tr>\n",
       "    <tr>\n",
       "      <th>4</th>\n",
       "      <td>267234</td>\n",
       "      <td>2607395</td>\n",
       "      <td>2018-09-01 00:01:09</td>\n",
       "      <td>1</td>\n",
       "    </tr>\n",
       "  </tbody>\n",
       "</table>\n",
       "</div>"
      ],
      "text/plain": [
       "   KaiinID  AuctionID          TourokuDate  SakujoFlag\n",
       "0   231713    1036190  2018-09-01 00:00:16           1\n",
       "1   225585    4043640  2018-09-01 00:00:34           1\n",
       "2    75217    3100882  2018-09-01 00:00:44           1\n",
       "3    86693     655600  2018-09-01 00:00:51           1\n",
       "4   267234    2607395  2018-09-01 00:01:09           1"
      ]
     },
     "execution_count": 168,
     "metadata": {},
     "output_type": "execute_result"
    }
   ],
   "source": [
    "watchlist = pd.read_csv(INPUT_DIR + \"watchlist.csv\")\n",
    "print(watchlist.shape)\n",
    "print(watchlist[\"SakujoFlag\"].value_counts())\n",
    "print(watchlist[\"TourokuDate\"].max())\n",
    "watchlist.head()"
   ]
  },
  {
   "cell_type": "code",
   "execution_count": 169,
   "metadata": {},
   "outputs": [
    {
     "name": "stdout",
     "output_type": "stream",
     "text": [
      "(612516, 7)\n",
      "1    612516\n",
      "Name: SakujoFlag, dtype: int64\n",
      "2019-09-23 23:59:09\n"
     ]
    },
    {
     "data": {
      "text/html": [
       "<div>\n",
       "<style scoped>\n",
       "    .dataframe tbody tr th:only-of-type {\n",
       "        vertical-align: middle;\n",
       "    }\n",
       "\n",
       "    .dataframe tbody tr th {\n",
       "        vertical-align: top;\n",
       "    }\n",
       "\n",
       "    .dataframe thead th {\n",
       "        text-align: right;\n",
       "    }\n",
       "</style>\n",
       "<table border=\"1\" class=\"dataframe\">\n",
       "  <thead>\n",
       "    <tr style=\"text-align: right;\">\n",
       "      <th></th>\n",
       "      <th>AuctionID</th>\n",
       "      <th>KaiinID</th>\n",
       "      <th>ShudouNyuusatsuDate</th>\n",
       "      <th>Kingaku</th>\n",
       "      <th>Suuryou</th>\n",
       "      <th>SokketsuFlag</th>\n",
       "      <th>SakujoFlag</th>\n",
       "    </tr>\n",
       "  </thead>\n",
       "  <tbody>\n",
       "    <tr>\n",
       "      <th>0</th>\n",
       "      <td>3744587</td>\n",
       "      <td>227198</td>\n",
       "      <td>2018-09-01 21:40:44</td>\n",
       "      <td>18000</td>\n",
       "      <td>1</td>\n",
       "      <td>0</td>\n",
       "      <td>1</td>\n",
       "    </tr>\n",
       "    <tr>\n",
       "      <th>1</th>\n",
       "      <td>636604</td>\n",
       "      <td>116853</td>\n",
       "      <td>2018-09-01 18:56:28</td>\n",
       "      <td>20000</td>\n",
       "      <td>1</td>\n",
       "      <td>0</td>\n",
       "      <td>1</td>\n",
       "    </tr>\n",
       "    <tr>\n",
       "      <th>2</th>\n",
       "      <td>636604</td>\n",
       "      <td>258477</td>\n",
       "      <td>2018-09-01 19:46:13</td>\n",
       "      <td>20500</td>\n",
       "      <td>1</td>\n",
       "      <td>0</td>\n",
       "      <td>1</td>\n",
       "    </tr>\n",
       "    <tr>\n",
       "      <th>3</th>\n",
       "      <td>636604</td>\n",
       "      <td>116853</td>\n",
       "      <td>2018-09-01 19:54:17</td>\n",
       "      <td>22000</td>\n",
       "      <td>1</td>\n",
       "      <td>0</td>\n",
       "      <td>1</td>\n",
       "    </tr>\n",
       "    <tr>\n",
       "      <th>4</th>\n",
       "      <td>636604</td>\n",
       "      <td>258477</td>\n",
       "      <td>2018-09-01 20:47:49</td>\n",
       "      <td>21500</td>\n",
       "      <td>1</td>\n",
       "      <td>0</td>\n",
       "      <td>1</td>\n",
       "    </tr>\n",
       "  </tbody>\n",
       "</table>\n",
       "</div>"
      ],
      "text/plain": [
       "   AuctionID  KaiinID  ShudouNyuusatsuDate  Kingaku  Suuryou  SokketsuFlag  \\\n",
       "0    3744587   227198  2018-09-01 21:40:44    18000        1             0   \n",
       "1     636604   116853  2018-09-01 18:56:28    20000        1             0   \n",
       "2     636604   258477  2018-09-01 19:46:13    20500        1             0   \n",
       "3     636604   116853  2018-09-01 19:54:17    22000        1             0   \n",
       "4     636604   258477  2018-09-01 20:47:49    21500        1             0   \n",
       "\n",
       "   SakujoFlag  \n",
       "0           1  \n",
       "1           1  \n",
       "2           1  \n",
       "3           1  \n",
       "4           1  "
      ]
     },
     "execution_count": 169,
     "metadata": {},
     "output_type": "execute_result"
    }
   ],
   "source": [
    "shudounyuusatsu = pd.read_csv(INPUT_DIR + \"shudounyuusatsu.csv\")\n",
    "print(shudounyuusatsu.shape)\n",
    "print(shudounyuusatsu[\"SakujoFlag\"].value_counts())\n",
    "print(shudounyuusatsu[\"ShudouNyuusatsuDate\"].max())\n",
    "shudounyuusatsu.head()"
   ]
  },
  {
   "cell_type": "code",
   "execution_count": 170,
   "metadata": {},
   "outputs": [
    {
     "name": "stdout",
     "output_type": "stream",
     "text": [
      "(450242, 6)\n",
      "0    450229\n",
      "1        13\n",
      "Name: SakujoFlag, dtype: int64\n",
      "2019-09-23 23:59:52\n"
     ]
    },
    {
     "data": {
      "text/html": [
       "<div>\n",
       "<style scoped>\n",
       "    .dataframe tbody tr th:only-of-type {\n",
       "        vertical-align: middle;\n",
       "    }\n",
       "\n",
       "    .dataframe tbody tr th {\n",
       "        vertical-align: top;\n",
       "    }\n",
       "\n",
       "    .dataframe thead th {\n",
       "        text-align: right;\n",
       "    }\n",
       "</style>\n",
       "<table border=\"1\" class=\"dataframe\">\n",
       "  <thead>\n",
       "    <tr style=\"text-align: right;\">\n",
       "      <th></th>\n",
       "      <th>AuctionID</th>\n",
       "      <th>KaiinID</th>\n",
       "      <th>RakusatsuDate</th>\n",
       "      <th>Kingaku</th>\n",
       "      <th>Suuryou</th>\n",
       "      <th>SakujoFlag</th>\n",
       "    </tr>\n",
       "  </thead>\n",
       "  <tbody>\n",
       "    <tr>\n",
       "      <th>0</th>\n",
       "      <td>3744587</td>\n",
       "      <td>227198</td>\n",
       "      <td>2018-09-01 21:50:00</td>\n",
       "      <td>18000</td>\n",
       "      <td>1</td>\n",
       "      <td>0</td>\n",
       "    </tr>\n",
       "    <tr>\n",
       "      <th>1</th>\n",
       "      <td>3150550</td>\n",
       "      <td>253112</td>\n",
       "      <td>2018-09-01 21:07:00</td>\n",
       "      <td>16500</td>\n",
       "      <td>1</td>\n",
       "      <td>0</td>\n",
       "    </tr>\n",
       "    <tr>\n",
       "      <th>2</th>\n",
       "      <td>636604</td>\n",
       "      <td>258477</td>\n",
       "      <td>2018-09-01 22:43:00</td>\n",
       "      <td>24500</td>\n",
       "      <td>1</td>\n",
       "      <td>0</td>\n",
       "    </tr>\n",
       "    <tr>\n",
       "      <th>3</th>\n",
       "      <td>2413186</td>\n",
       "      <td>227198</td>\n",
       "      <td>2018-09-01 21:31:00</td>\n",
       "      <td>26700</td>\n",
       "      <td>1</td>\n",
       "      <td>0</td>\n",
       "    </tr>\n",
       "    <tr>\n",
       "      <th>4</th>\n",
       "      <td>2786032</td>\n",
       "      <td>69415</td>\n",
       "      <td>2018-09-01 22:19:00</td>\n",
       "      <td>128905</td>\n",
       "      <td>1</td>\n",
       "      <td>0</td>\n",
       "    </tr>\n",
       "  </tbody>\n",
       "</table>\n",
       "</div>"
      ],
      "text/plain": [
       "   AuctionID  KaiinID        RakusatsuDate  Kingaku  Suuryou  SakujoFlag\n",
       "0    3744587   227198  2018-09-01 21:50:00    18000        1           0\n",
       "1    3150550   253112  2018-09-01 21:07:00    16500        1           0\n",
       "2     636604   258477  2018-09-01 22:43:00    24500        1           0\n",
       "3    2413186   227198  2018-09-01 21:31:00    26700        1           0\n",
       "4    2786032    69415  2018-09-01 22:19:00   128905        1           0"
      ]
     },
     "execution_count": 170,
     "metadata": {},
     "output_type": "execute_result"
    }
   ],
   "source": [
    "rakusatsu = pd.read_csv(INPUT_DIR + \"rakusatsu.csv\")\n",
    "print(rakusatsu.shape)\n",
    "print(rakusatsu[\"SakujoFlag\"].value_counts())\n",
    "print(rakusatsu[\"RakusatsuDate\"].max())\n",
    "rakusatsu.head()"
   ]
  },
  {
   "cell_type": "code",
   "execution_count": 164,
   "metadata": {},
   "outputs": [
    {
     "name": "stdout",
     "output_type": "stream",
     "text": [
      "2019-09-23 23:56:18\n"
     ]
    },
    {
     "data": {
      "text/html": [
       "<div>\n",
       "<style scoped>\n",
       "    .dataframe tbody tr th:only-of-type {\n",
       "        vertical-align: middle;\n",
       "    }\n",
       "\n",
       "    .dataframe tbody tr th {\n",
       "        vertical-align: top;\n",
       "    }\n",
       "\n",
       "    .dataframe thead th {\n",
       "        text-align: right;\n",
       "    }\n",
       "</style>\n",
       "<table border=\"1\" class=\"dataframe\">\n",
       "  <thead>\n",
       "    <tr style=\"text-align: right;\">\n",
       "      <th></th>\n",
       "      <th>KaiinID</th>\n",
       "      <th>BrandID</th>\n",
       "      <th>CategoryID</th>\n",
       "      <th>GenreID</th>\n",
       "      <th>KaishikakakuLow</th>\n",
       "      <th>KaishikakakuHigh</th>\n",
       "      <th>ItemColorID</th>\n",
       "      <th>ConditionID</th>\n",
       "      <th>conditionFrom</th>\n",
       "      <th>conditionTo</th>\n",
       "      <th>SearchFullText</th>\n",
       "      <th>Size</th>\n",
       "      <th>MailSendFlag</th>\n",
       "      <th>CreateDate</th>\n",
       "    </tr>\n",
       "  </thead>\n",
       "  <tbody>\n",
       "    <tr>\n",
       "      <th>0</th>\n",
       "      <td>273964</td>\n",
       "      <td>9712.0</td>\n",
       "      <td>NaN</td>\n",
       "      <td>NaN</td>\n",
       "      <td>NaN</td>\n",
       "      <td>NaN</td>\n",
       "      <td>NaN</td>\n",
       "      <td>NaN</td>\n",
       "      <td>NaN</td>\n",
       "      <td>NaN</td>\n",
       "      <td>NaN</td>\n",
       "      <td>NaN</td>\n",
       "      <td>0</td>\n",
       "      <td>2019-09-01 00:06:25</td>\n",
       "    </tr>\n",
       "    <tr>\n",
       "      <th>1</th>\n",
       "      <td>64255</td>\n",
       "      <td>283.0</td>\n",
       "      <td>NaN</td>\n",
       "      <td>NaN</td>\n",
       "      <td>NaN</td>\n",
       "      <td>2000.0</td>\n",
       "      <td>NaN</td>\n",
       "      <td>NaN</td>\n",
       "      <td>7.0</td>\n",
       "      <td>4.0</td>\n",
       "      <td>NaN</td>\n",
       "      <td>NaN</td>\n",
       "      <td>0</td>\n",
       "      <td>2019-09-01 00:10:20</td>\n",
       "    </tr>\n",
       "    <tr>\n",
       "      <th>2</th>\n",
       "      <td>274994</td>\n",
       "      <td>NaN</td>\n",
       "      <td>NaN</td>\n",
       "      <td>NaN</td>\n",
       "      <td>NaN</td>\n",
       "      <td>NaN</td>\n",
       "      <td>NaN</td>\n",
       "      <td>NaN</td>\n",
       "      <td>NaN</td>\n",
       "      <td>NaN</td>\n",
       "      <td>ファー</td>\n",
       "      <td>NaN</td>\n",
       "      <td>0</td>\n",
       "      <td>2019-09-01 00:14:43</td>\n",
       "    </tr>\n",
       "    <tr>\n",
       "      <th>3</th>\n",
       "      <td>132156</td>\n",
       "      <td>7516.0</td>\n",
       "      <td>NaN</td>\n",
       "      <td>NaN</td>\n",
       "      <td>NaN</td>\n",
       "      <td>NaN</td>\n",
       "      <td>NaN</td>\n",
       "      <td>NaN</td>\n",
       "      <td>NaN</td>\n",
       "      <td>NaN</td>\n",
       "      <td>NaN</td>\n",
       "      <td>NaN</td>\n",
       "      <td>0</td>\n",
       "      <td>2019-09-01 00:23:38</td>\n",
       "    </tr>\n",
       "    <tr>\n",
       "      <th>4</th>\n",
       "      <td>132156</td>\n",
       "      <td>1698.0</td>\n",
       "      <td>NaN</td>\n",
       "      <td>NaN</td>\n",
       "      <td>NaN</td>\n",
       "      <td>NaN</td>\n",
       "      <td>NaN</td>\n",
       "      <td>NaN</td>\n",
       "      <td>NaN</td>\n",
       "      <td>NaN</td>\n",
       "      <td>NaN</td>\n",
       "      <td>NaN</td>\n",
       "      <td>0</td>\n",
       "      <td>2019-09-01 00:23:38</td>\n",
       "    </tr>\n",
       "  </tbody>\n",
       "</table>\n",
       "</div>"
      ],
      "text/plain": [
       "   KaiinID  BrandID  CategoryID GenreID  KaishikakakuLow  KaishikakakuHigh  \\\n",
       "0   273964   9712.0         NaN     NaN              NaN               NaN   \n",
       "1    64255    283.0         NaN     NaN              NaN            2000.0   \n",
       "2   274994      NaN         NaN     NaN              NaN               NaN   \n",
       "3   132156   7516.0         NaN     NaN              NaN               NaN   \n",
       "4   132156   1698.0         NaN     NaN              NaN               NaN   \n",
       "\n",
       "  ItemColorID  ConditionID  conditionFrom  conditionTo SearchFullText Size  \\\n",
       "0         NaN          NaN            NaN          NaN            NaN  NaN   \n",
       "1         NaN          NaN            7.0          4.0            NaN  NaN   \n",
       "2         NaN          NaN            NaN          NaN            ファー  NaN   \n",
       "3         NaN          NaN            NaN          NaN            NaN  NaN   \n",
       "4         NaN          NaN            NaN          NaN            NaN  NaN   \n",
       "\n",
       "   MailSendFlag           CreateDate  \n",
       "0             0  2019-09-01 00:06:25  \n",
       "1             0  2019-09-01 00:10:20  \n",
       "2             0  2019-09-01 00:14:43  \n",
       "3             0  2019-09-01 00:23:38  \n",
       "4             0  2019-09-01 00:23:38  "
      ]
     },
     "execution_count": 164,
     "metadata": {},
     "output_type": "execute_result"
    }
   ],
   "source": [
    "nyuuka_oshirase = pd.read_csv(INPUT_DIR + \"nyuuka_oshirase.csv\")\n",
    "print(nyuuka_oshirase[\"CreateDate\"].max())\n",
    "nyuuka_oshirase.head()"
   ]
  },
  {
   "cell_type": "code",
   "execution_count": 165,
   "metadata": {},
   "outputs": [
    {
     "name": "stderr",
     "output_type": "stream",
     "text": [
      "/Users/nobuyuki.ishida/.pyenv/versions/3.7.5/lib/python3.7/site-packages/IPython/core/interactiveshell.py:3051: DtypeWarning: Columns (10,12) have mixed types. Specify dtype option on import or set low_memory=False.\n",
      "  interactivity=interactivity, compiler=compiler, result=result)\n"
     ]
    },
    {
     "name": "stdout",
     "output_type": "stream",
     "text": [
      "2019-09-23 23:59:59\n"
     ]
    },
    {
     "data": {
      "text/html": [
       "<div>\n",
       "<style scoped>\n",
       "    .dataframe tbody tr th:only-of-type {\n",
       "        vertical-align: middle;\n",
       "    }\n",
       "\n",
       "    .dataframe tbody tr th {\n",
       "        vertical-align: top;\n",
       "    }\n",
       "\n",
       "    .dataframe thead th {\n",
       "        text-align: right;\n",
       "    }\n",
       "</style>\n",
       "<table border=\"1\" class=\"dataframe\">\n",
       "  <thead>\n",
       "    <tr style=\"text-align: right;\">\n",
       "      <th></th>\n",
       "      <th>SearchFullText</th>\n",
       "      <th>KensakuJouken</th>\n",
       "      <th>KensakuKekkaKenSuu</th>\n",
       "      <th>TourokuTime</th>\n",
       "      <th>Device</th>\n",
       "      <th>KaiinID</th>\n",
       "      <th>BrandID</th>\n",
       "      <th>CategoryID</th>\n",
       "      <th>ShinchakuFlag</th>\n",
       "      <th>ConditionID</th>\n",
       "      <th>Size</th>\n",
       "      <th>DanjobetsuID</th>\n",
       "      <th>Sozai</th>\n",
       "      <th>ColorID</th>\n",
       "      <th>PriceLow</th>\n",
       "      <th>PriceHigh</th>\n",
       "    </tr>\n",
       "  </thead>\n",
       "  <tbody>\n",
       "    <tr>\n",
       "      <th>0</th>\n",
       "      <td>エクスプローラー</td>\n",
       "      <td>BrandID=118&amp;SearchFullText=エクスプローラー&amp;ItemOrder=...</td>\n",
       "      <td>0.0</td>\n",
       "      <td>2019-09-01 00:00:01</td>\n",
       "      <td>sp</td>\n",
       "      <td>NaN</td>\n",
       "      <td>118.0</td>\n",
       "      <td>NaN</td>\n",
       "      <td>NaN</td>\n",
       "      <td>NaN</td>\n",
       "      <td>NaN</td>\n",
       "      <td>NaN</td>\n",
       "      <td>NaN</td>\n",
       "      <td>NaN</td>\n",
       "      <td>NaN</td>\n",
       "      <td>NaN</td>\n",
       "    </tr>\n",
       "    <tr>\n",
       "      <th>1</th>\n",
       "      <td>ボッテガヴェネタ</td>\n",
       "      <td>SearchFullText=ボッテガヴェネタ&amp;ItemOrder=0&amp;ItemDispla...</td>\n",
       "      <td>1596.0</td>\n",
       "      <td>2019-09-01 00:00:03</td>\n",
       "      <td>sp</td>\n",
       "      <td>NaN</td>\n",
       "      <td>NaN</td>\n",
       "      <td>NaN</td>\n",
       "      <td>NaN</td>\n",
       "      <td>NaN</td>\n",
       "      <td>NaN</td>\n",
       "      <td>NaN</td>\n",
       "      <td>NaN</td>\n",
       "      <td>NaN</td>\n",
       "      <td>NaN</td>\n",
       "      <td>NaN</td>\n",
       "    </tr>\n",
       "    <tr>\n",
       "      <th>2</th>\n",
       "      <td>マンハッタンポーテージ</td>\n",
       "      <td>SearchFullText=マンハッタンポーテージ&amp;ItemOrder=1&amp;ItemDis...</td>\n",
       "      <td>66.0</td>\n",
       "      <td>2019-09-01 00:00:04</td>\n",
       "      <td>sp</td>\n",
       "      <td>102997.0</td>\n",
       "      <td>NaN</td>\n",
       "      <td>NaN</td>\n",
       "      <td>NaN</td>\n",
       "      <td>NaN</td>\n",
       "      <td>NaN</td>\n",
       "      <td>NaN</td>\n",
       "      <td>NaN</td>\n",
       "      <td>NaN</td>\n",
       "      <td>NaN</td>\n",
       "      <td>NaN</td>\n",
       "    </tr>\n",
       "    <tr>\n",
       "      <th>3</th>\n",
       "      <td>マンハッタンポーテージ</td>\n",
       "      <td>SearchFullText=マンハッタンポーテージ&amp;ItemOrder=1&amp;ItemDis...</td>\n",
       "      <td>66.0</td>\n",
       "      <td>2019-09-01 00:00:04</td>\n",
       "      <td>sp</td>\n",
       "      <td>102997.0</td>\n",
       "      <td>NaN</td>\n",
       "      <td>NaN</td>\n",
       "      <td>NaN</td>\n",
       "      <td>NaN</td>\n",
       "      <td>NaN</td>\n",
       "      <td>NaN</td>\n",
       "      <td>NaN</td>\n",
       "      <td>NaN</td>\n",
       "      <td>NaN</td>\n",
       "      <td>NaN</td>\n",
       "    </tr>\n",
       "    <tr>\n",
       "      <th>4</th>\n",
       "      <td>11.5メンズ</td>\n",
       "      <td>BrandID=2010&amp;SearchFullText=11.5メンズ&amp;ItemOrder=...</td>\n",
       "      <td>0.0</td>\n",
       "      <td>2019-09-01 00:00:04</td>\n",
       "      <td>sp</td>\n",
       "      <td>NaN</td>\n",
       "      <td>NaN</td>\n",
       "      <td>NaN</td>\n",
       "      <td>NaN</td>\n",
       "      <td>NaN</td>\n",
       "      <td>NaN</td>\n",
       "      <td>NaN</td>\n",
       "      <td>NaN</td>\n",
       "      <td>NaN</td>\n",
       "      <td>NaN</td>\n",
       "      <td>NaN</td>\n",
       "    </tr>\n",
       "  </tbody>\n",
       "</table>\n",
       "</div>"
      ],
      "text/plain": [
       "  SearchFullText                                      KensakuJouken  \\\n",
       "0       エクスプローラー  BrandID=118&SearchFullText=エクスプローラー&ItemOrder=...   \n",
       "1       ボッテガヴェネタ  SearchFullText=ボッテガヴェネタ&ItemOrder=0&ItemDispla...   \n",
       "2    マンハッタンポーテージ  SearchFullText=マンハッタンポーテージ&ItemOrder=1&ItemDis...   \n",
       "3    マンハッタンポーテージ  SearchFullText=マンハッタンポーテージ&ItemOrder=1&ItemDis...   \n",
       "4        11.5メンズ  BrandID=2010&SearchFullText=11.5メンズ&ItemOrder=...   \n",
       "\n",
       "   KensakuKekkaKenSuu          TourokuTime Device   KaiinID  BrandID  \\\n",
       "0                 0.0  2019-09-01 00:00:01     sp       NaN    118.0   \n",
       "1              1596.0  2019-09-01 00:00:03     sp       NaN      NaN   \n",
       "2                66.0  2019-09-01 00:00:04     sp  102997.0      NaN   \n",
       "3                66.0  2019-09-01 00:00:04     sp  102997.0      NaN   \n",
       "4                 0.0  2019-09-01 00:00:04     sp       NaN      NaN   \n",
       "\n",
       "   CategoryID  ShinchakuFlag  ConditionID Size  DanjobetsuID Sozai  ColorID  \\\n",
       "0         NaN            NaN          NaN  NaN           NaN   NaN      NaN   \n",
       "1         NaN            NaN          NaN  NaN           NaN   NaN      NaN   \n",
       "2         NaN            NaN          NaN  NaN           NaN   NaN      NaN   \n",
       "3         NaN            NaN          NaN  NaN           NaN   NaN      NaN   \n",
       "4         NaN            NaN          NaN  NaN           NaN   NaN      NaN   \n",
       "\n",
       "   PriceLow  PriceHigh  \n",
       "0       NaN        NaN  \n",
       "1       NaN        NaN  \n",
       "2       NaN        NaN  \n",
       "3       NaN        NaN  \n",
       "4       NaN        NaN  "
      ]
     },
     "execution_count": 165,
     "metadata": {},
     "output_type": "execute_result"
    }
   ],
   "source": [
    "search_log = pd.read_csv(INPUT_DIR + \"search_log.tsv\", sep=\"\\t\")\n",
    "print(search_log[\"TourokuTime\"].max())\n",
    "search_log.head()"
   ]
  },
  {
   "cell_type": "markdown",
   "metadata": {},
   "source": [
    "## 予測対象となるauctionについて"
   ]
  },
  {
   "cell_type": "markdown",
   "metadata": {},
   "source": [
    "- 一週間で大体6000ユーザー、7万オークション、10万アクションくらい\n",
    "- 予測対象となるオークションの60%程度が201907以降のオークション\n",
    "    - 201907以降で約90万オークション\n",
    "- 予測対象となるオークションの80%程度が201907以降にwatchされている？\n",
    "- watchlistのアクション直近3月、オークション作成直近3月で絞ってもほとんどカバーできている様子\n",
    "- 1月あたり約30万件のオークションがある\n",
    "- 一週間にアクションを起こすユーザーは大体6000くらい\n",
    "    - 学習データのレコードを1億程度にしようと思うと一人当たり16000レコードくらいにしなきゃいけない？"
   ]
  },
  {
   "cell_type": "code",
   "execution_count": 237,
   "metadata": {},
   "outputs": [],
   "source": [
    "auction = pd.read_csv(INPUT_DIR + \"auction.csv\")\n",
    "watchlist = pd.read_csv(INPUT_DIR + \"watchlist.csv\")\n",
    "shudounyuusatsu = pd.read_csv(INPUT_DIR + \"shudounyuusatsu.csv\")"
   ]
  },
  {
   "cell_type": "code",
   "execution_count": 269,
   "metadata": {},
   "outputs": [],
   "source": [
    "auction[\"CreateDate\"] = pd.to_datetime(auction[\"CreateDate\"], format=\"%Y-%m-%d %H:%M:%S\")\n",
    "auction_datepart = add_datepart(auction, \"CreateDate\", drop=False)\n",
    "start_dt = datetime.datetime(2019, 9, 17, 0, 0, 0)\n",
    "end_dt = datetime.datetime(2019, 9, 24, 0, 0, 0)"
   ]
  },
  {
   "cell_type": "code",
   "execution_count": 278,
   "metadata": {},
   "outputs": [],
   "source": [
    "watchlist = to_datetime(watchlist)\n",
    "shudounyuusatsu = to_datetime(shudounyuusatsu)\n",
    "watchlist.rename(columns={\"TourokuDate\": \"ActionDate\"}, inplace=True)\n",
    "shudounyuusatsu.rename(columns={\"ShudouNyuusatsuDate\": \"ActionDate\"}, inplace=True)\n",
    "watch_nyuusatsu = pd.concat([watchlist, shudounyuusatsu], sort=False)"
   ]
  },
  {
   "cell_type": "code",
   "execution_count": 305,
   "metadata": {},
   "outputs": [
    {
     "name": "stdout",
     "output_type": "stream",
     "text": [
      "KaiinID    6344\n",
      "dtype: int64\n",
      "AuctionID    68682\n",
      "dtype: int64\n",
      "(97583, 8)\n"
     ]
    }
   ],
   "source": [
    "target_log = watch_nyuusatsu[(watch_nyuusatsu[\"ActionDate\"] >= start_dt) & (watch_nyuusatsu[\"ActionDate\"] <= end_dt)]\n",
    "print(target_log[[\"KaiinID\"]].nunique())\n",
    "print(target_log[[\"AuctionID\"]].nunique())\n",
    "print(target_log.shape)"
   ]
  },
  {
   "cell_type": "code",
   "execution_count": 272,
   "metadata": {},
   "outputs": [],
   "source": [
    "target_auctions = (\n",
    "    target_log[[\"AuctionID\"]]\n",
    "    .drop_duplicates()\n",
    "    .merge(auction, on=\"AuctionID\", how=\"inner\")\n",
    ")\n",
    "target_auctions = add_datepart(target_auctions, \"CreateDate\", drop=False)\n",
    "target_auctions[\"CreateYearMonth\"] = target_auctions[\"CreateYear\"].astype(str) + target_auctions[\"CreateMonth\"].astype(str)"
   ]
  },
  {
   "cell_type": "code",
   "execution_count": 309,
   "metadata": {},
   "outputs": [
    {
     "name": "stdout",
     "output_type": "stream",
     "text": [
      "(68682, 23)\n",
      "ShouhinID    68430\n",
      "dtype: int64\n"
     ]
    },
    {
     "data": {
      "text/plain": [
       "20199     26033\n",
       "20198     17360\n",
       "20197     12991\n",
       "20196      5381\n",
       "20195      2788\n",
       "20194      1421\n",
       "20193       945\n",
       "20191       379\n",
       "20192       369\n",
       "201811      326\n",
       "201812      277\n",
       "201810      265\n",
       "20189        84\n",
       "20188        63\n",
       "Name: CreateYearMonth, dtype: int64"
      ]
     },
     "execution_count": 309,
     "metadata": {},
     "output_type": "execute_result"
    }
   ],
   "source": [
    "print(target_auctions.shape)\n",
    "print(target_auctions[[\"ShouhinID\"]].nunique())\n",
    "target_auctions[\"CreateYearMonth\"].value_counts()"
   ]
  },
  {
   "cell_type": "code",
   "execution_count": 313,
   "metadata": {
    "scrolled": true
   },
   "outputs": [
    {
     "data": {
      "text/plain": [
       "(125077, 13)"
      ]
     },
     "execution_count": 313,
     "metadata": {},
     "output_type": "execute_result"
    }
   ],
   "source": [
    "target_auctions[[\"ShouhinID\"]].drop_duplicates().merge(auction, on=\"ShouhinID\").shape"
   ]
  },
  {
   "cell_type": "code",
   "execution_count": 274,
   "metadata": {},
   "outputs": [
    {
     "data": {
      "text/plain": [
       "20197     474985\n",
       "20196     347167\n",
       "20199     279276\n",
       "20183     273621\n",
       "20198     247248\n",
       "20182     242810\n",
       "20184     241208\n",
       "20185     221878\n",
       "20195     184892\n",
       "201810    179667\n",
       "20193     173629\n",
       "20186     173387\n",
       "201811    156949\n",
       "20194     147427\n",
       "20187     146167\n",
       "201812    143888\n",
       "20192     142253\n",
       "20191     121177\n",
       "20188     119105\n",
       "20189      92825\n",
       "Name: CreateYearMonth, dtype: int64"
      ]
     },
     "execution_count": 274,
     "metadata": {},
     "output_type": "execute_result"
    }
   ],
   "source": [
    "auction_datepart[\"CreateYearMonth\"] = auction_datepart[\"CreateYear\"].astype(str) + auction_datepart[\"CreateMonth\"].astype(str)\n",
    "auction_datepart[\"CreateYearMonth\"].value_counts()"
   ]
  },
  {
   "cell_type": "code",
   "execution_count": 275,
   "metadata": {},
   "outputs": [
    {
     "data": {
      "text/plain": [
       "20199     66803\n",
       "20198     18015\n",
       "20197     10096\n",
       "20196      5334\n",
       "20195      2729\n",
       "20194      1692\n",
       "20193      1208\n",
       "20192       760\n",
       "20191       510\n",
       "201812      337\n",
       "201811      207\n",
       "201810      115\n",
       "20189        17\n",
       "Name: ActionYearMonth, dtype: int64"
      ]
     },
     "execution_count": 275,
     "metadata": {},
     "output_type": "execute_result"
    }
   ],
   "source": [
    "target_watch  = target_auctions[[\"AuctionID\", \"CreateDate\"]].merge(watchlist, on=\"AuctionID\", how=\"inner\")\n",
    "target_watch = add_datepart(target_watch, \"ActionDate\", drop=False)\n",
    "target_watch[\"ActionYearMonth\"] = target_watch[\"ActionYear\"].astype(str) + target_watch[\"ActionMonth\"].astype(str)\n",
    "target_watch[[\"ActionYearMonth\", \"AuctionID\"]].drop_duplicates()[\"ActionYearMonth\"].value_counts()"
   ]
  },
  {
   "cell_type": "code",
   "execution_count": 289,
   "metadata": {},
   "outputs": [
    {
     "data": {
      "text/plain": [
       "(202848, 16)"
      ]
     },
     "execution_count": 289,
     "metadata": {},
     "output_type": "execute_result"
    }
   ],
   "source": [
    "target_watch.shape"
   ]
  },
  {
   "cell_type": "code",
   "execution_count": 295,
   "metadata": {},
   "outputs": [
    {
     "data": {
      "text/plain": [
       "(65568, 1)"
      ]
     },
     "execution_count": 295,
     "metadata": {},
     "output_type": "execute_result"
    }
   ],
   "source": [
    "(target_watch[\n",
    "    (target_watch[\"CreateDate\"] >= datetime.datetime(2019, 6, 1, 0, 0, 0)) |\n",
    "    ((target_watch[\"ActionDate\"] >= datetime.datetime(2019, 6, 17, 0, 0, 0)) & \n",
    "    (target_watch[\"ActionDate\"] <= datetime.datetime(2019, 9, 17, 0, 0, 0)))][[\"AuctionID\"]]\n",
    "    .drop_duplicates().shape\n",
    ")"
   ]
  },
  {
   "cell_type": "code",
   "execution_count": 302,
   "metadata": {},
   "outputs": [
    {
     "data": {
      "text/plain": [
       "(357282, 1)"
      ]
     },
     "execution_count": 302,
     "metadata": {},
     "output_type": "execute_result"
    }
   ],
   "source": [
    "watch_valid_aucs = watchlist[((watchlist[\"ActionDate\"] >= datetime.datetime(2019, 6, 17, 0, 0, 0)) &\n",
    "    (watchlist[\"ActionDate\"] <= datetime.datetime(2019, 9, 17, 0, 0, 0)))][[\"AuctionID\"]].drop_duplicates()\n",
    "mst_valid_aucs = auction[auction[\"CreateDate\"] >= datetime.datetime(2019, 6, 1, 0, 0, 0)][[\"AuctionID\"]].drop_duplicates()\n",
    "valid_aucs = watch_valid_aucs.merge(mst_valid_aucs, on=\"AuctionID\")\n",
    "valid_aucs.shape"
   ]
  },
  {
   "cell_type": "code",
   "execution_count": null,
   "metadata": {},
   "outputs": [],
   "source": []
  },
  {
   "cell_type": "markdown",
   "metadata": {},
   "source": [
    "## テストデータについて"
   ]
  },
  {
   "cell_type": "markdown",
   "metadata": {},
   "source": [
    "- 予測対象ユーザーは6016"
   ]
  },
  {
   "cell_type": "code",
   "execution_count": 137,
   "metadata": {},
   "outputs": [],
   "source": [
    "sample_sub = pd.read_csv(INPUT_DIR + \"sample_submission.csv\")"
   ]
  },
  {
   "cell_type": "code",
   "execution_count": 139,
   "metadata": {},
   "outputs": [
    {
     "data": {
      "text/plain": [
       "KaiinID    6016\n",
       "dtype: int64"
      ]
     },
     "execution_count": 139,
     "metadata": {},
     "output_type": "execute_result"
    }
   ],
   "source": [
    "sample_sub[[\"KaiinID\"]].nunique()"
   ]
  },
  {
   "cell_type": "markdown",
   "metadata": {},
   "source": [
    "## どのオークションがシステム的に候補から外れるか"
   ]
  },
  {
   "cell_type": "markdown",
   "metadata": {},
   "source": [
    "- 入札に含まれているオークションは落札とほぼ一致している\n",
    "\n",
    "### 結論\n",
    "- 落札に含まれているオークションは終了していると見なして除外する\n",
    "- 他にもシステム的に候補に入っていないオークションが残っている可能性が高い(watchから確認できるかもしれない)"
   ]
  },
  {
   "cell_type": "code",
   "execution_count": 181,
   "metadata": {},
   "outputs": [
    {
     "data": {
      "text/plain": [
       "(4109559, 13)"
      ]
     },
     "execution_count": 181,
     "metadata": {},
     "output_type": "execute_result"
    }
   ],
   "source": [
    "auction.shape"
   ]
  },
  {
   "cell_type": "code",
   "execution_count": 187,
   "metadata": {},
   "outputs": [
    {
     "name": "stdout",
     "output_type": "stream",
     "text": [
      "450242\n",
      "450205\n"
     ]
    }
   ],
   "source": [
    "print(rakusatsu.shape[0])\n",
    "print(rakusatsu[[\"AuctionID\"]].drop_duplicates().shape[0])"
   ]
  },
  {
   "cell_type": "code",
   "execution_count": 195,
   "metadata": {},
   "outputs": [
    {
     "name": "stdout",
     "output_type": "stream",
     "text": [
      "4165155\n",
      "1484732\n"
     ]
    }
   ],
   "source": [
    "print(watchlist.shape[0])\n",
    "print(watchlist[[\"AuctionID\"]].drop_duplicates().shape[0])"
   ]
  },
  {
   "cell_type": "code",
   "execution_count": 196,
   "metadata": {},
   "outputs": [
    {
     "name": "stdout",
     "output_type": "stream",
     "text": [
      "612516\n",
      "453391\n"
     ]
    }
   ],
   "source": [
    "print(shudounyuusatsu.shape[0])\n",
    "print(shudounyuusatsu[[\"AuctionID\"]].drop_duplicates().shape[0])"
   ]
  },
  {
   "cell_type": "code",
   "execution_count": 177,
   "metadata": {},
   "outputs": [
    {
     "data": {
      "text/plain": [
       "True"
      ]
     },
     "execution_count": 177,
     "metadata": {},
     "output_type": "execute_result"
    }
   ],
   "source": [
    "rakusatsu[[\"AuctionID\"]].drop_duplicates().shape[0] == rakusatsu[[\"AuctionID\"]].drop_duplicates().merge(auction, on=\"AuctionID\").shape[0]"
   ]
  },
  {
   "cell_type": "code",
   "execution_count": 178,
   "metadata": {},
   "outputs": [
    {
     "data": {
      "text/plain": [
       "True"
      ]
     },
     "execution_count": 178,
     "metadata": {},
     "output_type": "execute_result"
    }
   ],
   "source": [
    "shudounyuusatsu[[\"AuctionID\"]].drop_duplicates().shape[0] == shudounyuusatsu[[\"AuctionID\"]].drop_duplicates().merge(auction, on=\"AuctionID\").shape[0]"
   ]
  },
  {
   "cell_type": "code",
   "execution_count": 179,
   "metadata": {},
   "outputs": [
    {
     "data": {
      "text/plain": [
       "True"
      ]
     },
     "execution_count": 179,
     "metadata": {},
     "output_type": "execute_result"
    }
   ],
   "source": [
    "watchlist[[\"AuctionID\"]].drop_duplicates().shape[0] == watchlist[[\"AuctionID\"]].drop_duplicates().merge(auction, on=\"AuctionID\").shape[0]"
   ]
  },
  {
   "cell_type": "code",
   "execution_count": 190,
   "metadata": {},
   "outputs": [],
   "source": [
    "nyuusatsu_after_rakusatsu = (\n",
    "    rakusatsu[[\"AuctionID\", \"RakusatsuDate\"]]\n",
    "    .drop_duplicates().merge(shudounyuusatsu, on=\"AuctionID\")\n",
    "    .query(\"RakusatsuDate <= ShudouNyuusatsuDate\")\n",
    ")"
   ]
  },
  {
   "cell_type": "code",
   "execution_count": 191,
   "metadata": {},
   "outputs": [
    {
     "data": {
      "text/plain": [
       "(15418, 1)"
      ]
     },
     "execution_count": 191,
     "metadata": {},
     "output_type": "execute_result"
    }
   ],
   "source": [
    "nyuusatsu_after_rakusatsu[[\"AuctionID\"]].drop_duplicates().shape"
   ]
  },
  {
   "cell_type": "code",
   "execution_count": 197,
   "metadata": {},
   "outputs": [
    {
     "data": {
      "text/plain": [
       "(450138, 1)"
      ]
     },
     "execution_count": 197,
     "metadata": {},
     "output_type": "execute_result"
    }
   ],
   "source": [
    "rakusatsu[[\"AuctionID\"]].drop_duplicates().merge(shudounyuusatsu[[\"AuctionID\"]].drop_duplicates(), on=\"AuctionID\").shape"
   ]
  },
  {
   "cell_type": "code",
   "execution_count": 193,
   "metadata": {},
   "outputs": [],
   "source": [
    "watch_after_rakusatsu = (\n",
    "    rakusatsu[[\"AuctionID\", \"RakusatsuDate\"]]\n",
    "    .drop_duplicates().merge(watchlist, on=\"AuctionID\")\n",
    "    .query(\"RakusatsuDate <= TourokuDate\")\n",
    ")"
   ]
  },
  {
   "cell_type": "code",
   "execution_count": 194,
   "metadata": {},
   "outputs": [
    {
     "data": {
      "text/plain": [
       "(5748, 1)"
      ]
     },
     "execution_count": 194,
     "metadata": {},
     "output_type": "execute_result"
    }
   ],
   "source": [
    "watch_after_rakusatsu[[\"AuctionID\"]].drop_duplicates().shape"
   ]
  },
  {
   "cell_type": "code",
   "execution_count": null,
   "metadata": {},
   "outputs": [],
   "source": []
  }
 ],
 "metadata": {
  "kernelspec": {
   "display_name": "Python 3",
   "language": "python",
   "name": "python3"
  },
  "language_info": {
   "codemirror_mode": {
    "name": "ipython",
    "version": 3
   },
   "file_extension": ".py",
   "mimetype": "text/x-python",
   "name": "python",
   "nbconvert_exporter": "python",
   "pygments_lexer": "ipython3",
   "version": "3.7.5"
  }
 },
 "nbformat": 4,
 "nbformat_minor": 2
}
