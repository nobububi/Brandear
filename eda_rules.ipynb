{
 "cells": [
  {
   "cell_type": "markdown",
   "metadata": {},
   "source": [
    "# 概要\n",
    "- 各データの期間について\n",
    "- 予測対象となるauctionについて\n",
    "- テストデータについて\n",
    "- どのオークションがシステム的に候補から外れるか"
   ]
  },
  {
   "cell_type": "code",
   "execution_count": 3,
   "metadata": {},
   "outputs": [],
   "source": [
    "from os.path import dirname\n",
    "import os\n",
    "import datetime\n",
    "from dateutil.relativedelta import relativedelta\n",
    "\n",
    "import pandas as pd\n",
    "import numpy as np\n",
    "import matplotlib.pyplot as plt"
   ]
  },
  {
   "cell_type": "code",
   "execution_count": 4,
   "metadata": {},
   "outputs": [],
   "source": [
    "%load_ext autoreload\n",
    "%autoreload 2\n",
    "import brandear_est as be"
   ]
  },
  {
   "cell_type": "code",
   "execution_count": 5,
   "metadata": {},
   "outputs": [],
   "source": [
    "INPUT_DIR = os.path.join(os.getcwd(), \"../../data/input/\")\n",
    "IMD_DIR = os.path.join(os.getcwd(), \"../../data/intermediate/\")"
   ]
  },
  {
   "cell_type": "markdown",
   "metadata": {},
   "source": [
    "## 各データの期間について\n",
    "- 20190924以降のデータが入っているテーブル\n",
    "    - auction\n",
    "    - brand"
   ]
  },
  {
   "cell_type": "code",
   "execution_count": 4,
   "metadata": {},
   "outputs": [
    {
     "name": "stdout",
     "output_type": "stream",
     "text": [
      "(4109559, 13)\n",
      "2019-09-30 10:00:58\n",
      "ShouhinID    3002614\n",
      "dtype: int64\n"
     ]
    },
    {
     "data": {
      "text/html": [
       "<div>\n",
       "<style scoped>\n",
       "    .dataframe tbody tr th:only-of-type {\n",
       "        vertical-align: middle;\n",
       "    }\n",
       "\n",
       "    .dataframe tbody tr th {\n",
       "        vertical-align: top;\n",
       "    }\n",
       "\n",
       "    .dataframe thead th {\n",
       "        text-align: right;\n",
       "    }\n",
       "</style>\n",
       "<table border=\"1\" class=\"dataframe\">\n",
       "  <thead>\n",
       "    <tr style=\"text-align: right;\">\n",
       "      <th></th>\n",
       "      <th>AuctionID</th>\n",
       "      <th>ShouhinShubetsuID</th>\n",
       "      <th>ShouhinID</th>\n",
       "      <th>SaishuppinKaisuu</th>\n",
       "      <th>ConditionID</th>\n",
       "      <th>BrandID</th>\n",
       "      <th>GenreID</th>\n",
       "      <th>GenreGroupID</th>\n",
       "      <th>LineID</th>\n",
       "      <th>ColorID</th>\n",
       "      <th>DanjobetsuID</th>\n",
       "      <th>SankouKakaku</th>\n",
       "      <th>CreateDate</th>\n",
       "    </tr>\n",
       "  </thead>\n",
       "  <tbody>\n",
       "    <tr>\n",
       "      <th>0</th>\n",
       "      <td>4066465</td>\n",
       "      <td>1</td>\n",
       "      <td>620477</td>\n",
       "      <td>334</td>\n",
       "      <td>6</td>\n",
       "      <td>494</td>\n",
       "      <td>321</td>\n",
       "      <td>312</td>\n",
       "      <td>0</td>\n",
       "      <td>15</td>\n",
       "      <td>0</td>\n",
       "      <td>4000</td>\n",
       "      <td>2019-07-27 09:31:34</td>\n",
       "    </tr>\n",
       "    <tr>\n",
       "      <th>1</th>\n",
       "      <td>622037</td>\n",
       "      <td>1</td>\n",
       "      <td>1146271</td>\n",
       "      <td>0</td>\n",
       "      <td>6</td>\n",
       "      <td>32</td>\n",
       "      <td>321</td>\n",
       "      <td>312</td>\n",
       "      <td>0</td>\n",
       "      <td>304</td>\n",
       "      <td>0</td>\n",
       "      <td>4500</td>\n",
       "      <td>2019-07-27 09:31:34</td>\n",
       "    </tr>\n",
       "    <tr>\n",
       "      <th>2</th>\n",
       "      <td>3447030</td>\n",
       "      <td>1</td>\n",
       "      <td>1069454</td>\n",
       "      <td>0</td>\n",
       "      <td>6</td>\n",
       "      <td>30</td>\n",
       "      <td>320</td>\n",
       "      <td>312</td>\n",
       "      <td>0</td>\n",
       "      <td>338</td>\n",
       "      <td>0</td>\n",
       "      <td>3000</td>\n",
       "      <td>2019-07-27 09:31:34</td>\n",
       "    </tr>\n",
       "    <tr>\n",
       "      <th>3</th>\n",
       "      <td>957658</td>\n",
       "      <td>1</td>\n",
       "      <td>661292</td>\n",
       "      <td>0</td>\n",
       "      <td>6</td>\n",
       "      <td>30</td>\n",
       "      <td>321</td>\n",
       "      <td>312</td>\n",
       "      <td>0</td>\n",
       "      <td>188</td>\n",
       "      <td>0</td>\n",
       "      <td>3500</td>\n",
       "      <td>2019-07-27 09:31:34</td>\n",
       "    </tr>\n",
       "    <tr>\n",
       "      <th>4</th>\n",
       "      <td>2496085</td>\n",
       "      <td>1</td>\n",
       "      <td>2207903</td>\n",
       "      <td>0</td>\n",
       "      <td>6</td>\n",
       "      <td>569</td>\n",
       "      <td>6</td>\n",
       "      <td>314</td>\n",
       "      <td>0</td>\n",
       "      <td>0</td>\n",
       "      <td>0</td>\n",
       "      <td>8000</td>\n",
       "      <td>2019-07-27 09:31:34</td>\n",
       "    </tr>\n",
       "  </tbody>\n",
       "</table>\n",
       "</div>"
      ],
      "text/plain": [
       "   AuctionID  ShouhinShubetsuID  ShouhinID  SaishuppinKaisuu  ConditionID  \\\n",
       "0    4066465                  1     620477               334            6   \n",
       "1     622037                  1    1146271                 0            6   \n",
       "2    3447030                  1    1069454                 0            6   \n",
       "3     957658                  1     661292                 0            6   \n",
       "4    2496085                  1    2207903                 0            6   \n",
       "\n",
       "   BrandID  GenreID  GenreGroupID  LineID  ColorID  DanjobetsuID  \\\n",
       "0      494      321           312       0       15             0   \n",
       "1       32      321           312       0      304             0   \n",
       "2       30      320           312       0      338             0   \n",
       "3       30      321           312       0      188             0   \n",
       "4      569        6           314       0        0             0   \n",
       "\n",
       "   SankouKakaku           CreateDate  \n",
       "0          4000  2019-07-27 09:31:34  \n",
       "1          4500  2019-07-27 09:31:34  \n",
       "2          3000  2019-07-27 09:31:34  \n",
       "3          3500  2019-07-27 09:31:34  \n",
       "4          8000  2019-07-27 09:31:34  "
      ]
     },
     "execution_count": 4,
     "metadata": {},
     "output_type": "execute_result"
    }
   ],
   "source": [
    "auction = pd.read_csv(INPUT_DIR + \"auction.csv\")\n",
    "print(auction.shape)\n",
    "print(auction[\"CreateDate\"].max())\n",
    "print(auction[[\"ShouhinID\"]].nunique())\n",
    "auction.head()"
   ]
  },
  {
   "cell_type": "code",
   "execution_count": 5,
   "metadata": {},
   "outputs": [
    {
     "name": "stdout",
     "output_type": "stream",
     "text": [
      "(9834, 5)\n",
      "2019-10-25 06:00:01\n"
     ]
    },
    {
     "data": {
      "text/html": [
       "<div>\n",
       "<style scoped>\n",
       "    .dataframe tbody tr th:only-of-type {\n",
       "        vertical-align: middle;\n",
       "    }\n",
       "\n",
       "    .dataframe tbody tr th {\n",
       "        vertical-align: top;\n",
       "    }\n",
       "\n",
       "    .dataframe thead th {\n",
       "        text-align: right;\n",
       "    }\n",
       "</style>\n",
       "<table border=\"1\" class=\"dataframe\">\n",
       "  <thead>\n",
       "    <tr style=\"text-align: right;\">\n",
       "      <th></th>\n",
       "      <th>BrandID</th>\n",
       "      <th>BrandName1</th>\n",
       "      <th>BrandName2</th>\n",
       "      <th>ModifyDate</th>\n",
       "      <th>CreateDate</th>\n",
       "    </tr>\n",
       "  </thead>\n",
       "  <tbody>\n",
       "    <tr>\n",
       "      <th>0</th>\n",
       "      <td>1</td>\n",
       "      <td>アンテプリマ</td>\n",
       "      <td>ANTEPRIMA</td>\n",
       "      <td>2010-09-17 11:25:29</td>\n",
       "      <td>2010-09-10 12:06:39</td>\n",
       "    </tr>\n",
       "    <tr>\n",
       "      <th>1</th>\n",
       "      <td>2</td>\n",
       "      <td>アイグナー</td>\n",
       "      <td>AIGNER</td>\n",
       "      <td>2010-09-17 11:25:29</td>\n",
       "      <td>2010-09-10 12:06:39</td>\n",
       "    </tr>\n",
       "    <tr>\n",
       "      <th>2</th>\n",
       "      <td>3</td>\n",
       "      <td>アルマーニジーンズ</td>\n",
       "      <td>ARMANIJEANS</td>\n",
       "      <td>2010-09-17 11:25:29</td>\n",
       "      <td>2010-09-10 12:06:39</td>\n",
       "    </tr>\n",
       "    <tr>\n",
       "      <th>3</th>\n",
       "      <td>4</td>\n",
       "      <td>アルマーニエクスチェンジ</td>\n",
       "      <td>ARMANIEX</td>\n",
       "      <td>2010-09-17 11:25:29</td>\n",
       "      <td>2010-09-10 12:06:39</td>\n",
       "    </tr>\n",
       "    <tr>\n",
       "      <th>4</th>\n",
       "      <td>5</td>\n",
       "      <td>アナスイ</td>\n",
       "      <td>ANNA SUI</td>\n",
       "      <td>2010-09-17 11:25:29</td>\n",
       "      <td>2010-09-10 12:06:39</td>\n",
       "    </tr>\n",
       "  </tbody>\n",
       "</table>\n",
       "</div>"
      ],
      "text/plain": [
       "   BrandID    BrandName1   BrandName2           ModifyDate  \\\n",
       "0        1        アンテプリマ    ANTEPRIMA  2010-09-17 11:25:29   \n",
       "1        2         アイグナー       AIGNER  2010-09-17 11:25:29   \n",
       "2        3     アルマーニジーンズ  ARMANIJEANS  2010-09-17 11:25:29   \n",
       "3        4  アルマーニエクスチェンジ     ARMANIEX  2010-09-17 11:25:29   \n",
       "4        5          アナスイ     ANNA SUI  2010-09-17 11:25:29   \n",
       "\n",
       "            CreateDate  \n",
       "0  2010-09-10 12:06:39  \n",
       "1  2010-09-10 12:06:39  \n",
       "2  2010-09-10 12:06:39  \n",
       "3  2010-09-10 12:06:39  \n",
       "4  2010-09-10 12:06:39  "
      ]
     },
     "execution_count": 5,
     "metadata": {},
     "output_type": "execute_result"
    }
   ],
   "source": [
    "brand = pd.read_csv(INPUT_DIR + \"brand.csv\")\n",
    "print(brand.shape)\n",
    "print(brand[\"CreateDate\"].max())\n",
    "brand.head()"
   ]
  },
  {
   "cell_type": "code",
   "execution_count": 6,
   "metadata": {},
   "outputs": [
    {
     "data": {
      "text/html": [
       "<div>\n",
       "<style scoped>\n",
       "    .dataframe tbody tr th:only-of-type {\n",
       "        vertical-align: middle;\n",
       "    }\n",
       "\n",
       "    .dataframe tbody tr th {\n",
       "        vertical-align: top;\n",
       "    }\n",
       "\n",
       "    .dataframe thead th {\n",
       "        text-align: right;\n",
       "    }\n",
       "</style>\n",
       "<table border=\"1\" class=\"dataframe\">\n",
       "  <thead>\n",
       "    <tr style=\"text-align: right;\">\n",
       "      <th></th>\n",
       "      <th>BrandID</th>\n",
       "      <th>BrandName1</th>\n",
       "      <th>BrandName2</th>\n",
       "      <th>ModifyDate</th>\n",
       "      <th>CreateDate</th>\n",
       "    </tr>\n",
       "  </thead>\n",
       "  <tbody>\n",
       "    <tr>\n",
       "      <th>9635</th>\n",
       "      <td>10897</td>\n",
       "      <td>カリンスティーブンス</td>\n",
       "      <td>karin stevens</td>\n",
       "      <td>2019-10-25 06:00:01</td>\n",
       "      <td>2019-10-25 06:00:01</td>\n",
       "    </tr>\n",
       "    <tr>\n",
       "      <th>1870</th>\n",
       "      <td>2397</td>\n",
       "      <td>ミルクボーイ</td>\n",
       "      <td>MILKBOY</td>\n",
       "      <td>2019-10-25 06:00:01</td>\n",
       "      <td>2019-10-25 06:00:01</td>\n",
       "    </tr>\n",
       "    <tr>\n",
       "      <th>9765</th>\n",
       "      <td>11123</td>\n",
       "      <td>フォームラ ホベン</td>\n",
       "      <td>formul@JOVEN</td>\n",
       "      <td>2019-10-25 06:00:01</td>\n",
       "      <td>2019-10-25 06:00:01</td>\n",
       "    </tr>\n",
       "    <tr>\n",
       "      <th>9827</th>\n",
       "      <td>11218</td>\n",
       "      <td>ラルドゥート</td>\n",
       "      <td>LA REDOUTE</td>\n",
       "      <td>2019-10-25 06:00:01</td>\n",
       "      <td>2019-10-25 06:00:01</td>\n",
       "    </tr>\n",
       "    <tr>\n",
       "      <th>9636</th>\n",
       "      <td>10899</td>\n",
       "      <td>エスレイ</td>\n",
       "      <td>Esley</td>\n",
       "      <td>2019-10-25 06:00:01</td>\n",
       "      <td>2019-10-25 06:00:01</td>\n",
       "    </tr>\n",
       "    <tr>\n",
       "      <th>9762</th>\n",
       "      <td>11117</td>\n",
       "      <td>アレクシアアドマーニューヨーク</td>\n",
       "      <td>ALEXIA ADMOR NEW YORK</td>\n",
       "      <td>2019-10-23 06:00:04</td>\n",
       "      <td>2019-10-23 06:00:04</td>\n",
       "    </tr>\n",
       "    <tr>\n",
       "      <th>9755</th>\n",
       "      <td>11105</td>\n",
       "      <td>インスパイアド</td>\n",
       "      <td>inspired</td>\n",
       "      <td>2019-10-23 06:00:04</td>\n",
       "      <td>2019-10-23 06:00:04</td>\n",
       "    </tr>\n",
       "    <tr>\n",
       "      <th>9753</th>\n",
       "      <td>11103</td>\n",
       "      <td>ニンフェ</td>\n",
       "      <td>NYMPHE</td>\n",
       "      <td>2019-10-23 06:00:04</td>\n",
       "      <td>2019-10-23 06:00:04</td>\n",
       "    </tr>\n",
       "    <tr>\n",
       "      <th>9721</th>\n",
       "      <td>11048</td>\n",
       "      <td>メイドフォーインパルスファッションウィーク</td>\n",
       "      <td>MADE for impulse FASHION WEEK</td>\n",
       "      <td>2019-10-23 06:00:04</td>\n",
       "      <td>2019-10-23 06:00:04</td>\n",
       "    </tr>\n",
       "    <tr>\n",
       "      <th>9720</th>\n",
       "      <td>11047</td>\n",
       "      <td>タルト</td>\n",
       "      <td>TART</td>\n",
       "      <td>2019-10-23 06:00:04</td>\n",
       "      <td>2019-10-23 06:00:04</td>\n",
       "    </tr>\n",
       "    <tr>\n",
       "      <th>9797</th>\n",
       "      <td>11178</td>\n",
       "      <td>パターソンジェイキンケイド</td>\n",
       "      <td>Patterson J.Kincaid</td>\n",
       "      <td>2019-10-23 06:00:04</td>\n",
       "      <td>2019-10-23 06:00:04</td>\n",
       "    </tr>\n",
       "    <tr>\n",
       "      <th>9705</th>\n",
       "      <td>11019</td>\n",
       "      <td>メゾンジュールス</td>\n",
       "      <td>maison Jules</td>\n",
       "      <td>2019-10-23 06:00:04</td>\n",
       "      <td>2019-10-23 06:00:04</td>\n",
       "    </tr>\n",
       "    <tr>\n",
       "      <th>9697</th>\n",
       "      <td>11006</td>\n",
       "      <td>ベストマウンテン</td>\n",
       "      <td>BEST MOUNTAIN</td>\n",
       "      <td>2019-10-23 06:00:04</td>\n",
       "      <td>2019-10-23 06:00:04</td>\n",
       "    </tr>\n",
       "    <tr>\n",
       "      <th>9768</th>\n",
       "      <td>11127</td>\n",
       "      <td>ルスーツ</td>\n",
       "      <td>Le Suit</td>\n",
       "      <td>2019-10-23 06:00:04</td>\n",
       "      <td>2019-10-23 06:00:04</td>\n",
       "    </tr>\n",
       "    <tr>\n",
       "      <th>9832</th>\n",
       "      <td>11227</td>\n",
       "      <td>ジェージー</td>\n",
       "      <td>J GEE</td>\n",
       "      <td>2019-10-23 06:00:04</td>\n",
       "      <td>2019-10-23 06:00:04</td>\n",
       "    </tr>\n",
       "    <tr>\n",
       "      <th>9657</th>\n",
       "      <td>10936</td>\n",
       "      <td>リュークソーロージー</td>\n",
       "      <td>Luxology</td>\n",
       "      <td>2019-10-23 06:00:03</td>\n",
       "      <td>2019-10-23 06:00:03</td>\n",
       "    </tr>\n",
       "    <tr>\n",
       "      <th>9643</th>\n",
       "      <td>10908</td>\n",
       "      <td>マリナ</td>\n",
       "      <td>MARINA</td>\n",
       "      <td>2019-10-23 06:00:03</td>\n",
       "      <td>2019-10-23 06:00:03</td>\n",
       "    </tr>\n",
       "    <tr>\n",
       "      <th>9588</th>\n",
       "      <td>10829</td>\n",
       "      <td>フランチェスカ</td>\n",
       "      <td>francesca's</td>\n",
       "      <td>2019-10-23 06:00:03</td>\n",
       "      <td>2019-10-23 06:00:03</td>\n",
       "    </tr>\n",
       "    <tr>\n",
       "      <th>9590</th>\n",
       "      <td>10831</td>\n",
       "      <td>アイリーンフィッシャー</td>\n",
       "      <td>EILEEN FISFER</td>\n",
       "      <td>2019-10-23 06:00:03</td>\n",
       "      <td>2019-10-23 06:00:03</td>\n",
       "    </tr>\n",
       "    <tr>\n",
       "      <th>9667</th>\n",
       "      <td>10960</td>\n",
       "      <td>ジョセフリブコフ</td>\n",
       "      <td>Joseph Ribkoff</td>\n",
       "      <td>2019-10-23 06:00:03</td>\n",
       "      <td>2019-10-23 06:00:03</td>\n",
       "    </tr>\n",
       "  </tbody>\n",
       "</table>\n",
       "</div>"
      ],
      "text/plain": [
       "      BrandID             BrandName1                     BrandName2  \\\n",
       "9635    10897             カリンスティーブンス                  karin stevens   \n",
       "1870     2397                 ミルクボーイ                        MILKBOY   \n",
       "9765    11123              フォームラ ホベン                   formul@JOVEN   \n",
       "9827    11218                 ラルドゥート                     LA REDOUTE   \n",
       "9636    10899                   エスレイ                          Esley   \n",
       "9762    11117        アレクシアアドマーニューヨーク          ALEXIA ADMOR NEW YORK   \n",
       "9755    11105                インスパイアド                       inspired   \n",
       "9753    11103                   ニンフェ                         NYMPHE   \n",
       "9721    11048  メイドフォーインパルスファッションウィーク  MADE for impulse FASHION WEEK   \n",
       "9720    11047                    タルト                           TART   \n",
       "9797    11178          パターソンジェイキンケイド            Patterson J.Kincaid   \n",
       "9705    11019               メゾンジュールス                   maison Jules   \n",
       "9697    11006               ベストマウンテン                  BEST MOUNTAIN   \n",
       "9768    11127                   ルスーツ                        Le Suit   \n",
       "9832    11227                  ジェージー                          J GEE   \n",
       "9657    10936             リュークソーロージー                       Luxology   \n",
       "9643    10908                    マリナ                         MARINA   \n",
       "9588    10829                フランチェスカ                    francesca's   \n",
       "9590    10831            アイリーンフィッシャー                  EILEEN FISFER   \n",
       "9667    10960               ジョセフリブコフ                 Joseph Ribkoff   \n",
       "\n",
       "               ModifyDate           CreateDate  \n",
       "9635  2019-10-25 06:00:01  2019-10-25 06:00:01  \n",
       "1870  2019-10-25 06:00:01  2019-10-25 06:00:01  \n",
       "9765  2019-10-25 06:00:01  2019-10-25 06:00:01  \n",
       "9827  2019-10-25 06:00:01  2019-10-25 06:00:01  \n",
       "9636  2019-10-25 06:00:01  2019-10-25 06:00:01  \n",
       "9762  2019-10-23 06:00:04  2019-10-23 06:00:04  \n",
       "9755  2019-10-23 06:00:04  2019-10-23 06:00:04  \n",
       "9753  2019-10-23 06:00:04  2019-10-23 06:00:04  \n",
       "9721  2019-10-23 06:00:04  2019-10-23 06:00:04  \n",
       "9720  2019-10-23 06:00:04  2019-10-23 06:00:04  \n",
       "9797  2019-10-23 06:00:04  2019-10-23 06:00:04  \n",
       "9705  2019-10-23 06:00:04  2019-10-23 06:00:04  \n",
       "9697  2019-10-23 06:00:04  2019-10-23 06:00:04  \n",
       "9768  2019-10-23 06:00:04  2019-10-23 06:00:04  \n",
       "9832  2019-10-23 06:00:04  2019-10-23 06:00:04  \n",
       "9657  2019-10-23 06:00:03  2019-10-23 06:00:03  \n",
       "9643  2019-10-23 06:00:03  2019-10-23 06:00:03  \n",
       "9588  2019-10-23 06:00:03  2019-10-23 06:00:03  \n",
       "9590  2019-10-23 06:00:03  2019-10-23 06:00:03  \n",
       "9667  2019-10-23 06:00:03  2019-10-23 06:00:03  "
      ]
     },
     "execution_count": 6,
     "metadata": {},
     "output_type": "execute_result"
    }
   ],
   "source": [
    "brand.sort_values(\"ModifyDate\", ascending=False).head(20)"
   ]
  },
  {
   "cell_type": "code",
   "execution_count": 14,
   "metadata": {},
   "outputs": [
    {
     "name": "stdout",
     "output_type": "stream",
     "text": [
      "2010-09-15 14:55:36\n",
      "       CategoryID\n",
      "count   12.000000\n",
      "mean     6.500000\n",
      "std      3.605551\n",
      "min      1.000000\n",
      "25%      3.750000\n",
      "50%      6.500000\n",
      "75%      9.250000\n",
      "max     12.000000\n"
     ]
    },
    {
     "data": {
      "text/html": [
       "<div>\n",
       "<style scoped>\n",
       "    .dataframe tbody tr th:only-of-type {\n",
       "        vertical-align: middle;\n",
       "    }\n",
       "\n",
       "    .dataframe tbody tr th {\n",
       "        vertical-align: top;\n",
       "    }\n",
       "\n",
       "    .dataframe thead th {\n",
       "        text-align: right;\n",
       "    }\n",
       "</style>\n",
       "<table border=\"1\" class=\"dataframe\">\n",
       "  <thead>\n",
       "    <tr style=\"text-align: right;\">\n",
       "      <th></th>\n",
       "      <th>CategoryID</th>\n",
       "      <th>CategoryName</th>\n",
       "      <th>ModifyDate</th>\n",
       "      <th>CreateDate</th>\n",
       "    </tr>\n",
       "  </thead>\n",
       "  <tbody>\n",
       "    <tr>\n",
       "      <th>0</th>\n",
       "      <td>1</td>\n",
       "      <td>バッグ</td>\n",
       "      <td>2010-09-15 14:55:36</td>\n",
       "      <td>2010-09-15 14:55:36</td>\n",
       "    </tr>\n",
       "    <tr>\n",
       "      <th>1</th>\n",
       "      <td>2</td>\n",
       "      <td>財布</td>\n",
       "      <td>2010-09-15 14:55:36</td>\n",
       "      <td>2010-09-15 14:55:36</td>\n",
       "    </tr>\n",
       "    <tr>\n",
       "      <th>2</th>\n",
       "      <td>3</td>\n",
       "      <td>服飾雑貨</td>\n",
       "      <td>2010-09-15 14:55:36</td>\n",
       "      <td>2010-09-15 14:55:36</td>\n",
       "    </tr>\n",
       "    <tr>\n",
       "      <th>3</th>\n",
       "      <td>4</td>\n",
       "      <td>アクセサリー</td>\n",
       "      <td>2010-09-15 14:55:36</td>\n",
       "      <td>2010-09-15 14:55:36</td>\n",
       "    </tr>\n",
       "    <tr>\n",
       "      <th>4</th>\n",
       "      <td>5</td>\n",
       "      <td>トップス</td>\n",
       "      <td>2010-09-15 14:55:36</td>\n",
       "      <td>2010-09-15 14:55:36</td>\n",
       "    </tr>\n",
       "    <tr>\n",
       "      <th>5</th>\n",
       "      <td>6</td>\n",
       "      <td>ワンピース</td>\n",
       "      <td>2010-09-15 14:55:36</td>\n",
       "      <td>2010-09-15 14:55:36</td>\n",
       "    </tr>\n",
       "    <tr>\n",
       "      <th>6</th>\n",
       "      <td>7</td>\n",
       "      <td>ボトムス</td>\n",
       "      <td>2010-09-15 14:55:36</td>\n",
       "      <td>2010-09-15 14:55:36</td>\n",
       "    </tr>\n",
       "    <tr>\n",
       "      <th>7</th>\n",
       "      <td>8</td>\n",
       "      <td>アウター</td>\n",
       "      <td>2010-09-15 14:55:36</td>\n",
       "      <td>2010-09-15 14:55:36</td>\n",
       "    </tr>\n",
       "    <tr>\n",
       "      <th>8</th>\n",
       "      <td>9</td>\n",
       "      <td>スーツ</td>\n",
       "      <td>2010-09-15 14:55:36</td>\n",
       "      <td>2010-09-15 14:55:36</td>\n",
       "    </tr>\n",
       "    <tr>\n",
       "      <th>9</th>\n",
       "      <td>10</td>\n",
       "      <td>靴</td>\n",
       "      <td>2010-09-15 14:55:36</td>\n",
       "      <td>2010-09-15 14:55:36</td>\n",
       "    </tr>\n",
       "    <tr>\n",
       "      <th>10</th>\n",
       "      <td>11</td>\n",
       "      <td>腕時計</td>\n",
       "      <td>2010-09-15 14:55:36</td>\n",
       "      <td>2010-09-15 14:55:36</td>\n",
       "    </tr>\n",
       "    <tr>\n",
       "      <th>11</th>\n",
       "      <td>12</td>\n",
       "      <td>食器</td>\n",
       "      <td>2010-09-15 14:55:36</td>\n",
       "      <td>2010-09-15 14:55:36</td>\n",
       "    </tr>\n",
       "  </tbody>\n",
       "</table>\n",
       "</div>"
      ],
      "text/plain": [
       "    CategoryID CategoryName           ModifyDate           CreateDate\n",
       "0            1          バッグ  2010-09-15 14:55:36  2010-09-15 14:55:36\n",
       "1            2           財布  2010-09-15 14:55:36  2010-09-15 14:55:36\n",
       "2            3         服飾雑貨  2010-09-15 14:55:36  2010-09-15 14:55:36\n",
       "3            4       アクセサリー  2010-09-15 14:55:36  2010-09-15 14:55:36\n",
       "4            5         トップス  2010-09-15 14:55:36  2010-09-15 14:55:36\n",
       "5            6        ワンピース  2010-09-15 14:55:36  2010-09-15 14:55:36\n",
       "6            7         ボトムス  2010-09-15 14:55:36  2010-09-15 14:55:36\n",
       "7            8         アウター  2010-09-15 14:55:36  2010-09-15 14:55:36\n",
       "8            9          スーツ  2010-09-15 14:55:36  2010-09-15 14:55:36\n",
       "9           10            靴  2010-09-15 14:55:36  2010-09-15 14:55:36\n",
       "10          11          腕時計  2010-09-15 14:55:36  2010-09-15 14:55:36\n",
       "11          12           食器  2010-09-15 14:55:36  2010-09-15 14:55:36"
      ]
     },
     "execution_count": 14,
     "metadata": {},
     "output_type": "execute_result"
    }
   ],
   "source": [
    "category = pd.read_csv(INPUT_DIR + \"category.csv\")\n",
    "print(category[\"CreateDate\"].max())\n",
    "print(category.describe())\n",
    "category"
   ]
  },
  {
   "cell_type": "code",
   "execution_count": 8,
   "metadata": {},
   "outputs": [
    {
     "name": "stdout",
     "output_type": "stream",
     "text": [
      "2010-04-02 13:25:07\n"
     ]
    },
    {
     "data": {
      "text/html": [
       "<div>\n",
       "<style scoped>\n",
       "    .dataframe tbody tr th:only-of-type {\n",
       "        vertical-align: middle;\n",
       "    }\n",
       "\n",
       "    .dataframe tbody tr th {\n",
       "        vertical-align: top;\n",
       "    }\n",
       "\n",
       "    .dataframe thead th {\n",
       "        text-align: right;\n",
       "    }\n",
       "</style>\n",
       "<table border=\"1\" class=\"dataframe\">\n",
       "  <thead>\n",
       "    <tr style=\"text-align: right;\">\n",
       "      <th></th>\n",
       "      <th>ColorID</th>\n",
       "      <th>ColorName</th>\n",
       "      <th>ItemColorID</th>\n",
       "      <th>ModifyDate</th>\n",
       "      <th>CreateDate</th>\n",
       "    </tr>\n",
       "  </thead>\n",
       "  <tbody>\n",
       "    <tr>\n",
       "      <th>0</th>\n",
       "      <td>1</td>\n",
       "      <td>オフホワイト</td>\n",
       "      <td>1</td>\n",
       "      <td>2010-04-02 13:25:06</td>\n",
       "      <td>2010-04-02 13:25:06</td>\n",
       "    </tr>\n",
       "    <tr>\n",
       "      <th>1</th>\n",
       "      <td>2</td>\n",
       "      <td>オフホワイト基調</td>\n",
       "      <td>1</td>\n",
       "      <td>2010-04-02 13:25:06</td>\n",
       "      <td>2010-04-02 13:25:06</td>\n",
       "    </tr>\n",
       "    <tr>\n",
       "      <th>2</th>\n",
       "      <td>3</td>\n",
       "      <td>アズール</td>\n",
       "      <td>1</td>\n",
       "      <td>2010-04-02 13:25:06</td>\n",
       "      <td>2010-04-02 13:25:06</td>\n",
       "    </tr>\n",
       "    <tr>\n",
       "      <th>3</th>\n",
       "      <td>4</td>\n",
       "      <td>パール</td>\n",
       "      <td>1</td>\n",
       "      <td>2010-04-02 13:25:06</td>\n",
       "      <td>2010-04-02 13:25:06</td>\n",
       "    </tr>\n",
       "    <tr>\n",
       "      <th>4</th>\n",
       "      <td>5</td>\n",
       "      <td>パールホワイト</td>\n",
       "      <td>1</td>\n",
       "      <td>2010-04-02 13:25:06</td>\n",
       "      <td>2010-04-02 13:25:06</td>\n",
       "    </tr>\n",
       "  </tbody>\n",
       "</table>\n",
       "</div>"
      ],
      "text/plain": [
       "   ColorID ColorName  ItemColorID           ModifyDate           CreateDate\n",
       "0        1    オフホワイト            1  2010-04-02 13:25:06  2010-04-02 13:25:06\n",
       "1        2  オフホワイト基調            1  2010-04-02 13:25:06  2010-04-02 13:25:06\n",
       "2        3      アズール            1  2010-04-02 13:25:06  2010-04-02 13:25:06\n",
       "3        4       パール            1  2010-04-02 13:25:06  2010-04-02 13:25:06\n",
       "4        5   パールホワイト            1  2010-04-02 13:25:06  2010-04-02 13:25:06"
      ]
     },
     "execution_count": 8,
     "metadata": {},
     "output_type": "execute_result"
    }
   ],
   "source": [
    "color = pd.read_csv(INPUT_DIR + \"color.csv\")\n",
    "print(color[\"CreateDate\"].max())\n",
    "color.head()"
   ]
  },
  {
   "cell_type": "code",
   "execution_count": 9,
   "metadata": {},
   "outputs": [
    {
     "name": "stdout",
     "output_type": "stream",
     "text": [
      "2010-04-02 13:25:07\n"
     ]
    },
    {
     "data": {
      "text/html": [
       "<div>\n",
       "<style scoped>\n",
       "    .dataframe tbody tr th:only-of-type {\n",
       "        vertical-align: middle;\n",
       "    }\n",
       "\n",
       "    .dataframe tbody tr th {\n",
       "        vertical-align: top;\n",
       "    }\n",
       "\n",
       "    .dataframe thead th {\n",
       "        text-align: right;\n",
       "    }\n",
       "</style>\n",
       "<table border=\"1\" class=\"dataframe\">\n",
       "  <thead>\n",
       "    <tr style=\"text-align: right;\">\n",
       "      <th></th>\n",
       "      <th>DanjobetsuID</th>\n",
       "      <th>DanjobetsuName</th>\n",
       "      <th>ModifyDate</th>\n",
       "      <th>CreateDate</th>\n",
       "    </tr>\n",
       "  </thead>\n",
       "  <tbody>\n",
       "    <tr>\n",
       "      <th>0</th>\n",
       "      <td>1</td>\n",
       "      <td>メンズ</td>\n",
       "      <td>2010-04-02 13:25:07</td>\n",
       "      <td>2010-04-02 13:25:07</td>\n",
       "    </tr>\n",
       "    <tr>\n",
       "      <th>1</th>\n",
       "      <td>2</td>\n",
       "      <td>レディース</td>\n",
       "      <td>2010-04-02 13:25:07</td>\n",
       "      <td>2010-04-02 13:25:07</td>\n",
       "    </tr>\n",
       "    <tr>\n",
       "      <th>2</th>\n",
       "      <td>3</td>\n",
       "      <td>ユニセックス</td>\n",
       "      <td>2010-04-02 13:25:07</td>\n",
       "      <td>2010-04-02 13:25:07</td>\n",
       "    </tr>\n",
       "  </tbody>\n",
       "</table>\n",
       "</div>"
      ],
      "text/plain": [
       "   DanjobetsuID DanjobetsuName           ModifyDate           CreateDate\n",
       "0             1            メンズ  2010-04-02 13:25:07  2010-04-02 13:25:07\n",
       "1             2          レディース  2010-04-02 13:25:07  2010-04-02 13:25:07\n",
       "2             3         ユニセックス  2010-04-02 13:25:07  2010-04-02 13:25:07"
      ]
     },
     "execution_count": 9,
     "metadata": {},
     "output_type": "execute_result"
    }
   ],
   "source": [
    "danjobetsu = pd.read_csv(INPUT_DIR + \"danjobetsu.csv\")\n",
    "print(danjobetsu[\"CreateDate\"].max())\n",
    "danjobetsu"
   ]
  },
  {
   "cell_type": "code",
   "execution_count": 13,
   "metadata": {},
   "outputs": [
    {
     "name": "stdout",
     "output_type": "stream",
     "text": [
      "2010-09-07 00:00:00\n",
      "          GenreID  GenreGroupID  ItemShouID  CategoryID\n",
      "count  101.000000    101.000000  101.000000  101.000000\n",
      "mean   205.584158    142.564356   33.039604    4.772277\n",
      "std    140.499343    136.890644   18.905513    3.016227\n",
      "min      1.000000      1.000000    1.000000    0.000000\n",
      "25%     38.000000     21.000000   14.000000    2.000000\n",
      "50%    205.000000     35.000000   35.000000    4.000000\n",
      "75%    340.000000    312.000000   51.000000    8.000000\n",
      "max    365.000000    314.000000   65.000000   12.000000\n"
     ]
    },
    {
     "data": {
      "text/html": [
       "<div>\n",
       "<style scoped>\n",
       "    .dataframe tbody tr th:only-of-type {\n",
       "        vertical-align: middle;\n",
       "    }\n",
       "\n",
       "    .dataframe tbody tr th {\n",
       "        vertical-align: top;\n",
       "    }\n",
       "\n",
       "    .dataframe thead th {\n",
       "        text-align: right;\n",
       "    }\n",
       "</style>\n",
       "<table border=\"1\" class=\"dataframe\">\n",
       "  <thead>\n",
       "    <tr style=\"text-align: right;\">\n",
       "      <th></th>\n",
       "      <th>GenreID</th>\n",
       "      <th>GenreName</th>\n",
       "      <th>GenreGroupID</th>\n",
       "      <th>ItemShouID</th>\n",
       "      <th>CategoryID</th>\n",
       "      <th>ModifyDate</th>\n",
       "      <th>CreateDate</th>\n",
       "    </tr>\n",
       "  </thead>\n",
       "  <tbody>\n",
       "    <tr>\n",
       "      <th>0</th>\n",
       "      <td>1</td>\n",
       "      <td>その他アクセサリー</td>\n",
       "      <td>1</td>\n",
       "      <td>36</td>\n",
       "      <td>4</td>\n",
       "      <td>2010-09-15 15:29:28</td>\n",
       "      <td>2010-04-02 13:25:06</td>\n",
       "    </tr>\n",
       "    <tr>\n",
       "      <th>1</th>\n",
       "      <td>2</td>\n",
       "      <td>アンサンブル</td>\n",
       "      <td>21</td>\n",
       "      <td>43</td>\n",
       "      <td>5</td>\n",
       "      <td>2010-09-15 15:29:28</td>\n",
       "      <td>2010-04-02 13:25:06</td>\n",
       "    </tr>\n",
       "    <tr>\n",
       "      <th>2</th>\n",
       "      <td>3</td>\n",
       "      <td>イヤリング</td>\n",
       "      <td>296</td>\n",
       "      <td>32</td>\n",
       "      <td>4</td>\n",
       "      <td>2010-09-15 15:29:28</td>\n",
       "      <td>2010-04-02 13:25:06</td>\n",
       "    </tr>\n",
       "    <tr>\n",
       "      <th>3</th>\n",
       "      <td>6</td>\n",
       "      <td>キーケース</td>\n",
       "      <td>314</td>\n",
       "      <td>12</td>\n",
       "      <td>2</td>\n",
       "      <td>2010-09-15 15:29:28</td>\n",
       "      <td>2010-04-02 13:25:06</td>\n",
       "    </tr>\n",
       "    <tr>\n",
       "      <th>4</th>\n",
       "      <td>7</td>\n",
       "      <td>キーホルダー</td>\n",
       "      <td>7</td>\n",
       "      <td>12</td>\n",
       "      <td>2</td>\n",
       "      <td>2010-09-15 15:29:28</td>\n",
       "      <td>2010-04-02 13:25:06</td>\n",
       "    </tr>\n",
       "  </tbody>\n",
       "</table>\n",
       "</div>"
      ],
      "text/plain": [
       "   GenreID  GenreName  GenreGroupID  ItemShouID  CategoryID  \\\n",
       "0        1  その他アクセサリー             1          36           4   \n",
       "1        2     アンサンブル            21          43           5   \n",
       "2        3      イヤリング           296          32           4   \n",
       "3        6      キーケース           314          12           2   \n",
       "4        7     キーホルダー             7          12           2   \n",
       "\n",
       "            ModifyDate           CreateDate  \n",
       "0  2010-09-15 15:29:28  2010-04-02 13:25:06  \n",
       "1  2010-09-15 15:29:28  2010-04-02 13:25:06  \n",
       "2  2010-09-15 15:29:28  2010-04-02 13:25:06  \n",
       "3  2010-09-15 15:29:28  2010-04-02 13:25:06  \n",
       "4  2010-09-15 15:29:28  2010-04-02 13:25:06  "
      ]
     },
     "execution_count": 13,
     "metadata": {},
     "output_type": "execute_result"
    }
   ],
   "source": [
    "genre = pd.read_csv(INPUT_DIR + \"genre.csv\")\n",
    "print(genre[\"CreateDate\"].max())\n",
    "print(genre.describe())\n",
    "genre.head()"
   ]
  },
  {
   "cell_type": "code",
   "execution_count": 12,
   "metadata": {},
   "outputs": [
    {
     "name": "stdout",
     "output_type": "stream",
     "text": [
      "2010-04-02 13:25:06\n",
      "       GenreGroupID  ShouhinShubetsuID\n",
      "count     34.000000          34.000000\n",
      "mean      99.823529           1.176471\n",
      "std      110.407090           1.028992\n",
      "min        1.000000           1.000000\n",
      "25%       22.500000           1.000000\n",
      "50%       34.500000           1.000000\n",
      "75%      179.750000           1.000000\n",
      "max      314.000000           7.000000\n"
     ]
    },
    {
     "data": {
      "text/html": [
       "<div>\n",
       "<style scoped>\n",
       "    .dataframe tbody tr th:only-of-type {\n",
       "        vertical-align: middle;\n",
       "    }\n",
       "\n",
       "    .dataframe tbody tr th {\n",
       "        vertical-align: top;\n",
       "    }\n",
       "\n",
       "    .dataframe thead th {\n",
       "        text-align: right;\n",
       "    }\n",
       "</style>\n",
       "<table border=\"1\" class=\"dataframe\">\n",
       "  <thead>\n",
       "    <tr style=\"text-align: right;\">\n",
       "      <th></th>\n",
       "      <th>GenreGroupID</th>\n",
       "      <th>GenreGroupName</th>\n",
       "      <th>ShouhinShubetsuID</th>\n",
       "      <th>ModifyDate</th>\n",
       "      <th>CreateDate</th>\n",
       "    </tr>\n",
       "  </thead>\n",
       "  <tbody>\n",
       "    <tr>\n",
       "      <th>0</th>\n",
       "      <td>1</td>\n",
       "      <td>アクセサリー（他）</td>\n",
       "      <td>1</td>\n",
       "      <td>2010-04-02 13:25:06</td>\n",
       "      <td>2010-04-02 13:25:06</td>\n",
       "    </tr>\n",
       "    <tr>\n",
       "      <th>1</th>\n",
       "      <td>7</td>\n",
       "      <td>キーホルダー</td>\n",
       "      <td>1</td>\n",
       "      <td>2010-04-02 13:25:06</td>\n",
       "      <td>2010-04-02 13:25:06</td>\n",
       "    </tr>\n",
       "    <tr>\n",
       "      <th>2</th>\n",
       "      <td>9</td>\n",
       "      <td>コート</td>\n",
       "      <td>1</td>\n",
       "      <td>2010-04-02 13:25:06</td>\n",
       "      <td>2010-04-02 13:25:06</td>\n",
       "    </tr>\n",
       "    <tr>\n",
       "      <th>3</th>\n",
       "      <td>10</td>\n",
       "      <td>サングラス</td>\n",
       "      <td>1</td>\n",
       "      <td>2010-04-02 13:25:06</td>\n",
       "      <td>2010-04-02 13:25:06</td>\n",
       "    </tr>\n",
       "    <tr>\n",
       "      <th>4</th>\n",
       "      <td>13</td>\n",
       "      <td>ジャケット</td>\n",
       "      <td>1</td>\n",
       "      <td>2010-04-02 13:25:06</td>\n",
       "      <td>2010-04-02 13:25:06</td>\n",
       "    </tr>\n",
       "  </tbody>\n",
       "</table>\n",
       "</div>"
      ],
      "text/plain": [
       "   GenreGroupID GenreGroupName  ShouhinShubetsuID           ModifyDate  \\\n",
       "0             1      アクセサリー（他）                  1  2010-04-02 13:25:06   \n",
       "1             7         キーホルダー                  1  2010-04-02 13:25:06   \n",
       "2             9            コート                  1  2010-04-02 13:25:06   \n",
       "3            10          サングラス                  1  2010-04-02 13:25:06   \n",
       "4            13          ジャケット                  1  2010-04-02 13:25:06   \n",
       "\n",
       "            CreateDate  \n",
       "0  2010-04-02 13:25:06  \n",
       "1  2010-04-02 13:25:06  \n",
       "2  2010-04-02 13:25:06  \n",
       "3  2010-04-02 13:25:06  \n",
       "4  2010-04-02 13:25:06  "
      ]
     },
     "execution_count": 12,
     "metadata": {},
     "output_type": "execute_result"
    }
   ],
   "source": [
    "genregroup = pd.read_csv(INPUT_DIR + \"genregroup.csv\")\n",
    "print(genregroup[\"CreateDate\"].max())\n",
    "print(genregroup.describe())\n",
    "genregroup.head()"
   ]
  },
  {
   "cell_type": "code",
   "execution_count": 6,
   "metadata": {},
   "outputs": [
    {
     "name": "stdout",
     "output_type": "stream",
     "text": [
      "2010-09-07 00:00:00\n"
     ]
    },
    {
     "data": {
      "text/html": [
       "<div>\n",
       "<style scoped>\n",
       "    .dataframe tbody tr th:only-of-type {\n",
       "        vertical-align: middle;\n",
       "    }\n",
       "\n",
       "    .dataframe tbody tr th {\n",
       "        vertical-align: top;\n",
       "    }\n",
       "\n",
       "    .dataframe thead th {\n",
       "        text-align: right;\n",
       "    }\n",
       "</style>\n",
       "<table border=\"1\" class=\"dataframe\">\n",
       "  <thead>\n",
       "    <tr style=\"text-align: right;\">\n",
       "      <th></th>\n",
       "      <th>ItemShouID</th>\n",
       "      <th>ItemShouName</th>\n",
       "      <th>ItemDaiID</th>\n",
       "      <th>ModifyDate</th>\n",
       "      <th>CreateDate</th>\n",
       "    </tr>\n",
       "  </thead>\n",
       "  <tbody>\n",
       "    <tr>\n",
       "      <th>0</th>\n",
       "      <td>1</td>\n",
       "      <td>ハンドバッグ</td>\n",
       "      <td>1</td>\n",
       "      <td>2010-04-02 13:25:06</td>\n",
       "      <td>2010-04-02 13:25:06</td>\n",
       "    </tr>\n",
       "    <tr>\n",
       "      <th>1</th>\n",
       "      <td>2</td>\n",
       "      <td>ショルダーバッグ</td>\n",
       "      <td>1</td>\n",
       "      <td>2010-04-02 13:25:06</td>\n",
       "      <td>2010-04-02 13:25:06</td>\n",
       "    </tr>\n",
       "    <tr>\n",
       "      <th>2</th>\n",
       "      <td>3</td>\n",
       "      <td>トートバッグ</td>\n",
       "      <td>1</td>\n",
       "      <td>2010-04-02 13:25:06</td>\n",
       "      <td>2010-04-02 13:25:06</td>\n",
       "    </tr>\n",
       "    <tr>\n",
       "      <th>3</th>\n",
       "      <td>4</td>\n",
       "      <td>セカンド・クラッチバッグ</td>\n",
       "      <td>1</td>\n",
       "      <td>2010-04-02 13:25:06</td>\n",
       "      <td>2010-04-02 13:25:06</td>\n",
       "    </tr>\n",
       "    <tr>\n",
       "      <th>4</th>\n",
       "      <td>5</td>\n",
       "      <td>リュックサック</td>\n",
       "      <td>1</td>\n",
       "      <td>2010-04-02 13:25:06</td>\n",
       "      <td>2010-04-02 13:25:06</td>\n",
       "    </tr>\n",
       "  </tbody>\n",
       "</table>\n",
       "</div>"
      ],
      "text/plain": [
       "   ItemShouID  ItemShouName  ItemDaiID           ModifyDate  \\\n",
       "0           1        ハンドバッグ          1  2010-04-02 13:25:06   \n",
       "1           2      ショルダーバッグ          1  2010-04-02 13:25:06   \n",
       "2           3        トートバッグ          1  2010-04-02 13:25:06   \n",
       "3           4  セカンド・クラッチバッグ          1  2010-04-02 13:25:06   \n",
       "4           5       リュックサック          1  2010-04-02 13:25:06   \n",
       "\n",
       "            CreateDate  \n",
       "0  2010-04-02 13:25:06  \n",
       "1  2010-04-02 13:25:06  \n",
       "2  2010-04-02 13:25:06  \n",
       "3  2010-04-02 13:25:06  \n",
       "4  2010-04-02 13:25:06  "
      ]
     },
     "execution_count": 6,
     "metadata": {},
     "output_type": "execute_result"
    }
   ],
   "source": [
    "itemshou = pd.read_csv(INPUT_DIR + \"itemshou.csv\")\n",
    "print(itemshou[\"CreateDate\"].max())\n",
    "itemshou.head()"
   ]
  },
  {
   "cell_type": "code",
   "execution_count": 7,
   "metadata": {},
   "outputs": [
    {
     "data": {
      "text/html": [
       "<div>\n",
       "<style scoped>\n",
       "    .dataframe tbody tr th:only-of-type {\n",
       "        vertical-align: middle;\n",
       "    }\n",
       "\n",
       "    .dataframe tbody tr th {\n",
       "        vertical-align: top;\n",
       "    }\n",
       "\n",
       "    .dataframe thead th {\n",
       "        text-align: right;\n",
       "    }\n",
       "</style>\n",
       "<table border=\"1\" class=\"dataframe\">\n",
       "  <thead>\n",
       "    <tr style=\"text-align: right;\">\n",
       "      <th></th>\n",
       "      <th>ItemShouID</th>\n",
       "      <th>ItemDaiID</th>\n",
       "    </tr>\n",
       "  </thead>\n",
       "  <tbody>\n",
       "    <tr>\n",
       "      <th>count</th>\n",
       "      <td>65.00000</td>\n",
       "      <td>65.000000</td>\n",
       "    </tr>\n",
       "    <tr>\n",
       "      <th>mean</th>\n",
       "      <td>33.00000</td>\n",
       "      <td>3.523077</td>\n",
       "    </tr>\n",
       "    <tr>\n",
       "      <th>std</th>\n",
       "      <td>18.90767</td>\n",
       "      <td>2.165841</td>\n",
       "    </tr>\n",
       "    <tr>\n",
       "      <th>min</th>\n",
       "      <td>1.00000</td>\n",
       "      <td>1.000000</td>\n",
       "    </tr>\n",
       "    <tr>\n",
       "      <th>25%</th>\n",
       "      <td>17.00000</td>\n",
       "      <td>2.000000</td>\n",
       "    </tr>\n",
       "    <tr>\n",
       "      <th>50%</th>\n",
       "      <td>33.00000</td>\n",
       "      <td>3.000000</td>\n",
       "    </tr>\n",
       "    <tr>\n",
       "      <th>75%</th>\n",
       "      <td>49.00000</td>\n",
       "      <td>4.000000</td>\n",
       "    </tr>\n",
       "    <tr>\n",
       "      <th>max</th>\n",
       "      <td>65.00000</td>\n",
       "      <td>9.000000</td>\n",
       "    </tr>\n",
       "  </tbody>\n",
       "</table>\n",
       "</div>"
      ],
      "text/plain": [
       "       ItemShouID  ItemDaiID\n",
       "count    65.00000  65.000000\n",
       "mean     33.00000   3.523077\n",
       "std      18.90767   2.165841\n",
       "min       1.00000   1.000000\n",
       "25%      17.00000   2.000000\n",
       "50%      33.00000   3.000000\n",
       "75%      49.00000   4.000000\n",
       "max      65.00000   9.000000"
      ]
     },
     "execution_count": 7,
     "metadata": {},
     "output_type": "execute_result"
    }
   ],
   "source": [
    "itemshou.describe()"
   ]
  },
  {
   "cell_type": "code",
   "execution_count": 4,
   "metadata": {},
   "outputs": [
    {
     "name": "stdout",
     "output_type": "stream",
     "text": [
      "2019-08-06 11:17:07\n"
     ]
    },
    {
     "data": {
      "text/html": [
       "<div>\n",
       "<style scoped>\n",
       "    .dataframe tbody tr th:only-of-type {\n",
       "        vertical-align: middle;\n",
       "    }\n",
       "\n",
       "    .dataframe tbody tr th {\n",
       "        vertical-align: top;\n",
       "    }\n",
       "\n",
       "    .dataframe thead th {\n",
       "        text-align: right;\n",
       "    }\n",
       "</style>\n",
       "<table border=\"1\" class=\"dataframe\">\n",
       "  <thead>\n",
       "    <tr style=\"text-align: right;\">\n",
       "      <th></th>\n",
       "      <th>LineID</th>\n",
       "      <th>LineName</th>\n",
       "      <th>BrandID</th>\n",
       "      <th>ItemLineID</th>\n",
       "      <th>ModifyDate</th>\n",
       "      <th>CreateDate</th>\n",
       "    </tr>\n",
       "  </thead>\n",
       "  <tbody>\n",
       "    <tr>\n",
       "      <th>0</th>\n",
       "      <td>1</td>\n",
       "      <td>エピ</td>\n",
       "      <td>114</td>\n",
       "      <td>7</td>\n",
       "      <td>2010-04-02 13:25:06</td>\n",
       "      <td>2010-04-02 13:25:06</td>\n",
       "    </tr>\n",
       "    <tr>\n",
       "      <th>1</th>\n",
       "      <td>2</td>\n",
       "      <td>タイガ</td>\n",
       "      <td>114</td>\n",
       "      <td>6</td>\n",
       "      <td>2010-04-02 13:25:06</td>\n",
       "      <td>2010-04-02 13:25:06</td>\n",
       "    </tr>\n",
       "    <tr>\n",
       "      <th>2</th>\n",
       "      <td>3</td>\n",
       "      <td>ダミエ</td>\n",
       "      <td>114</td>\n",
       "      <td>5</td>\n",
       "      <td>2010-04-02 13:25:06</td>\n",
       "      <td>2010-04-02 13:25:06</td>\n",
       "    </tr>\n",
       "    <tr>\n",
       "      <th>3</th>\n",
       "      <td>4</td>\n",
       "      <td>モノグラムマルチカラー</td>\n",
       "      <td>114</td>\n",
       "      <td>3</td>\n",
       "      <td>2010-04-02 13:25:06</td>\n",
       "      <td>2010-04-02 13:25:06</td>\n",
       "    </tr>\n",
       "    <tr>\n",
       "      <th>4</th>\n",
       "      <td>5</td>\n",
       "      <td>モノグラム</td>\n",
       "      <td>114</td>\n",
       "      <td>1</td>\n",
       "      <td>2010-04-02 13:25:06</td>\n",
       "      <td>2010-04-02 13:25:06</td>\n",
       "    </tr>\n",
       "  </tbody>\n",
       "</table>\n",
       "</div>"
      ],
      "text/plain": [
       "   LineID     LineName  BrandID  ItemLineID           ModifyDate  \\\n",
       "0       1           エピ      114           7  2010-04-02 13:25:06   \n",
       "1       2          タイガ      114           6  2010-04-02 13:25:06   \n",
       "2       3          ダミエ      114           5  2010-04-02 13:25:06   \n",
       "3       4  モノグラムマルチカラー      114           3  2010-04-02 13:25:06   \n",
       "4       5        モノグラム      114           1  2010-04-02 13:25:06   \n",
       "\n",
       "            CreateDate  \n",
       "0  2010-04-02 13:25:06  \n",
       "1  2010-04-02 13:25:06  \n",
       "2  2010-04-02 13:25:06  \n",
       "3  2010-04-02 13:25:06  \n",
       "4  2010-04-02 13:25:06  "
      ]
     },
     "execution_count": 4,
     "metadata": {},
     "output_type": "execute_result"
    }
   ],
   "source": [
    "line = pd.read_csv(INPUT_DIR + \"line.csv\")\n",
    "print(line[\"CreateDate\"].max())\n",
    "line.head()"
   ]
  },
  {
   "cell_type": "code",
   "execution_count": 5,
   "metadata": {},
   "outputs": [
    {
     "data": {
      "text/html": [
       "<div>\n",
       "<style scoped>\n",
       "    .dataframe tbody tr th:only-of-type {\n",
       "        vertical-align: middle;\n",
       "    }\n",
       "\n",
       "    .dataframe tbody tr th {\n",
       "        vertical-align: top;\n",
       "    }\n",
       "\n",
       "    .dataframe thead th {\n",
       "        text-align: right;\n",
       "    }\n",
       "</style>\n",
       "<table border=\"1\" class=\"dataframe\">\n",
       "  <thead>\n",
       "    <tr style=\"text-align: right;\">\n",
       "      <th></th>\n",
       "      <th>LineID</th>\n",
       "      <th>BrandID</th>\n",
       "      <th>ItemLineID</th>\n",
       "    </tr>\n",
       "  </thead>\n",
       "  <tbody>\n",
       "    <tr>\n",
       "      <th>count</th>\n",
       "      <td>267.000000</td>\n",
       "      <td>267.0</td>\n",
       "      <td>267.000000</td>\n",
       "    </tr>\n",
       "    <tr>\n",
       "      <th>mean</th>\n",
       "      <td>134.000000</td>\n",
       "      <td>114.0</td>\n",
       "      <td>6.636704</td>\n",
       "    </tr>\n",
       "    <tr>\n",
       "      <th>std</th>\n",
       "      <td>77.220464</td>\n",
       "      <td>0.0</td>\n",
       "      <td>2.739135</td>\n",
       "    </tr>\n",
       "    <tr>\n",
       "      <th>min</th>\n",
       "      <td>1.000000</td>\n",
       "      <td>114.0</td>\n",
       "      <td>1.000000</td>\n",
       "    </tr>\n",
       "    <tr>\n",
       "      <th>25%</th>\n",
       "      <td>67.500000</td>\n",
       "      <td>114.0</td>\n",
       "      <td>8.000000</td>\n",
       "    </tr>\n",
       "    <tr>\n",
       "      <th>50%</th>\n",
       "      <td>134.000000</td>\n",
       "      <td>114.0</td>\n",
       "      <td>8.000000</td>\n",
       "    </tr>\n",
       "    <tr>\n",
       "      <th>75%</th>\n",
       "      <td>200.500000</td>\n",
       "      <td>114.0</td>\n",
       "      <td>8.000000</td>\n",
       "    </tr>\n",
       "    <tr>\n",
       "      <th>max</th>\n",
       "      <td>267.000000</td>\n",
       "      <td>114.0</td>\n",
       "      <td>8.000000</td>\n",
       "    </tr>\n",
       "  </tbody>\n",
       "</table>\n",
       "</div>"
      ],
      "text/plain": [
       "           LineID  BrandID  ItemLineID\n",
       "count  267.000000    267.0  267.000000\n",
       "mean   134.000000    114.0    6.636704\n",
       "std     77.220464      0.0    2.739135\n",
       "min      1.000000    114.0    1.000000\n",
       "25%     67.500000    114.0    8.000000\n",
       "50%    134.000000    114.0    8.000000\n",
       "75%    200.500000    114.0    8.000000\n",
       "max    267.000000    114.0    8.000000"
      ]
     },
     "execution_count": 5,
     "metadata": {},
     "output_type": "execute_result"
    }
   ],
   "source": [
    "line.describe()"
   ]
  },
  {
   "cell_type": "code",
   "execution_count": 460,
   "metadata": {},
   "outputs": [
    {
     "data": {
      "text/html": [
       "<div>\n",
       "<style scoped>\n",
       "    .dataframe tbody tr th:only-of-type {\n",
       "        vertical-align: middle;\n",
       "    }\n",
       "\n",
       "    .dataframe tbody tr th {\n",
       "        vertical-align: top;\n",
       "    }\n",
       "\n",
       "    .dataframe thead th {\n",
       "        text-align: right;\n",
       "    }\n",
       "</style>\n",
       "<table border=\"1\" class=\"dataframe\">\n",
       "  <thead>\n",
       "    <tr style=\"text-align: right;\">\n",
       "      <th></th>\n",
       "      <th>LineID</th>\n",
       "      <th>LineName</th>\n",
       "      <th>BrandID</th>\n",
       "      <th>ItemLineID</th>\n",
       "      <th>ModifyDate</th>\n",
       "      <th>CreateDate</th>\n",
       "    </tr>\n",
       "  </thead>\n",
       "  <tbody>\n",
       "    <tr>\n",
       "      <th>133</th>\n",
       "      <td>134</td>\n",
       "      <td>アンティア</td>\n",
       "      <td>114</td>\n",
       "      <td>8</td>\n",
       "      <td>2019-08-06 11:17:07</td>\n",
       "      <td>2019-08-06 11:17:07</td>\n",
       "    </tr>\n",
       "    <tr>\n",
       "      <th>183</th>\n",
       "      <td>184</td>\n",
       "      <td>ダミエパイエット</td>\n",
       "      <td>114</td>\n",
       "      <td>8</td>\n",
       "      <td>2019-08-06 11:17:07</td>\n",
       "      <td>2019-08-06 11:17:07</td>\n",
       "    </tr>\n",
       "    <tr>\n",
       "      <th>169</th>\n",
       "      <td>170</td>\n",
       "      <td>パルナセア</td>\n",
       "      <td>114</td>\n",
       "      <td>8</td>\n",
       "      <td>2019-08-06 11:17:07</td>\n",
       "      <td>2019-08-06 11:17:07</td>\n",
       "    </tr>\n",
       "    <tr>\n",
       "      <th>170</th>\n",
       "      <td>171</td>\n",
       "      <td>スウィートモノグラム</td>\n",
       "      <td>114</td>\n",
       "      <td>8</td>\n",
       "      <td>2019-08-06 11:17:07</td>\n",
       "      <td>2019-08-06 11:17:07</td>\n",
       "    </tr>\n",
       "    <tr>\n",
       "      <th>171</th>\n",
       "      <td>172</td>\n",
       "      <td>モノグラムアップリケ</td>\n",
       "      <td>114</td>\n",
       "      <td>8</td>\n",
       "      <td>2019-08-06 11:17:07</td>\n",
       "      <td>2019-08-06 11:17:07</td>\n",
       "    </tr>\n",
       "  </tbody>\n",
       "</table>\n",
       "</div>"
      ],
      "text/plain": [
       "     LineID    LineName  BrandID  ItemLineID           ModifyDate  \\\n",
       "133     134       アンティア      114           8  2019-08-06 11:17:07   \n",
       "183     184    ダミエパイエット      114           8  2019-08-06 11:17:07   \n",
       "169     170       パルナセア      114           8  2019-08-06 11:17:07   \n",
       "170     171  スウィートモノグラム      114           8  2019-08-06 11:17:07   \n",
       "171     172  モノグラムアップリケ      114           8  2019-08-06 11:17:07   \n",
       "\n",
       "              CreateDate  \n",
       "133  2019-08-06 11:17:07  \n",
       "183  2019-08-06 11:17:07  \n",
       "169  2019-08-06 11:17:07  \n",
       "170  2019-08-06 11:17:07  \n",
       "171  2019-08-06 11:17:07  "
      ]
     },
     "execution_count": 460,
     "metadata": {},
     "output_type": "execute_result"
    }
   ],
   "source": [
    "line.sort_values(\"ModifyDate\", ascending=False).head()"
   ]
  },
  {
   "cell_type": "code",
   "execution_count": 6,
   "metadata": {},
   "outputs": [
    {
     "name": "stdout",
     "output_type": "stream",
     "text": [
      "2019-10-25 16:05:20\n"
     ]
    },
    {
     "data": {
      "text/html": [
       "<div>\n",
       "<style scoped>\n",
       "    .dataframe tbody tr th:only-of-type {\n",
       "        vertical-align: middle;\n",
       "    }\n",
       "\n",
       "    .dataframe tbody tr th {\n",
       "        vertical-align: top;\n",
       "    }\n",
       "\n",
       "    .dataframe thead th {\n",
       "        text-align: right;\n",
       "    }\n",
       "</style>\n",
       "<table border=\"1\" class=\"dataframe\">\n",
       "  <thead>\n",
       "    <tr style=\"text-align: right;\">\n",
       "      <th></th>\n",
       "      <th>KaiinID</th>\n",
       "      <th>RepeaterFlag</th>\n",
       "      <th>SeinengappiDate</th>\n",
       "      <th>CreateDate</th>\n",
       "    </tr>\n",
       "  </thead>\n",
       "  <tbody>\n",
       "    <tr>\n",
       "      <th>0</th>\n",
       "      <td>171036</td>\n",
       "      <td>1.0</td>\n",
       "      <td>NaN</td>\n",
       "      <td>2010-11-08 06:38:50</td>\n",
       "    </tr>\n",
       "    <tr>\n",
       "      <th>1</th>\n",
       "      <td>160541</td>\n",
       "      <td>0.0</td>\n",
       "      <td>NaN</td>\n",
       "      <td>2010-11-08 06:51:10</td>\n",
       "    </tr>\n",
       "    <tr>\n",
       "      <th>2</th>\n",
       "      <td>271092</td>\n",
       "      <td>NaN</td>\n",
       "      <td>NaN</td>\n",
       "      <td>2010-11-08 08:11:57</td>\n",
       "    </tr>\n",
       "    <tr>\n",
       "      <th>3</th>\n",
       "      <td>124089</td>\n",
       "      <td>NaN</td>\n",
       "      <td>NaN</td>\n",
       "      <td>2010-11-08 09:20:56</td>\n",
       "    </tr>\n",
       "    <tr>\n",
       "      <th>4</th>\n",
       "      <td>256950</td>\n",
       "      <td>NaN</td>\n",
       "      <td>NaN</td>\n",
       "      <td>2010-11-08 09:33:51</td>\n",
       "    </tr>\n",
       "  </tbody>\n",
       "</table>\n",
       "</div>"
      ],
      "text/plain": [
       "   KaiinID  RepeaterFlag SeinengappiDate           CreateDate\n",
       "0   171036           1.0             NaN  2010-11-08 06:38:50\n",
       "1   160541           0.0             NaN  2010-11-08 06:51:10\n",
       "2   271092           NaN             NaN  2010-11-08 08:11:57\n",
       "3   124089           NaN             NaN  2010-11-08 09:20:56\n",
       "4   256950           NaN             NaN  2010-11-08 09:33:51"
      ]
     },
     "execution_count": 6,
     "metadata": {},
     "output_type": "execute_result"
    }
   ],
   "source": [
    "kaiin = pd.read_csv(INPUT_DIR + \"kaiin.csv\")\n",
    "print(kaiin[\"CreateDate\"].max())\n",
    "kaiin.head()"
   ]
  },
  {
   "cell_type": "code",
   "execution_count": 9,
   "metadata": {},
   "outputs": [
    {
     "name": "stdout",
     "output_type": "stream",
     "text": [
      "0.0    44476\n",
      "1.0    37186\n",
      "Name: RepeaterFlag, dtype: int64\n",
      "277894\n",
      "2106\n"
     ]
    },
    {
     "data": {
      "text/html": [
       "<div>\n",
       "<style scoped>\n",
       "    .dataframe tbody tr th:only-of-type {\n",
       "        vertical-align: middle;\n",
       "    }\n",
       "\n",
       "    .dataframe tbody tr th {\n",
       "        vertical-align: top;\n",
       "    }\n",
       "\n",
       "    .dataframe thead th {\n",
       "        text-align: right;\n",
       "    }\n",
       "</style>\n",
       "<table border=\"1\" class=\"dataframe\">\n",
       "  <thead>\n",
       "    <tr style=\"text-align: right;\">\n",
       "      <th></th>\n",
       "      <th>KaiinID</th>\n",
       "      <th>RepeaterFlag</th>\n",
       "      <th>SeinengappiDate</th>\n",
       "      <th>CreateDate</th>\n",
       "    </tr>\n",
       "  </thead>\n",
       "  <tbody>\n",
       "    <tr>\n",
       "      <th>34</th>\n",
       "      <td>271260</td>\n",
       "      <td>1.0</td>\n",
       "      <td>1981-08-04</td>\n",
       "      <td>2010-11-09 00:35:02</td>\n",
       "    </tr>\n",
       "    <tr>\n",
       "      <th>65</th>\n",
       "      <td>89068</td>\n",
       "      <td>1.0</td>\n",
       "      <td>1966-01-10</td>\n",
       "      <td>2010-11-09 14:33:16</td>\n",
       "    </tr>\n",
       "    <tr>\n",
       "      <th>107</th>\n",
       "      <td>38900</td>\n",
       "      <td>1.0</td>\n",
       "      <td>1970-10-07</td>\n",
       "      <td>2010-11-09 22:05:24</td>\n",
       "    </tr>\n",
       "    <tr>\n",
       "      <th>231</th>\n",
       "      <td>245435</td>\n",
       "      <td>1.0</td>\n",
       "      <td>1981-05-17</td>\n",
       "      <td>2010-11-11 13:48:26</td>\n",
       "    </tr>\n",
       "    <tr>\n",
       "      <th>488</th>\n",
       "      <td>136704</td>\n",
       "      <td>1.0</td>\n",
       "      <td>1964-07-20</td>\n",
       "      <td>2010-11-14 20:59:34</td>\n",
       "    </tr>\n",
       "  </tbody>\n",
       "</table>\n",
       "</div>"
      ],
      "text/plain": [
       "     KaiinID  RepeaterFlag SeinengappiDate           CreateDate\n",
       "34    271260           1.0      1981-08-04  2010-11-09 00:35:02\n",
       "65     89068           1.0      1966-01-10  2010-11-09 14:33:16\n",
       "107    38900           1.0      1970-10-07  2010-11-09 22:05:24\n",
       "231   245435           1.0      1981-05-17  2010-11-11 13:48:26\n",
       "488   136704           1.0      1964-07-20  2010-11-14 20:59:34"
      ]
     },
     "execution_count": 9,
     "metadata": {},
     "output_type": "execute_result"
    }
   ],
   "source": [
    "print(kaiin[\"RepeaterFlag\"].value_counts())\n",
    "print(kaiin.shape[0])\n",
    "print(kaiin[kaiin[\"SeinengappiDate\"].isnull()==False].shape[0])\n",
    "kaiin[kaiin[\"SeinengappiDate\"].isnull()==False].head()"
   ]
  },
  {
   "cell_type": "code",
   "execution_count": 15,
   "metadata": {},
   "outputs": [
    {
     "name": "stdout",
     "output_type": "stream",
     "text": [
      "(4165155, 4)\n",
      "1    3921759\n",
      "0     243396\n",
      "Name: SakujoFlag, dtype: int64\n",
      "2019-09-23 23:59:59\n"
     ]
    },
    {
     "data": {
      "text/html": [
       "<div>\n",
       "<style scoped>\n",
       "    .dataframe tbody tr th:only-of-type {\n",
       "        vertical-align: middle;\n",
       "    }\n",
       "\n",
       "    .dataframe tbody tr th {\n",
       "        vertical-align: top;\n",
       "    }\n",
       "\n",
       "    .dataframe thead th {\n",
       "        text-align: right;\n",
       "    }\n",
       "</style>\n",
       "<table border=\"1\" class=\"dataframe\">\n",
       "  <thead>\n",
       "    <tr style=\"text-align: right;\">\n",
       "      <th></th>\n",
       "      <th>KaiinID</th>\n",
       "      <th>AuctionID</th>\n",
       "      <th>TourokuDate</th>\n",
       "      <th>SakujoFlag</th>\n",
       "    </tr>\n",
       "  </thead>\n",
       "  <tbody>\n",
       "    <tr>\n",
       "      <th>0</th>\n",
       "      <td>231713</td>\n",
       "      <td>1036190</td>\n",
       "      <td>2018-09-01 00:00:16</td>\n",
       "      <td>1</td>\n",
       "    </tr>\n",
       "    <tr>\n",
       "      <th>1</th>\n",
       "      <td>225585</td>\n",
       "      <td>4043640</td>\n",
       "      <td>2018-09-01 00:00:34</td>\n",
       "      <td>1</td>\n",
       "    </tr>\n",
       "    <tr>\n",
       "      <th>2</th>\n",
       "      <td>75217</td>\n",
       "      <td>3100882</td>\n",
       "      <td>2018-09-01 00:00:44</td>\n",
       "      <td>1</td>\n",
       "    </tr>\n",
       "    <tr>\n",
       "      <th>3</th>\n",
       "      <td>86693</td>\n",
       "      <td>655600</td>\n",
       "      <td>2018-09-01 00:00:51</td>\n",
       "      <td>1</td>\n",
       "    </tr>\n",
       "    <tr>\n",
       "      <th>4</th>\n",
       "      <td>267234</td>\n",
       "      <td>2607395</td>\n",
       "      <td>2018-09-01 00:01:09</td>\n",
       "      <td>1</td>\n",
       "    </tr>\n",
       "  </tbody>\n",
       "</table>\n",
       "</div>"
      ],
      "text/plain": [
       "   KaiinID  AuctionID          TourokuDate  SakujoFlag\n",
       "0   231713    1036190  2018-09-01 00:00:16           1\n",
       "1   225585    4043640  2018-09-01 00:00:34           1\n",
       "2    75217    3100882  2018-09-01 00:00:44           1\n",
       "3    86693     655600  2018-09-01 00:00:51           1\n",
       "4   267234    2607395  2018-09-01 00:01:09           1"
      ]
     },
     "execution_count": 15,
     "metadata": {},
     "output_type": "execute_result"
    }
   ],
   "source": [
    "watchlist = pd.read_csv(INPUT_DIR + \"watchlist.csv\")\n",
    "print(watchlist.shape)\n",
    "print(watchlist[\"SakujoFlag\"].value_counts())\n",
    "print(watchlist[\"TourokuDate\"].max())\n",
    "watchlist.head()"
   ]
  },
  {
   "cell_type": "code",
   "execution_count": 16,
   "metadata": {},
   "outputs": [
    {
     "name": "stdout",
     "output_type": "stream",
     "text": [
      "(612516, 7)\n",
      "1    612516\n",
      "Name: SakujoFlag, dtype: int64\n",
      "2019-09-23 23:59:09\n"
     ]
    },
    {
     "data": {
      "text/html": [
       "<div>\n",
       "<style scoped>\n",
       "    .dataframe tbody tr th:only-of-type {\n",
       "        vertical-align: middle;\n",
       "    }\n",
       "\n",
       "    .dataframe tbody tr th {\n",
       "        vertical-align: top;\n",
       "    }\n",
       "\n",
       "    .dataframe thead th {\n",
       "        text-align: right;\n",
       "    }\n",
       "</style>\n",
       "<table border=\"1\" class=\"dataframe\">\n",
       "  <thead>\n",
       "    <tr style=\"text-align: right;\">\n",
       "      <th></th>\n",
       "      <th>AuctionID</th>\n",
       "      <th>KaiinID</th>\n",
       "      <th>ShudouNyuusatsuDate</th>\n",
       "      <th>Kingaku</th>\n",
       "      <th>Suuryou</th>\n",
       "      <th>SokketsuFlag</th>\n",
       "      <th>SakujoFlag</th>\n",
       "    </tr>\n",
       "  </thead>\n",
       "  <tbody>\n",
       "    <tr>\n",
       "      <th>0</th>\n",
       "      <td>3744587</td>\n",
       "      <td>227198</td>\n",
       "      <td>2018-09-01 21:40:44</td>\n",
       "      <td>18000</td>\n",
       "      <td>1</td>\n",
       "      <td>0</td>\n",
       "      <td>1</td>\n",
       "    </tr>\n",
       "    <tr>\n",
       "      <th>1</th>\n",
       "      <td>636604</td>\n",
       "      <td>116853</td>\n",
       "      <td>2018-09-01 18:56:28</td>\n",
       "      <td>20000</td>\n",
       "      <td>1</td>\n",
       "      <td>0</td>\n",
       "      <td>1</td>\n",
       "    </tr>\n",
       "    <tr>\n",
       "      <th>2</th>\n",
       "      <td>636604</td>\n",
       "      <td>258477</td>\n",
       "      <td>2018-09-01 19:46:13</td>\n",
       "      <td>20500</td>\n",
       "      <td>1</td>\n",
       "      <td>0</td>\n",
       "      <td>1</td>\n",
       "    </tr>\n",
       "    <tr>\n",
       "      <th>3</th>\n",
       "      <td>636604</td>\n",
       "      <td>116853</td>\n",
       "      <td>2018-09-01 19:54:17</td>\n",
       "      <td>22000</td>\n",
       "      <td>1</td>\n",
       "      <td>0</td>\n",
       "      <td>1</td>\n",
       "    </tr>\n",
       "    <tr>\n",
       "      <th>4</th>\n",
       "      <td>636604</td>\n",
       "      <td>258477</td>\n",
       "      <td>2018-09-01 20:47:49</td>\n",
       "      <td>21500</td>\n",
       "      <td>1</td>\n",
       "      <td>0</td>\n",
       "      <td>1</td>\n",
       "    </tr>\n",
       "  </tbody>\n",
       "</table>\n",
       "</div>"
      ],
      "text/plain": [
       "   AuctionID  KaiinID  ShudouNyuusatsuDate  Kingaku  Suuryou  SokketsuFlag  \\\n",
       "0    3744587   227198  2018-09-01 21:40:44    18000        1             0   \n",
       "1     636604   116853  2018-09-01 18:56:28    20000        1             0   \n",
       "2     636604   258477  2018-09-01 19:46:13    20500        1             0   \n",
       "3     636604   116853  2018-09-01 19:54:17    22000        1             0   \n",
       "4     636604   258477  2018-09-01 20:47:49    21500        1             0   \n",
       "\n",
       "   SakujoFlag  \n",
       "0           1  \n",
       "1           1  \n",
       "2           1  \n",
       "3           1  \n",
       "4           1  "
      ]
     },
     "execution_count": 16,
     "metadata": {},
     "output_type": "execute_result"
    }
   ],
   "source": [
    "shudounyuusatsu = pd.read_csv(INPUT_DIR + \"shudounyuusatsu.csv\")\n",
    "print(shudounyuusatsu.shape)\n",
    "print(shudounyuusatsu[\"SakujoFlag\"].value_counts())\n",
    "print(shudounyuusatsu[\"ShudouNyuusatsuDate\"].max())\n",
    "shudounyuusatsu.head()"
   ]
  },
  {
   "cell_type": "code",
   "execution_count": 17,
   "metadata": {},
   "outputs": [
    {
     "name": "stdout",
     "output_type": "stream",
     "text": [
      "(450242, 6)\n",
      "0    450229\n",
      "1        13\n",
      "Name: SakujoFlag, dtype: int64\n",
      "2019-09-23 23:59:52\n"
     ]
    },
    {
     "data": {
      "text/html": [
       "<div>\n",
       "<style scoped>\n",
       "    .dataframe tbody tr th:only-of-type {\n",
       "        vertical-align: middle;\n",
       "    }\n",
       "\n",
       "    .dataframe tbody tr th {\n",
       "        vertical-align: top;\n",
       "    }\n",
       "\n",
       "    .dataframe thead th {\n",
       "        text-align: right;\n",
       "    }\n",
       "</style>\n",
       "<table border=\"1\" class=\"dataframe\">\n",
       "  <thead>\n",
       "    <tr style=\"text-align: right;\">\n",
       "      <th></th>\n",
       "      <th>AuctionID</th>\n",
       "      <th>KaiinID</th>\n",
       "      <th>RakusatsuDate</th>\n",
       "      <th>Kingaku</th>\n",
       "      <th>Suuryou</th>\n",
       "      <th>SakujoFlag</th>\n",
       "    </tr>\n",
       "  </thead>\n",
       "  <tbody>\n",
       "    <tr>\n",
       "      <th>0</th>\n",
       "      <td>3744587</td>\n",
       "      <td>227198</td>\n",
       "      <td>2018-09-01 21:50:00</td>\n",
       "      <td>18000</td>\n",
       "      <td>1</td>\n",
       "      <td>0</td>\n",
       "    </tr>\n",
       "    <tr>\n",
       "      <th>1</th>\n",
       "      <td>3150550</td>\n",
       "      <td>253112</td>\n",
       "      <td>2018-09-01 21:07:00</td>\n",
       "      <td>16500</td>\n",
       "      <td>1</td>\n",
       "      <td>0</td>\n",
       "    </tr>\n",
       "    <tr>\n",
       "      <th>2</th>\n",
       "      <td>636604</td>\n",
       "      <td>258477</td>\n",
       "      <td>2018-09-01 22:43:00</td>\n",
       "      <td>24500</td>\n",
       "      <td>1</td>\n",
       "      <td>0</td>\n",
       "    </tr>\n",
       "    <tr>\n",
       "      <th>3</th>\n",
       "      <td>2413186</td>\n",
       "      <td>227198</td>\n",
       "      <td>2018-09-01 21:31:00</td>\n",
       "      <td>26700</td>\n",
       "      <td>1</td>\n",
       "      <td>0</td>\n",
       "    </tr>\n",
       "    <tr>\n",
       "      <th>4</th>\n",
       "      <td>2786032</td>\n",
       "      <td>69415</td>\n",
       "      <td>2018-09-01 22:19:00</td>\n",
       "      <td>128905</td>\n",
       "      <td>1</td>\n",
       "      <td>0</td>\n",
       "    </tr>\n",
       "  </tbody>\n",
       "</table>\n",
       "</div>"
      ],
      "text/plain": [
       "   AuctionID  KaiinID        RakusatsuDate  Kingaku  Suuryou  SakujoFlag\n",
       "0    3744587   227198  2018-09-01 21:50:00    18000        1           0\n",
       "1    3150550   253112  2018-09-01 21:07:00    16500        1           0\n",
       "2     636604   258477  2018-09-01 22:43:00    24500        1           0\n",
       "3    2413186   227198  2018-09-01 21:31:00    26700        1           0\n",
       "4    2786032    69415  2018-09-01 22:19:00   128905        1           0"
      ]
     },
     "execution_count": 17,
     "metadata": {},
     "output_type": "execute_result"
    }
   ],
   "source": [
    "rakusatsu = pd.read_csv(INPUT_DIR + \"rakusatsu.csv\")\n",
    "print(rakusatsu.shape)\n",
    "print(rakusatsu[\"SakujoFlag\"].value_counts())\n",
    "print(rakusatsu[\"RakusatsuDate\"].max())\n",
    "rakusatsu.head()"
   ]
  },
  {
   "cell_type": "code",
   "execution_count": 18,
   "metadata": {},
   "outputs": [
    {
     "name": "stdout",
     "output_type": "stream",
     "text": [
      "2019-09-23 23:56:18\n"
     ]
    },
    {
     "data": {
      "text/html": [
       "<div>\n",
       "<style scoped>\n",
       "    .dataframe tbody tr th:only-of-type {\n",
       "        vertical-align: middle;\n",
       "    }\n",
       "\n",
       "    .dataframe tbody tr th {\n",
       "        vertical-align: top;\n",
       "    }\n",
       "\n",
       "    .dataframe thead th {\n",
       "        text-align: right;\n",
       "    }\n",
       "</style>\n",
       "<table border=\"1\" class=\"dataframe\">\n",
       "  <thead>\n",
       "    <tr style=\"text-align: right;\">\n",
       "      <th></th>\n",
       "      <th>KaiinID</th>\n",
       "      <th>BrandID</th>\n",
       "      <th>CategoryID</th>\n",
       "      <th>GenreID</th>\n",
       "      <th>KaishikakakuLow</th>\n",
       "      <th>KaishikakakuHigh</th>\n",
       "      <th>ItemColorID</th>\n",
       "      <th>ConditionID</th>\n",
       "      <th>conditionFrom</th>\n",
       "      <th>conditionTo</th>\n",
       "      <th>SearchFullText</th>\n",
       "      <th>Size</th>\n",
       "      <th>MailSendFlag</th>\n",
       "      <th>CreateDate</th>\n",
       "    </tr>\n",
       "  </thead>\n",
       "  <tbody>\n",
       "    <tr>\n",
       "      <th>0</th>\n",
       "      <td>273964</td>\n",
       "      <td>9712.0</td>\n",
       "      <td>NaN</td>\n",
       "      <td>NaN</td>\n",
       "      <td>NaN</td>\n",
       "      <td>NaN</td>\n",
       "      <td>NaN</td>\n",
       "      <td>NaN</td>\n",
       "      <td>NaN</td>\n",
       "      <td>NaN</td>\n",
       "      <td>NaN</td>\n",
       "      <td>NaN</td>\n",
       "      <td>0</td>\n",
       "      <td>2019-09-01 00:06:25</td>\n",
       "    </tr>\n",
       "    <tr>\n",
       "      <th>1</th>\n",
       "      <td>64255</td>\n",
       "      <td>283.0</td>\n",
       "      <td>NaN</td>\n",
       "      <td>NaN</td>\n",
       "      <td>NaN</td>\n",
       "      <td>2000.0</td>\n",
       "      <td>NaN</td>\n",
       "      <td>NaN</td>\n",
       "      <td>7.0</td>\n",
       "      <td>4.0</td>\n",
       "      <td>NaN</td>\n",
       "      <td>NaN</td>\n",
       "      <td>0</td>\n",
       "      <td>2019-09-01 00:10:20</td>\n",
       "    </tr>\n",
       "    <tr>\n",
       "      <th>2</th>\n",
       "      <td>274994</td>\n",
       "      <td>NaN</td>\n",
       "      <td>NaN</td>\n",
       "      <td>NaN</td>\n",
       "      <td>NaN</td>\n",
       "      <td>NaN</td>\n",
       "      <td>NaN</td>\n",
       "      <td>NaN</td>\n",
       "      <td>NaN</td>\n",
       "      <td>NaN</td>\n",
       "      <td>ファー</td>\n",
       "      <td>NaN</td>\n",
       "      <td>0</td>\n",
       "      <td>2019-09-01 00:14:43</td>\n",
       "    </tr>\n",
       "    <tr>\n",
       "      <th>3</th>\n",
       "      <td>132156</td>\n",
       "      <td>7516.0</td>\n",
       "      <td>NaN</td>\n",
       "      <td>NaN</td>\n",
       "      <td>NaN</td>\n",
       "      <td>NaN</td>\n",
       "      <td>NaN</td>\n",
       "      <td>NaN</td>\n",
       "      <td>NaN</td>\n",
       "      <td>NaN</td>\n",
       "      <td>NaN</td>\n",
       "      <td>NaN</td>\n",
       "      <td>0</td>\n",
       "      <td>2019-09-01 00:23:38</td>\n",
       "    </tr>\n",
       "    <tr>\n",
       "      <th>4</th>\n",
       "      <td>132156</td>\n",
       "      <td>1698.0</td>\n",
       "      <td>NaN</td>\n",
       "      <td>NaN</td>\n",
       "      <td>NaN</td>\n",
       "      <td>NaN</td>\n",
       "      <td>NaN</td>\n",
       "      <td>NaN</td>\n",
       "      <td>NaN</td>\n",
       "      <td>NaN</td>\n",
       "      <td>NaN</td>\n",
       "      <td>NaN</td>\n",
       "      <td>0</td>\n",
       "      <td>2019-09-01 00:23:38</td>\n",
       "    </tr>\n",
       "  </tbody>\n",
       "</table>\n",
       "</div>"
      ],
      "text/plain": [
       "   KaiinID  BrandID  CategoryID GenreID  KaishikakakuLow  KaishikakakuHigh  \\\n",
       "0   273964   9712.0         NaN     NaN              NaN               NaN   \n",
       "1    64255    283.0         NaN     NaN              NaN            2000.0   \n",
       "2   274994      NaN         NaN     NaN              NaN               NaN   \n",
       "3   132156   7516.0         NaN     NaN              NaN               NaN   \n",
       "4   132156   1698.0         NaN     NaN              NaN               NaN   \n",
       "\n",
       "  ItemColorID  ConditionID  conditionFrom  conditionTo SearchFullText Size  \\\n",
       "0         NaN          NaN            NaN          NaN            NaN  NaN   \n",
       "1         NaN          NaN            7.0          4.0            NaN  NaN   \n",
       "2         NaN          NaN            NaN          NaN            ファー  NaN   \n",
       "3         NaN          NaN            NaN          NaN            NaN  NaN   \n",
       "4         NaN          NaN            NaN          NaN            NaN  NaN   \n",
       "\n",
       "   MailSendFlag           CreateDate  \n",
       "0             0  2019-09-01 00:06:25  \n",
       "1             0  2019-09-01 00:10:20  \n",
       "2             0  2019-09-01 00:14:43  \n",
       "3             0  2019-09-01 00:23:38  \n",
       "4             0  2019-09-01 00:23:38  "
      ]
     },
     "execution_count": 18,
     "metadata": {},
     "output_type": "execute_result"
    }
   ],
   "source": [
    "nyuuka_oshirase = pd.read_csv(INPUT_DIR + \"nyuuka_oshirase.csv\")\n",
    "print(nyuuka_oshirase[\"CreateDate\"].max())\n",
    "nyuuka_oshirase.head()"
   ]
  },
  {
   "cell_type": "code",
   "execution_count": 19,
   "metadata": {},
   "outputs": [
    {
     "name": "stderr",
     "output_type": "stream",
     "text": [
      "/Users/nobuyuki.ishida/.pyenv/versions/3.7.5/lib/python3.7/site-packages/IPython/core/interactiveshell.py:3051: DtypeWarning: Columns (10,12) have mixed types. Specify dtype option on import or set low_memory=False.\n",
      "  interactivity=interactivity, compiler=compiler, result=result)\n"
     ]
    },
    {
     "name": "stdout",
     "output_type": "stream",
     "text": [
      "2019-09-23 23:59:59\n"
     ]
    },
    {
     "data": {
      "text/html": [
       "<div>\n",
       "<style scoped>\n",
       "    .dataframe tbody tr th:only-of-type {\n",
       "        vertical-align: middle;\n",
       "    }\n",
       "\n",
       "    .dataframe tbody tr th {\n",
       "        vertical-align: top;\n",
       "    }\n",
       "\n",
       "    .dataframe thead th {\n",
       "        text-align: right;\n",
       "    }\n",
       "</style>\n",
       "<table border=\"1\" class=\"dataframe\">\n",
       "  <thead>\n",
       "    <tr style=\"text-align: right;\">\n",
       "      <th></th>\n",
       "      <th>SearchFullText</th>\n",
       "      <th>KensakuJouken</th>\n",
       "      <th>KensakuKekkaKenSuu</th>\n",
       "      <th>TourokuTime</th>\n",
       "      <th>Device</th>\n",
       "      <th>KaiinID</th>\n",
       "      <th>BrandID</th>\n",
       "      <th>CategoryID</th>\n",
       "      <th>ShinchakuFlag</th>\n",
       "      <th>ConditionID</th>\n",
       "      <th>Size</th>\n",
       "      <th>DanjobetsuID</th>\n",
       "      <th>Sozai</th>\n",
       "      <th>ColorID</th>\n",
       "      <th>PriceLow</th>\n",
       "      <th>PriceHigh</th>\n",
       "    </tr>\n",
       "  </thead>\n",
       "  <tbody>\n",
       "    <tr>\n",
       "      <th>0</th>\n",
       "      <td>エクスプローラー</td>\n",
       "      <td>BrandID=118&amp;SearchFullText=エクスプローラー&amp;ItemOrder=...</td>\n",
       "      <td>0.0</td>\n",
       "      <td>2019-09-01 00:00:01</td>\n",
       "      <td>sp</td>\n",
       "      <td>NaN</td>\n",
       "      <td>118.0</td>\n",
       "      <td>NaN</td>\n",
       "      <td>NaN</td>\n",
       "      <td>NaN</td>\n",
       "      <td>NaN</td>\n",
       "      <td>NaN</td>\n",
       "      <td>NaN</td>\n",
       "      <td>NaN</td>\n",
       "      <td>NaN</td>\n",
       "      <td>NaN</td>\n",
       "    </tr>\n",
       "    <tr>\n",
       "      <th>1</th>\n",
       "      <td>ボッテガヴェネタ</td>\n",
       "      <td>SearchFullText=ボッテガヴェネタ&amp;ItemOrder=0&amp;ItemDispla...</td>\n",
       "      <td>1596.0</td>\n",
       "      <td>2019-09-01 00:00:03</td>\n",
       "      <td>sp</td>\n",
       "      <td>NaN</td>\n",
       "      <td>NaN</td>\n",
       "      <td>NaN</td>\n",
       "      <td>NaN</td>\n",
       "      <td>NaN</td>\n",
       "      <td>NaN</td>\n",
       "      <td>NaN</td>\n",
       "      <td>NaN</td>\n",
       "      <td>NaN</td>\n",
       "      <td>NaN</td>\n",
       "      <td>NaN</td>\n",
       "    </tr>\n",
       "    <tr>\n",
       "      <th>2</th>\n",
       "      <td>マンハッタンポーテージ</td>\n",
       "      <td>SearchFullText=マンハッタンポーテージ&amp;ItemOrder=1&amp;ItemDis...</td>\n",
       "      <td>66.0</td>\n",
       "      <td>2019-09-01 00:00:04</td>\n",
       "      <td>sp</td>\n",
       "      <td>102997.0</td>\n",
       "      <td>NaN</td>\n",
       "      <td>NaN</td>\n",
       "      <td>NaN</td>\n",
       "      <td>NaN</td>\n",
       "      <td>NaN</td>\n",
       "      <td>NaN</td>\n",
       "      <td>NaN</td>\n",
       "      <td>NaN</td>\n",
       "      <td>NaN</td>\n",
       "      <td>NaN</td>\n",
       "    </tr>\n",
       "    <tr>\n",
       "      <th>3</th>\n",
       "      <td>マンハッタンポーテージ</td>\n",
       "      <td>SearchFullText=マンハッタンポーテージ&amp;ItemOrder=1&amp;ItemDis...</td>\n",
       "      <td>66.0</td>\n",
       "      <td>2019-09-01 00:00:04</td>\n",
       "      <td>sp</td>\n",
       "      <td>102997.0</td>\n",
       "      <td>NaN</td>\n",
       "      <td>NaN</td>\n",
       "      <td>NaN</td>\n",
       "      <td>NaN</td>\n",
       "      <td>NaN</td>\n",
       "      <td>NaN</td>\n",
       "      <td>NaN</td>\n",
       "      <td>NaN</td>\n",
       "      <td>NaN</td>\n",
       "      <td>NaN</td>\n",
       "    </tr>\n",
       "    <tr>\n",
       "      <th>4</th>\n",
       "      <td>11.5メンズ</td>\n",
       "      <td>BrandID=2010&amp;SearchFullText=11.5メンズ&amp;ItemOrder=...</td>\n",
       "      <td>0.0</td>\n",
       "      <td>2019-09-01 00:00:04</td>\n",
       "      <td>sp</td>\n",
       "      <td>NaN</td>\n",
       "      <td>NaN</td>\n",
       "      <td>NaN</td>\n",
       "      <td>NaN</td>\n",
       "      <td>NaN</td>\n",
       "      <td>NaN</td>\n",
       "      <td>NaN</td>\n",
       "      <td>NaN</td>\n",
       "      <td>NaN</td>\n",
       "      <td>NaN</td>\n",
       "      <td>NaN</td>\n",
       "    </tr>\n",
       "  </tbody>\n",
       "</table>\n",
       "</div>"
      ],
      "text/plain": [
       "  SearchFullText                                      KensakuJouken  \\\n",
       "0       エクスプローラー  BrandID=118&SearchFullText=エクスプローラー&ItemOrder=...   \n",
       "1       ボッテガヴェネタ  SearchFullText=ボッテガヴェネタ&ItemOrder=0&ItemDispla...   \n",
       "2    マンハッタンポーテージ  SearchFullText=マンハッタンポーテージ&ItemOrder=1&ItemDis...   \n",
       "3    マンハッタンポーテージ  SearchFullText=マンハッタンポーテージ&ItemOrder=1&ItemDis...   \n",
       "4        11.5メンズ  BrandID=2010&SearchFullText=11.5メンズ&ItemOrder=...   \n",
       "\n",
       "   KensakuKekkaKenSuu          TourokuTime Device   KaiinID  BrandID  \\\n",
       "0                 0.0  2019-09-01 00:00:01     sp       NaN    118.0   \n",
       "1              1596.0  2019-09-01 00:00:03     sp       NaN      NaN   \n",
       "2                66.0  2019-09-01 00:00:04     sp  102997.0      NaN   \n",
       "3                66.0  2019-09-01 00:00:04     sp  102997.0      NaN   \n",
       "4                 0.0  2019-09-01 00:00:04     sp       NaN      NaN   \n",
       "\n",
       "   CategoryID  ShinchakuFlag  ConditionID Size  DanjobetsuID Sozai  ColorID  \\\n",
       "0         NaN            NaN          NaN  NaN           NaN   NaN      NaN   \n",
       "1         NaN            NaN          NaN  NaN           NaN   NaN      NaN   \n",
       "2         NaN            NaN          NaN  NaN           NaN   NaN      NaN   \n",
       "3         NaN            NaN          NaN  NaN           NaN   NaN      NaN   \n",
       "4         NaN            NaN          NaN  NaN           NaN   NaN      NaN   \n",
       "\n",
       "   PriceLow  PriceHigh  \n",
       "0       NaN        NaN  \n",
       "1       NaN        NaN  \n",
       "2       NaN        NaN  \n",
       "3       NaN        NaN  \n",
       "4       NaN        NaN  "
      ]
     },
     "execution_count": 19,
     "metadata": {},
     "output_type": "execute_result"
    }
   ],
   "source": [
    "search_log = pd.read_csv(INPUT_DIR + \"search_log.tsv\", sep=\"\\t\")\n",
    "print(search_log[\"TourokuTime\"].max())\n",
    "search_log.head()"
   ]
  },
  {
   "cell_type": "markdown",
   "metadata": {},
   "source": [
    "## 予測対象となるauctionについて"
   ]
  },
  {
   "cell_type": "markdown",
   "metadata": {},
   "source": [
    "- 一週間で大体6000ユーザー、7万オークション、10万ペアくらい\n",
    "- 予測対象となるオークションの60%程度が201907以降のオークション\n",
    "    - 201907以降で約90万オークション\n",
    "- 予測対象となるオークションの80%程度が201907以降にwatchされている？\n",
    "- watchlistのアクション直近3月、オークション作成直近3月で絞ってもほとんどカバーできている様子\n",
    "- 一月あたり30万件程度のオークションが新規に登録されている\n",
    "- 一週間にアクションを起こすユーザーは大体6000くらい\n",
    "    - 学習データのレコードを1億程度にしようと思うと一人当たり16000レコードくらいにしなきゃいけない？"
   ]
  },
  {
   "cell_type": "code",
   "execution_count": 406,
   "metadata": {},
   "outputs": [],
   "source": [
    "auction = pd.read_csv(INPUT_DIR + \"auction.csv\")\n",
    "watchlist = pd.read_csv(INPUT_DIR + \"watchlist.csv\")\n",
    "shudounyuusatsu = pd.read_csv(INPUT_DIR + \"shudounyuusatsu.csv\")"
   ]
  },
  {
   "cell_type": "code",
   "execution_count": 407,
   "metadata": {},
   "outputs": [],
   "source": [
    "auction = be.to_datetime(auction)\n",
    "watchlist = be.to_datetime(watchlist)\n",
    "shudounyuusatsu = be.to_datetime(shudounyuusatsu)\n",
    "watchlist.rename(columns={\"TourokuDate\": \"ActionDate\"}, inplace=True)\n",
    "shudounyuusatsu.rename(columns={\"ShudouNyuusatsuDate\": \"ActionDate\"}, inplace=True)\n",
    "watch_nyuusatsu = pd.concat([watchlist, shudounyuusatsu], sort=False)"
   ]
  },
  {
   "cell_type": "code",
   "execution_count": 414,
   "metadata": {},
   "outputs": [
    {
     "name": "stdout",
     "output_type": "stream",
     "text": [
      "KaiinID    6344\n",
      "dtype: int64\n",
      "AuctionID    68682\n",
      "dtype: int64\n",
      "(97583, 7)\n"
     ]
    }
   ],
   "source": [
    "# 対象期間中にアクションのあったデータ\n",
    "start_dt = datetime.datetime(2019, 9, 17, 0, 0, 0)\n",
    "end_dt = datetime.datetime(2019, 9, 24, 0, 0, 0)\n",
    "month_delta = 3\n",
    "target_log = watch_nyuusatsu[(watch_nyuusatsu[\"ActionDate\"] >= start_dt) & (watch_nyuusatsu[\"ActionDate\"] <= end_dt)]\n",
    "\n",
    "target_auctions = (\n",
    "    target_log[[\"AuctionID\"]]\n",
    "    .drop_duplicates()\n",
    "    .merge(auction, on=\"AuctionID\", how=\"inner\")\n",
    ")\n",
    "\n",
    "print(target_log[[\"KaiinID\"]].nunique())\n",
    "print(target_log[[\"AuctionID\"]].nunique())\n",
    "print(target_log.shape)"
   ]
  },
  {
   "cell_type": "code",
   "execution_count": 415,
   "metadata": {},
   "outputs": [
    {
     "data": {
      "text/plain": [
       "(91044, 2)"
      ]
     },
     "execution_count": 415,
     "metadata": {},
     "output_type": "execute_result"
    }
   ],
   "source": [
    "target_log[[\"KaiinID\", \"AuctionID\"]].drop_duplicates().shape"
   ]
  },
  {
   "cell_type": "code",
   "execution_count": 416,
   "metadata": {},
   "outputs": [],
   "source": [
    "def extract_ym(df, datecol):\n",
    "    return  getattr(df[datecol].dt, \"year\").astype(str) + getattr(df[datecol].dt, \"month\").astype(str).str.zfill(2)"
   ]
  },
  {
   "cell_type": "code",
   "execution_count": 417,
   "metadata": {},
   "outputs": [
    {
     "name": "stdout",
     "output_type": "stream",
     "text": [
      "(68682, 14)\n",
      "ShouhinID    68430\n",
      "dtype: int64\n",
      "201909    26033\n",
      "201908    17360\n",
      "201907    12991\n",
      "201906     5381\n",
      "201905     2788\n",
      "201904     1421\n",
      "201903      945\n",
      "201901      379\n",
      "201902      369\n",
      "201811      326\n",
      "201812      277\n",
      "201810      265\n",
      "201809       84\n",
      "201808       63\n",
      "Name: CreateYearMonth, dtype: int64\n",
      "201909    0.379037\n",
      "201908    0.631796\n",
      "201907    0.820943\n",
      "201906    0.899289\n",
      "201905    0.939882\n",
      "201904    0.960572\n",
      "201903    0.974331\n",
      "201901    0.979849\n",
      "201902    0.985222\n",
      "201811    0.989968\n",
      "201812    0.994001\n",
      "201810    0.997860\n",
      "201809    0.999083\n",
      "201808    1.000000\n",
      "Name: CreateYearMonth, dtype: float64\n"
     ]
    }
   ],
   "source": [
    "# 対象期間中にアクションのあったオークション\n",
    "#  3月くらいまでで97%くらいカバーできている\n",
    "target_auctions[\"CreateYearMonth\"] = extract_ym(target_auctions, \"CreateDate\")\n",
    "print(target_auctions.shape)\n",
    "print(target_auctions[[\"ShouhinID\"]].nunique())\n",
    "print(target_auctions[\"CreateYearMonth\"].value_counts())\n",
    "print(target_auctions[\"CreateYearMonth\"].value_counts().cumsum() / target_auctions.shape[0])"
   ]
  },
  {
   "cell_type": "code",
   "execution_count": 418,
   "metadata": {},
   "outputs": [
    {
     "name": "stdout",
     "output_type": "stream",
     "text": [
      "予測対象期間以前にお気に入り登録されているオークション割合 0.5411461518301739\n",
      "201909    22989\n",
      "201908     8751\n",
      "201907     2968\n",
      "201906     1387\n",
      "201905      461\n",
      "201904      272\n",
      "201903      165\n",
      "201902       82\n",
      "201901       49\n",
      "201812       27\n",
      "201811       11\n",
      "201810        5\n",
      "Name: ActionYearMonth, dtype: int64\n",
      "201909    0.618533\n",
      "201908    0.853983\n",
      "201907    0.933839\n",
      "201906    0.971157\n",
      "201905    0.983561\n",
      "201904    0.990879\n",
      "201903    0.995318\n",
      "201902    0.997525\n",
      "201901    0.998843\n",
      "201812    0.999570\n",
      "201811    0.999865\n",
      "201810    1.000000\n",
      "Name: ActionYearMonth, dtype: float64\n"
     ]
    }
   ],
   "source": [
    "# 対象期間中にアクションのあったオークションの、対象期間以前のお気に入り登録時期\n",
    "# 半数以上はお気に入り履歴がなく、あるものは直近ばかり\n",
    "target_past_watch  = (\n",
    "    target_auctions[[\"AuctionID\", \"CreateDate\"]].merge(\n",
    "        watchlist[watchlist[\"ActionDate\"] <= start_dt],\n",
    "        on=\"AuctionID\", how=\"inner\")\n",
    ")\n",
    "target_past_watch[\"ActionYearMonth\"] = extract_ym(target_past_watch, \"ActionDate\")\n",
    "print(\"予測対象期間以前にお気に入り登録されているオークション割合\", target_past_watch[\"AuctionID\"].nunique() / target_auctions.shape[0])\n",
    "print(target_past_watch[[\"AuctionID\", \"ActionYearMonth\"]].groupby(\"AuctionID\").max()[\"ActionYearMonth\"].value_counts())\n",
    "print(target_past_watch[[\"AuctionID\", \"ActionYearMonth\"]].groupby(\"AuctionID\").max()[\"ActionYearMonth\"].value_counts().cumsum()\\\n",
    "      / target_past_watch[\"AuctionID\"].nunique())"
   ]
  },
  {
   "cell_type": "code",
   "execution_count": 449,
   "metadata": {},
   "outputs": [
    {
     "name": "stdout",
     "output_type": "stream",
     "text": [
      "(742949, 1)\n",
      "4457694000\n"
     ]
    }
   ],
   "source": [
    "# 実際に候補を作成した際、どのくらいの正解データペアが候補内に入っているかを調べる\n",
    "auc_cand = be.left_anti_join(\n",
    "    pd.concat([\n",
    "    auction[(auction[\"CreateDate\"] > start_dt - relativedelta(months=2)) &\n",
    "             (auction[\"CreateDate\"] < end_dt)][[\"AuctionID\"]],\n",
    "    watchlist[(watchlist[\"ActionDate\"] > start_dt - relativedelta(months=2)) &\n",
    "             (watchlist[\"ActionDate\"] < start_dt) ][[\"AuctionID\"]].drop_duplicates()\n",
    "    ]).drop_duplicates(),\n",
    "    rakusatsu, \"AuctionID\", \"AuctionID\"\n",
    ")\n",
    "print(auc_cand.shape)\n",
    "print(auc_cand.shape[0] * 6000)"
   ]
  },
  {
   "cell_type": "code",
   "execution_count": 450,
   "metadata": {},
   "outputs": [
    {
     "name": "stdout",
     "output_type": "stream",
     "text": [
      "カバー割合 :  0.7871785911883754\n"
     ]
    }
   ],
   "source": [
    "print(\"カバー割合 : \", target_auctions.merge(auc_cand, on=\"AuctionID\", how=\"inner\").shape[0] / target_auctions.shape[0])"
   ]
  },
  {
   "cell_type": "markdown",
   "metadata": {},
   "source": [
    "## テストデータについて"
   ]
  },
  {
   "cell_type": "markdown",
   "metadata": {},
   "source": [
    "- 予測対象ユーザーは6016"
   ]
  },
  {
   "cell_type": "code",
   "execution_count": 137,
   "metadata": {},
   "outputs": [],
   "source": [
    "sample_sub = pd.read_csv(INPUT_DIR + \"sample_submission.csv\")"
   ]
  },
  {
   "cell_type": "code",
   "execution_count": 139,
   "metadata": {},
   "outputs": [
    {
     "data": {
      "text/plain": [
       "KaiinID    6016\n",
       "dtype: int64"
      ]
     },
     "execution_count": 139,
     "metadata": {},
     "output_type": "execute_result"
    }
   ],
   "source": [
    "sample_sub[[\"KaiinID\"]].nunique()"
   ]
  },
  {
   "cell_type": "markdown",
   "metadata": {},
   "source": [
    "## どのオークションがシステム的に候補から外れるか"
   ]
  },
  {
   "cell_type": "markdown",
   "metadata": {},
   "source": [
    "- 入札に含まれているオークションは落札とほぼ一致している\n",
    "\n",
    "### 結論\n",
    "- 落札に含まれているオークションは終了していると見なして除外する\n",
    "- 他にもシステム的に候補に入っていないオークションが残っている可能性が高い(watchから確認できるかもしれない)"
   ]
  },
  {
   "cell_type": "code",
   "execution_count": 181,
   "metadata": {},
   "outputs": [
    {
     "data": {
      "text/plain": [
       "(4109559, 13)"
      ]
     },
     "execution_count": 181,
     "metadata": {},
     "output_type": "execute_result"
    }
   ],
   "source": [
    "auction.shape"
   ]
  },
  {
   "cell_type": "code",
   "execution_count": 187,
   "metadata": {},
   "outputs": [
    {
     "name": "stdout",
     "output_type": "stream",
     "text": [
      "450242\n",
      "450205\n"
     ]
    }
   ],
   "source": [
    "print(rakusatsu.shape[0])\n",
    "print(rakusatsu[[\"AuctionID\"]].drop_duplicates().shape[0])"
   ]
  },
  {
   "cell_type": "code",
   "execution_count": 195,
   "metadata": {},
   "outputs": [
    {
     "name": "stdout",
     "output_type": "stream",
     "text": [
      "4165155\n",
      "1484732\n"
     ]
    }
   ],
   "source": [
    "print(watchlist.shape[0])\n",
    "print(watchlist[[\"AuctionID\"]].drop_duplicates().shape[0])"
   ]
  },
  {
   "cell_type": "code",
   "execution_count": 196,
   "metadata": {},
   "outputs": [
    {
     "name": "stdout",
     "output_type": "stream",
     "text": [
      "612516\n",
      "453391\n"
     ]
    }
   ],
   "source": [
    "print(shudounyuusatsu.shape[0])\n",
    "print(shudounyuusatsu[[\"AuctionID\"]].drop_duplicates().shape[0])"
   ]
  },
  {
   "cell_type": "code",
   "execution_count": 177,
   "metadata": {},
   "outputs": [
    {
     "data": {
      "text/plain": [
       "True"
      ]
     },
     "execution_count": 177,
     "metadata": {},
     "output_type": "execute_result"
    }
   ],
   "source": [
    "rakusatsu[[\"AuctionID\"]].drop_duplicates().shape[0] == rakusatsu[[\"AuctionID\"]].drop_duplicates().merge(auction, on=\"AuctionID\").shape[0]"
   ]
  },
  {
   "cell_type": "code",
   "execution_count": 178,
   "metadata": {},
   "outputs": [
    {
     "data": {
      "text/plain": [
       "True"
      ]
     },
     "execution_count": 178,
     "metadata": {},
     "output_type": "execute_result"
    }
   ],
   "source": [
    "shudounyuusatsu[[\"AuctionID\"]].drop_duplicates().shape[0] == shudounyuusatsu[[\"AuctionID\"]].drop_duplicates().merge(auction, on=\"AuctionID\").shape[0]"
   ]
  },
  {
   "cell_type": "code",
   "execution_count": 179,
   "metadata": {},
   "outputs": [
    {
     "data": {
      "text/plain": [
       "True"
      ]
     },
     "execution_count": 179,
     "metadata": {},
     "output_type": "execute_result"
    }
   ],
   "source": [
    "watchlist[[\"AuctionID\"]].drop_duplicates().shape[0] == watchlist[[\"AuctionID\"]].drop_duplicates().merge(auction, on=\"AuctionID\").shape[0]"
   ]
  },
  {
   "cell_type": "code",
   "execution_count": 190,
   "metadata": {},
   "outputs": [],
   "source": [
    "nyuusatsu_after_rakusatsu = (\n",
    "    rakusatsu[[\"AuctionID\", \"RakusatsuDate\"]]\n",
    "    .drop_duplicates().merge(shudounyuusatsu, on=\"AuctionID\")\n",
    "    .query(\"RakusatsuDate <= ShudouNyuusatsuDate\")\n",
    ")"
   ]
  },
  {
   "cell_type": "code",
   "execution_count": 191,
   "metadata": {},
   "outputs": [
    {
     "data": {
      "text/plain": [
       "(15418, 1)"
      ]
     },
     "execution_count": 191,
     "metadata": {},
     "output_type": "execute_result"
    }
   ],
   "source": [
    "nyuusatsu_after_rakusatsu[[\"AuctionID\"]].drop_duplicates().shape"
   ]
  },
  {
   "cell_type": "code",
   "execution_count": 197,
   "metadata": {},
   "outputs": [
    {
     "data": {
      "text/plain": [
       "(450138, 1)"
      ]
     },
     "execution_count": 197,
     "metadata": {},
     "output_type": "execute_result"
    }
   ],
   "source": [
    "rakusatsu[[\"AuctionID\"]].drop_duplicates().merge(shudounyuusatsu[[\"AuctionID\"]].drop_duplicates(), on=\"AuctionID\").shape"
   ]
  },
  {
   "cell_type": "code",
   "execution_count": 193,
   "metadata": {},
   "outputs": [],
   "source": [
    "watch_after_rakusatsu = (\n",
    "    rakusatsu[[\"AuctionID\", \"RakusatsuDate\"]]\n",
    "    .drop_duplicates().merge(watchlist, on=\"AuctionID\")\n",
    "    .query(\"RakusatsuDate <= TourokuDate\")\n",
    ")"
   ]
  },
  {
   "cell_type": "code",
   "execution_count": 194,
   "metadata": {},
   "outputs": [
    {
     "data": {
      "text/plain": [
       "(5748, 1)"
      ]
     },
     "execution_count": 194,
     "metadata": {},
     "output_type": "execute_result"
    }
   ],
   "source": [
    "watch_after_rakusatsu[[\"AuctionID\"]].drop_duplicates().shape"
   ]
  },
  {
   "cell_type": "code",
   "execution_count": null,
   "metadata": {},
   "outputs": [],
   "source": []
  },
  {
   "cell_type": "markdown",
   "metadata": {},
   "source": [
    "## お気に入りデータの削除フラグなどからオークション候補を作成できるか調べる"
   ]
  },
  {
   "cell_type": "code",
   "execution_count": 261,
   "metadata": {},
   "outputs": [],
   "source": [
    "all_rmd_watch = watchlist[(watchlist[\"SakujoFlag\"] == 1) &(watchlist[\"ActionDate\"] < datetime.datetime(2019, 9, 1, 0, 0, 0))]"
   ]
  },
  {
   "cell_type": "code",
   "execution_count": 262,
   "metadata": {},
   "outputs": [],
   "source": [
    "watch_rmd_cand = be.left_anti_join(all_rmd_watch, rakusatsu, \"AuctionID\", \"AuctionID\")"
   ]
  },
  {
   "cell_type": "code",
   "execution_count": 263,
   "metadata": {},
   "outputs": [
    {
     "name": "stdout",
     "output_type": "stream",
     "text": [
      "お気に入り削除履歴から求めた、オークション候補から削除予定の候補数 :  2347344\n",
      "201809    173589\n",
      "201810    206741\n",
      "201811    170127\n",
      "201812    185630\n",
      "201901    223522\n",
      "201902    229411\n",
      "201903    222482\n",
      "201904    176467\n",
      "201905    192880\n",
      "201906    205883\n",
      "201907    198045\n",
      "201908    162567\n",
      "Name: ActionYearMonth, dtype: int64\n",
      "201809    0.073951\n",
      "201810    0.162026\n",
      "201811    0.234502\n",
      "201812    0.313583\n",
      "201901    0.408806\n",
      "201902    0.506538\n",
      "201903    0.601319\n",
      "201904    0.676496\n",
      "201905    0.758666\n",
      "201906    0.846374\n",
      "201907    0.930744\n",
      "201908    1.000000\n",
      "Name: ActionYearMonth, dtype: float64\n"
     ]
    }
   ],
   "source": [
    "watch_rmd_cand[\"ActionYearMonth\"] = extract_ym(watch_rmd_cand, \"ActionDate\")\n",
    "print(\"お気に入り削除履歴から求めた、オークション候補から削除予定の候補数 : \", watch_rmd_cand.shape[0])\n",
    "print(watch_rmd_cand[\"ActionYearMonth\"].value_counts().sort_index())\n",
    "print(watch_rmd_cand[\"ActionYearMonth\"].value_counts().sort_index().cumsum() / watch_rmd_cand.shape[0])"
   ]
  },
  {
   "cell_type": "code",
   "execution_count": 284,
   "metadata": {},
   "outputs": [
    {
     "name": "stdout",
     "output_type": "stream",
     "text": [
      "謝って消去してしまう正解データ割合 :  0.19230657231880255\n"
     ]
    }
   ],
   "source": [
    "print(\"謝って消去してしまう正解データ割合 : \", \n",
    "      1 - be.left_anti_join(target_auctions, watch_rmd_cand, \"AuctionID\", \"AuctionID\").shape[0] / target_auctions.shape[0])"
   ]
  },
  {
   "cell_type": "code",
   "execution_count": 285,
   "metadata": {},
   "outputs": [
    {
     "name": "stdout",
     "output_type": "stream",
     "text": [
      "消去後のオークション候補件数 :  900229\n"
     ]
    }
   ],
   "source": [
    "print(\"消去後のオークション候補件数 : \", be.left_anti_join(auc_cand, watch_rmd_cand, \"AuctionID\", \"AuctionID\").shape[0])"
   ]
  },
  {
   "cell_type": "code",
   "execution_count": 401,
   "metadata": {},
   "outputs": [
    {
     "data": {
      "text/plain": [
       "1.8513807782982628e-05"
      ]
     },
     "execution_count": 401,
     "metadata": {},
     "output_type": "execute_result"
    }
   ],
   "source": [
    "100000 / (900229 * 6000)"
   ]
  },
  {
   "cell_type": "markdown",
   "metadata": {},
   "source": [
    "## 中国人コードでどれくらいの正解データが残っているのか調べる"
   ]
  },
  {
   "cell_type": "markdown",
   "metadata": {},
   "source": [
    "- 正解データの10%を130万件のデータでカバーしている状態"
   ]
  },
  {
   "cell_type": "code",
   "execution_count": 288,
   "metadata": {},
   "outputs": [],
   "source": [
    "train_dataset = pd.read_pickle(IMD_DIR + \"202001152052\" + \"_train_dataset.pkl\")\n",
    "valid_for_train_dataset = pd.read_pickle(IMD_DIR + \"202001152052\" + \"_valid_for_train_dataset.pkl\")\n",
    "valid_for_sub_dataset = pd.read_pickle(IMD_DIR + \"202001152055\" + \"_valid_for_sub_dataset.pkl\")"
   ]
  },
  {
   "cell_type": "code",
   "execution_count": 294,
   "metadata": {},
   "outputs": [],
   "source": [
    "dset_to_period = {\n",
    "    \"train\": {\"oldest\": datetime.datetime(2019, 9, 3, 0, 0, 0),\n",
    "              \"newest\": datetime.datetime(2019, 9, 10, 0, 0, 0)},\n",
    "    \"valid_for_train\": {\"oldest\": datetime.datetime(2019, 9, 10, 0, 0, 0),\n",
    "              \"newest\": datetime.datetime(2019, 9, 17, 0, 0, 0),},\n",
    "    \"valid_for_sub\": {\"oldest\": datetime.datetime(2019, 9, 17, 0, 0, 0),\n",
    "              \"newest\": datetime.datetime(2019, 9, 24, 0, 0, 0),}\n",
    "}"
   ]
  },
  {
   "cell_type": "code",
   "execution_count": 391,
   "metadata": {},
   "outputs": [],
   "source": [
    "def extract_target_aucs(watch, bid, dset_to_period, dset_type):\n",
    "\n",
    "    oldest_dtime, newest_dtime = (\n",
    "        dset_to_period[dset_type][\"oldest\"],\n",
    "        dset_to_period[dset_type][\"newest\"]\n",
    "    )    \n",
    "    watch_actioned = (\n",
    "        watch[(watch[\"ActionDate\"] >= oldest_dtime) & (watch[\"ActionDate\"] < newest_dtime)]\n",
    "    )\n",
    "    bid_actioned = (\n",
    "        bid[(bid[\"ActionDate\"] >= oldest_dtime) & (bid[\"ActionDate\"] < newest_dtime)]\n",
    "    )\n",
    "    target_aucs = (\n",
    "        pd.concat([watch_actioned, bid_actioned], sort=False)\n",
    "    )\n",
    "    return target_aucs"
   ]
  },
  {
   "cell_type": "code",
   "execution_count": 384,
   "metadata": {},
   "outputs": [
    {
     "name": "stdout",
     "output_type": "stream",
     "text": [
      "0.0948067148743767\n"
     ]
    }
   ],
   "source": [
    "# 正解データのオークションをどのくらい含められているか\n",
    "print(train_dataset.query(\"(watch_actioned == 1) | (bid_actioned == 1)\")[\"AuctionID\"].nunique() / \\\n",
    "     extract_target_aucs(watchlist, shudounyuusatsu, dset_to_period, \"train\")[[\"AuctionID\"]].drop_duplicates().shape[0])"
   ]
  },
  {
   "cell_type": "code",
   "execution_count": 398,
   "metadata": {},
   "outputs": [
    {
     "name": "stdout",
     "output_type": "stream",
     "text": [
      "6347\n",
      "0.0019329047260997563\n"
     ]
    }
   ],
   "source": [
    "# どのくらいの正解データを含んでいるか\n",
    "print(train_dataset.query(\"(watch_actioned == 1) | (bid_actioned == 1)\")[[\"AuctionID\", \"KaiinID\"]].drop_duplicates().shape[0])\n",
    "# 正解のペアの割合\n",
    "print(train_dataset.query(\"(watch_actioned == 1) | (bid_actioned == 1)\")[[\"AuctionID\", \"KaiinID\"]].drop_duplicates().shape[0] / \\\n",
    "     train_dataset[[\"AuctionID\", \"KaiinID\"]].drop_duplicates().shape[0])"
   ]
  },
  {
   "cell_type": "code",
   "execution_count": null,
   "metadata": {},
   "outputs": [],
   "source": []
  }
 ],
 "metadata": {
  "kernelspec": {
   "display_name": "Python 3",
   "language": "python",
   "name": "python3"
  },
  "language_info": {
   "codemirror_mode": {
    "name": "ipython",
    "version": 3
   },
   "file_extension": ".py",
   "mimetype": "text/x-python",
   "name": "python",
   "nbconvert_exporter": "python",
   "pygments_lexer": "ipython3",
   "version": "3.7.5"
  }
 },
 "nbformat": 4,
 "nbformat_minor": 2
}
