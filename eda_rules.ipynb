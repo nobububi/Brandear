{
 "cells": [
  {
   "cell_type": "markdown",
   "metadata": {},
   "source": [
    "# 概要\n",
    "- 各データの期間について\n",
    "- 予測対象となるauctionについて\n",
    "- テストデータについて\n",
    "- どのオークションがシステム的に候補から外れるか"
   ]
  },
  {
   "cell_type": "code",
   "execution_count": 120,
   "metadata": {},
   "outputs": [],
   "source": [
    "from os.path import dirname\n",
    "import os\n",
    "import datetime\n",
    "from dateutil.relativedelta import relativedelta\n",
    "\n",
    "import pandas as pd\n",
    "import numpy as np\n",
    "import matplotlib.pyplot as plt"
   ]
  },
  {
   "cell_type": "code",
   "execution_count": 121,
   "metadata": {},
   "outputs": [
    {
     "name": "stdout",
     "output_type": "stream",
     "text": [
      "The autoreload extension is already loaded. To reload it, use:\n",
      "  %reload_ext autoreload\n"
     ]
    }
   ],
   "source": [
    "%load_ext autoreload\n",
    "%autoreload 2\n",
    "import brandear_est as be"
   ]
  },
  {
   "cell_type": "code",
   "execution_count": 122,
   "metadata": {},
   "outputs": [],
   "source": [
    "INPUT_DIR = os.path.join(os.getcwd(), \"../../data/input/\")\n",
    "IMD_DIR = os.path.join(os.getcwd(), \"../../data/intermediate/\")"
   ]
  },
  {
   "cell_type": "markdown",
   "metadata": {},
   "source": [
    "## 各データの期間について\n",
    "- 20190924以降のデータが入っているテーブル\n",
    "    - auction\n",
    "    - brand"
   ]
  },
  {
   "cell_type": "code",
   "execution_count": 4,
   "metadata": {},
   "outputs": [
    {
     "name": "stdout",
     "output_type": "stream",
     "text": [
      "(4109559, 13)\n",
      "2019-09-30 10:00:58\n",
      "ShouhinID    3002614\n",
      "dtype: int64\n"
     ]
    },
    {
     "data": {
      "text/html": [
       "<div>\n",
       "<style scoped>\n",
       "    .dataframe tbody tr th:only-of-type {\n",
       "        vertical-align: middle;\n",
       "    }\n",
       "\n",
       "    .dataframe tbody tr th {\n",
       "        vertical-align: top;\n",
       "    }\n",
       "\n",
       "    .dataframe thead th {\n",
       "        text-align: right;\n",
       "    }\n",
       "</style>\n",
       "<table border=\"1\" class=\"dataframe\">\n",
       "  <thead>\n",
       "    <tr style=\"text-align: right;\">\n",
       "      <th></th>\n",
       "      <th>AuctionID</th>\n",
       "      <th>ShouhinShubetsuID</th>\n",
       "      <th>ShouhinID</th>\n",
       "      <th>SaishuppinKaisuu</th>\n",
       "      <th>ConditionID</th>\n",
       "      <th>BrandID</th>\n",
       "      <th>GenreID</th>\n",
       "      <th>GenreGroupID</th>\n",
       "      <th>LineID</th>\n",
       "      <th>ColorID</th>\n",
       "      <th>DanjobetsuID</th>\n",
       "      <th>SankouKakaku</th>\n",
       "      <th>CreateDate</th>\n",
       "    </tr>\n",
       "  </thead>\n",
       "  <tbody>\n",
       "    <tr>\n",
       "      <th>0</th>\n",
       "      <td>4066465</td>\n",
       "      <td>1</td>\n",
       "      <td>620477</td>\n",
       "      <td>334</td>\n",
       "      <td>6</td>\n",
       "      <td>494</td>\n",
       "      <td>321</td>\n",
       "      <td>312</td>\n",
       "      <td>0</td>\n",
       "      <td>15</td>\n",
       "      <td>0</td>\n",
       "      <td>4000</td>\n",
       "      <td>2019-07-27 09:31:34</td>\n",
       "    </tr>\n",
       "    <tr>\n",
       "      <th>1</th>\n",
       "      <td>622037</td>\n",
       "      <td>1</td>\n",
       "      <td>1146271</td>\n",
       "      <td>0</td>\n",
       "      <td>6</td>\n",
       "      <td>32</td>\n",
       "      <td>321</td>\n",
       "      <td>312</td>\n",
       "      <td>0</td>\n",
       "      <td>304</td>\n",
       "      <td>0</td>\n",
       "      <td>4500</td>\n",
       "      <td>2019-07-27 09:31:34</td>\n",
       "    </tr>\n",
       "    <tr>\n",
       "      <th>2</th>\n",
       "      <td>3447030</td>\n",
       "      <td>1</td>\n",
       "      <td>1069454</td>\n",
       "      <td>0</td>\n",
       "      <td>6</td>\n",
       "      <td>30</td>\n",
       "      <td>320</td>\n",
       "      <td>312</td>\n",
       "      <td>0</td>\n",
       "      <td>338</td>\n",
       "      <td>0</td>\n",
       "      <td>3000</td>\n",
       "      <td>2019-07-27 09:31:34</td>\n",
       "    </tr>\n",
       "    <tr>\n",
       "      <th>3</th>\n",
       "      <td>957658</td>\n",
       "      <td>1</td>\n",
       "      <td>661292</td>\n",
       "      <td>0</td>\n",
       "      <td>6</td>\n",
       "      <td>30</td>\n",
       "      <td>321</td>\n",
       "      <td>312</td>\n",
       "      <td>0</td>\n",
       "      <td>188</td>\n",
       "      <td>0</td>\n",
       "      <td>3500</td>\n",
       "      <td>2019-07-27 09:31:34</td>\n",
       "    </tr>\n",
       "    <tr>\n",
       "      <th>4</th>\n",
       "      <td>2496085</td>\n",
       "      <td>1</td>\n",
       "      <td>2207903</td>\n",
       "      <td>0</td>\n",
       "      <td>6</td>\n",
       "      <td>569</td>\n",
       "      <td>6</td>\n",
       "      <td>314</td>\n",
       "      <td>0</td>\n",
       "      <td>0</td>\n",
       "      <td>0</td>\n",
       "      <td>8000</td>\n",
       "      <td>2019-07-27 09:31:34</td>\n",
       "    </tr>\n",
       "  </tbody>\n",
       "</table>\n",
       "</div>"
      ],
      "text/plain": [
       "   AuctionID  ShouhinShubetsuID  ShouhinID  SaishuppinKaisuu  ConditionID  \\\n",
       "0    4066465                  1     620477               334            6   \n",
       "1     622037                  1    1146271                 0            6   \n",
       "2    3447030                  1    1069454                 0            6   \n",
       "3     957658                  1     661292                 0            6   \n",
       "4    2496085                  1    2207903                 0            6   \n",
       "\n",
       "   BrandID  GenreID  GenreGroupID  LineID  ColorID  DanjobetsuID  \\\n",
       "0      494      321           312       0       15             0   \n",
       "1       32      321           312       0      304             0   \n",
       "2       30      320           312       0      338             0   \n",
       "3       30      321           312       0      188             0   \n",
       "4      569        6           314       0        0             0   \n",
       "\n",
       "   SankouKakaku           CreateDate  \n",
       "0          4000  2019-07-27 09:31:34  \n",
       "1          4500  2019-07-27 09:31:34  \n",
       "2          3000  2019-07-27 09:31:34  \n",
       "3          3500  2019-07-27 09:31:34  \n",
       "4          8000  2019-07-27 09:31:34  "
      ]
     },
     "execution_count": 4,
     "metadata": {},
     "output_type": "execute_result"
    }
   ],
   "source": [
    "auction = pd.read_csv(INPUT_DIR + \"auction.csv\")\n",
    "print(auction.shape)\n",
    "print(auction[\"CreateDate\"].max())\n",
    "print(auction[[\"ShouhinID\"]].nunique())\n",
    "auction.head()"
   ]
  },
  {
   "cell_type": "code",
   "execution_count": 5,
   "metadata": {},
   "outputs": [
    {
     "name": "stdout",
     "output_type": "stream",
     "text": [
      "(9834, 5)\n",
      "2019-10-25 06:00:01\n"
     ]
    },
    {
     "data": {
      "text/html": [
       "<div>\n",
       "<style scoped>\n",
       "    .dataframe tbody tr th:only-of-type {\n",
       "        vertical-align: middle;\n",
       "    }\n",
       "\n",
       "    .dataframe tbody tr th {\n",
       "        vertical-align: top;\n",
       "    }\n",
       "\n",
       "    .dataframe thead th {\n",
       "        text-align: right;\n",
       "    }\n",
       "</style>\n",
       "<table border=\"1\" class=\"dataframe\">\n",
       "  <thead>\n",
       "    <tr style=\"text-align: right;\">\n",
       "      <th></th>\n",
       "      <th>BrandID</th>\n",
       "      <th>BrandName1</th>\n",
       "      <th>BrandName2</th>\n",
       "      <th>ModifyDate</th>\n",
       "      <th>CreateDate</th>\n",
       "    </tr>\n",
       "  </thead>\n",
       "  <tbody>\n",
       "    <tr>\n",
       "      <th>0</th>\n",
       "      <td>1</td>\n",
       "      <td>アンテプリマ</td>\n",
       "      <td>ANTEPRIMA</td>\n",
       "      <td>2010-09-17 11:25:29</td>\n",
       "      <td>2010-09-10 12:06:39</td>\n",
       "    </tr>\n",
       "    <tr>\n",
       "      <th>1</th>\n",
       "      <td>2</td>\n",
       "      <td>アイグナー</td>\n",
       "      <td>AIGNER</td>\n",
       "      <td>2010-09-17 11:25:29</td>\n",
       "      <td>2010-09-10 12:06:39</td>\n",
       "    </tr>\n",
       "    <tr>\n",
       "      <th>2</th>\n",
       "      <td>3</td>\n",
       "      <td>アルマーニジーンズ</td>\n",
       "      <td>ARMANIJEANS</td>\n",
       "      <td>2010-09-17 11:25:29</td>\n",
       "      <td>2010-09-10 12:06:39</td>\n",
       "    </tr>\n",
       "    <tr>\n",
       "      <th>3</th>\n",
       "      <td>4</td>\n",
       "      <td>アルマーニエクスチェンジ</td>\n",
       "      <td>ARMANIEX</td>\n",
       "      <td>2010-09-17 11:25:29</td>\n",
       "      <td>2010-09-10 12:06:39</td>\n",
       "    </tr>\n",
       "    <tr>\n",
       "      <th>4</th>\n",
       "      <td>5</td>\n",
       "      <td>アナスイ</td>\n",
       "      <td>ANNA SUI</td>\n",
       "      <td>2010-09-17 11:25:29</td>\n",
       "      <td>2010-09-10 12:06:39</td>\n",
       "    </tr>\n",
       "  </tbody>\n",
       "</table>\n",
       "</div>"
      ],
      "text/plain": [
       "   BrandID    BrandName1   BrandName2           ModifyDate  \\\n",
       "0        1        アンテプリマ    ANTEPRIMA  2010-09-17 11:25:29   \n",
       "1        2         アイグナー       AIGNER  2010-09-17 11:25:29   \n",
       "2        3     アルマーニジーンズ  ARMANIJEANS  2010-09-17 11:25:29   \n",
       "3        4  アルマーニエクスチェンジ     ARMANIEX  2010-09-17 11:25:29   \n",
       "4        5          アナスイ     ANNA SUI  2010-09-17 11:25:29   \n",
       "\n",
       "            CreateDate  \n",
       "0  2010-09-10 12:06:39  \n",
       "1  2010-09-10 12:06:39  \n",
       "2  2010-09-10 12:06:39  \n",
       "3  2010-09-10 12:06:39  \n",
       "4  2010-09-10 12:06:39  "
      ]
     },
     "execution_count": 5,
     "metadata": {},
     "output_type": "execute_result"
    }
   ],
   "source": [
    "brand = pd.read_csv(INPUT_DIR + \"brand.csv\")\n",
    "print(brand.shape)\n",
    "print(brand[\"CreateDate\"].max())\n",
    "brand.head()"
   ]
  },
  {
   "cell_type": "code",
   "execution_count": 6,
   "metadata": {},
   "outputs": [
    {
     "data": {
      "text/html": [
       "<div>\n",
       "<style scoped>\n",
       "    .dataframe tbody tr th:only-of-type {\n",
       "        vertical-align: middle;\n",
       "    }\n",
       "\n",
       "    .dataframe tbody tr th {\n",
       "        vertical-align: top;\n",
       "    }\n",
       "\n",
       "    .dataframe thead th {\n",
       "        text-align: right;\n",
       "    }\n",
       "</style>\n",
       "<table border=\"1\" class=\"dataframe\">\n",
       "  <thead>\n",
       "    <tr style=\"text-align: right;\">\n",
       "      <th></th>\n",
       "      <th>BrandID</th>\n",
       "      <th>BrandName1</th>\n",
       "      <th>BrandName2</th>\n",
       "      <th>ModifyDate</th>\n",
       "      <th>CreateDate</th>\n",
       "    </tr>\n",
       "  </thead>\n",
       "  <tbody>\n",
       "    <tr>\n",
       "      <th>9635</th>\n",
       "      <td>10897</td>\n",
       "      <td>カリンスティーブンス</td>\n",
       "      <td>karin stevens</td>\n",
       "      <td>2019-10-25 06:00:01</td>\n",
       "      <td>2019-10-25 06:00:01</td>\n",
       "    </tr>\n",
       "    <tr>\n",
       "      <th>1870</th>\n",
       "      <td>2397</td>\n",
       "      <td>ミルクボーイ</td>\n",
       "      <td>MILKBOY</td>\n",
       "      <td>2019-10-25 06:00:01</td>\n",
       "      <td>2019-10-25 06:00:01</td>\n",
       "    </tr>\n",
       "    <tr>\n",
       "      <th>9765</th>\n",
       "      <td>11123</td>\n",
       "      <td>フォームラ ホベン</td>\n",
       "      <td>formul@JOVEN</td>\n",
       "      <td>2019-10-25 06:00:01</td>\n",
       "      <td>2019-10-25 06:00:01</td>\n",
       "    </tr>\n",
       "    <tr>\n",
       "      <th>9827</th>\n",
       "      <td>11218</td>\n",
       "      <td>ラルドゥート</td>\n",
       "      <td>LA REDOUTE</td>\n",
       "      <td>2019-10-25 06:00:01</td>\n",
       "      <td>2019-10-25 06:00:01</td>\n",
       "    </tr>\n",
       "    <tr>\n",
       "      <th>9636</th>\n",
       "      <td>10899</td>\n",
       "      <td>エスレイ</td>\n",
       "      <td>Esley</td>\n",
       "      <td>2019-10-25 06:00:01</td>\n",
       "      <td>2019-10-25 06:00:01</td>\n",
       "    </tr>\n",
       "    <tr>\n",
       "      <th>9762</th>\n",
       "      <td>11117</td>\n",
       "      <td>アレクシアアドマーニューヨーク</td>\n",
       "      <td>ALEXIA ADMOR NEW YORK</td>\n",
       "      <td>2019-10-23 06:00:04</td>\n",
       "      <td>2019-10-23 06:00:04</td>\n",
       "    </tr>\n",
       "    <tr>\n",
       "      <th>9755</th>\n",
       "      <td>11105</td>\n",
       "      <td>インスパイアド</td>\n",
       "      <td>inspired</td>\n",
       "      <td>2019-10-23 06:00:04</td>\n",
       "      <td>2019-10-23 06:00:04</td>\n",
       "    </tr>\n",
       "    <tr>\n",
       "      <th>9753</th>\n",
       "      <td>11103</td>\n",
       "      <td>ニンフェ</td>\n",
       "      <td>NYMPHE</td>\n",
       "      <td>2019-10-23 06:00:04</td>\n",
       "      <td>2019-10-23 06:00:04</td>\n",
       "    </tr>\n",
       "    <tr>\n",
       "      <th>9721</th>\n",
       "      <td>11048</td>\n",
       "      <td>メイドフォーインパルスファッションウィーク</td>\n",
       "      <td>MADE for impulse FASHION WEEK</td>\n",
       "      <td>2019-10-23 06:00:04</td>\n",
       "      <td>2019-10-23 06:00:04</td>\n",
       "    </tr>\n",
       "    <tr>\n",
       "      <th>9720</th>\n",
       "      <td>11047</td>\n",
       "      <td>タルト</td>\n",
       "      <td>TART</td>\n",
       "      <td>2019-10-23 06:00:04</td>\n",
       "      <td>2019-10-23 06:00:04</td>\n",
       "    </tr>\n",
       "    <tr>\n",
       "      <th>9797</th>\n",
       "      <td>11178</td>\n",
       "      <td>パターソンジェイキンケイド</td>\n",
       "      <td>Patterson J.Kincaid</td>\n",
       "      <td>2019-10-23 06:00:04</td>\n",
       "      <td>2019-10-23 06:00:04</td>\n",
       "    </tr>\n",
       "    <tr>\n",
       "      <th>9705</th>\n",
       "      <td>11019</td>\n",
       "      <td>メゾンジュールス</td>\n",
       "      <td>maison Jules</td>\n",
       "      <td>2019-10-23 06:00:04</td>\n",
       "      <td>2019-10-23 06:00:04</td>\n",
       "    </tr>\n",
       "    <tr>\n",
       "      <th>9697</th>\n",
       "      <td>11006</td>\n",
       "      <td>ベストマウンテン</td>\n",
       "      <td>BEST MOUNTAIN</td>\n",
       "      <td>2019-10-23 06:00:04</td>\n",
       "      <td>2019-10-23 06:00:04</td>\n",
       "    </tr>\n",
       "    <tr>\n",
       "      <th>9768</th>\n",
       "      <td>11127</td>\n",
       "      <td>ルスーツ</td>\n",
       "      <td>Le Suit</td>\n",
       "      <td>2019-10-23 06:00:04</td>\n",
       "      <td>2019-10-23 06:00:04</td>\n",
       "    </tr>\n",
       "    <tr>\n",
       "      <th>9832</th>\n",
       "      <td>11227</td>\n",
       "      <td>ジェージー</td>\n",
       "      <td>J GEE</td>\n",
       "      <td>2019-10-23 06:00:04</td>\n",
       "      <td>2019-10-23 06:00:04</td>\n",
       "    </tr>\n",
       "    <tr>\n",
       "      <th>9657</th>\n",
       "      <td>10936</td>\n",
       "      <td>リュークソーロージー</td>\n",
       "      <td>Luxology</td>\n",
       "      <td>2019-10-23 06:00:03</td>\n",
       "      <td>2019-10-23 06:00:03</td>\n",
       "    </tr>\n",
       "    <tr>\n",
       "      <th>9643</th>\n",
       "      <td>10908</td>\n",
       "      <td>マリナ</td>\n",
       "      <td>MARINA</td>\n",
       "      <td>2019-10-23 06:00:03</td>\n",
       "      <td>2019-10-23 06:00:03</td>\n",
       "    </tr>\n",
       "    <tr>\n",
       "      <th>9588</th>\n",
       "      <td>10829</td>\n",
       "      <td>フランチェスカ</td>\n",
       "      <td>francesca's</td>\n",
       "      <td>2019-10-23 06:00:03</td>\n",
       "      <td>2019-10-23 06:00:03</td>\n",
       "    </tr>\n",
       "    <tr>\n",
       "      <th>9590</th>\n",
       "      <td>10831</td>\n",
       "      <td>アイリーンフィッシャー</td>\n",
       "      <td>EILEEN FISFER</td>\n",
       "      <td>2019-10-23 06:00:03</td>\n",
       "      <td>2019-10-23 06:00:03</td>\n",
       "    </tr>\n",
       "    <tr>\n",
       "      <th>9667</th>\n",
       "      <td>10960</td>\n",
       "      <td>ジョセフリブコフ</td>\n",
       "      <td>Joseph Ribkoff</td>\n",
       "      <td>2019-10-23 06:00:03</td>\n",
       "      <td>2019-10-23 06:00:03</td>\n",
       "    </tr>\n",
       "  </tbody>\n",
       "</table>\n",
       "</div>"
      ],
      "text/plain": [
       "      BrandID             BrandName1                     BrandName2  \\\n",
       "9635    10897             カリンスティーブンス                  karin stevens   \n",
       "1870     2397                 ミルクボーイ                        MILKBOY   \n",
       "9765    11123              フォームラ ホベン                   formul@JOVEN   \n",
       "9827    11218                 ラルドゥート                     LA REDOUTE   \n",
       "9636    10899                   エスレイ                          Esley   \n",
       "9762    11117        アレクシアアドマーニューヨーク          ALEXIA ADMOR NEW YORK   \n",
       "9755    11105                インスパイアド                       inspired   \n",
       "9753    11103                   ニンフェ                         NYMPHE   \n",
       "9721    11048  メイドフォーインパルスファッションウィーク  MADE for impulse FASHION WEEK   \n",
       "9720    11047                    タルト                           TART   \n",
       "9797    11178          パターソンジェイキンケイド            Patterson J.Kincaid   \n",
       "9705    11019               メゾンジュールス                   maison Jules   \n",
       "9697    11006               ベストマウンテン                  BEST MOUNTAIN   \n",
       "9768    11127                   ルスーツ                        Le Suit   \n",
       "9832    11227                  ジェージー                          J GEE   \n",
       "9657    10936             リュークソーロージー                       Luxology   \n",
       "9643    10908                    マリナ                         MARINA   \n",
       "9588    10829                フランチェスカ                    francesca's   \n",
       "9590    10831            アイリーンフィッシャー                  EILEEN FISFER   \n",
       "9667    10960               ジョセフリブコフ                 Joseph Ribkoff   \n",
       "\n",
       "               ModifyDate           CreateDate  \n",
       "9635  2019-10-25 06:00:01  2019-10-25 06:00:01  \n",
       "1870  2019-10-25 06:00:01  2019-10-25 06:00:01  \n",
       "9765  2019-10-25 06:00:01  2019-10-25 06:00:01  \n",
       "9827  2019-10-25 06:00:01  2019-10-25 06:00:01  \n",
       "9636  2019-10-25 06:00:01  2019-10-25 06:00:01  \n",
       "9762  2019-10-23 06:00:04  2019-10-23 06:00:04  \n",
       "9755  2019-10-23 06:00:04  2019-10-23 06:00:04  \n",
       "9753  2019-10-23 06:00:04  2019-10-23 06:00:04  \n",
       "9721  2019-10-23 06:00:04  2019-10-23 06:00:04  \n",
       "9720  2019-10-23 06:00:04  2019-10-23 06:00:04  \n",
       "9797  2019-10-23 06:00:04  2019-10-23 06:00:04  \n",
       "9705  2019-10-23 06:00:04  2019-10-23 06:00:04  \n",
       "9697  2019-10-23 06:00:04  2019-10-23 06:00:04  \n",
       "9768  2019-10-23 06:00:04  2019-10-23 06:00:04  \n",
       "9832  2019-10-23 06:00:04  2019-10-23 06:00:04  \n",
       "9657  2019-10-23 06:00:03  2019-10-23 06:00:03  \n",
       "9643  2019-10-23 06:00:03  2019-10-23 06:00:03  \n",
       "9588  2019-10-23 06:00:03  2019-10-23 06:00:03  \n",
       "9590  2019-10-23 06:00:03  2019-10-23 06:00:03  \n",
       "9667  2019-10-23 06:00:03  2019-10-23 06:00:03  "
      ]
     },
     "execution_count": 6,
     "metadata": {},
     "output_type": "execute_result"
    }
   ],
   "source": [
    "brand.sort_values(\"ModifyDate\", ascending=False).head(20)"
   ]
  },
  {
   "cell_type": "code",
   "execution_count": 7,
   "metadata": {},
   "outputs": [
    {
     "name": "stdout",
     "output_type": "stream",
     "text": [
      "2010-09-15 14:55:36\n",
      "       CategoryID\n",
      "count   12.000000\n",
      "mean     6.500000\n",
      "std      3.605551\n",
      "min      1.000000\n",
      "25%      3.750000\n",
      "50%      6.500000\n",
      "75%      9.250000\n",
      "max     12.000000\n"
     ]
    },
    {
     "data": {
      "text/html": [
       "<div>\n",
       "<style scoped>\n",
       "    .dataframe tbody tr th:only-of-type {\n",
       "        vertical-align: middle;\n",
       "    }\n",
       "\n",
       "    .dataframe tbody tr th {\n",
       "        vertical-align: top;\n",
       "    }\n",
       "\n",
       "    .dataframe thead th {\n",
       "        text-align: right;\n",
       "    }\n",
       "</style>\n",
       "<table border=\"1\" class=\"dataframe\">\n",
       "  <thead>\n",
       "    <tr style=\"text-align: right;\">\n",
       "      <th></th>\n",
       "      <th>CategoryID</th>\n",
       "      <th>CategoryName</th>\n",
       "      <th>ModifyDate</th>\n",
       "      <th>CreateDate</th>\n",
       "    </tr>\n",
       "  </thead>\n",
       "  <tbody>\n",
       "    <tr>\n",
       "      <th>0</th>\n",
       "      <td>1</td>\n",
       "      <td>バッグ</td>\n",
       "      <td>2010-09-15 14:55:36</td>\n",
       "      <td>2010-09-15 14:55:36</td>\n",
       "    </tr>\n",
       "    <tr>\n",
       "      <th>1</th>\n",
       "      <td>2</td>\n",
       "      <td>財布</td>\n",
       "      <td>2010-09-15 14:55:36</td>\n",
       "      <td>2010-09-15 14:55:36</td>\n",
       "    </tr>\n",
       "    <tr>\n",
       "      <th>2</th>\n",
       "      <td>3</td>\n",
       "      <td>服飾雑貨</td>\n",
       "      <td>2010-09-15 14:55:36</td>\n",
       "      <td>2010-09-15 14:55:36</td>\n",
       "    </tr>\n",
       "    <tr>\n",
       "      <th>3</th>\n",
       "      <td>4</td>\n",
       "      <td>アクセサリー</td>\n",
       "      <td>2010-09-15 14:55:36</td>\n",
       "      <td>2010-09-15 14:55:36</td>\n",
       "    </tr>\n",
       "    <tr>\n",
       "      <th>4</th>\n",
       "      <td>5</td>\n",
       "      <td>トップス</td>\n",
       "      <td>2010-09-15 14:55:36</td>\n",
       "      <td>2010-09-15 14:55:36</td>\n",
       "    </tr>\n",
       "    <tr>\n",
       "      <th>5</th>\n",
       "      <td>6</td>\n",
       "      <td>ワンピース</td>\n",
       "      <td>2010-09-15 14:55:36</td>\n",
       "      <td>2010-09-15 14:55:36</td>\n",
       "    </tr>\n",
       "    <tr>\n",
       "      <th>6</th>\n",
       "      <td>7</td>\n",
       "      <td>ボトムス</td>\n",
       "      <td>2010-09-15 14:55:36</td>\n",
       "      <td>2010-09-15 14:55:36</td>\n",
       "    </tr>\n",
       "    <tr>\n",
       "      <th>7</th>\n",
       "      <td>8</td>\n",
       "      <td>アウター</td>\n",
       "      <td>2010-09-15 14:55:36</td>\n",
       "      <td>2010-09-15 14:55:36</td>\n",
       "    </tr>\n",
       "    <tr>\n",
       "      <th>8</th>\n",
       "      <td>9</td>\n",
       "      <td>スーツ</td>\n",
       "      <td>2010-09-15 14:55:36</td>\n",
       "      <td>2010-09-15 14:55:36</td>\n",
       "    </tr>\n",
       "    <tr>\n",
       "      <th>9</th>\n",
       "      <td>10</td>\n",
       "      <td>靴</td>\n",
       "      <td>2010-09-15 14:55:36</td>\n",
       "      <td>2010-09-15 14:55:36</td>\n",
       "    </tr>\n",
       "    <tr>\n",
       "      <th>10</th>\n",
       "      <td>11</td>\n",
       "      <td>腕時計</td>\n",
       "      <td>2010-09-15 14:55:36</td>\n",
       "      <td>2010-09-15 14:55:36</td>\n",
       "    </tr>\n",
       "    <tr>\n",
       "      <th>11</th>\n",
       "      <td>12</td>\n",
       "      <td>食器</td>\n",
       "      <td>2010-09-15 14:55:36</td>\n",
       "      <td>2010-09-15 14:55:36</td>\n",
       "    </tr>\n",
       "  </tbody>\n",
       "</table>\n",
       "</div>"
      ],
      "text/plain": [
       "    CategoryID CategoryName           ModifyDate           CreateDate\n",
       "0            1          バッグ  2010-09-15 14:55:36  2010-09-15 14:55:36\n",
       "1            2           財布  2010-09-15 14:55:36  2010-09-15 14:55:36\n",
       "2            3         服飾雑貨  2010-09-15 14:55:36  2010-09-15 14:55:36\n",
       "3            4       アクセサリー  2010-09-15 14:55:36  2010-09-15 14:55:36\n",
       "4            5         トップス  2010-09-15 14:55:36  2010-09-15 14:55:36\n",
       "5            6        ワンピース  2010-09-15 14:55:36  2010-09-15 14:55:36\n",
       "6            7         ボトムス  2010-09-15 14:55:36  2010-09-15 14:55:36\n",
       "7            8         アウター  2010-09-15 14:55:36  2010-09-15 14:55:36\n",
       "8            9          スーツ  2010-09-15 14:55:36  2010-09-15 14:55:36\n",
       "9           10            靴  2010-09-15 14:55:36  2010-09-15 14:55:36\n",
       "10          11          腕時計  2010-09-15 14:55:36  2010-09-15 14:55:36\n",
       "11          12           食器  2010-09-15 14:55:36  2010-09-15 14:55:36"
      ]
     },
     "execution_count": 7,
     "metadata": {},
     "output_type": "execute_result"
    }
   ],
   "source": [
    "category = pd.read_csv(INPUT_DIR + \"category.csv\")\n",
    "print(category[\"CreateDate\"].max())\n",
    "print(category.describe())\n",
    "category"
   ]
  },
  {
   "cell_type": "code",
   "execution_count": 8,
   "metadata": {},
   "outputs": [
    {
     "name": "stdout",
     "output_type": "stream",
     "text": [
      "2010-04-02 13:25:07\n"
     ]
    },
    {
     "data": {
      "text/html": [
       "<div>\n",
       "<style scoped>\n",
       "    .dataframe tbody tr th:only-of-type {\n",
       "        vertical-align: middle;\n",
       "    }\n",
       "\n",
       "    .dataframe tbody tr th {\n",
       "        vertical-align: top;\n",
       "    }\n",
       "\n",
       "    .dataframe thead th {\n",
       "        text-align: right;\n",
       "    }\n",
       "</style>\n",
       "<table border=\"1\" class=\"dataframe\">\n",
       "  <thead>\n",
       "    <tr style=\"text-align: right;\">\n",
       "      <th></th>\n",
       "      <th>ColorID</th>\n",
       "      <th>ColorName</th>\n",
       "      <th>ItemColorID</th>\n",
       "      <th>ModifyDate</th>\n",
       "      <th>CreateDate</th>\n",
       "    </tr>\n",
       "  </thead>\n",
       "  <tbody>\n",
       "    <tr>\n",
       "      <th>0</th>\n",
       "      <td>1</td>\n",
       "      <td>オフホワイト</td>\n",
       "      <td>1</td>\n",
       "      <td>2010-04-02 13:25:06</td>\n",
       "      <td>2010-04-02 13:25:06</td>\n",
       "    </tr>\n",
       "    <tr>\n",
       "      <th>1</th>\n",
       "      <td>2</td>\n",
       "      <td>オフホワイト基調</td>\n",
       "      <td>1</td>\n",
       "      <td>2010-04-02 13:25:06</td>\n",
       "      <td>2010-04-02 13:25:06</td>\n",
       "    </tr>\n",
       "    <tr>\n",
       "      <th>2</th>\n",
       "      <td>3</td>\n",
       "      <td>アズール</td>\n",
       "      <td>1</td>\n",
       "      <td>2010-04-02 13:25:06</td>\n",
       "      <td>2010-04-02 13:25:06</td>\n",
       "    </tr>\n",
       "    <tr>\n",
       "      <th>3</th>\n",
       "      <td>4</td>\n",
       "      <td>パール</td>\n",
       "      <td>1</td>\n",
       "      <td>2010-04-02 13:25:06</td>\n",
       "      <td>2010-04-02 13:25:06</td>\n",
       "    </tr>\n",
       "    <tr>\n",
       "      <th>4</th>\n",
       "      <td>5</td>\n",
       "      <td>パールホワイト</td>\n",
       "      <td>1</td>\n",
       "      <td>2010-04-02 13:25:06</td>\n",
       "      <td>2010-04-02 13:25:06</td>\n",
       "    </tr>\n",
       "  </tbody>\n",
       "</table>\n",
       "</div>"
      ],
      "text/plain": [
       "   ColorID ColorName  ItemColorID           ModifyDate           CreateDate\n",
       "0        1    オフホワイト            1  2010-04-02 13:25:06  2010-04-02 13:25:06\n",
       "1        2  オフホワイト基調            1  2010-04-02 13:25:06  2010-04-02 13:25:06\n",
       "2        3      アズール            1  2010-04-02 13:25:06  2010-04-02 13:25:06\n",
       "3        4       パール            1  2010-04-02 13:25:06  2010-04-02 13:25:06\n",
       "4        5   パールホワイト            1  2010-04-02 13:25:06  2010-04-02 13:25:06"
      ]
     },
     "execution_count": 8,
     "metadata": {},
     "output_type": "execute_result"
    }
   ],
   "source": [
    "color = pd.read_csv(INPUT_DIR + \"color.csv\")\n",
    "print(color[\"CreateDate\"].max())\n",
    "color.head()"
   ]
  },
  {
   "cell_type": "code",
   "execution_count": 9,
   "metadata": {},
   "outputs": [
    {
     "name": "stdout",
     "output_type": "stream",
     "text": [
      "2010-04-02 13:25:07\n"
     ]
    },
    {
     "data": {
      "text/html": [
       "<div>\n",
       "<style scoped>\n",
       "    .dataframe tbody tr th:only-of-type {\n",
       "        vertical-align: middle;\n",
       "    }\n",
       "\n",
       "    .dataframe tbody tr th {\n",
       "        vertical-align: top;\n",
       "    }\n",
       "\n",
       "    .dataframe thead th {\n",
       "        text-align: right;\n",
       "    }\n",
       "</style>\n",
       "<table border=\"1\" class=\"dataframe\">\n",
       "  <thead>\n",
       "    <tr style=\"text-align: right;\">\n",
       "      <th></th>\n",
       "      <th>DanjobetsuID</th>\n",
       "      <th>DanjobetsuName</th>\n",
       "      <th>ModifyDate</th>\n",
       "      <th>CreateDate</th>\n",
       "    </tr>\n",
       "  </thead>\n",
       "  <tbody>\n",
       "    <tr>\n",
       "      <th>0</th>\n",
       "      <td>1</td>\n",
       "      <td>メンズ</td>\n",
       "      <td>2010-04-02 13:25:07</td>\n",
       "      <td>2010-04-02 13:25:07</td>\n",
       "    </tr>\n",
       "    <tr>\n",
       "      <th>1</th>\n",
       "      <td>2</td>\n",
       "      <td>レディース</td>\n",
       "      <td>2010-04-02 13:25:07</td>\n",
       "      <td>2010-04-02 13:25:07</td>\n",
       "    </tr>\n",
       "    <tr>\n",
       "      <th>2</th>\n",
       "      <td>3</td>\n",
       "      <td>ユニセックス</td>\n",
       "      <td>2010-04-02 13:25:07</td>\n",
       "      <td>2010-04-02 13:25:07</td>\n",
       "    </tr>\n",
       "  </tbody>\n",
       "</table>\n",
       "</div>"
      ],
      "text/plain": [
       "   DanjobetsuID DanjobetsuName           ModifyDate           CreateDate\n",
       "0             1            メンズ  2010-04-02 13:25:07  2010-04-02 13:25:07\n",
       "1             2          レディース  2010-04-02 13:25:07  2010-04-02 13:25:07\n",
       "2             3         ユニセックス  2010-04-02 13:25:07  2010-04-02 13:25:07"
      ]
     },
     "execution_count": 9,
     "metadata": {},
     "output_type": "execute_result"
    }
   ],
   "source": [
    "danjobetsu = pd.read_csv(INPUT_DIR + \"danjobetsu.csv\")\n",
    "print(danjobetsu[\"CreateDate\"].max())\n",
    "danjobetsu"
   ]
  },
  {
   "cell_type": "code",
   "execution_count": 10,
   "metadata": {},
   "outputs": [
    {
     "name": "stdout",
     "output_type": "stream",
     "text": [
      "2010-09-07 00:00:00\n",
      "          GenreID  GenreGroupID  ItemShouID  CategoryID\n",
      "count  101.000000    101.000000  101.000000  101.000000\n",
      "mean   205.584158    142.564356   33.039604    4.772277\n",
      "std    140.499343    136.890644   18.905513    3.016227\n",
      "min      1.000000      1.000000    1.000000    0.000000\n",
      "25%     38.000000     21.000000   14.000000    2.000000\n",
      "50%    205.000000     35.000000   35.000000    4.000000\n",
      "75%    340.000000    312.000000   51.000000    8.000000\n",
      "max    365.000000    314.000000   65.000000   12.000000\n"
     ]
    },
    {
     "data": {
      "text/html": [
       "<div>\n",
       "<style scoped>\n",
       "    .dataframe tbody tr th:only-of-type {\n",
       "        vertical-align: middle;\n",
       "    }\n",
       "\n",
       "    .dataframe tbody tr th {\n",
       "        vertical-align: top;\n",
       "    }\n",
       "\n",
       "    .dataframe thead th {\n",
       "        text-align: right;\n",
       "    }\n",
       "</style>\n",
       "<table border=\"1\" class=\"dataframe\">\n",
       "  <thead>\n",
       "    <tr style=\"text-align: right;\">\n",
       "      <th></th>\n",
       "      <th>GenreID</th>\n",
       "      <th>GenreName</th>\n",
       "      <th>GenreGroupID</th>\n",
       "      <th>ItemShouID</th>\n",
       "      <th>CategoryID</th>\n",
       "      <th>ModifyDate</th>\n",
       "      <th>CreateDate</th>\n",
       "    </tr>\n",
       "  </thead>\n",
       "  <tbody>\n",
       "    <tr>\n",
       "      <th>0</th>\n",
       "      <td>1</td>\n",
       "      <td>その他アクセサリー</td>\n",
       "      <td>1</td>\n",
       "      <td>36</td>\n",
       "      <td>4</td>\n",
       "      <td>2010-09-15 15:29:28</td>\n",
       "      <td>2010-04-02 13:25:06</td>\n",
       "    </tr>\n",
       "    <tr>\n",
       "      <th>1</th>\n",
       "      <td>2</td>\n",
       "      <td>アンサンブル</td>\n",
       "      <td>21</td>\n",
       "      <td>43</td>\n",
       "      <td>5</td>\n",
       "      <td>2010-09-15 15:29:28</td>\n",
       "      <td>2010-04-02 13:25:06</td>\n",
       "    </tr>\n",
       "    <tr>\n",
       "      <th>2</th>\n",
       "      <td>3</td>\n",
       "      <td>イヤリング</td>\n",
       "      <td>296</td>\n",
       "      <td>32</td>\n",
       "      <td>4</td>\n",
       "      <td>2010-09-15 15:29:28</td>\n",
       "      <td>2010-04-02 13:25:06</td>\n",
       "    </tr>\n",
       "    <tr>\n",
       "      <th>3</th>\n",
       "      <td>6</td>\n",
       "      <td>キーケース</td>\n",
       "      <td>314</td>\n",
       "      <td>12</td>\n",
       "      <td>2</td>\n",
       "      <td>2010-09-15 15:29:28</td>\n",
       "      <td>2010-04-02 13:25:06</td>\n",
       "    </tr>\n",
       "    <tr>\n",
       "      <th>4</th>\n",
       "      <td>7</td>\n",
       "      <td>キーホルダー</td>\n",
       "      <td>7</td>\n",
       "      <td>12</td>\n",
       "      <td>2</td>\n",
       "      <td>2010-09-15 15:29:28</td>\n",
       "      <td>2010-04-02 13:25:06</td>\n",
       "    </tr>\n",
       "  </tbody>\n",
       "</table>\n",
       "</div>"
      ],
      "text/plain": [
       "   GenreID  GenreName  GenreGroupID  ItemShouID  CategoryID  \\\n",
       "0        1  その他アクセサリー             1          36           4   \n",
       "1        2     アンサンブル            21          43           5   \n",
       "2        3      イヤリング           296          32           4   \n",
       "3        6      キーケース           314          12           2   \n",
       "4        7     キーホルダー             7          12           2   \n",
       "\n",
       "            ModifyDate           CreateDate  \n",
       "0  2010-09-15 15:29:28  2010-04-02 13:25:06  \n",
       "1  2010-09-15 15:29:28  2010-04-02 13:25:06  \n",
       "2  2010-09-15 15:29:28  2010-04-02 13:25:06  \n",
       "3  2010-09-15 15:29:28  2010-04-02 13:25:06  \n",
       "4  2010-09-15 15:29:28  2010-04-02 13:25:06  "
      ]
     },
     "execution_count": 10,
     "metadata": {},
     "output_type": "execute_result"
    }
   ],
   "source": [
    "genre = pd.read_csv(INPUT_DIR + \"genre.csv\")\n",
    "print(genre[\"CreateDate\"].max())\n",
    "print(genre.describe())\n",
    "genre.head()"
   ]
  },
  {
   "cell_type": "code",
   "execution_count": 11,
   "metadata": {},
   "outputs": [
    {
     "name": "stdout",
     "output_type": "stream",
     "text": [
      "2010-04-02 13:25:06\n",
      "       GenreGroupID  ShouhinShubetsuID\n",
      "count     34.000000          34.000000\n",
      "mean      99.823529           1.176471\n",
      "std      110.407090           1.028992\n",
      "min        1.000000           1.000000\n",
      "25%       22.500000           1.000000\n",
      "50%       34.500000           1.000000\n",
      "75%      179.750000           1.000000\n",
      "max      314.000000           7.000000\n"
     ]
    },
    {
     "data": {
      "text/html": [
       "<div>\n",
       "<style scoped>\n",
       "    .dataframe tbody tr th:only-of-type {\n",
       "        vertical-align: middle;\n",
       "    }\n",
       "\n",
       "    .dataframe tbody tr th {\n",
       "        vertical-align: top;\n",
       "    }\n",
       "\n",
       "    .dataframe thead th {\n",
       "        text-align: right;\n",
       "    }\n",
       "</style>\n",
       "<table border=\"1\" class=\"dataframe\">\n",
       "  <thead>\n",
       "    <tr style=\"text-align: right;\">\n",
       "      <th></th>\n",
       "      <th>GenreGroupID</th>\n",
       "      <th>GenreGroupName</th>\n",
       "      <th>ShouhinShubetsuID</th>\n",
       "      <th>ModifyDate</th>\n",
       "      <th>CreateDate</th>\n",
       "    </tr>\n",
       "  </thead>\n",
       "  <tbody>\n",
       "    <tr>\n",
       "      <th>0</th>\n",
       "      <td>1</td>\n",
       "      <td>アクセサリー（他）</td>\n",
       "      <td>1</td>\n",
       "      <td>2010-04-02 13:25:06</td>\n",
       "      <td>2010-04-02 13:25:06</td>\n",
       "    </tr>\n",
       "    <tr>\n",
       "      <th>1</th>\n",
       "      <td>7</td>\n",
       "      <td>キーホルダー</td>\n",
       "      <td>1</td>\n",
       "      <td>2010-04-02 13:25:06</td>\n",
       "      <td>2010-04-02 13:25:06</td>\n",
       "    </tr>\n",
       "    <tr>\n",
       "      <th>2</th>\n",
       "      <td>9</td>\n",
       "      <td>コート</td>\n",
       "      <td>1</td>\n",
       "      <td>2010-04-02 13:25:06</td>\n",
       "      <td>2010-04-02 13:25:06</td>\n",
       "    </tr>\n",
       "    <tr>\n",
       "      <th>3</th>\n",
       "      <td>10</td>\n",
       "      <td>サングラス</td>\n",
       "      <td>1</td>\n",
       "      <td>2010-04-02 13:25:06</td>\n",
       "      <td>2010-04-02 13:25:06</td>\n",
       "    </tr>\n",
       "    <tr>\n",
       "      <th>4</th>\n",
       "      <td>13</td>\n",
       "      <td>ジャケット</td>\n",
       "      <td>1</td>\n",
       "      <td>2010-04-02 13:25:06</td>\n",
       "      <td>2010-04-02 13:25:06</td>\n",
       "    </tr>\n",
       "  </tbody>\n",
       "</table>\n",
       "</div>"
      ],
      "text/plain": [
       "   GenreGroupID GenreGroupName  ShouhinShubetsuID           ModifyDate  \\\n",
       "0             1      アクセサリー（他）                  1  2010-04-02 13:25:06   \n",
       "1             7         キーホルダー                  1  2010-04-02 13:25:06   \n",
       "2             9            コート                  1  2010-04-02 13:25:06   \n",
       "3            10          サングラス                  1  2010-04-02 13:25:06   \n",
       "4            13          ジャケット                  1  2010-04-02 13:25:06   \n",
       "\n",
       "            CreateDate  \n",
       "0  2010-04-02 13:25:06  \n",
       "1  2010-04-02 13:25:06  \n",
       "2  2010-04-02 13:25:06  \n",
       "3  2010-04-02 13:25:06  \n",
       "4  2010-04-02 13:25:06  "
      ]
     },
     "execution_count": 11,
     "metadata": {},
     "output_type": "execute_result"
    }
   ],
   "source": [
    "genregroup = pd.read_csv(INPUT_DIR + \"genregroup.csv\")\n",
    "print(genregroup[\"CreateDate\"].max())\n",
    "print(genregroup.describe())\n",
    "genregroup.head()"
   ]
  },
  {
   "cell_type": "code",
   "execution_count": 12,
   "metadata": {},
   "outputs": [
    {
     "name": "stdout",
     "output_type": "stream",
     "text": [
      "2010-09-07 00:00:00\n"
     ]
    },
    {
     "data": {
      "text/html": [
       "<div>\n",
       "<style scoped>\n",
       "    .dataframe tbody tr th:only-of-type {\n",
       "        vertical-align: middle;\n",
       "    }\n",
       "\n",
       "    .dataframe tbody tr th {\n",
       "        vertical-align: top;\n",
       "    }\n",
       "\n",
       "    .dataframe thead th {\n",
       "        text-align: right;\n",
       "    }\n",
       "</style>\n",
       "<table border=\"1\" class=\"dataframe\">\n",
       "  <thead>\n",
       "    <tr style=\"text-align: right;\">\n",
       "      <th></th>\n",
       "      <th>ItemShouID</th>\n",
       "      <th>ItemShouName</th>\n",
       "      <th>ItemDaiID</th>\n",
       "      <th>ModifyDate</th>\n",
       "      <th>CreateDate</th>\n",
       "    </tr>\n",
       "  </thead>\n",
       "  <tbody>\n",
       "    <tr>\n",
       "      <th>0</th>\n",
       "      <td>1</td>\n",
       "      <td>ハンドバッグ</td>\n",
       "      <td>1</td>\n",
       "      <td>2010-04-02 13:25:06</td>\n",
       "      <td>2010-04-02 13:25:06</td>\n",
       "    </tr>\n",
       "    <tr>\n",
       "      <th>1</th>\n",
       "      <td>2</td>\n",
       "      <td>ショルダーバッグ</td>\n",
       "      <td>1</td>\n",
       "      <td>2010-04-02 13:25:06</td>\n",
       "      <td>2010-04-02 13:25:06</td>\n",
       "    </tr>\n",
       "    <tr>\n",
       "      <th>2</th>\n",
       "      <td>3</td>\n",
       "      <td>トートバッグ</td>\n",
       "      <td>1</td>\n",
       "      <td>2010-04-02 13:25:06</td>\n",
       "      <td>2010-04-02 13:25:06</td>\n",
       "    </tr>\n",
       "    <tr>\n",
       "      <th>3</th>\n",
       "      <td>4</td>\n",
       "      <td>セカンド・クラッチバッグ</td>\n",
       "      <td>1</td>\n",
       "      <td>2010-04-02 13:25:06</td>\n",
       "      <td>2010-04-02 13:25:06</td>\n",
       "    </tr>\n",
       "    <tr>\n",
       "      <th>4</th>\n",
       "      <td>5</td>\n",
       "      <td>リュックサック</td>\n",
       "      <td>1</td>\n",
       "      <td>2010-04-02 13:25:06</td>\n",
       "      <td>2010-04-02 13:25:06</td>\n",
       "    </tr>\n",
       "  </tbody>\n",
       "</table>\n",
       "</div>"
      ],
      "text/plain": [
       "   ItemShouID  ItemShouName  ItemDaiID           ModifyDate  \\\n",
       "0           1        ハンドバッグ          1  2010-04-02 13:25:06   \n",
       "1           2      ショルダーバッグ          1  2010-04-02 13:25:06   \n",
       "2           3        トートバッグ          1  2010-04-02 13:25:06   \n",
       "3           4  セカンド・クラッチバッグ          1  2010-04-02 13:25:06   \n",
       "4           5       リュックサック          1  2010-04-02 13:25:06   \n",
       "\n",
       "            CreateDate  \n",
       "0  2010-04-02 13:25:06  \n",
       "1  2010-04-02 13:25:06  \n",
       "2  2010-04-02 13:25:06  \n",
       "3  2010-04-02 13:25:06  \n",
       "4  2010-04-02 13:25:06  "
      ]
     },
     "execution_count": 12,
     "metadata": {},
     "output_type": "execute_result"
    }
   ],
   "source": [
    "itemshou = pd.read_csv(INPUT_DIR + \"itemshou.csv\")\n",
    "print(itemshou[\"CreateDate\"].max())\n",
    "itemshou.head()"
   ]
  },
  {
   "cell_type": "code",
   "execution_count": 13,
   "metadata": {},
   "outputs": [
    {
     "data": {
      "text/html": [
       "<div>\n",
       "<style scoped>\n",
       "    .dataframe tbody tr th:only-of-type {\n",
       "        vertical-align: middle;\n",
       "    }\n",
       "\n",
       "    .dataframe tbody tr th {\n",
       "        vertical-align: top;\n",
       "    }\n",
       "\n",
       "    .dataframe thead th {\n",
       "        text-align: right;\n",
       "    }\n",
       "</style>\n",
       "<table border=\"1\" class=\"dataframe\">\n",
       "  <thead>\n",
       "    <tr style=\"text-align: right;\">\n",
       "      <th></th>\n",
       "      <th>ItemShouID</th>\n",
       "      <th>ItemDaiID</th>\n",
       "    </tr>\n",
       "  </thead>\n",
       "  <tbody>\n",
       "    <tr>\n",
       "      <th>count</th>\n",
       "      <td>65.00000</td>\n",
       "      <td>65.000000</td>\n",
       "    </tr>\n",
       "    <tr>\n",
       "      <th>mean</th>\n",
       "      <td>33.00000</td>\n",
       "      <td>3.523077</td>\n",
       "    </tr>\n",
       "    <tr>\n",
       "      <th>std</th>\n",
       "      <td>18.90767</td>\n",
       "      <td>2.165841</td>\n",
       "    </tr>\n",
       "    <tr>\n",
       "      <th>min</th>\n",
       "      <td>1.00000</td>\n",
       "      <td>1.000000</td>\n",
       "    </tr>\n",
       "    <tr>\n",
       "      <th>25%</th>\n",
       "      <td>17.00000</td>\n",
       "      <td>2.000000</td>\n",
       "    </tr>\n",
       "    <tr>\n",
       "      <th>50%</th>\n",
       "      <td>33.00000</td>\n",
       "      <td>3.000000</td>\n",
       "    </tr>\n",
       "    <tr>\n",
       "      <th>75%</th>\n",
       "      <td>49.00000</td>\n",
       "      <td>4.000000</td>\n",
       "    </tr>\n",
       "    <tr>\n",
       "      <th>max</th>\n",
       "      <td>65.00000</td>\n",
       "      <td>9.000000</td>\n",
       "    </tr>\n",
       "  </tbody>\n",
       "</table>\n",
       "</div>"
      ],
      "text/plain": [
       "       ItemShouID  ItemDaiID\n",
       "count    65.00000  65.000000\n",
       "mean     33.00000   3.523077\n",
       "std      18.90767   2.165841\n",
       "min       1.00000   1.000000\n",
       "25%      17.00000   2.000000\n",
       "50%      33.00000   3.000000\n",
       "75%      49.00000   4.000000\n",
       "max      65.00000   9.000000"
      ]
     },
     "execution_count": 13,
     "metadata": {},
     "output_type": "execute_result"
    }
   ],
   "source": [
    "itemshou.describe()"
   ]
  },
  {
   "cell_type": "code",
   "execution_count": 14,
   "metadata": {},
   "outputs": [
    {
     "name": "stdout",
     "output_type": "stream",
     "text": [
      "2019-08-06 11:17:07\n"
     ]
    },
    {
     "data": {
      "text/html": [
       "<div>\n",
       "<style scoped>\n",
       "    .dataframe tbody tr th:only-of-type {\n",
       "        vertical-align: middle;\n",
       "    }\n",
       "\n",
       "    .dataframe tbody tr th {\n",
       "        vertical-align: top;\n",
       "    }\n",
       "\n",
       "    .dataframe thead th {\n",
       "        text-align: right;\n",
       "    }\n",
       "</style>\n",
       "<table border=\"1\" class=\"dataframe\">\n",
       "  <thead>\n",
       "    <tr style=\"text-align: right;\">\n",
       "      <th></th>\n",
       "      <th>LineID</th>\n",
       "      <th>LineName</th>\n",
       "      <th>BrandID</th>\n",
       "      <th>ItemLineID</th>\n",
       "      <th>ModifyDate</th>\n",
       "      <th>CreateDate</th>\n",
       "    </tr>\n",
       "  </thead>\n",
       "  <tbody>\n",
       "    <tr>\n",
       "      <th>0</th>\n",
       "      <td>1</td>\n",
       "      <td>エピ</td>\n",
       "      <td>114</td>\n",
       "      <td>7</td>\n",
       "      <td>2010-04-02 13:25:06</td>\n",
       "      <td>2010-04-02 13:25:06</td>\n",
       "    </tr>\n",
       "    <tr>\n",
       "      <th>1</th>\n",
       "      <td>2</td>\n",
       "      <td>タイガ</td>\n",
       "      <td>114</td>\n",
       "      <td>6</td>\n",
       "      <td>2010-04-02 13:25:06</td>\n",
       "      <td>2010-04-02 13:25:06</td>\n",
       "    </tr>\n",
       "    <tr>\n",
       "      <th>2</th>\n",
       "      <td>3</td>\n",
       "      <td>ダミエ</td>\n",
       "      <td>114</td>\n",
       "      <td>5</td>\n",
       "      <td>2010-04-02 13:25:06</td>\n",
       "      <td>2010-04-02 13:25:06</td>\n",
       "    </tr>\n",
       "    <tr>\n",
       "      <th>3</th>\n",
       "      <td>4</td>\n",
       "      <td>モノグラムマルチカラー</td>\n",
       "      <td>114</td>\n",
       "      <td>3</td>\n",
       "      <td>2010-04-02 13:25:06</td>\n",
       "      <td>2010-04-02 13:25:06</td>\n",
       "    </tr>\n",
       "    <tr>\n",
       "      <th>4</th>\n",
       "      <td>5</td>\n",
       "      <td>モノグラム</td>\n",
       "      <td>114</td>\n",
       "      <td>1</td>\n",
       "      <td>2010-04-02 13:25:06</td>\n",
       "      <td>2010-04-02 13:25:06</td>\n",
       "    </tr>\n",
       "  </tbody>\n",
       "</table>\n",
       "</div>"
      ],
      "text/plain": [
       "   LineID     LineName  BrandID  ItemLineID           ModifyDate  \\\n",
       "0       1           エピ      114           7  2010-04-02 13:25:06   \n",
       "1       2          タイガ      114           6  2010-04-02 13:25:06   \n",
       "2       3          ダミエ      114           5  2010-04-02 13:25:06   \n",
       "3       4  モノグラムマルチカラー      114           3  2010-04-02 13:25:06   \n",
       "4       5        モノグラム      114           1  2010-04-02 13:25:06   \n",
       "\n",
       "            CreateDate  \n",
       "0  2010-04-02 13:25:06  \n",
       "1  2010-04-02 13:25:06  \n",
       "2  2010-04-02 13:25:06  \n",
       "3  2010-04-02 13:25:06  \n",
       "4  2010-04-02 13:25:06  "
      ]
     },
     "execution_count": 14,
     "metadata": {},
     "output_type": "execute_result"
    }
   ],
   "source": [
    "line = pd.read_csv(INPUT_DIR + \"line.csv\")\n",
    "print(line[\"CreateDate\"].max())\n",
    "line.head()"
   ]
  },
  {
   "cell_type": "code",
   "execution_count": 15,
   "metadata": {},
   "outputs": [
    {
     "data": {
      "text/html": [
       "<div>\n",
       "<style scoped>\n",
       "    .dataframe tbody tr th:only-of-type {\n",
       "        vertical-align: middle;\n",
       "    }\n",
       "\n",
       "    .dataframe tbody tr th {\n",
       "        vertical-align: top;\n",
       "    }\n",
       "\n",
       "    .dataframe thead th {\n",
       "        text-align: right;\n",
       "    }\n",
       "</style>\n",
       "<table border=\"1\" class=\"dataframe\">\n",
       "  <thead>\n",
       "    <tr style=\"text-align: right;\">\n",
       "      <th></th>\n",
       "      <th>LineID</th>\n",
       "      <th>BrandID</th>\n",
       "      <th>ItemLineID</th>\n",
       "    </tr>\n",
       "  </thead>\n",
       "  <tbody>\n",
       "    <tr>\n",
       "      <th>count</th>\n",
       "      <td>267.000000</td>\n",
       "      <td>267.0</td>\n",
       "      <td>267.000000</td>\n",
       "    </tr>\n",
       "    <tr>\n",
       "      <th>mean</th>\n",
       "      <td>134.000000</td>\n",
       "      <td>114.0</td>\n",
       "      <td>6.636704</td>\n",
       "    </tr>\n",
       "    <tr>\n",
       "      <th>std</th>\n",
       "      <td>77.220464</td>\n",
       "      <td>0.0</td>\n",
       "      <td>2.739135</td>\n",
       "    </tr>\n",
       "    <tr>\n",
       "      <th>min</th>\n",
       "      <td>1.000000</td>\n",
       "      <td>114.0</td>\n",
       "      <td>1.000000</td>\n",
       "    </tr>\n",
       "    <tr>\n",
       "      <th>25%</th>\n",
       "      <td>67.500000</td>\n",
       "      <td>114.0</td>\n",
       "      <td>8.000000</td>\n",
       "    </tr>\n",
       "    <tr>\n",
       "      <th>50%</th>\n",
       "      <td>134.000000</td>\n",
       "      <td>114.0</td>\n",
       "      <td>8.000000</td>\n",
       "    </tr>\n",
       "    <tr>\n",
       "      <th>75%</th>\n",
       "      <td>200.500000</td>\n",
       "      <td>114.0</td>\n",
       "      <td>8.000000</td>\n",
       "    </tr>\n",
       "    <tr>\n",
       "      <th>max</th>\n",
       "      <td>267.000000</td>\n",
       "      <td>114.0</td>\n",
       "      <td>8.000000</td>\n",
       "    </tr>\n",
       "  </tbody>\n",
       "</table>\n",
       "</div>"
      ],
      "text/plain": [
       "           LineID  BrandID  ItemLineID\n",
       "count  267.000000    267.0  267.000000\n",
       "mean   134.000000    114.0    6.636704\n",
       "std     77.220464      0.0    2.739135\n",
       "min      1.000000    114.0    1.000000\n",
       "25%     67.500000    114.0    8.000000\n",
       "50%    134.000000    114.0    8.000000\n",
       "75%    200.500000    114.0    8.000000\n",
       "max    267.000000    114.0    8.000000"
      ]
     },
     "execution_count": 15,
     "metadata": {},
     "output_type": "execute_result"
    }
   ],
   "source": [
    "line.describe()"
   ]
  },
  {
   "cell_type": "code",
   "execution_count": 16,
   "metadata": {},
   "outputs": [
    {
     "data": {
      "text/html": [
       "<div>\n",
       "<style scoped>\n",
       "    .dataframe tbody tr th:only-of-type {\n",
       "        vertical-align: middle;\n",
       "    }\n",
       "\n",
       "    .dataframe tbody tr th {\n",
       "        vertical-align: top;\n",
       "    }\n",
       "\n",
       "    .dataframe thead th {\n",
       "        text-align: right;\n",
       "    }\n",
       "</style>\n",
       "<table border=\"1\" class=\"dataframe\">\n",
       "  <thead>\n",
       "    <tr style=\"text-align: right;\">\n",
       "      <th></th>\n",
       "      <th>LineID</th>\n",
       "      <th>LineName</th>\n",
       "      <th>BrandID</th>\n",
       "      <th>ItemLineID</th>\n",
       "      <th>ModifyDate</th>\n",
       "      <th>CreateDate</th>\n",
       "    </tr>\n",
       "  </thead>\n",
       "  <tbody>\n",
       "    <tr>\n",
       "      <th>133</th>\n",
       "      <td>134</td>\n",
       "      <td>アンティア</td>\n",
       "      <td>114</td>\n",
       "      <td>8</td>\n",
       "      <td>2019-08-06 11:17:07</td>\n",
       "      <td>2019-08-06 11:17:07</td>\n",
       "    </tr>\n",
       "    <tr>\n",
       "      <th>183</th>\n",
       "      <td>184</td>\n",
       "      <td>ダミエパイエット</td>\n",
       "      <td>114</td>\n",
       "      <td>8</td>\n",
       "      <td>2019-08-06 11:17:07</td>\n",
       "      <td>2019-08-06 11:17:07</td>\n",
       "    </tr>\n",
       "    <tr>\n",
       "      <th>169</th>\n",
       "      <td>170</td>\n",
       "      <td>パルナセア</td>\n",
       "      <td>114</td>\n",
       "      <td>8</td>\n",
       "      <td>2019-08-06 11:17:07</td>\n",
       "      <td>2019-08-06 11:17:07</td>\n",
       "    </tr>\n",
       "    <tr>\n",
       "      <th>170</th>\n",
       "      <td>171</td>\n",
       "      <td>スウィートモノグラム</td>\n",
       "      <td>114</td>\n",
       "      <td>8</td>\n",
       "      <td>2019-08-06 11:17:07</td>\n",
       "      <td>2019-08-06 11:17:07</td>\n",
       "    </tr>\n",
       "    <tr>\n",
       "      <th>171</th>\n",
       "      <td>172</td>\n",
       "      <td>モノグラムアップリケ</td>\n",
       "      <td>114</td>\n",
       "      <td>8</td>\n",
       "      <td>2019-08-06 11:17:07</td>\n",
       "      <td>2019-08-06 11:17:07</td>\n",
       "    </tr>\n",
       "  </tbody>\n",
       "</table>\n",
       "</div>"
      ],
      "text/plain": [
       "     LineID    LineName  BrandID  ItemLineID           ModifyDate  \\\n",
       "133     134       アンティア      114           8  2019-08-06 11:17:07   \n",
       "183     184    ダミエパイエット      114           8  2019-08-06 11:17:07   \n",
       "169     170       パルナセア      114           8  2019-08-06 11:17:07   \n",
       "170     171  スウィートモノグラム      114           8  2019-08-06 11:17:07   \n",
       "171     172  モノグラムアップリケ      114           8  2019-08-06 11:17:07   \n",
       "\n",
       "              CreateDate  \n",
       "133  2019-08-06 11:17:07  \n",
       "183  2019-08-06 11:17:07  \n",
       "169  2019-08-06 11:17:07  \n",
       "170  2019-08-06 11:17:07  \n",
       "171  2019-08-06 11:17:07  "
      ]
     },
     "execution_count": 16,
     "metadata": {},
     "output_type": "execute_result"
    }
   ],
   "source": [
    "line.sort_values(\"ModifyDate\", ascending=False).head()"
   ]
  },
  {
   "cell_type": "code",
   "execution_count": 17,
   "metadata": {},
   "outputs": [
    {
     "name": "stdout",
     "output_type": "stream",
     "text": [
      "2019-10-25 16:05:20\n"
     ]
    },
    {
     "data": {
      "text/html": [
       "<div>\n",
       "<style scoped>\n",
       "    .dataframe tbody tr th:only-of-type {\n",
       "        vertical-align: middle;\n",
       "    }\n",
       "\n",
       "    .dataframe tbody tr th {\n",
       "        vertical-align: top;\n",
       "    }\n",
       "\n",
       "    .dataframe thead th {\n",
       "        text-align: right;\n",
       "    }\n",
       "</style>\n",
       "<table border=\"1\" class=\"dataframe\">\n",
       "  <thead>\n",
       "    <tr style=\"text-align: right;\">\n",
       "      <th></th>\n",
       "      <th>KaiinID</th>\n",
       "      <th>RepeaterFlag</th>\n",
       "      <th>SeinengappiDate</th>\n",
       "      <th>CreateDate</th>\n",
       "    </tr>\n",
       "  </thead>\n",
       "  <tbody>\n",
       "    <tr>\n",
       "      <th>0</th>\n",
       "      <td>171036</td>\n",
       "      <td>1.0</td>\n",
       "      <td>NaN</td>\n",
       "      <td>2010-11-08 06:38:50</td>\n",
       "    </tr>\n",
       "    <tr>\n",
       "      <th>1</th>\n",
       "      <td>160541</td>\n",
       "      <td>0.0</td>\n",
       "      <td>NaN</td>\n",
       "      <td>2010-11-08 06:51:10</td>\n",
       "    </tr>\n",
       "    <tr>\n",
       "      <th>2</th>\n",
       "      <td>271092</td>\n",
       "      <td>NaN</td>\n",
       "      <td>NaN</td>\n",
       "      <td>2010-11-08 08:11:57</td>\n",
       "    </tr>\n",
       "    <tr>\n",
       "      <th>3</th>\n",
       "      <td>124089</td>\n",
       "      <td>NaN</td>\n",
       "      <td>NaN</td>\n",
       "      <td>2010-11-08 09:20:56</td>\n",
       "    </tr>\n",
       "    <tr>\n",
       "      <th>4</th>\n",
       "      <td>256950</td>\n",
       "      <td>NaN</td>\n",
       "      <td>NaN</td>\n",
       "      <td>2010-11-08 09:33:51</td>\n",
       "    </tr>\n",
       "  </tbody>\n",
       "</table>\n",
       "</div>"
      ],
      "text/plain": [
       "   KaiinID  RepeaterFlag SeinengappiDate           CreateDate\n",
       "0   171036           1.0             NaN  2010-11-08 06:38:50\n",
       "1   160541           0.0             NaN  2010-11-08 06:51:10\n",
       "2   271092           NaN             NaN  2010-11-08 08:11:57\n",
       "3   124089           NaN             NaN  2010-11-08 09:20:56\n",
       "4   256950           NaN             NaN  2010-11-08 09:33:51"
      ]
     },
     "execution_count": 17,
     "metadata": {},
     "output_type": "execute_result"
    }
   ],
   "source": [
    "kaiin = pd.read_csv(INPUT_DIR + \"kaiin.csv\")\n",
    "print(kaiin[\"CreateDate\"].max())\n",
    "kaiin.head()"
   ]
  },
  {
   "cell_type": "code",
   "execution_count": 18,
   "metadata": {},
   "outputs": [
    {
     "name": "stdout",
     "output_type": "stream",
     "text": [
      "0.0    44476\n",
      "1.0    37186\n",
      "Name: RepeaterFlag, dtype: int64\n",
      "277894\n",
      "2106\n"
     ]
    },
    {
     "data": {
      "text/html": [
       "<div>\n",
       "<style scoped>\n",
       "    .dataframe tbody tr th:only-of-type {\n",
       "        vertical-align: middle;\n",
       "    }\n",
       "\n",
       "    .dataframe tbody tr th {\n",
       "        vertical-align: top;\n",
       "    }\n",
       "\n",
       "    .dataframe thead th {\n",
       "        text-align: right;\n",
       "    }\n",
       "</style>\n",
       "<table border=\"1\" class=\"dataframe\">\n",
       "  <thead>\n",
       "    <tr style=\"text-align: right;\">\n",
       "      <th></th>\n",
       "      <th>KaiinID</th>\n",
       "      <th>RepeaterFlag</th>\n",
       "      <th>SeinengappiDate</th>\n",
       "      <th>CreateDate</th>\n",
       "    </tr>\n",
       "  </thead>\n",
       "  <tbody>\n",
       "    <tr>\n",
       "      <th>34</th>\n",
       "      <td>271260</td>\n",
       "      <td>1.0</td>\n",
       "      <td>1981-08-04</td>\n",
       "      <td>2010-11-09 00:35:02</td>\n",
       "    </tr>\n",
       "    <tr>\n",
       "      <th>65</th>\n",
       "      <td>89068</td>\n",
       "      <td>1.0</td>\n",
       "      <td>1966-01-10</td>\n",
       "      <td>2010-11-09 14:33:16</td>\n",
       "    </tr>\n",
       "    <tr>\n",
       "      <th>107</th>\n",
       "      <td>38900</td>\n",
       "      <td>1.0</td>\n",
       "      <td>1970-10-07</td>\n",
       "      <td>2010-11-09 22:05:24</td>\n",
       "    </tr>\n",
       "    <tr>\n",
       "      <th>231</th>\n",
       "      <td>245435</td>\n",
       "      <td>1.0</td>\n",
       "      <td>1981-05-17</td>\n",
       "      <td>2010-11-11 13:48:26</td>\n",
       "    </tr>\n",
       "    <tr>\n",
       "      <th>488</th>\n",
       "      <td>136704</td>\n",
       "      <td>1.0</td>\n",
       "      <td>1964-07-20</td>\n",
       "      <td>2010-11-14 20:59:34</td>\n",
       "    </tr>\n",
       "  </tbody>\n",
       "</table>\n",
       "</div>"
      ],
      "text/plain": [
       "     KaiinID  RepeaterFlag SeinengappiDate           CreateDate\n",
       "34    271260           1.0      1981-08-04  2010-11-09 00:35:02\n",
       "65     89068           1.0      1966-01-10  2010-11-09 14:33:16\n",
       "107    38900           1.0      1970-10-07  2010-11-09 22:05:24\n",
       "231   245435           1.0      1981-05-17  2010-11-11 13:48:26\n",
       "488   136704           1.0      1964-07-20  2010-11-14 20:59:34"
      ]
     },
     "execution_count": 18,
     "metadata": {},
     "output_type": "execute_result"
    }
   ],
   "source": [
    "print(kaiin[\"RepeaterFlag\"].value_counts())\n",
    "print(kaiin.shape[0])\n",
    "print(kaiin[kaiin[\"SeinengappiDate\"].isnull()==False].shape[0])\n",
    "kaiin[kaiin[\"SeinengappiDate\"].isnull()==False].head()"
   ]
  },
  {
   "cell_type": "code",
   "execution_count": 19,
   "metadata": {},
   "outputs": [
    {
     "name": "stdout",
     "output_type": "stream",
     "text": [
      "(4165155, 4)\n",
      "1    3921759\n",
      "0     243396\n",
      "Name: SakujoFlag, dtype: int64\n",
      "2019-09-23 23:59:59\n"
     ]
    },
    {
     "data": {
      "text/html": [
       "<div>\n",
       "<style scoped>\n",
       "    .dataframe tbody tr th:only-of-type {\n",
       "        vertical-align: middle;\n",
       "    }\n",
       "\n",
       "    .dataframe tbody tr th {\n",
       "        vertical-align: top;\n",
       "    }\n",
       "\n",
       "    .dataframe thead th {\n",
       "        text-align: right;\n",
       "    }\n",
       "</style>\n",
       "<table border=\"1\" class=\"dataframe\">\n",
       "  <thead>\n",
       "    <tr style=\"text-align: right;\">\n",
       "      <th></th>\n",
       "      <th>KaiinID</th>\n",
       "      <th>AuctionID</th>\n",
       "      <th>TourokuDate</th>\n",
       "      <th>SakujoFlag</th>\n",
       "    </tr>\n",
       "  </thead>\n",
       "  <tbody>\n",
       "    <tr>\n",
       "      <th>0</th>\n",
       "      <td>231713</td>\n",
       "      <td>1036190</td>\n",
       "      <td>2018-09-01 00:00:16</td>\n",
       "      <td>1</td>\n",
       "    </tr>\n",
       "    <tr>\n",
       "      <th>1</th>\n",
       "      <td>225585</td>\n",
       "      <td>4043640</td>\n",
       "      <td>2018-09-01 00:00:34</td>\n",
       "      <td>1</td>\n",
       "    </tr>\n",
       "    <tr>\n",
       "      <th>2</th>\n",
       "      <td>75217</td>\n",
       "      <td>3100882</td>\n",
       "      <td>2018-09-01 00:00:44</td>\n",
       "      <td>1</td>\n",
       "    </tr>\n",
       "    <tr>\n",
       "      <th>3</th>\n",
       "      <td>86693</td>\n",
       "      <td>655600</td>\n",
       "      <td>2018-09-01 00:00:51</td>\n",
       "      <td>1</td>\n",
       "    </tr>\n",
       "    <tr>\n",
       "      <th>4</th>\n",
       "      <td>267234</td>\n",
       "      <td>2607395</td>\n",
       "      <td>2018-09-01 00:01:09</td>\n",
       "      <td>1</td>\n",
       "    </tr>\n",
       "  </tbody>\n",
       "</table>\n",
       "</div>"
      ],
      "text/plain": [
       "   KaiinID  AuctionID          TourokuDate  SakujoFlag\n",
       "0   231713    1036190  2018-09-01 00:00:16           1\n",
       "1   225585    4043640  2018-09-01 00:00:34           1\n",
       "2    75217    3100882  2018-09-01 00:00:44           1\n",
       "3    86693     655600  2018-09-01 00:00:51           1\n",
       "4   267234    2607395  2018-09-01 00:01:09           1"
      ]
     },
     "execution_count": 19,
     "metadata": {},
     "output_type": "execute_result"
    }
   ],
   "source": [
    "watchlist = pd.read_csv(INPUT_DIR + \"watchlist.csv\")\n",
    "print(watchlist.shape)\n",
    "print(watchlist[\"SakujoFlag\"].value_counts())\n",
    "print(watchlist[\"TourokuDate\"].max())\n",
    "watchlist.head()"
   ]
  },
  {
   "cell_type": "code",
   "execution_count": 20,
   "metadata": {},
   "outputs": [
    {
     "name": "stdout",
     "output_type": "stream",
     "text": [
      "(612516, 7)\n",
      "1    612516\n",
      "Name: SakujoFlag, dtype: int64\n",
      "2019-09-23 23:59:09\n"
     ]
    },
    {
     "data": {
      "text/html": [
       "<div>\n",
       "<style scoped>\n",
       "    .dataframe tbody tr th:only-of-type {\n",
       "        vertical-align: middle;\n",
       "    }\n",
       "\n",
       "    .dataframe tbody tr th {\n",
       "        vertical-align: top;\n",
       "    }\n",
       "\n",
       "    .dataframe thead th {\n",
       "        text-align: right;\n",
       "    }\n",
       "</style>\n",
       "<table border=\"1\" class=\"dataframe\">\n",
       "  <thead>\n",
       "    <tr style=\"text-align: right;\">\n",
       "      <th></th>\n",
       "      <th>AuctionID</th>\n",
       "      <th>KaiinID</th>\n",
       "      <th>ShudouNyuusatsuDate</th>\n",
       "      <th>Kingaku</th>\n",
       "      <th>Suuryou</th>\n",
       "      <th>SokketsuFlag</th>\n",
       "      <th>SakujoFlag</th>\n",
       "    </tr>\n",
       "  </thead>\n",
       "  <tbody>\n",
       "    <tr>\n",
       "      <th>0</th>\n",
       "      <td>3744587</td>\n",
       "      <td>227198</td>\n",
       "      <td>2018-09-01 21:40:44</td>\n",
       "      <td>18000</td>\n",
       "      <td>1</td>\n",
       "      <td>0</td>\n",
       "      <td>1</td>\n",
       "    </tr>\n",
       "    <tr>\n",
       "      <th>1</th>\n",
       "      <td>636604</td>\n",
       "      <td>116853</td>\n",
       "      <td>2018-09-01 18:56:28</td>\n",
       "      <td>20000</td>\n",
       "      <td>1</td>\n",
       "      <td>0</td>\n",
       "      <td>1</td>\n",
       "    </tr>\n",
       "    <tr>\n",
       "      <th>2</th>\n",
       "      <td>636604</td>\n",
       "      <td>258477</td>\n",
       "      <td>2018-09-01 19:46:13</td>\n",
       "      <td>20500</td>\n",
       "      <td>1</td>\n",
       "      <td>0</td>\n",
       "      <td>1</td>\n",
       "    </tr>\n",
       "    <tr>\n",
       "      <th>3</th>\n",
       "      <td>636604</td>\n",
       "      <td>116853</td>\n",
       "      <td>2018-09-01 19:54:17</td>\n",
       "      <td>22000</td>\n",
       "      <td>1</td>\n",
       "      <td>0</td>\n",
       "      <td>1</td>\n",
       "    </tr>\n",
       "    <tr>\n",
       "      <th>4</th>\n",
       "      <td>636604</td>\n",
       "      <td>258477</td>\n",
       "      <td>2018-09-01 20:47:49</td>\n",
       "      <td>21500</td>\n",
       "      <td>1</td>\n",
       "      <td>0</td>\n",
       "      <td>1</td>\n",
       "    </tr>\n",
       "  </tbody>\n",
       "</table>\n",
       "</div>"
      ],
      "text/plain": [
       "   AuctionID  KaiinID  ShudouNyuusatsuDate  Kingaku  Suuryou  SokketsuFlag  \\\n",
       "0    3744587   227198  2018-09-01 21:40:44    18000        1             0   \n",
       "1     636604   116853  2018-09-01 18:56:28    20000        1             0   \n",
       "2     636604   258477  2018-09-01 19:46:13    20500        1             0   \n",
       "3     636604   116853  2018-09-01 19:54:17    22000        1             0   \n",
       "4     636604   258477  2018-09-01 20:47:49    21500        1             0   \n",
       "\n",
       "   SakujoFlag  \n",
       "0           1  \n",
       "1           1  \n",
       "2           1  \n",
       "3           1  \n",
       "4           1  "
      ]
     },
     "execution_count": 20,
     "metadata": {},
     "output_type": "execute_result"
    }
   ],
   "source": [
    "shudounyuusatsu = pd.read_csv(INPUT_DIR + \"shudounyuusatsu.csv\")\n",
    "print(shudounyuusatsu.shape)\n",
    "print(shudounyuusatsu[\"SakujoFlag\"].value_counts())\n",
    "print(shudounyuusatsu[\"ShudouNyuusatsuDate\"].max())\n",
    "shudounyuusatsu.head()"
   ]
  },
  {
   "cell_type": "code",
   "execution_count": 21,
   "metadata": {},
   "outputs": [
    {
     "name": "stdout",
     "output_type": "stream",
     "text": [
      "(450242, 6)\n",
      "0    450229\n",
      "1        13\n",
      "Name: SakujoFlag, dtype: int64\n",
      "2019-09-23 23:59:52\n"
     ]
    },
    {
     "data": {
      "text/html": [
       "<div>\n",
       "<style scoped>\n",
       "    .dataframe tbody tr th:only-of-type {\n",
       "        vertical-align: middle;\n",
       "    }\n",
       "\n",
       "    .dataframe tbody tr th {\n",
       "        vertical-align: top;\n",
       "    }\n",
       "\n",
       "    .dataframe thead th {\n",
       "        text-align: right;\n",
       "    }\n",
       "</style>\n",
       "<table border=\"1\" class=\"dataframe\">\n",
       "  <thead>\n",
       "    <tr style=\"text-align: right;\">\n",
       "      <th></th>\n",
       "      <th>AuctionID</th>\n",
       "      <th>KaiinID</th>\n",
       "      <th>RakusatsuDate</th>\n",
       "      <th>Kingaku</th>\n",
       "      <th>Suuryou</th>\n",
       "      <th>SakujoFlag</th>\n",
       "    </tr>\n",
       "  </thead>\n",
       "  <tbody>\n",
       "    <tr>\n",
       "      <th>0</th>\n",
       "      <td>3744587</td>\n",
       "      <td>227198</td>\n",
       "      <td>2018-09-01 21:50:00</td>\n",
       "      <td>18000</td>\n",
       "      <td>1</td>\n",
       "      <td>0</td>\n",
       "    </tr>\n",
       "    <tr>\n",
       "      <th>1</th>\n",
       "      <td>3150550</td>\n",
       "      <td>253112</td>\n",
       "      <td>2018-09-01 21:07:00</td>\n",
       "      <td>16500</td>\n",
       "      <td>1</td>\n",
       "      <td>0</td>\n",
       "    </tr>\n",
       "    <tr>\n",
       "      <th>2</th>\n",
       "      <td>636604</td>\n",
       "      <td>258477</td>\n",
       "      <td>2018-09-01 22:43:00</td>\n",
       "      <td>24500</td>\n",
       "      <td>1</td>\n",
       "      <td>0</td>\n",
       "    </tr>\n",
       "    <tr>\n",
       "      <th>3</th>\n",
       "      <td>2413186</td>\n",
       "      <td>227198</td>\n",
       "      <td>2018-09-01 21:31:00</td>\n",
       "      <td>26700</td>\n",
       "      <td>1</td>\n",
       "      <td>0</td>\n",
       "    </tr>\n",
       "    <tr>\n",
       "      <th>4</th>\n",
       "      <td>2786032</td>\n",
       "      <td>69415</td>\n",
       "      <td>2018-09-01 22:19:00</td>\n",
       "      <td>128905</td>\n",
       "      <td>1</td>\n",
       "      <td>0</td>\n",
       "    </tr>\n",
       "  </tbody>\n",
       "</table>\n",
       "</div>"
      ],
      "text/plain": [
       "   AuctionID  KaiinID        RakusatsuDate  Kingaku  Suuryou  SakujoFlag\n",
       "0    3744587   227198  2018-09-01 21:50:00    18000        1           0\n",
       "1    3150550   253112  2018-09-01 21:07:00    16500        1           0\n",
       "2     636604   258477  2018-09-01 22:43:00    24500        1           0\n",
       "3    2413186   227198  2018-09-01 21:31:00    26700        1           0\n",
       "4    2786032    69415  2018-09-01 22:19:00   128905        1           0"
      ]
     },
     "execution_count": 21,
     "metadata": {},
     "output_type": "execute_result"
    }
   ],
   "source": [
    "rakusatsu = pd.read_csv(INPUT_DIR + \"rakusatsu.csv\")\n",
    "print(rakusatsu.shape)\n",
    "print(rakusatsu[\"SakujoFlag\"].value_counts())\n",
    "print(rakusatsu[\"RakusatsuDate\"].max())\n",
    "rakusatsu.head()"
   ]
  },
  {
   "cell_type": "code",
   "execution_count": 22,
   "metadata": {},
   "outputs": [
    {
     "name": "stdout",
     "output_type": "stream",
     "text": [
      "2019-09-23 23:56:18\n"
     ]
    },
    {
     "data": {
      "text/html": [
       "<div>\n",
       "<style scoped>\n",
       "    .dataframe tbody tr th:only-of-type {\n",
       "        vertical-align: middle;\n",
       "    }\n",
       "\n",
       "    .dataframe tbody tr th {\n",
       "        vertical-align: top;\n",
       "    }\n",
       "\n",
       "    .dataframe thead th {\n",
       "        text-align: right;\n",
       "    }\n",
       "</style>\n",
       "<table border=\"1\" class=\"dataframe\">\n",
       "  <thead>\n",
       "    <tr style=\"text-align: right;\">\n",
       "      <th></th>\n",
       "      <th>KaiinID</th>\n",
       "      <th>BrandID</th>\n",
       "      <th>CategoryID</th>\n",
       "      <th>GenreID</th>\n",
       "      <th>KaishikakakuLow</th>\n",
       "      <th>KaishikakakuHigh</th>\n",
       "      <th>ItemColorID</th>\n",
       "      <th>ConditionID</th>\n",
       "      <th>conditionFrom</th>\n",
       "      <th>conditionTo</th>\n",
       "      <th>SearchFullText</th>\n",
       "      <th>Size</th>\n",
       "      <th>MailSendFlag</th>\n",
       "      <th>CreateDate</th>\n",
       "    </tr>\n",
       "  </thead>\n",
       "  <tbody>\n",
       "    <tr>\n",
       "      <th>0</th>\n",
       "      <td>273964</td>\n",
       "      <td>9712.0</td>\n",
       "      <td>NaN</td>\n",
       "      <td>NaN</td>\n",
       "      <td>NaN</td>\n",
       "      <td>NaN</td>\n",
       "      <td>NaN</td>\n",
       "      <td>NaN</td>\n",
       "      <td>NaN</td>\n",
       "      <td>NaN</td>\n",
       "      <td>NaN</td>\n",
       "      <td>NaN</td>\n",
       "      <td>0</td>\n",
       "      <td>2019-09-01 00:06:25</td>\n",
       "    </tr>\n",
       "    <tr>\n",
       "      <th>1</th>\n",
       "      <td>64255</td>\n",
       "      <td>283.0</td>\n",
       "      <td>NaN</td>\n",
       "      <td>NaN</td>\n",
       "      <td>NaN</td>\n",
       "      <td>2000.0</td>\n",
       "      <td>NaN</td>\n",
       "      <td>NaN</td>\n",
       "      <td>7.0</td>\n",
       "      <td>4.0</td>\n",
       "      <td>NaN</td>\n",
       "      <td>NaN</td>\n",
       "      <td>0</td>\n",
       "      <td>2019-09-01 00:10:20</td>\n",
       "    </tr>\n",
       "    <tr>\n",
       "      <th>2</th>\n",
       "      <td>274994</td>\n",
       "      <td>NaN</td>\n",
       "      <td>NaN</td>\n",
       "      <td>NaN</td>\n",
       "      <td>NaN</td>\n",
       "      <td>NaN</td>\n",
       "      <td>NaN</td>\n",
       "      <td>NaN</td>\n",
       "      <td>NaN</td>\n",
       "      <td>NaN</td>\n",
       "      <td>ファー</td>\n",
       "      <td>NaN</td>\n",
       "      <td>0</td>\n",
       "      <td>2019-09-01 00:14:43</td>\n",
       "    </tr>\n",
       "    <tr>\n",
       "      <th>3</th>\n",
       "      <td>132156</td>\n",
       "      <td>7516.0</td>\n",
       "      <td>NaN</td>\n",
       "      <td>NaN</td>\n",
       "      <td>NaN</td>\n",
       "      <td>NaN</td>\n",
       "      <td>NaN</td>\n",
       "      <td>NaN</td>\n",
       "      <td>NaN</td>\n",
       "      <td>NaN</td>\n",
       "      <td>NaN</td>\n",
       "      <td>NaN</td>\n",
       "      <td>0</td>\n",
       "      <td>2019-09-01 00:23:38</td>\n",
       "    </tr>\n",
       "    <tr>\n",
       "      <th>4</th>\n",
       "      <td>132156</td>\n",
       "      <td>1698.0</td>\n",
       "      <td>NaN</td>\n",
       "      <td>NaN</td>\n",
       "      <td>NaN</td>\n",
       "      <td>NaN</td>\n",
       "      <td>NaN</td>\n",
       "      <td>NaN</td>\n",
       "      <td>NaN</td>\n",
       "      <td>NaN</td>\n",
       "      <td>NaN</td>\n",
       "      <td>NaN</td>\n",
       "      <td>0</td>\n",
       "      <td>2019-09-01 00:23:38</td>\n",
       "    </tr>\n",
       "  </tbody>\n",
       "</table>\n",
       "</div>"
      ],
      "text/plain": [
       "   KaiinID  BrandID  CategoryID GenreID  KaishikakakuLow  KaishikakakuHigh  \\\n",
       "0   273964   9712.0         NaN     NaN              NaN               NaN   \n",
       "1    64255    283.0         NaN     NaN              NaN            2000.0   \n",
       "2   274994      NaN         NaN     NaN              NaN               NaN   \n",
       "3   132156   7516.0         NaN     NaN              NaN               NaN   \n",
       "4   132156   1698.0         NaN     NaN              NaN               NaN   \n",
       "\n",
       "  ItemColorID  ConditionID  conditionFrom  conditionTo SearchFullText Size  \\\n",
       "0         NaN          NaN            NaN          NaN            NaN  NaN   \n",
       "1         NaN          NaN            7.0          4.0            NaN  NaN   \n",
       "2         NaN          NaN            NaN          NaN            ファー  NaN   \n",
       "3         NaN          NaN            NaN          NaN            NaN  NaN   \n",
       "4         NaN          NaN            NaN          NaN            NaN  NaN   \n",
       "\n",
       "   MailSendFlag           CreateDate  \n",
       "0             0  2019-09-01 00:06:25  \n",
       "1             0  2019-09-01 00:10:20  \n",
       "2             0  2019-09-01 00:14:43  \n",
       "3             0  2019-09-01 00:23:38  \n",
       "4             0  2019-09-01 00:23:38  "
      ]
     },
     "execution_count": 22,
     "metadata": {},
     "output_type": "execute_result"
    }
   ],
   "source": [
    "nyuuka_oshirase = pd.read_csv(INPUT_DIR + \"nyuuka_oshirase.csv\")\n",
    "print(nyuuka_oshirase[\"CreateDate\"].max())\n",
    "nyuuka_oshirase.head()"
   ]
  },
  {
   "cell_type": "code",
   "execution_count": 23,
   "metadata": {},
   "outputs": [
    {
     "name": "stderr",
     "output_type": "stream",
     "text": [
      "/Users/nobuyuki.ishida/.pyenv/versions/3.7.5/lib/python3.7/site-packages/IPython/core/interactiveshell.py:3051: DtypeWarning: Columns (10,12) have mixed types. Specify dtype option on import or set low_memory=False.\n",
      "  interactivity=interactivity, compiler=compiler, result=result)\n"
     ]
    },
    {
     "name": "stdout",
     "output_type": "stream",
     "text": [
      "2019-09-23 23:59:59\n"
     ]
    },
    {
     "data": {
      "text/html": [
       "<div>\n",
       "<style scoped>\n",
       "    .dataframe tbody tr th:only-of-type {\n",
       "        vertical-align: middle;\n",
       "    }\n",
       "\n",
       "    .dataframe tbody tr th {\n",
       "        vertical-align: top;\n",
       "    }\n",
       "\n",
       "    .dataframe thead th {\n",
       "        text-align: right;\n",
       "    }\n",
       "</style>\n",
       "<table border=\"1\" class=\"dataframe\">\n",
       "  <thead>\n",
       "    <tr style=\"text-align: right;\">\n",
       "      <th></th>\n",
       "      <th>SearchFullText</th>\n",
       "      <th>KensakuJouken</th>\n",
       "      <th>KensakuKekkaKenSuu</th>\n",
       "      <th>TourokuTime</th>\n",
       "      <th>Device</th>\n",
       "      <th>KaiinID</th>\n",
       "      <th>BrandID</th>\n",
       "      <th>CategoryID</th>\n",
       "      <th>ShinchakuFlag</th>\n",
       "      <th>ConditionID</th>\n",
       "      <th>Size</th>\n",
       "      <th>DanjobetsuID</th>\n",
       "      <th>Sozai</th>\n",
       "      <th>ColorID</th>\n",
       "      <th>PriceLow</th>\n",
       "      <th>PriceHigh</th>\n",
       "    </tr>\n",
       "  </thead>\n",
       "  <tbody>\n",
       "    <tr>\n",
       "      <th>0</th>\n",
       "      <td>エクスプローラー</td>\n",
       "      <td>BrandID=118&amp;SearchFullText=エクスプローラー&amp;ItemOrder=...</td>\n",
       "      <td>0.0</td>\n",
       "      <td>2019-09-01 00:00:01</td>\n",
       "      <td>sp</td>\n",
       "      <td>NaN</td>\n",
       "      <td>118.0</td>\n",
       "      <td>NaN</td>\n",
       "      <td>NaN</td>\n",
       "      <td>NaN</td>\n",
       "      <td>NaN</td>\n",
       "      <td>NaN</td>\n",
       "      <td>NaN</td>\n",
       "      <td>NaN</td>\n",
       "      <td>NaN</td>\n",
       "      <td>NaN</td>\n",
       "    </tr>\n",
       "    <tr>\n",
       "      <th>1</th>\n",
       "      <td>ボッテガヴェネタ</td>\n",
       "      <td>SearchFullText=ボッテガヴェネタ&amp;ItemOrder=0&amp;ItemDispla...</td>\n",
       "      <td>1596.0</td>\n",
       "      <td>2019-09-01 00:00:03</td>\n",
       "      <td>sp</td>\n",
       "      <td>NaN</td>\n",
       "      <td>NaN</td>\n",
       "      <td>NaN</td>\n",
       "      <td>NaN</td>\n",
       "      <td>NaN</td>\n",
       "      <td>NaN</td>\n",
       "      <td>NaN</td>\n",
       "      <td>NaN</td>\n",
       "      <td>NaN</td>\n",
       "      <td>NaN</td>\n",
       "      <td>NaN</td>\n",
       "    </tr>\n",
       "    <tr>\n",
       "      <th>2</th>\n",
       "      <td>マンハッタンポーテージ</td>\n",
       "      <td>SearchFullText=マンハッタンポーテージ&amp;ItemOrder=1&amp;ItemDis...</td>\n",
       "      <td>66.0</td>\n",
       "      <td>2019-09-01 00:00:04</td>\n",
       "      <td>sp</td>\n",
       "      <td>102997.0</td>\n",
       "      <td>NaN</td>\n",
       "      <td>NaN</td>\n",
       "      <td>NaN</td>\n",
       "      <td>NaN</td>\n",
       "      <td>NaN</td>\n",
       "      <td>NaN</td>\n",
       "      <td>NaN</td>\n",
       "      <td>NaN</td>\n",
       "      <td>NaN</td>\n",
       "      <td>NaN</td>\n",
       "    </tr>\n",
       "    <tr>\n",
       "      <th>3</th>\n",
       "      <td>マンハッタンポーテージ</td>\n",
       "      <td>SearchFullText=マンハッタンポーテージ&amp;ItemOrder=1&amp;ItemDis...</td>\n",
       "      <td>66.0</td>\n",
       "      <td>2019-09-01 00:00:04</td>\n",
       "      <td>sp</td>\n",
       "      <td>102997.0</td>\n",
       "      <td>NaN</td>\n",
       "      <td>NaN</td>\n",
       "      <td>NaN</td>\n",
       "      <td>NaN</td>\n",
       "      <td>NaN</td>\n",
       "      <td>NaN</td>\n",
       "      <td>NaN</td>\n",
       "      <td>NaN</td>\n",
       "      <td>NaN</td>\n",
       "      <td>NaN</td>\n",
       "    </tr>\n",
       "    <tr>\n",
       "      <th>4</th>\n",
       "      <td>11.5メンズ</td>\n",
       "      <td>BrandID=2010&amp;SearchFullText=11.5メンズ&amp;ItemOrder=...</td>\n",
       "      <td>0.0</td>\n",
       "      <td>2019-09-01 00:00:04</td>\n",
       "      <td>sp</td>\n",
       "      <td>NaN</td>\n",
       "      <td>NaN</td>\n",
       "      <td>NaN</td>\n",
       "      <td>NaN</td>\n",
       "      <td>NaN</td>\n",
       "      <td>NaN</td>\n",
       "      <td>NaN</td>\n",
       "      <td>NaN</td>\n",
       "      <td>NaN</td>\n",
       "      <td>NaN</td>\n",
       "      <td>NaN</td>\n",
       "    </tr>\n",
       "  </tbody>\n",
       "</table>\n",
       "</div>"
      ],
      "text/plain": [
       "  SearchFullText                                      KensakuJouken  \\\n",
       "0       エクスプローラー  BrandID=118&SearchFullText=エクスプローラー&ItemOrder=...   \n",
       "1       ボッテガヴェネタ  SearchFullText=ボッテガヴェネタ&ItemOrder=0&ItemDispla...   \n",
       "2    マンハッタンポーテージ  SearchFullText=マンハッタンポーテージ&ItemOrder=1&ItemDis...   \n",
       "3    マンハッタンポーテージ  SearchFullText=マンハッタンポーテージ&ItemOrder=1&ItemDis...   \n",
       "4        11.5メンズ  BrandID=2010&SearchFullText=11.5メンズ&ItemOrder=...   \n",
       "\n",
       "   KensakuKekkaKenSuu          TourokuTime Device   KaiinID  BrandID  \\\n",
       "0                 0.0  2019-09-01 00:00:01     sp       NaN    118.0   \n",
       "1              1596.0  2019-09-01 00:00:03     sp       NaN      NaN   \n",
       "2                66.0  2019-09-01 00:00:04     sp  102997.0      NaN   \n",
       "3                66.0  2019-09-01 00:00:04     sp  102997.0      NaN   \n",
       "4                 0.0  2019-09-01 00:00:04     sp       NaN      NaN   \n",
       "\n",
       "   CategoryID  ShinchakuFlag  ConditionID Size  DanjobetsuID Sozai  ColorID  \\\n",
       "0         NaN            NaN          NaN  NaN           NaN   NaN      NaN   \n",
       "1         NaN            NaN          NaN  NaN           NaN   NaN      NaN   \n",
       "2         NaN            NaN          NaN  NaN           NaN   NaN      NaN   \n",
       "3         NaN            NaN          NaN  NaN           NaN   NaN      NaN   \n",
       "4         NaN            NaN          NaN  NaN           NaN   NaN      NaN   \n",
       "\n",
       "   PriceLow  PriceHigh  \n",
       "0       NaN        NaN  \n",
       "1       NaN        NaN  \n",
       "2       NaN        NaN  \n",
       "3       NaN        NaN  \n",
       "4       NaN        NaN  "
      ]
     },
     "execution_count": 23,
     "metadata": {},
     "output_type": "execute_result"
    }
   ],
   "source": [
    "search_log = pd.read_csv(INPUT_DIR + \"search_log.tsv\", sep=\"\\t\")\n",
    "print(search_log[\"TourokuTime\"].max())\n",
    "search_log.head()"
   ]
  },
  {
   "cell_type": "markdown",
   "metadata": {},
   "source": [
    "## 予測対象となるauctionについて"
   ]
  },
  {
   "cell_type": "markdown",
   "metadata": {},
   "source": [
    "- 一週間で大体6000ユーザー、7万オークション、10万ペアくらい\n",
    "- 予測対象となるオークションの60%程度が201907以降のオークション\n",
    "    - 201907以降で約90万オークション\n",
    "- 予測対象となるオークションの80%程度が201907以降にwatchされている？\n",
    "- watchlistのアクション直近3月、オークション作成直近3月で絞ってもほとんどカバーできている様子\n",
    "- 一月あたり30万件程度のオークションが新規に登録されている\n",
    "- 一週間にアクションを起こすユーザーは大体6000くらい\n",
    "    - 学習データのレコードを1億程度にしようと思うと一人当たり16000レコードくらいにしなきゃいけない？"
   ]
  },
  {
   "cell_type": "code",
   "execution_count": 123,
   "metadata": {},
   "outputs": [],
   "source": [
    "auction = pd.read_csv(INPUT_DIR + \"auction.csv\")\n",
    "watchlist = pd.read_csv(INPUT_DIR + \"watchlist.csv\")\n",
    "shudounyuusatsu = pd.read_csv(INPUT_DIR + \"shudounyuusatsu.csv\")"
   ]
  },
  {
   "cell_type": "code",
   "execution_count": 124,
   "metadata": {},
   "outputs": [],
   "source": [
    "auction = be.to_datetime(auction)\n",
    "watchlist = be.to_datetime(watchlist)\n",
    "shudounyuusatsu = be.to_datetime(shudounyuusatsu)\n",
    "watchlist.rename(columns={\"TourokuDate\": \"ActionDate\"}, inplace=True)\n",
    "shudounyuusatsu.rename(columns={\"ShudouNyuusatsuDate\": \"ActionDate\"}, inplace=True)\n",
    "watch_nyuusatsu = pd.concat([watchlist, shudounyuusatsu], sort=False)"
   ]
  },
  {
   "cell_type": "code",
   "execution_count": 125,
   "metadata": {},
   "outputs": [
    {
     "name": "stdout",
     "output_type": "stream",
     "text": [
      "KaiinID    6344\n",
      "dtype: int64\n",
      "AuctionID    68682\n",
      "dtype: int64\n",
      "(97583, 7)\n"
     ]
    }
   ],
   "source": [
    "# 対象期間中にアクションのあったデータ\n",
    "start_dt = datetime.datetime(2019, 9, 17, 0, 0, 0)\n",
    "end_dt = datetime.datetime(2019, 9, 24, 0, 0, 0)\n",
    "month_delta = 3\n",
    "target_log = watch_nyuusatsu[(watch_nyuusatsu[\"ActionDate\"] >= start_dt) & (watch_nyuusatsu[\"ActionDate\"] <= end_dt)]\n",
    "\n",
    "target_auctions = (\n",
    "    target_log[[\"AuctionID\"]]\n",
    "    .drop_duplicates()\n",
    "    .merge(auction, on=\"AuctionID\", how=\"inner\")\n",
    ")\n",
    "\n",
    "print(target_log[[\"KaiinID\"]].nunique())\n",
    "print(target_log[[\"AuctionID\"]].nunique())\n",
    "print(target_log.shape)"
   ]
  },
  {
   "cell_type": "code",
   "execution_count": 126,
   "metadata": {},
   "outputs": [
    {
     "data": {
      "text/plain": [
       "(91044, 2)"
      ]
     },
     "execution_count": 126,
     "metadata": {},
     "output_type": "execute_result"
    }
   ],
   "source": [
    "target_log[[\"KaiinID\", \"AuctionID\"]].drop_duplicates().shape"
   ]
  },
  {
   "cell_type": "code",
   "execution_count": 127,
   "metadata": {},
   "outputs": [],
   "source": [
    "def extract_ym(df, datecol):\n",
    "    return  getattr(df[datecol].dt, \"year\").astype(str) + getattr(df[datecol].dt, \"month\").astype(str).str.zfill(2)"
   ]
  },
  {
   "cell_type": "code",
   "execution_count": 128,
   "metadata": {},
   "outputs": [
    {
     "name": "stdout",
     "output_type": "stream",
     "text": [
      "(68682, 14)\n",
      "ShouhinID    68430\n",
      "dtype: int64\n",
      "201909    26033\n",
      "201908    17360\n",
      "201907    12991\n",
      "201906     5381\n",
      "201905     2788\n",
      "201904     1421\n",
      "201903      945\n",
      "201901      379\n",
      "201902      369\n",
      "201811      326\n",
      "201812      277\n",
      "201810      265\n",
      "201809       84\n",
      "201808       63\n",
      "Name: CreateYearMonth, dtype: int64\n",
      "201909    0.379037\n",
      "201908    0.631796\n",
      "201907    0.820943\n",
      "201906    0.899289\n",
      "201905    0.939882\n",
      "201904    0.960572\n",
      "201903    0.974331\n",
      "201901    0.979849\n",
      "201902    0.985222\n",
      "201811    0.989968\n",
      "201812    0.994001\n",
      "201810    0.997860\n",
      "201809    0.999083\n",
      "201808    1.000000\n",
      "Name: CreateYearMonth, dtype: float64\n"
     ]
    }
   ],
   "source": [
    "# 対象期間中にアクションのあったオークション\n",
    "#  3月くらいまでで97%くらいカバーできている\n",
    "target_auctions[\"CreateYearMonth\"] = extract_ym(target_auctions, \"CreateDate\")\n",
    "print(target_auctions.shape)\n",
    "print(target_auctions[[\"ShouhinID\"]].nunique())\n",
    "print(target_auctions[\"CreateYearMonth\"].value_counts())\n",
    "print(target_auctions[\"CreateYearMonth\"].value_counts().cumsum() / target_auctions.shape[0])"
   ]
  },
  {
   "cell_type": "code",
   "execution_count": 129,
   "metadata": {},
   "outputs": [
    {
     "name": "stdout",
     "output_type": "stream",
     "text": [
      "予測対象期間以前にお気に入り登録されているオークション割合 0.5411461518301739\n",
      "201909    22989\n",
      "201908     8751\n",
      "201907     2968\n",
      "201906     1387\n",
      "201905      461\n",
      "201904      272\n",
      "201903      165\n",
      "201902       82\n",
      "201901       49\n",
      "201812       27\n",
      "201811       11\n",
      "201810        5\n",
      "Name: ActionYearMonth, dtype: int64\n",
      "201909    0.618533\n",
      "201908    0.853983\n",
      "201907    0.933839\n",
      "201906    0.971157\n",
      "201905    0.983561\n",
      "201904    0.990879\n",
      "201903    0.995318\n",
      "201902    0.997525\n",
      "201901    0.998843\n",
      "201812    0.999570\n",
      "201811    0.999865\n",
      "201810    1.000000\n",
      "Name: ActionYearMonth, dtype: float64\n"
     ]
    }
   ],
   "source": [
    "# 対象期間中にアクションのあったオークションの、対象期間以前のお気に入り登録時期\n",
    "# 半数以上はお気に入り履歴がなく、あるものは直近ばかり\n",
    "target_past_watch  = (\n",
    "    target_auctions[[\"AuctionID\", \"CreateDate\"]].merge(\n",
    "        watchlist[watchlist[\"ActionDate\"] <= start_dt],\n",
    "        on=\"AuctionID\", how=\"inner\")\n",
    ")\n",
    "target_past_watch[\"ActionYearMonth\"] = extract_ym(target_past_watch, \"ActionDate\")\n",
    "print(\"予測対象期間以前にお気に入り登録されているオークション割合\", target_past_watch[\"AuctionID\"].nunique() / target_auctions.shape[0])\n",
    "print(target_past_watch[[\"AuctionID\", \"ActionYearMonth\"]].groupby(\"AuctionID\").max()[\"ActionYearMonth\"].value_counts())\n",
    "print(target_past_watch[[\"AuctionID\", \"ActionYearMonth\"]].groupby(\"AuctionID\").max()[\"ActionYearMonth\"].value_counts().cumsum()\\\n",
    "      / target_past_watch[\"AuctionID\"].nunique())"
   ]
  },
  {
   "cell_type": "code",
   "execution_count": 130,
   "metadata": {},
   "outputs": [
    {
     "name": "stdout",
     "output_type": "stream",
     "text": [
      "(419856, 1)\n",
      "2519136000\n"
     ]
    }
   ],
   "source": [
    "# 実際に候補を作成した際、どのくらいの正解データペアが候補内に入っているかを調べる\n",
    "auc_cand = be.left_anti_join(\n",
    "    pd.concat([\n",
    "    auction[(auction[\"CreateDate\"] > start_dt - relativedelta(months=1)) &\n",
    "             (auction[\"CreateDate\"] < end_dt)][[\"AuctionID\"]],\n",
    "    watchlist[(watchlist[\"ActionDate\"] > start_dt - relativedelta(months=1)) &\n",
    "             (watchlist[\"ActionDate\"] < start_dt) ][[\"AuctionID\"]].drop_duplicates()\n",
    "    ]).drop_duplicates(),\n",
    "    rakusatsu, \"AuctionID\", \"AuctionID\"\n",
    ")\n",
    "print(auc_cand.shape)\n",
    "print(auc_cand.shape[0] * 6000)"
   ]
  },
  {
   "cell_type": "code",
   "execution_count": 131,
   "metadata": {},
   "outputs": [
    {
     "name": "stdout",
     "output_type": "stream",
     "text": [
      "カバー割合 :  0.6582947497160828\n"
     ]
    }
   ],
   "source": [
    "print(\"カバー割合 : \", target_auctions.merge(auc_cand, on=\"AuctionID\", how=\"inner\").shape[0] / target_auctions.shape[0])"
   ]
  },
  {
   "cell_type": "markdown",
   "metadata": {},
   "source": [
    "### grid_search"
   ]
  },
  {
   "cell_type": "code",
   "execution_count": 132,
   "metadata": {},
   "outputs": [],
   "source": [
    "IMD_DIR = os.path.join(os.getcwd(), \"../../data/intermediate/\")\n",
    "IMD_INPUT_DIR = os.path.join(IMD_DIR, \"pickled_inputs\")\n",
    "\n",
    "auction = pd.read_pickle(os.path.join(IMD_INPUT_DIR , \"auction.pkl\"))\n",
    "watch = pd.read_pickle(os.path.join(IMD_INPUT_DIR , \"watch.pkl\"))\n",
    "bid = pd.read_pickle(os.path.join(IMD_INPUT_DIR , \"bid.pkl\"))\n",
    "bid_success = pd.read_pickle(os.path.join(IMD_INPUT_DIR , \"bid_success.pkl\"))"
   ]
  },
  {
   "cell_type": "code",
   "execution_count": 133,
   "metadata": {},
   "outputs": [],
   "source": [
    "dset_to_period = {\n",
    "    \"pre_train\": {\"oldest\": datetime.datetime(2019, 8, 26, 0, 0, 0),\n",
    "              \"newest\": datetime.datetime(2019, 9, 3, 0, 0, 0)},    \n",
    "    \"train\": {\"oldest\": datetime.datetime(2019, 9, 3, 0, 0, 0),\n",
    "              \"newest\": datetime.datetime(2019, 9, 10, 0, 0, 0)},\n",
    "    \"valid_for_train\": {\"oldest\": datetime.datetime(2019, 9, 10, 0, 0, 0),\n",
    "              \"newest\": datetime.datetime(2019, 9, 17, 0, 0, 0),},    \n",
    "    \"valid_for_sub\": {\"oldest\": datetime.datetime(2019, 9, 17, 0, 0, 0),\n",
    "              \"newest\": datetime.datetime(2019, 9, 24, 0, 0, 0),},\n",
    "    \"submission\": {\"oldest\": datetime.datetime(2019, 9, 24, 0, 0, 0),\n",
    "              \"newest\": datetime.datetime(2019, 10, 1, 0, 0, 0),},    \n",
    "}"
   ]
  },
  {
   "cell_type": "code",
   "execution_count": 134,
   "metadata": {},
   "outputs": [],
   "source": [
    "def extract_target_actions(watch, bid, period):\n",
    "    watch_actioned = (\n",
    "        watch.loc[(watch[\"TourokuDate\"] >= period[\"oldest\"]) & (watch[\"TourokuDate\"] < period[\"newest\"]),\n",
    "                  [\"KaiinID\", \"AuctionID\"]]\n",
    "    )\n",
    "    bid_actioned = (\n",
    "        bid.loc[(bid[\"ShudouNyuusatsuDate\"] >= period[\"oldest\"]) & (bid[\"ShudouNyuusatsuDate\"] < period[\"newest\"]),\n",
    "                [\"KaiinID\", \"AuctionID\"]]\n",
    "    )\n",
    "\n",
    "    watch_actioned[\"watch_actioned\"] = 1\n",
    "    bid_actioned[\"bid_actioned\"] = 1\n",
    "\n",
    "    target_actions = (\n",
    "        watch_actioned\n",
    "        .merge(bid_actioned, on=[\"KaiinID\", \"AuctionID\"], how=\"outer\")\n",
    "        .drop_duplicates()\n",
    "        .fillna(0)\n",
    "    )\n",
    "    return target_actions\n",
    "\n",
    "    \n",
    "def arrange_dtime_condition(watch, bid, bid_success, auction, period):\n",
    "    retval = ((\n",
    "        watch[watch[\"TourokuDate\"] <= period[\"oldest\"]],\n",
    "        bid[bid[\"ShudouNyuusatsuDate\"] <= period[\"oldest\"]],\n",
    "        bid_success[bid_success[\"RakusatsuDate\"] < period[\"oldest\"]],\n",
    "        auction[auction[\"CreateDate\"] < period[\"newest\"]]\n",
    "    ))\n",
    "    return retval\n",
    "    \n",
    "\n",
    "def arrange_inputs(watch, bid, bid_success, auction, period):\n",
    "    \n",
    "    target_actions = extract_target_actions(watch, bid, period)\n",
    "    \n",
    "    watch_t, bid_t,  bid_success_t, auction_t = (\n",
    "        arrange_dtime_condition(watch, bid, bid_success, auction, period)\n",
    "    )\n",
    "    \n",
    "    arranged_inputs = (\n",
    "        watch_t.merge(auction_t, on=\"AuctionID\", how=\"left\"),\n",
    "        bid_t.merge(auction, on=\"AuctionID\", how=\"left\"),\n",
    "        bid_success_t,\n",
    "        auction_t,\n",
    "        target_actions\n",
    "    )\n",
    "    return arranged_inputs\n",
    "\n",
    "def extract_recent_data(df, date_col, base_dtime, days):\n",
    "    oldest_dtime = base_dtime - relativedelta(days=days)\n",
    "    return df[df[date_col] > oldest_dtime]"
   ]
  },
  {
   "cell_type": "code",
   "execution_count": 135,
   "metadata": {},
   "outputs": [],
   "source": [
    "def stack_target_actions(target_actions):\n",
    "    watch_target = target_actions.query(\"(watch_actioned == 1)\")[[\"KaiinID\", \"AuctionID\"]]\n",
    "    bid_target = target_actions.query(\"(bid_actioned == 1)\")[[\"KaiinID\", \"AuctionID\"]]\n",
    "    watch_target[\"score\"] = 1\n",
    "    bid_target[\"score\"] = 2\n",
    "    stacked_target_actions = pd.concat([watch_target, bid_target], sort=False)\n",
    "    return stacked_target_actions\n",
    "\n",
    "def dcg_at_k(r, k):\n",
    "    r = np.asfarray(r)[:k]\n",
    "    return np.sum((2 ** r - 1) / np.log2(np.arange(2, r.size + 2)))\n",
    "\n",
    "\n",
    "def ndcg_at_k(r, k):\n",
    "    dcg_max = dcg_at_k(sorted(r, reverse=True), k)\n",
    "    if not dcg_max:\n",
    "        return 0.\n",
    "    return dcg_at_k(r, k) / dcg_max\n",
    "\n",
    "\n",
    "def calc_ndcg(y_true, y_pred, k=20):\n",
    "    y_pred_cp = y_pred.copy()\n",
    "\n",
    "    actione_true = stack_target_actions(y_true)\n",
    "    actione_true[\"rank\"] = 100\n",
    "\n",
    "    y_pred_cp['rank'] = y_pred_cp.groupby('KaiinID')['AuctionID'].cumcount()\n",
    "\n",
    "    scored_pred = (\n",
    "        y_pred_cp.merge(actione_true[[\"KaiinID\", \"AuctionID\", \"score\"]], on=[\"KaiinID\", \"AuctionID\"],\n",
    "                        how=\"left\").fillna(0))\n",
    "\n",
    "    unchoiced_actiones = (\n",
    "        be.left_anti_join(actione_true, y_pred_cp, [\"KaiinID\", \"AuctionID\"], [\"KaiinID\", \"AuctionID\"]))\n",
    "\n",
    "    scored_actiones = (\n",
    "        pd.concat([scored_pred, unchoiced_actiones], sort=False)\n",
    "            .sort_values([\"KaiinID\", \"rank\"], ascending=[\"True\", \"True\"]))\n",
    "\n",
    "    dcgs = scored_actiones.groupby(\"KaiinID\")[\"score\"].apply(lambda s: ndcg_at_k(s.tolist(), k=20))\n",
    "#     ndcg = dcgs.mean()\n",
    "\n",
    "    return dcgs\n"
   ]
  },
  {
   "cell_type": "code",
   "execution_count": 136,
   "metadata": {},
   "outputs": [],
   "source": [
    "def show_filter_result(create_delta, watch_delta, period):\n",
    "    print(create_delta, watch_delta)\n",
    "    # 実際に候補を作成した際、どのくらいの正解データペアが候補内に入っているかを調べる\n",
    "    \n",
    "    watch_arranged, bid_arranged, bid_success_arranged, auction_arranged, target_actions = (\n",
    "        arrange_inputs(watch=watch, bid=bid, bid_success=bid_success, auction=auction, period=period)\n",
    "    )    \n",
    "    \n",
    "    auc_cand = be.left_anti_join(\n",
    "        pd.concat([\n",
    "        auction_arranged[(auction_arranged[\"CreateDate\"] > period[\"newest\"] - relativedelta(months=create_delta))][[\"AuctionID\"]],\n",
    "        watch_arranged[(watch_arranged[\"TourokuDate\"] > period[\"newest\"] - relativedelta(months=watch_delta))][[\"AuctionID\"]]\n",
    "        ]).drop_duplicates(),\n",
    "        bid_success_arranged[[\"AuctionID\"]], \"AuctionID\", \"AuctionID\"\n",
    "    ).drop_duplicates()\n",
    "    \n",
    "    print(auc_cand.shape)\n",
    "    print(auc_cand.shape[0] * 6000)\n",
    "    print(\"カバー割合 : \", target_actions.merge(auc_cand, on=\"AuctionID\", how=\"inner\").shape[0] / target_actions.shape[0])\n",
    "    print(\"カバー割合 : \", target_actions.merge(auc_cand, on=\"AuctionID\", how=\"inner\")[[\"AuctionID\"]].drop_duplicates().shape[0]\\\n",
    "          / target_actions[[\"AuctionID\"]].drop_duplicates().shape[0])    \n",
    "    \n",
    "    auc_cand[\"pred\"] = 1\n",
    "    \n",
    "    cheat_pred = be.get_cheat_pred(\n",
    "        auc_cand[[\"AuctionID\", \"pred\"]].merge(target_actions[[\"AuctionID\", \"KaiinID\"]], on=\"AuctionID\", how=\"inner\"),\n",
    "        target_actions\n",
    "    )\n",
    "    cheat_sub = be.adjust_sub_form(target_actions[[\"KaiinID\"]].drop_duplicates(), cheat_pred, drop=True)\n",
    "    print(calc_ndcg(target_actions, cheat_sub).mean())    "
   ]
  },
  {
   "cell_type": "code",
   "execution_count": null,
   "metadata": {},
   "outputs": [],
   "source": []
  },
  {
   "cell_type": "code",
   "execution_count": 137,
   "metadata": {},
   "outputs": [
    {
     "name": "stdout",
     "output_type": "stream",
     "text": [
      "1 1\n",
      "(326583, 1)\n",
      "1959498000\n",
      "カバー割合 :  0.7311200088977867\n",
      "カバー割合 :  0.6785542891421715\n",
      "0.8068607215273164\n"
     ]
    }
   ],
   "source": [
    "show_filter_result(1, 1, dset_to_period[\"valid_for_train\"])"
   ]
  },
  {
   "cell_type": "code",
   "execution_count": null,
   "metadata": {},
   "outputs": [],
   "source": []
  },
  {
   "cell_type": "code",
   "execution_count": 103,
   "metadata": {},
   "outputs": [],
   "source": [
    "dset_type = \"valid_for_sub\"\n",
    "vs_targets = extract_target_actions(watch, bid, dset_to_period[\"valid_for_sub\"])\n",
    "vt_targets = extract_target_actions(watch, bid, dset_to_period[\"valid_for_train\"])"
   ]
  },
  {
   "cell_type": "code",
   "execution_count": 117,
   "metadata": {},
   "outputs": [
    {
     "name": "stdout",
     "output_type": "stream",
     "text": [
      "(1718, 6)\n",
      "        AuctionID  watch_actioned_x  bid_actioned_x  watch_actioned_y  \\\n",
      "count  776.000000        776.000000      776.000000        776.000000   \n",
      "mean     2.213918          2.213918        2.213918          2.213918   \n",
      "std      2.346855          2.346855        2.346855          2.346855   \n",
      "min      1.000000          1.000000        1.000000          1.000000   \n",
      "25%      1.000000          1.000000        1.000000          1.000000   \n",
      "50%      1.000000          1.000000        1.000000          1.000000   \n",
      "75%      2.000000          2.000000        2.000000          2.000000   \n",
      "max     20.000000         20.000000       20.000000         20.000000   \n",
      "\n",
      "       bid_actioned_y  \n",
      "count      776.000000  \n",
      "mean         2.213918  \n",
      "std          2.346855  \n",
      "min          1.000000  \n",
      "25%          1.000000  \n",
      "50%          1.000000  \n",
      "75%          2.000000  \n",
      "max         20.000000  \n",
      "(21968, 4)\n"
     ]
    }
   ],
   "source": [
    "print(vs_targets.merge(vt_targets, on=[\"KaiinID\", \"AuctionID\"]).shape)\n",
    "print(vs_targets.merge(vt_targets, on=[\"KaiinID\", \"AuctionID\"]).groupby(\"KaiinID\").count().describe())\n",
    "print(vs_targets.merge(vt_targets[[\"AuctionID\"]].drop_duplicates(), on=\"AuctionID\").shape)"
   ]
  },
  {
   "cell_type": "code",
   "execution_count": 118,
   "metadata": {},
   "outputs": [],
   "source": [
    "def show_filter_result(new_period, old_period):\n",
    "    # 実際に候補を作成した際、どのくらいの正解データペアが候補内に入っているかを調べる\n",
    "    \n",
    "    target_actions = extract_target_actions(watch, bid, dset_to_period[new_period])\n",
    "\n",
    "    auc_cand = extract_target_actions(watch, bid, dset_to_period[old_period])[[\"AuctionID\"]].drop_duplicates()\n",
    "    \n",
    "    \n",
    "    print(\"カバー割合 : \", target_actions.merge(auc_cand, on=\"AuctionID\", how=\"inner\").shape[0] / target_actions.shape[0])\n",
    "    print(\"カバー割合 : \", target_actions.merge(auc_cand, on=\"AuctionID\", how=\"inner\")[[\"AuctionID\"]].drop_duplicates().shape[0]\\\n",
    "          / target_actions[[\"AuctionID\"]].drop_duplicates().shape[0])    \n",
    "    \n",
    "    auc_cand[\"pred\"] = 1\n",
    "    \n",
    "    cheat_pred = be.get_cheat_pred(\n",
    "        auc_cand[[\"AuctionID\", \"pred\"]].merge(target_actions[[\"AuctionID\", \"KaiinID\"]], on=\"AuctionID\", how=\"inner\"),\n",
    "        target_actions\n",
    "    )\n",
    "    cheat_sub = be.adjust_sub_form(target_actions[[\"KaiinID\"]].drop_duplicates(), cheat_pred, drop=True)\n",
    "    print(calc_ndcg(target_actions, cheat_sub).mean())    "
   ]
  },
  {
   "cell_type": "code",
   "execution_count": 119,
   "metadata": {},
   "outputs": [
    {
     "name": "stdout",
     "output_type": "stream",
     "text": [
      "カバー割合 :  0.24128992575018673\n",
      "カバー割合 :  0.22209603680731488\n",
      "0.38147126265935466\n"
     ]
    }
   ],
   "source": [
    "show_filter_result(\"valid_for_sub\", \"valid_for_train\")"
   ]
  },
  {
   "cell_type": "markdown",
   "metadata": {},
   "source": [
    "#### 殆どのオークションが一回しかアクションされていない"
   ]
  },
  {
   "cell_type": "code",
   "execution_count": 145,
   "metadata": {},
   "outputs": [],
   "source": [
    "vt_targets = extract_target_actions(watch, bid, dset_to_period[\"valid_for_train\"])"
   ]
  },
  {
   "cell_type": "code",
   "execution_count": 146,
   "metadata": {},
   "outputs": [
    {
     "data": {
      "text/plain": [
       "(array([5.3009e+04, 0.0000e+00, 9.1870e+03, 0.0000e+00, 0.0000e+00,\n",
       "        2.5340e+03, 0.0000e+00, 9.1600e+02, 0.0000e+00, 0.0000e+00,\n",
       "        4.0100e+02, 0.0000e+00, 0.0000e+00, 2.3400e+02, 0.0000e+00,\n",
       "        1.4400e+02, 0.0000e+00, 0.0000e+00, 8.8000e+01, 0.0000e+00,\n",
       "        0.0000e+00, 4.8000e+01, 0.0000e+00, 2.8000e+01, 0.0000e+00,\n",
       "        0.0000e+00, 2.0000e+01, 0.0000e+00, 1.7000e+01, 0.0000e+00,\n",
       "        0.0000e+00, 9.0000e+00, 0.0000e+00, 0.0000e+00, 1.0000e+01,\n",
       "        0.0000e+00, 8.0000e+00, 0.0000e+00, 0.0000e+00, 7.0000e+00,\n",
       "        0.0000e+00, 0.0000e+00, 3.0000e+00, 0.0000e+00, 1.0000e+00,\n",
       "        0.0000e+00, 0.0000e+00, 0.0000e+00, 0.0000e+00, 0.0000e+00,\n",
       "        1.0000e+00, 0.0000e+00, 3.0000e+00, 0.0000e+00, 0.0000e+00,\n",
       "        1.0000e+00, 0.0000e+00, 1.0000e+00, 0.0000e+00, 0.0000e+00,\n",
       "        2.0000e+00, 0.0000e+00, 0.0000e+00, 0.0000e+00, 0.0000e+00,\n",
       "        0.0000e+00, 0.0000e+00, 0.0000e+00, 0.0000e+00, 0.0000e+00,\n",
       "        0.0000e+00, 1.0000e+00, 0.0000e+00, 1.0000e+00, 0.0000e+00,\n",
       "        0.0000e+00, 0.0000e+00, 0.0000e+00, 2.0000e+00, 0.0000e+00,\n",
       "        0.0000e+00, 0.0000e+00, 0.0000e+00, 0.0000e+00, 0.0000e+00,\n",
       "        0.0000e+00, 0.0000e+00, 0.0000e+00, 0.0000e+00, 0.0000e+00,\n",
       "        0.0000e+00, 0.0000e+00, 1.0000e+00, 0.0000e+00, 0.0000e+00,\n",
       "        0.0000e+00, 0.0000e+00, 2.0000e+00, 0.0000e+00, 1.0000e+00]),\n",
       " array([ 1.  ,  1.38,  1.76,  2.14,  2.52,  2.9 ,  3.28,  3.66,  4.04,\n",
       "         4.42,  4.8 ,  5.18,  5.56,  5.94,  6.32,  6.7 ,  7.08,  7.46,\n",
       "         7.84,  8.22,  8.6 ,  8.98,  9.36,  9.74, 10.12, 10.5 , 10.88,\n",
       "        11.26, 11.64, 12.02, 12.4 , 12.78, 13.16, 13.54, 13.92, 14.3 ,\n",
       "        14.68, 15.06, 15.44, 15.82, 16.2 , 16.58, 16.96, 17.34, 17.72,\n",
       "        18.1 , 18.48, 18.86, 19.24, 19.62, 20.  , 20.38, 20.76, 21.14,\n",
       "        21.52, 21.9 , 22.28, 22.66, 23.04, 23.42, 23.8 , 24.18, 24.56,\n",
       "        24.94, 25.32, 25.7 , 26.08, 26.46, 26.84, 27.22, 27.6 , 27.98,\n",
       "        28.36, 28.74, 29.12, 29.5 , 29.88, 30.26, 30.64, 31.02, 31.4 ,\n",
       "        31.78, 32.16, 32.54, 32.92, 33.3 , 33.68, 34.06, 34.44, 34.82,\n",
       "        35.2 , 35.58, 35.96, 36.34, 36.72, 37.1 , 37.48, 37.86, 38.24,\n",
       "        38.62, 39.  ]),\n",
       " <a list of 100 Patch objects>)"
      ]
     },
     "execution_count": 146,
     "metadata": {},
     "output_type": "execute_result"
    },
    {
     "data": {
      "image/png": "[encoded data removed]",
      "text/plain": [
       "<Figure size 432x288 with 1 Axes>"
      ]
     },
     "metadata": {
      "needs_background": "light"
     },
     "output_type": "display_data"
    }
   ],
   "source": [
    "plt.hist(vt_targets.groupby(\"AuctionID\").size(), bins=100)"
   ]
  },
  {
   "cell_type": "code",
   "execution_count": 152,
   "metadata": {},
   "outputs": [],
   "source": [
    "vs_targets = extract_target_actions(watch, bid, dset_to_period[\"valid_for_sub\"])"
   ]
  },
  {
   "cell_type": "code",
   "execution_count": 151,
   "metadata": {},
   "outputs": [
    {
     "data": {
      "text/plain": [
       "count    4.109559e+06\n",
       "mean     4.207849e+01\n",
       "std      1.107868e+02\n",
       "min      0.000000e+00\n",
       "25%      0.000000e+00\n",
       "50%      0.000000e+00\n",
       "75%      0.000000e+00\n",
       "max      4.000000e+02\n",
       "Name: SaishuppinKaisuu, dtype: float64"
      ]
     },
     "execution_count": 151,
     "metadata": {},
     "output_type": "execute_result"
    }
   ],
   "source": [
    "auction[\"SaishuppinKaisuu\"].describe()"
   ]
  },
  {
   "cell_type": "code",
   "execution_count": 162,
   "metadata": {},
   "outputs": [
    {
     "name": "stdout",
     "output_type": "stream",
     "text": [
      "(54434, 16)\n"
     ]
    },
    {
     "data": {
      "text/plain": [
       "(array([5.4434e+04, 0.0000e+00, 0.0000e+00, 0.0000e+00, 0.0000e+00,\n",
       "        0.0000e+00, 0.0000e+00, 1.4000e+01, 2.9000e+01, 1.1000e+01,\n",
       "        1.9000e+01, 9.0000e+00, 1.8000e+01, 6.0000e+00, 1.5000e+01,\n",
       "        3.1000e+01, 1.2000e+01, 1.9000e+01, 1.2000e+01, 2.6000e+01,\n",
       "        2.2000e+01, 3.4000e+01, 2.5000e+01, 2.2000e+01, 1.3000e+01,\n",
       "        2.7000e+01, 1.9000e+01, 1.4000e+01, 3.3000e+01, 2.1000e+01,\n",
       "        1.7000e+01, 2.8000e+01, 2.0000e+01, 1.5000e+01, 1.0000e+00,\n",
       "        1.0000e+00, 4.6000e+01, 2.0000e+01, 4.7000e+01, 1.6000e+01,\n",
       "        7.2000e+01, 2.6000e+01, 4.5000e+01, 1.4000e+01, 4.3000e+01,\n",
       "        1.2000e+01, 1.9000e+01, 2.3000e+01, 4.0000e+01, 2.2000e+01,\n",
       "        3.4000e+01, 7.7000e+01, 5.7000e+01, 6.1000e+01, 6.7000e+01,\n",
       "        7.8000e+01, 6.0000e+01, 1.1300e+02, 8.6000e+01, 8.9000e+01,\n",
       "        1.0500e+02, 1.0900e+02, 1.2300e+02, 1.4200e+02, 1.2000e+02,\n",
       "        8.7000e+01, 3.5000e+01, 1.1600e+02, 1.9200e+02, 1.3800e+02,\n",
       "        1.3900e+02, 1.3000e+02, 2.8600e+02, 8.3000e+01, 2.7000e+02,\n",
       "        3.2900e+02, 2.3200e+02, 1.9000e+02, 3.2200e+02, 2.0800e+02,\n",
       "        4.0500e+02, 4.3600e+02, 3.2300e+02, 3.4200e+02, 3.7600e+02,\n",
       "        5.7500e+02, 5.7500e+02, 7.4300e+02, 8.1000e+02, 7.4400e+02,\n",
       "        8.5800e+02, 1.6300e+03, 4.2730e+03, 2.9420e+03, 1.4690e+03,\n",
       "        8.9900e+02, 1.0850e+03, 1.4910e+03, 1.6830e+03, 1.5800e+03]),\n",
       " array([  0. ,   3.7,   7.4,  11.1,  14.8,  18.5,  22.2,  25.9,  29.6,\n",
       "         33.3,  37. ,  40.7,  44.4,  48.1,  51.8,  55.5,  59.2,  62.9,\n",
       "         66.6,  70.3,  74. ,  77.7,  81.4,  85.1,  88.8,  92.5,  96.2,\n",
       "         99.9, 103.6, 107.3, 111. , 114.7, 118.4, 122.1, 125.8, 129.5,\n",
       "        133.2, 136.9, 140.6, 144.3, 148. , 151.7, 155.4, 159.1, 162.8,\n",
       "        166.5, 170.2, 173.9, 177.6, 181.3, 185. , 188.7, 192.4, 196.1,\n",
       "        199.8, 203.5, 207.2, 210.9, 214.6, 218.3, 222. , 225.7, 229.4,\n",
       "        233.1, 236.8, 240.5, 244.2, 247.9, 251.6, 255.3, 259. , 262.7,\n",
       "        266.4, 270.1, 273.8, 277.5, 281.2, 284.9, 288.6, 292.3, 296. ,\n",
       "        299.7, 303.4, 307.1, 310.8, 314.5, 318.2, 321.9, 325.6, 329.3,\n",
       "        333. , 336.7, 340.4, 344.1, 347.8, 351.5, 355.2, 358.9, 362.6,\n",
       "        366.3, 370. ]),\n",
       " <a list of 100 Patch objects>)"
      ]
     },
     "execution_count": 162,
     "metadata": {},
     "output_type": "execute_result"
    },
    {
     "data": {
      "image/png": "[encoded data removed]",
      "text/plain": [
       "<Figure size 432x288 with 1 Axes>"
      ]
     },
     "metadata": {
      "needs_background": "light"
     },
     "output_type": "display_data"
    }
   ],
   "source": [
    "tr_targets = extract_target_actions(watch, bid, dset_to_period[\"train\"])\n",
    "print(tr_targets.merge(auction, on=\"AuctionID\").query(\"SaishuppinKaisuu == 0\").shape)\n",
    "plt.hist(tr_targets.merge(auction, on=\"AuctionID\")[\"SaishuppinKaisuu\"],bins=100)"
   ]
  },
  {
   "cell_type": "code",
   "execution_count": 163,
   "metadata": {},
   "outputs": [
    {
     "name": "stdout",
     "output_type": "stream",
     "text": [
      "(48743, 16)\n"
     ]
    },
    {
     "data": {
      "text/plain": [
       "(array([4.8743e+04, 0.0000e+00, 0.0000e+00, 0.0000e+00, 0.0000e+00,\n",
       "        0.0000e+00, 1.0000e+00, 1.9000e+01, 4.9000e+01, 1.8000e+01,\n",
       "        4.3000e+01, 7.0000e+00, 2.4000e+01, 2.0000e+01, 2.8000e+01,\n",
       "        4.1000e+01, 1.9000e+01, 2.8000e+01, 2.9000e+01, 3.7000e+01,\n",
       "        4.3000e+01, 4.2000e+01, 3.5000e+01, 3.5000e+01, 1.9000e+01,\n",
       "        4.6000e+01, 2.5000e+01, 3.4000e+01, 3.7000e+01, 1.5000e+01,\n",
       "        3.2000e+01, 3.4000e+01, 2.7000e+01, 2.2000e+01, 0.0000e+00,\n",
       "        5.0000e+00, 6.8000e+01, 3.2000e+01, 5.4000e+01, 2.6000e+01,\n",
       "        8.2000e+01, 3.4000e+01, 4.4000e+01, 2.5000e+01, 6.9000e+01,\n",
       "        2.3000e+01, 2.6000e+01, 4.3000e+01, 4.7000e+01, 3.9000e+01,\n",
       "        4.9000e+01, 7.8000e+01, 6.0000e+01, 9.6000e+01, 1.0000e+02,\n",
       "        1.0500e+02, 8.6000e+01, 1.4400e+02, 1.4100e+02, 1.2100e+02,\n",
       "        1.4000e+02, 1.7400e+02, 1.6300e+02, 1.8900e+02, 1.4800e+02,\n",
       "        1.3300e+02, 6.1000e+01, 1.8900e+02, 2.3600e+02, 1.8700e+02,\n",
       "        2.3000e+02, 1.6000e+02, 3.7400e+02, 1.2400e+02, 3.6700e+02,\n",
       "        4.8800e+02, 3.2200e+02, 2.5300e+02, 5.1600e+02, 3.3900e+02,\n",
       "        5.2700e+02, 6.0000e+02, 4.7000e+02, 4.3000e+02, 4.6500e+02,\n",
       "        7.6700e+02, 6.4400e+02, 8.0100e+02, 6.9000e+02, 8.4900e+02,\n",
       "        9.6800e+02, 2.2100e+03, 2.8500e+03, 2.1060e+03, 3.1750e+03,\n",
       "        2.5050e+03, 4.6210e+03, 7.1420e+03, 1.7490e+03, 1.5330e+03]),\n",
       " array([  0. ,   3.7,   7.4,  11.1,  14.8,  18.5,  22.2,  25.9,  29.6,\n",
       "         33.3,  37. ,  40.7,  44.4,  48.1,  51.8,  55.5,  59.2,  62.9,\n",
       "         66.6,  70.3,  74. ,  77.7,  81.4,  85.1,  88.8,  92.5,  96.2,\n",
       "         99.9, 103.6, 107.3, 111. , 114.7, 118.4, 122.1, 125.8, 129.5,\n",
       "        133.2, 136.9, 140.6, 144.3, 148. , 151.7, 155.4, 159.1, 162.8,\n",
       "        166.5, 170.2, 173.9, 177.6, 181.3, 185. , 188.7, 192.4, 196.1,\n",
       "        199.8, 203.5, 207.2, 210.9, 214.6, 218.3, 222. , 225.7, 229.4,\n",
       "        233.1, 236.8, 240.5, 244.2, 247.9, 251.6, 255.3, 259. , 262.7,\n",
       "        266.4, 270.1, 273.8, 277.5, 281.2, 284.9, 288.6, 292.3, 296. ,\n",
       "        299.7, 303.4, 307.1, 310.8, 314.5, 318.2, 321.9, 325.6, 329.3,\n",
       "        333. , 336.7, 340.4, 344.1, 347.8, 351.5, 355.2, 358.9, 362.6,\n",
       "        366.3, 370. ]),\n",
       " <a list of 100 Patch objects>)"
      ]
     },
     "execution_count": 163,
     "metadata": {},
     "output_type": "execute_result"
    },
    {
     "data": {
      "image/png": "[encoded data removed]",
      "text/plain": [
       "<Figure size 432x288 with 1 Axes>"
      ]
     },
     "metadata": {
      "needs_background": "light"
     },
     "output_type": "display_data"
    }
   ],
   "source": [
    "vs_targets = extract_target_actions(watch, bid, dset_to_period[\"valid_for_sub\"])\n",
    "print(vs_targets.merge(auction, on=\"AuctionID\").query(\"SaishuppinKaisuu == 0\").shape)\n",
    "plt.hist(vs_targets.merge(auction, on=\"AuctionID\")[\"SaishuppinKaisuu\"], bins=100)"
   ]
  },
  {
   "cell_type": "code",
   "execution_count": 164,
   "metadata": {},
   "outputs": [
    {
     "name": "stdout",
     "output_type": "stream",
     "text": [
      "(54023, 16)\n"
     ]
    },
    {
     "data": {
      "text/plain": [
       "(array([5.4023e+04, 0.0000e+00, 0.0000e+00, 0.0000e+00, 0.0000e+00,\n",
       "        0.0000e+00, 2.0000e+00, 1.6000e+01, 2.3000e+01, 1.4000e+01,\n",
       "        3.0000e+01, 6.0000e+00, 1.5000e+01, 9.0000e+00, 2.4000e+01,\n",
       "        4.2000e+01, 1.6000e+01, 2.3000e+01, 2.2000e+01, 3.4000e+01,\n",
       "        2.5000e+01, 3.2000e+01, 3.4000e+01, 2.5000e+01, 2.1000e+01,\n",
       "        3.4000e+01, 1.8000e+01, 2.1000e+01, 3.0000e+01, 3.1000e+01,\n",
       "        1.6000e+01, 2.9000e+01, 2.2000e+01, 8.0000e+00, 0.0000e+00,\n",
       "        3.0000e+00, 5.0000e+01, 2.6000e+01, 5.0000e+01, 2.4000e+01,\n",
       "        5.6000e+01, 2.1000e+01, 5.6000e+01, 1.8000e+01, 6.2000e+01,\n",
       "        2.0000e+01, 3.0000e+01, 3.9000e+01, 5.8000e+01, 3.0000e+01,\n",
       "        4.1000e+01, 6.6000e+01, 6.5000e+01, 9.8000e+01, 8.4000e+01,\n",
       "        9.6000e+01, 6.6000e+01, 1.5200e+02, 1.0600e+02, 1.2500e+02,\n",
       "        1.2400e+02, 1.5000e+02, 1.2400e+02, 1.5200e+02, 1.1500e+02,\n",
       "        1.0500e+02, 5.2000e+01, 1.5200e+02, 2.1300e+02, 1.7600e+02,\n",
       "        1.9600e+02, 1.6500e+02, 3.4100e+02, 1.0000e+02, 3.0200e+02,\n",
       "        4.1300e+02, 3.2300e+02, 2.1500e+02, 4.2800e+02, 3.3700e+02,\n",
       "        5.6300e+02, 5.5600e+02, 4.6200e+02, 3.8900e+02, 4.7100e+02,\n",
       "        6.5300e+02, 6.0800e+02, 8.4400e+02, 9.1600e+02, 9.5200e+02,\n",
       "        9.7800e+02, 2.0160e+03, 2.8000e+03, 2.1670e+03, 5.2890e+03,\n",
       "        3.6750e+03, 1.3540e+03, 1.6780e+03, 1.7510e+03, 1.5180e+03]),\n",
       " array([  0. ,   3.7,   7.4,  11.1,  14.8,  18.5,  22.2,  25.9,  29.6,\n",
       "         33.3,  37. ,  40.7,  44.4,  48.1,  51.8,  55.5,  59.2,  62.9,\n",
       "         66.6,  70.3,  74. ,  77.7,  81.4,  85.1,  88.8,  92.5,  96.2,\n",
       "         99.9, 103.6, 107.3, 111. , 114.7, 118.4, 122.1, 125.8, 129.5,\n",
       "        133.2, 136.9, 140.6, 144.3, 148. , 151.7, 155.4, 159.1, 162.8,\n",
       "        166.5, 170.2, 173.9, 177.6, 181.3, 185. , 188.7, 192.4, 196.1,\n",
       "        199.8, 203.5, 207.2, 210.9, 214.6, 218.3, 222. , 225.7, 229.4,\n",
       "        233.1, 236.8, 240.5, 244.2, 247.9, 251.6, 255.3, 259. , 262.7,\n",
       "        266.4, 270.1, 273.8, 277.5, 281.2, 284.9, 288.6, 292.3, 296. ,\n",
       "        299.7, 303.4, 307.1, 310.8, 314.5, 318.2, 321.9, 325.6, 329.3,\n",
       "        333. , 336.7, 340.4, 344.1, 347.8, 351.5, 355.2, 358.9, 362.6,\n",
       "        366.3, 370. ]),\n",
       " <a list of 100 Patch objects>)"
      ]
     },
     "execution_count": 164,
     "metadata": {},
     "output_type": "execute_result"
    },
    {
     "data": {
      "image/png": "[encoded data removed]",
      "text/plain": [
       "<Figure size 432x288 with 1 Axes>"
      ]
     },
     "metadata": {
      "needs_background": "light"
     },
     "output_type": "display_data"
    }
   ],
   "source": [
    "vt_targets = extract_target_actions(watch, bid, dset_to_period[\"valid_for_train\"])\n",
    "print(vt_targets.merge(auction, on=\"AuctionID\").query(\"SaishuppinKaisuu == 0\").shape)\n",
    "plt.hist(vt_targets.merge(auction, on=\"AuctionID\")[\"SaishuppinKaisuu\"], bins=100)"
   ]
  },
  {
   "cell_type": "markdown",
   "metadata": {},
   "source": [
    "## テストデータについて"
   ]
  },
  {
   "cell_type": "markdown",
   "metadata": {},
   "source": [
    "- 予測対象ユーザーは6016"
   ]
  },
  {
   "cell_type": "code",
   "execution_count": 137,
   "metadata": {},
   "outputs": [],
   "source": [
    "sample_sub = pd.read_csv(INPUT_DIR + \"sample_submission.csv\")"
   ]
  },
  {
   "cell_type": "code",
   "execution_count": 139,
   "metadata": {},
   "outputs": [
    {
     "data": {
      "text/plain": [
       "KaiinID    6016\n",
       "dtype: int64"
      ]
     },
     "execution_count": 139,
     "metadata": {},
     "output_type": "execute_result"
    }
   ],
   "source": [
    "sample_sub[[\"KaiinID\"]].nunique()"
   ]
  },
  {
   "cell_type": "markdown",
   "metadata": {},
   "source": [
    "## どのオークションがシステム的に候補から外れるか"
   ]
  },
  {
   "cell_type": "markdown",
   "metadata": {},
   "source": [
    "- 入札に含まれているオークションは落札とほぼ一致している\n",
    "\n",
    "### 結論\n",
    "- 落札に含まれているオークションは終了していると見なして除外する\n",
    "- 他にもシステム的に候補に入っていないオークションが残っている可能性が高い(watchから確認できるかもしれない)"
   ]
  },
  {
   "cell_type": "code",
   "execution_count": 181,
   "metadata": {},
   "outputs": [
    {
     "data": {
      "text/plain": [
       "(4109559, 13)"
      ]
     },
     "execution_count": 181,
     "metadata": {},
     "output_type": "execute_result"
    }
   ],
   "source": [
    "auction.shape"
   ]
  },
  {
   "cell_type": "code",
   "execution_count": 187,
   "metadata": {},
   "outputs": [
    {
     "name": "stdout",
     "output_type": "stream",
     "text": [
      "450242\n",
      "450205\n"
     ]
    }
   ],
   "source": [
    "print(rakusatsu.shape[0])\n",
    "print(rakusatsu[[\"AuctionID\"]].drop_duplicates().shape[0])"
   ]
  },
  {
   "cell_type": "code",
   "execution_count": 195,
   "metadata": {},
   "outputs": [
    {
     "name": "stdout",
     "output_type": "stream",
     "text": [
      "4165155\n",
      "1484732\n"
     ]
    }
   ],
   "source": [
    "print(watchlist.shape[0])\n",
    "print(watchlist[[\"AuctionID\"]].drop_duplicates().shape[0])"
   ]
  },
  {
   "cell_type": "code",
   "execution_count": 196,
   "metadata": {},
   "outputs": [
    {
     "name": "stdout",
     "output_type": "stream",
     "text": [
      "612516\n",
      "453391\n"
     ]
    }
   ],
   "source": [
    "print(shudounyuusatsu.shape[0])\n",
    "print(shudounyuusatsu[[\"AuctionID\"]].drop_duplicates().shape[0])"
   ]
  },
  {
   "cell_type": "code",
   "execution_count": 177,
   "metadata": {},
   "outputs": [
    {
     "data": {
      "text/plain": [
       "True"
      ]
     },
     "execution_count": 177,
     "metadata": {},
     "output_type": "execute_result"
    }
   ],
   "source": [
    "rakusatsu[[\"AuctionID\"]].drop_duplicates().shape[0] == rakusatsu[[\"AuctionID\"]].drop_duplicates().merge(auction, on=\"AuctionID\").shape[0]"
   ]
  },
  {
   "cell_type": "code",
   "execution_count": 178,
   "metadata": {},
   "outputs": [
    {
     "data": {
      "text/plain": [
       "True"
      ]
     },
     "execution_count": 178,
     "metadata": {},
     "output_type": "execute_result"
    }
   ],
   "source": [
    "shudounyuusatsu[[\"AuctionID\"]].drop_duplicates().shape[0] == shudounyuusatsu[[\"AuctionID\"]].drop_duplicates().merge(auction, on=\"AuctionID\").shape[0]"
   ]
  },
  {
   "cell_type": "code",
   "execution_count": 179,
   "metadata": {},
   "outputs": [
    {
     "data": {
      "text/plain": [
       "True"
      ]
     },
     "execution_count": 179,
     "metadata": {},
     "output_type": "execute_result"
    }
   ],
   "source": [
    "watchlist[[\"AuctionID\"]].drop_duplicates().shape[0] == watchlist[[\"AuctionID\"]].drop_duplicates().merge(auction, on=\"AuctionID\").shape[0]"
   ]
  },
  {
   "cell_type": "code",
   "execution_count": 190,
   "metadata": {},
   "outputs": [],
   "source": [
    "nyuusatsu_after_rakusatsu = (\n",
    "    rakusatsu[[\"AuctionID\", \"RakusatsuDate\"]]\n",
    "    .drop_duplicates().merge(shudounyuusatsu, on=\"AuctionID\")\n",
    "    .query(\"RakusatsuDate <= ShudouNyuusatsuDate\")\n",
    ")"
   ]
  },
  {
   "cell_type": "code",
   "execution_count": 191,
   "metadata": {},
   "outputs": [
    {
     "data": {
      "text/plain": [
       "(15418, 1)"
      ]
     },
     "execution_count": 191,
     "metadata": {},
     "output_type": "execute_result"
    }
   ],
   "source": [
    "nyuusatsu_after_rakusatsu[[\"AuctionID\"]].drop_duplicates().shape"
   ]
  },
  {
   "cell_type": "code",
   "execution_count": 197,
   "metadata": {},
   "outputs": [
    {
     "data": {
      "text/plain": [
       "(450138, 1)"
      ]
     },
     "execution_count": 197,
     "metadata": {},
     "output_type": "execute_result"
    }
   ],
   "source": [
    "rakusatsu[[\"AuctionID\"]].drop_duplicates().merge(shudounyuusatsu[[\"AuctionID\"]].drop_duplicates(), on=\"AuctionID\").shape"
   ]
  },
  {
   "cell_type": "code",
   "execution_count": 193,
   "metadata": {},
   "outputs": [],
   "source": [
    "watch_after_rakusatsu = (\n",
    "    rakusatsu[[\"AuctionID\", \"RakusatsuDate\"]]\n",
    "    .drop_duplicates().merge(watchlist, on=\"AuctionID\")\n",
    "    .query(\"RakusatsuDate <= TourokuDate\")\n",
    ")"
   ]
  },
  {
   "cell_type": "code",
   "execution_count": 194,
   "metadata": {},
   "outputs": [
    {
     "data": {
      "text/plain": [
       "(5748, 1)"
      ]
     },
     "execution_count": 194,
     "metadata": {},
     "output_type": "execute_result"
    }
   ],
   "source": [
    "watch_after_rakusatsu[[\"AuctionID\"]].drop_duplicates().shape"
   ]
  },
  {
   "cell_type": "code",
   "execution_count": null,
   "metadata": {},
   "outputs": [],
   "source": []
  },
  {
   "cell_type": "markdown",
   "metadata": {},
   "source": [
    "## お気に入りデータの削除フラグなどからオークション候補を作成できるか調べる"
   ]
  },
  {
   "cell_type": "code",
   "execution_count": 261,
   "metadata": {},
   "outputs": [],
   "source": [
    "all_rmd_watch = watchlist[(watchlist[\"SakujoFlag\"] == 1) &(watchlist[\"ActionDate\"] < datetime.datetime(2019, 9, 1, 0, 0, 0))]"
   ]
  },
  {
   "cell_type": "code",
   "execution_count": 262,
   "metadata": {},
   "outputs": [],
   "source": [
    "watch_rmd_cand = be.left_anti_join(all_rmd_watch, rakusatsu, \"AuctionID\", \"AuctionID\")"
   ]
  },
  {
   "cell_type": "code",
   "execution_count": 263,
   "metadata": {},
   "outputs": [
    {
     "name": "stdout",
     "output_type": "stream",
     "text": [
      "お気に入り削除履歴から求めた、オークション候補から削除予定の候補数 :  2347344\n",
      "201809    173589\n",
      "201810    206741\n",
      "201811    170127\n",
      "201812    185630\n",
      "201901    223522\n",
      "201902    229411\n",
      "201903    222482\n",
      "201904    176467\n",
      "201905    192880\n",
      "201906    205883\n",
      "201907    198045\n",
      "201908    162567\n",
      "Name: ActionYearMonth, dtype: int64\n",
      "201809    0.073951\n",
      "201810    0.162026\n",
      "201811    0.234502\n",
      "201812    0.313583\n",
      "201901    0.408806\n",
      "201902    0.506538\n",
      "201903    0.601319\n",
      "201904    0.676496\n",
      "201905    0.758666\n",
      "201906    0.846374\n",
      "201907    0.930744\n",
      "201908    1.000000\n",
      "Name: ActionYearMonth, dtype: float64\n"
     ]
    }
   ],
   "source": [
    "watch_rmd_cand[\"ActionYearMonth\"] = extract_ym(watch_rmd_cand, \"ActionDate\")\n",
    "print(\"お気に入り削除履歴から求めた、オークション候補から削除予定の候補数 : \", watch_rmd_cand.shape[0])\n",
    "print(watch_rmd_cand[\"ActionYearMonth\"].value_counts().sort_index())\n",
    "print(watch_rmd_cand[\"ActionYearMonth\"].value_counts().sort_index().cumsum() / watch_rmd_cand.shape[0])"
   ]
  },
  {
   "cell_type": "code",
   "execution_count": 284,
   "metadata": {},
   "outputs": [
    {
     "name": "stdout",
     "output_type": "stream",
     "text": [
      "謝って消去してしまう正解データ割合 :  0.19230657231880255\n"
     ]
    }
   ],
   "source": [
    "print(\"謝って消去してしまう正解データ割合 : \", \n",
    "      1 - be.left_anti_join(target_auctions, watch_rmd_cand, \"AuctionID\", \"AuctionID\").shape[0] / target_auctions.shape[0])"
   ]
  },
  {
   "cell_type": "code",
   "execution_count": 285,
   "metadata": {},
   "outputs": [
    {
     "name": "stdout",
     "output_type": "stream",
     "text": [
      "消去後のオークション候補件数 :  900229\n"
     ]
    }
   ],
   "source": [
    "print(\"消去後のオークション候補件数 : \", be.left_anti_join(auc_cand, watch_rmd_cand, \"AuctionID\", \"AuctionID\").shape[0])"
   ]
  },
  {
   "cell_type": "code",
   "execution_count": 401,
   "metadata": {},
   "outputs": [
    {
     "data": {
      "text/plain": [
       "1.8513807782982628e-05"
      ]
     },
     "execution_count": 401,
     "metadata": {},
     "output_type": "execute_result"
    }
   ],
   "source": [
    "100000 / (900229 * 6000)"
   ]
  },
  {
   "cell_type": "markdown",
   "metadata": {},
   "source": [
    "## 中国人コードでどれくらいの正解データが残っているのか調べる"
   ]
  },
  {
   "cell_type": "markdown",
   "metadata": {},
   "source": [
    "- 正解データの10%を130万件のデータでカバーしている状態"
   ]
  },
  {
   "cell_type": "code",
   "execution_count": 288,
   "metadata": {},
   "outputs": [],
   "source": [
    "train_dataset = pd.read_pickle(IMD_DIR + \"202001152052\" + \"_train_dataset.pkl\")\n",
    "valid_for_train_dataset = pd.read_pickle(IMD_DIR + \"202001152052\" + \"_valid_for_train_dataset.pkl\")\n",
    "valid_for_sub_dataset = pd.read_pickle(IMD_DIR + \"202001152055\" + \"_valid_for_sub_dataset.pkl\")"
   ]
  },
  {
   "cell_type": "code",
   "execution_count": 294,
   "metadata": {},
   "outputs": [],
   "source": [
    "dset_to_period = {\n",
    "    \"train\": {\"oldest\": datetime.datetime(2019, 9, 3, 0, 0, 0),\n",
    "              \"newest\": datetime.datetime(2019, 9, 10, 0, 0, 0)},\n",
    "    \"valid_for_train\": {\"oldest\": datetime.datetime(2019, 9, 10, 0, 0, 0),\n",
    "              \"newest\": datetime.datetime(2019, 9, 17, 0, 0, 0),},\n",
    "    \"valid_for_sub\": {\"oldest\": datetime.datetime(2019, 9, 17, 0, 0, 0),\n",
    "              \"newest\": datetime.datetime(2019, 9, 24, 0, 0, 0),}\n",
    "}"
   ]
  },
  {
   "cell_type": "code",
   "execution_count": 391,
   "metadata": {},
   "outputs": [],
   "source": [
    "def extract_target_aucs(watch, bid, dset_to_period, dset_type):\n",
    "\n",
    "    oldest_dtime, newest_dtime = (\n",
    "        dset_to_period[dset_type][\"oldest\"],\n",
    "        dset_to_period[dset_type][\"newest\"]\n",
    "    )    \n",
    "    watch_actioned = (\n",
    "        watch[(watch[\"ActionDate\"] >= oldest_dtime) & (watch[\"ActionDate\"] < newest_dtime)]\n",
    "    )\n",
    "    bid_actioned = (\n",
    "        bid[(bid[\"ActionDate\"] >= oldest_dtime) & (bid[\"ActionDate\"] < newest_dtime)]\n",
    "    )\n",
    "    target_aucs = (\n",
    "        pd.concat([watch_actioned, bid_actioned], sort=False)\n",
    "    )\n",
    "    return target_aucs"
   ]
  },
  {
   "cell_type": "code",
   "execution_count": 384,
   "metadata": {},
   "outputs": [
    {
     "name": "stdout",
     "output_type": "stream",
     "text": [
      "0.0948067148743767\n"
     ]
    }
   ],
   "source": [
    "# 正解データのオークションをどのくらい含められているか\n",
    "print(train_dataset.query(\"(watch_actioned == 1) | (bid_actioned == 1)\")[\"AuctionID\"].nunique() / \\\n",
    "     extract_target_aucs(watchlist, shudounyuusatsu, dset_to_period, \"train\")[[\"AuctionID\"]].drop_duplicates().shape[0])"
   ]
  },
  {
   "cell_type": "code",
   "execution_count": 398,
   "metadata": {},
   "outputs": [
    {
     "name": "stdout",
     "output_type": "stream",
     "text": [
      "6347\n",
      "0.0019329047260997563\n"
     ]
    }
   ],
   "source": [
    "# どのくらいの正解データを含んでいるか\n",
    "print(train_dataset.query(\"(watch_actioned == 1) | (bid_actioned == 1)\")[[\"AuctionID\", \"KaiinID\"]].drop_duplicates().shape[0])\n",
    "# 正解のペアの割合\n",
    "print(train_dataset.query(\"(watch_actioned == 1) | (bid_actioned == 1)\")[[\"AuctionID\", \"KaiinID\"]].drop_duplicates().shape[0] / \\\n",
    "     train_dataset[[\"AuctionID\", \"KaiinID\"]].drop_duplicates().shape[0])"
   ]
  },
  {
   "cell_type": "code",
   "execution_count": null,
   "metadata": {},
   "outputs": [],
   "source": []
  }
 ],
 "metadata": {
  "kernelspec": {
   "display_name": "Python 3",
   "language": "python",
   "name": "python3"
  },
  "language_info": {
   "codemirror_mode": {
    "name": "ipython",
    "version": 3
   },
   "file_extension": ".py",
   "mimetype": "text/x-python",
   "name": "python",
   "nbconvert_exporter": "python",
   "pygments_lexer": "ipython3",
   "version": "3.7.5"
  }
 },
 "nbformat": 4,
 "nbformat_minor": 2
}
