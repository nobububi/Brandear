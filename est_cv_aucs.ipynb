{
 "cells": [
  {
   "cell_type": "markdown",
   "metadata": {},
   "source": [
    "# CVオークション予測"
   ]
  },
  {
   "cell_type": "code",
   "execution_count": 1,
   "metadata": {},
   "outputs": [],
   "source": [
    "from os.path import dirname\n",
    "import os\n",
    "import datetime\n",
    "from dateutil.relativedelta import relativedelta\n",
    "\n",
    "import pandas as pd\n",
    "import swifter\n",
    "import numpy as np\n",
    "import matplotlib.pyplot as plt\n",
    "import lightgbm as lgb\n",
    "from sklearn.metrics import roc_curve\n",
    "from sklearn.metrics import roc_auc_score"
   ]
  },
  {
   "cell_type": "code",
   "execution_count": 2,
   "metadata": {},
   "outputs": [],
   "source": [
    "pd.set_option('display.max_columns', 50)"
   ]
  },
  {
   "cell_type": "code",
   "execution_count": 6,
   "metadata": {},
   "outputs": [],
   "source": [
    "%reload_ext autoreload\n",
    "from brandear_est import utils, dataset as bds, models, evals as ev, submit\n",
    "from brandear_est.preprocess import pp_est_rank_weekly as pp"
   ]
  },
  {
   "cell_type": "code",
   "execution_count": 4,
   "metadata": {},
   "outputs": [],
   "source": [
    "IMD_DIR = os.path.join(os.getcwd(), \"../../data/intermediate/\")\n",
    "INPUT_DIR = os.path.join(os.getcwd(), \"../../data/input\")\n",
    "\n",
    "IMD_INPUT_DIR = os.path.join(IMD_DIR, \"pickled_inputs\")\n",
    "IMD_OUTPUT_DIR = os.path.join(IMD_DIR, \"valid_aucs\")\n",
    "IMD_ARCHIVE_DIR = os.path.join(IMD_DIR, \"arc_valid_aucs\")\n",
    "\n",
    "dset_to_period = {\n",
    "    \"pre_train\": {\"oldest\": datetime.datetime(2019, 8, 26, 0, 0, 0),\n",
    "              \"newest\": datetime.datetime(2019, 9, 3, 0, 0, 0)},    \n",
    "    \"train\": {\"oldest\": datetime.datetime(2019, 9, 3, 0, 0, 0),\n",
    "              \"newest\": datetime.datetime(2019, 9, 10, 0, 0, 0)},\n",
    "    \"valid_for_train\": {\"oldest\": datetime.datetime(2019, 9, 10, 0, 0, 0),\n",
    "              \"newest\": datetime.datetime(2019, 9, 17, 0, 0, 0),},    \n",
    "    \"valid_for_sub\": {\"oldest\": datetime.datetime(2019, 9, 17, 0, 0, 0),\n",
    "              \"newest\": datetime.datetime(2019, 9, 24, 0, 0, 0),},\n",
    "    \"submission\": {\"oldest\": datetime.datetime(2019, 9, 24, 0, 0, 0),\n",
    "              \"newest\": datetime.datetime(2019, 10, 1, 0, 0, 0),},    \n",
    "}"
   ]
  },
  {
   "cell_type": "markdown",
   "metadata": {},
   "source": [
    "## インプットデータ整理"
   ]
  },
  {
   "cell_type": "code",
   "execution_count": 7,
   "metadata": {},
   "outputs": [
    {
     "name": "stdout",
     "output_type": "stream",
     "text": [
      "Mem. usage decreased to  0.32 Mb (15.0% reduction)\n",
      "Mem. usage decreased to  0.01 Mb (32.2% reduction)\n",
      "Mem. usage decreased to  0.00 Mb (45.4% reduction)\n",
      "Mem. usage decreased to  0.00 Mb (33.4% reduction)\n",
      "Mem. usage decreased to  0.01 Mb (41.3% reduction)\n"
     ]
    }
   ],
   "source": [
    "# 元データ読み込み\n",
    "auction = pd.read_pickle(os.path.join(IMD_INPUT_DIR , \"auction.pkl\"))\n",
    "watch = pd.read_pickle(os.path.join(IMD_INPUT_DIR , \"watch.pkl\"))\n",
    "bid = pd.read_pickle(os.path.join(IMD_INPUT_DIR , \"bid.pkl\"))\n",
    "bid_success = pd.read_pickle(os.path.join(IMD_INPUT_DIR , \"bid_success.pkl\"))\n",
    "sample_sub = pd.read_csv(os.path.join(os.getcwd(), \"../../data/input\" , \"sample_submission.csv\"))\n",
    "sub_users = sample_sub[[\"KaiinID\"]].drop_duplicates()\n",
    "# ブランド作成日\n",
    "brand = utils.read_csv(os.path.join(INPUT_DIR , \"brand.csv\"))\n",
    "# itemcolorid付与(色の大分類)\n",
    "color = utils.read_csv(os.path.join(INPUT_DIR , \"color.csv\"))\n",
    "# カテゴリーid,itemdailID付与のためのItemShouID付与\n",
    "genre = utils.read_csv(os.path.join(INPUT_DIR , \"genre.csv\"))\n",
    "# itemshowID,itemdailID付与\n",
    "itemshou = utils.read_csv(os.path.join(INPUT_DIR , \"itemshou.csv\"))\n",
    "# itemlineID付与\n",
    "line = utils.read_csv(os.path.join(INPUT_DIR , \"line.csv\"))\n",
    "\n",
    "# オークション情報拡充\n",
    "auction_mst = pp.build_auction_mst(\n",
    "    auction=auction, itemshou=itemshou, genre=genre,\n",
    "    brand=brand, color=color, line=line\n",
    ")"
   ]
  },
  {
   "cell_type": "markdown",
   "metadata": {},
   "source": [
    "## 特徴量エンジニアリング"
   ]
  },
  {
   "cell_type": "code",
   "execution_count": 16,
   "metadata": {
    "scrolled": true
   },
   "outputs": [
    {
     "name": "stdout",
     "output_type": "stream",
     "text": [
      "##################\n",
      "start cross count\n",
      "[['AuctionID'], ['ShouhinID'], ['BrandID'], ['LineID'], ['ItemShouID']]\n",
      "['AuctionID']\n"
     ]
    },
    {
     "ename": "KeyboardInterrupt",
     "evalue": "",
     "output_type": "error",
     "traceback": [
      "\u001b[0;31m---------------------------------------------------------------------------\u001b[0m",
      "\u001b[0;31mKeyboardInterrupt\u001b[0m                         Traceback (most recent call last)",
      "\u001b[0;32m<timed exec>\u001b[0m in \u001b[0;36m<module>\u001b[0;34m\u001b[0m\n",
      "\u001b[0;32m~/Practice/competition/nishika/Brandear/code/brandear_est/brandear_est/preprocess/for_est_cv_aucs.py\u001b[0m in \u001b[0;36mbuild_dataset_input\u001b[0;34m(auction, bid_success, watch, bid, period, dset_type, output_path)\u001b[0m\n\u001b[1;32m    137\u001b[0m \u001b[0;34m\u001b[0m\u001b[0m\n\u001b[1;32m    138\u001b[0m     \u001b[0;32mfor\u001b[0m \u001b[0mprefix\u001b[0m\u001b[0;34m,\u001b[0m \u001b[0mfeature_df\u001b[0m \u001b[0;32min\u001b[0m \u001b[0mcross_conf\u001b[0m\u001b[0;34m.\u001b[0m\u001b[0mitems\u001b[0m\u001b[0;34m(\u001b[0m\u001b[0;34m)\u001b[0m\u001b[0;34m:\u001b[0m\u001b[0;34m\u001b[0m\u001b[0;34m\u001b[0m\u001b[0m\n\u001b[0;32m--> 139\u001b[0;31m         \u001b[0maucs_with_cnts\u001b[0m \u001b[0;34m=\u001b[0m \u001b[0mff\u001b[0m\u001b[0;34m.\u001b[0m\u001b[0madd_cross_counts\u001b[0m\u001b[0;34m(\u001b[0m\u001b[0maucs_with_cnts\u001b[0m\u001b[0;34m,\u001b[0m \u001b[0mfeature_df\u001b[0m\u001b[0;34m,\u001b[0m \u001b[0mprefix\u001b[0m\u001b[0;34m=\u001b[0m\u001b[0mprefix\u001b[0m\u001b[0;34m,\u001b[0m \u001b[0mcol_sets\u001b[0m\u001b[0;34m=\u001b[0m\u001b[0mcol_sets\u001b[0m\u001b[0;34m)\u001b[0m\u001b[0;34m\u001b[0m\u001b[0;34m\u001b[0m\u001b[0m\n\u001b[0m\u001b[1;32m    140\u001b[0m \u001b[0;34m\u001b[0m\u001b[0m\n\u001b[1;32m    141\u001b[0m     \u001b[0;31m# 経過日数の特徴量\u001b[0m\u001b[0;34m\u001b[0m\u001b[0;34m\u001b[0m\u001b[0;34m\u001b[0m\u001b[0m\n",
      "\u001b[0;32m~/Practice/competition/nishika/Brandear/code/brandear_est/brandear_est/feature_engineering.py\u001b[0m in \u001b[0;36madd_cross_counts\u001b[0;34m(df, feature_df, prefix, col_sets)\u001b[0m\n\u001b[1;32m    131\u001b[0m     \u001b[0;32mfor\u001b[0m \u001b[0mcol_set\u001b[0m \u001b[0;32min\u001b[0m \u001b[0mcol_sets\u001b[0m\u001b[0;34m:\u001b[0m\u001b[0;34m\u001b[0m\u001b[0;34m\u001b[0m\u001b[0m\n\u001b[1;32m    132\u001b[0m         \u001b[0mprint\u001b[0m\u001b[0;34m(\u001b[0m\u001b[0mcol_set\u001b[0m\u001b[0;34m)\u001b[0m\u001b[0;34m\u001b[0m\u001b[0;34m\u001b[0m\u001b[0m\n\u001b[0;32m--> 133\u001b[0;31m         \u001b[0mcnts\u001b[0m \u001b[0;34m=\u001b[0m \u001b[0mcross_counts\u001b[0m\u001b[0;34m(\u001b[0m\u001b[0mdf\u001b[0m\u001b[0;34m=\u001b[0m\u001b[0mfeature_df\u001b[0m\u001b[0;34m,\u001b[0m \u001b[0mcol_set\u001b[0m\u001b[0;34m=\u001b[0m\u001b[0mcol_set\u001b[0m\u001b[0;34m)\u001b[0m\u001b[0;34m\u001b[0m\u001b[0;34m\u001b[0m\u001b[0m\n\u001b[0m\u001b[1;32m    134\u001b[0m         \u001b[0mdf_copy\u001b[0m \u001b[0;34m=\u001b[0m \u001b[0mmerge_features\u001b[0m\u001b[0;34m(\u001b[0m\u001b[0mdf_copy\u001b[0m\u001b[0;34m,\u001b[0m \u001b[0mcnts\u001b[0m\u001b[0;34m,\u001b[0m \u001b[0mkey\u001b[0m\u001b[0;34m=\u001b[0m\u001b[0mcol_set\u001b[0m\u001b[0;34m,\u001b[0m \u001b[0mprefix\u001b[0m\u001b[0;34m=\u001b[0m\u001b[0mprefix\u001b[0m\u001b[0;34m)\u001b[0m\u001b[0;34m.\u001b[0m\u001b[0mfillna\u001b[0m\u001b[0;34m(\u001b[0m\u001b[0;36m0\u001b[0m\u001b[0;34m)\u001b[0m\u001b[0;34m\u001b[0m\u001b[0;34m\u001b[0m\u001b[0m\n\u001b[1;32m    135\u001b[0m     \u001b[0;32mreturn\u001b[0m \u001b[0mdf_copy\u001b[0m\u001b[0;34m\u001b[0m\u001b[0;34m\u001b[0m\u001b[0m\n",
      "\u001b[0;32m~/Practice/competition/nishika/Brandear/code/brandear_est/brandear_est/feature_engineering.py\u001b[0m in \u001b[0;36mcross_counts\u001b[0;34m(df, col_set)\u001b[0m\n\u001b[1;32m    112\u001b[0m         \u001b[0mcnt_col_name\u001b[0m \u001b[0;34m=\u001b[0m \u001b[0;34m\"_\"\u001b[0m\u001b[0;34m.\u001b[0m\u001b[0mjoin\u001b[0m\u001b[0;34m(\u001b[0m\u001b[0mcol_set\u001b[0m\u001b[0;34m)\u001b[0m \u001b[0;34m+\u001b[0m \u001b[0;34m\"_cnt\"\u001b[0m\u001b[0;34m\u001b[0m\u001b[0;34m\u001b[0m\u001b[0m\n\u001b[1;32m    113\u001b[0m     cnts = (\n\u001b[0;32m--> 114\u001b[0;31m         \u001b[0mdf\u001b[0m\u001b[0;34m.\u001b[0m\u001b[0mgroupby\u001b[0m\u001b[0;34m(\u001b[0m\u001b[0mcol_set\u001b[0m\u001b[0;34m,\u001b[0m \u001b[0mas_index\u001b[0m\u001b[0;34m=\u001b[0m\u001b[0;32mFalse\u001b[0m\u001b[0;34m)\u001b[0m\u001b[0;34m.\u001b[0m\u001b[0msize\u001b[0m\u001b[0;34m(\u001b[0m\u001b[0;34m)\u001b[0m\u001b[0;34m.\u001b[0m\u001b[0mreset_index\u001b[0m\u001b[0;34m(\u001b[0m\u001b[0;34m)\u001b[0m\u001b[0;34m\u001b[0m\u001b[0;34m\u001b[0m\u001b[0m\n\u001b[0m\u001b[1;32m    115\u001b[0m         \u001b[0;34m.\u001b[0m\u001b[0mrename\u001b[0m\u001b[0;34m(\u001b[0m\u001b[0mcolumns\u001b[0m\u001b[0;34m=\u001b[0m\u001b[0;34m{\u001b[0m\u001b[0;36m0\u001b[0m\u001b[0;34m:\u001b[0m \u001b[0mcnt_col_name\u001b[0m\u001b[0;34m}\u001b[0m\u001b[0;34m)\u001b[0m\u001b[0;34m\u001b[0m\u001b[0;34m\u001b[0m\u001b[0m\n\u001b[1;32m    116\u001b[0m     )\n",
      "\u001b[0;32m~/.pyenv/versions/3.7.5/lib/python3.7/site-packages/pandas/core/groupby/groupby.py\u001b[0m in \u001b[0;36msize\u001b[0;34m(self)\u001b[0m\n\u001b[1;32m   1332\u001b[0m             \u001b[0mNumber\u001b[0m \u001b[0mof\u001b[0m \u001b[0mrows\u001b[0m \u001b[0;32min\u001b[0m \u001b[0meach\u001b[0m \u001b[0mgroup\u001b[0m\u001b[0;34m.\u001b[0m\u001b[0;34m\u001b[0m\u001b[0;34m\u001b[0m\u001b[0m\n\u001b[1;32m   1333\u001b[0m         \"\"\"\n\u001b[0;32m-> 1334\u001b[0;31m         \u001b[0mresult\u001b[0m \u001b[0;34m=\u001b[0m \u001b[0mself\u001b[0m\u001b[0;34m.\u001b[0m\u001b[0mgrouper\u001b[0m\u001b[0;34m.\u001b[0m\u001b[0msize\u001b[0m\u001b[0;34m(\u001b[0m\u001b[0;34m)\u001b[0m\u001b[0;34m\u001b[0m\u001b[0;34m\u001b[0m\u001b[0m\n\u001b[0m\u001b[1;32m   1335\u001b[0m \u001b[0;34m\u001b[0m\u001b[0m\n\u001b[1;32m   1336\u001b[0m         \u001b[0;32mif\u001b[0m \u001b[0misinstance\u001b[0m\u001b[0;34m(\u001b[0m\u001b[0mself\u001b[0m\u001b[0;34m.\u001b[0m\u001b[0mobj\u001b[0m\u001b[0;34m,\u001b[0m \u001b[0mSeries\u001b[0m\u001b[0;34m)\u001b[0m\u001b[0;34m:\u001b[0m\u001b[0;34m\u001b[0m\u001b[0;34m\u001b[0m\u001b[0m\n",
      "\u001b[0;32m~/.pyenv/versions/3.7.5/lib/python3.7/site-packages/pandas/core/groupby/ops.py\u001b[0m in \u001b[0;36msize\u001b[0;34m(self)\u001b[0m\n\u001b[1;32m    269\u001b[0m \u001b[0;34m\u001b[0m\u001b[0m\n\u001b[1;32m    270\u001b[0m         \"\"\"\n\u001b[0;32m--> 271\u001b[0;31m         \u001b[0mids\u001b[0m\u001b[0;34m,\u001b[0m \u001b[0m_\u001b[0m\u001b[0;34m,\u001b[0m \u001b[0mngroup\u001b[0m \u001b[0;34m=\u001b[0m \u001b[0mself\u001b[0m\u001b[0;34m.\u001b[0m\u001b[0mgroup_info\u001b[0m\u001b[0;34m\u001b[0m\u001b[0;34m\u001b[0m\u001b[0m\n\u001b[0m\u001b[1;32m    272\u001b[0m         \u001b[0mids\u001b[0m \u001b[0;34m=\u001b[0m \u001b[0mensure_platform_int\u001b[0m\u001b[0;34m(\u001b[0m\u001b[0mids\u001b[0m\u001b[0;34m)\u001b[0m\u001b[0;34m\u001b[0m\u001b[0;34m\u001b[0m\u001b[0m\n\u001b[1;32m    273\u001b[0m         \u001b[0;32mif\u001b[0m \u001b[0mngroup\u001b[0m\u001b[0;34m:\u001b[0m\u001b[0;34m\u001b[0m\u001b[0;34m\u001b[0m\u001b[0m\n",
      "\u001b[0;32mpandas/_libs/properties.pyx\u001b[0m in \u001b[0;36mpandas._libs.properties.CachedProperty.__get__\u001b[0;34m()\u001b[0m\n",
      "\u001b[0;32m~/.pyenv/versions/3.7.5/lib/python3.7/site-packages/pandas/core/groupby/ops.py\u001b[0m in \u001b[0;36mgroup_info\u001b[0;34m(self)\u001b[0m\n\u001b[1;32m    294\u001b[0m     \u001b[0;34m@\u001b[0m\u001b[0mcache_readonly\u001b[0m\u001b[0;34m\u001b[0m\u001b[0;34m\u001b[0m\u001b[0m\n\u001b[1;32m    295\u001b[0m     \u001b[0;32mdef\u001b[0m \u001b[0mgroup_info\u001b[0m\u001b[0;34m(\u001b[0m\u001b[0mself\u001b[0m\u001b[0;34m)\u001b[0m\u001b[0;34m:\u001b[0m\u001b[0;34m\u001b[0m\u001b[0;34m\u001b[0m\u001b[0m\n\u001b[0;32m--> 296\u001b[0;31m         \u001b[0mcomp_ids\u001b[0m\u001b[0;34m,\u001b[0m \u001b[0mobs_group_ids\u001b[0m \u001b[0;34m=\u001b[0m \u001b[0mself\u001b[0m\u001b[0;34m.\u001b[0m\u001b[0m_get_compressed_labels\u001b[0m\u001b[0;34m(\u001b[0m\u001b[0;34m)\u001b[0m\u001b[0;34m\u001b[0m\u001b[0;34m\u001b[0m\u001b[0m\n\u001b[0m\u001b[1;32m    297\u001b[0m \u001b[0;34m\u001b[0m\u001b[0m\n\u001b[1;32m    298\u001b[0m         \u001b[0mngroups\u001b[0m \u001b[0;34m=\u001b[0m \u001b[0mlen\u001b[0m\u001b[0;34m(\u001b[0m\u001b[0mobs_group_ids\u001b[0m\u001b[0;34m)\u001b[0m\u001b[0;34m\u001b[0m\u001b[0;34m\u001b[0m\u001b[0m\n",
      "\u001b[0;32m~/.pyenv/versions/3.7.5/lib/python3.7/site-packages/pandas/core/groupby/ops.py\u001b[0m in \u001b[0;36m_get_compressed_labels\u001b[0;34m(self)\u001b[0m\n\u001b[1;32m    310\u001b[0m \u001b[0;34m\u001b[0m\u001b[0m\n\u001b[1;32m    311\u001b[0m     \u001b[0;32mdef\u001b[0m \u001b[0m_get_compressed_labels\u001b[0m\u001b[0;34m(\u001b[0m\u001b[0mself\u001b[0m\u001b[0;34m)\u001b[0m\u001b[0;34m:\u001b[0m\u001b[0;34m\u001b[0m\u001b[0;34m\u001b[0m\u001b[0m\n\u001b[0;32m--> 312\u001b[0;31m         \u001b[0mall_labels\u001b[0m \u001b[0;34m=\u001b[0m \u001b[0;34m[\u001b[0m\u001b[0mping\u001b[0m\u001b[0;34m.\u001b[0m\u001b[0mlabels\u001b[0m \u001b[0;32mfor\u001b[0m \u001b[0mping\u001b[0m \u001b[0;32min\u001b[0m \u001b[0mself\u001b[0m\u001b[0;34m.\u001b[0m\u001b[0mgroupings\u001b[0m\u001b[0;34m]\u001b[0m\u001b[0;34m\u001b[0m\u001b[0;34m\u001b[0m\u001b[0m\n\u001b[0m\u001b[1;32m    313\u001b[0m         \u001b[0;32mif\u001b[0m \u001b[0mlen\u001b[0m\u001b[0;34m(\u001b[0m\u001b[0mall_labels\u001b[0m\u001b[0;34m)\u001b[0m \u001b[0;34m>\u001b[0m \u001b[0;36m1\u001b[0m\u001b[0;34m:\u001b[0m\u001b[0;34m\u001b[0m\u001b[0;34m\u001b[0m\u001b[0m\n\u001b[1;32m    314\u001b[0m             \u001b[0mgroup_index\u001b[0m \u001b[0;34m=\u001b[0m \u001b[0mget_group_index\u001b[0m\u001b[0;34m(\u001b[0m\u001b[0mall_labels\u001b[0m\u001b[0;34m,\u001b[0m \u001b[0mself\u001b[0m\u001b[0;34m.\u001b[0m\u001b[0mshape\u001b[0m\u001b[0;34m,\u001b[0m \u001b[0msort\u001b[0m\u001b[0;34m=\u001b[0m\u001b[0;32mTrue\u001b[0m\u001b[0;34m,\u001b[0m \u001b[0mxnull\u001b[0m\u001b[0;34m=\u001b[0m\u001b[0;32mTrue\u001b[0m\u001b[0;34m)\u001b[0m\u001b[0;34m\u001b[0m\u001b[0;34m\u001b[0m\u001b[0m\n",
      "\u001b[0;32m~/.pyenv/versions/3.7.5/lib/python3.7/site-packages/pandas/core/groupby/ops.py\u001b[0m in \u001b[0;36m<listcomp>\u001b[0;34m(.0)\u001b[0m\n\u001b[1;32m    310\u001b[0m \u001b[0;34m\u001b[0m\u001b[0m\n\u001b[1;32m    311\u001b[0m     \u001b[0;32mdef\u001b[0m \u001b[0m_get_compressed_labels\u001b[0m\u001b[0;34m(\u001b[0m\u001b[0mself\u001b[0m\u001b[0;34m)\u001b[0m\u001b[0;34m:\u001b[0m\u001b[0;34m\u001b[0m\u001b[0;34m\u001b[0m\u001b[0m\n\u001b[0;32m--> 312\u001b[0;31m         \u001b[0mall_labels\u001b[0m \u001b[0;34m=\u001b[0m \u001b[0;34m[\u001b[0m\u001b[0mping\u001b[0m\u001b[0;34m.\u001b[0m\u001b[0mlabels\u001b[0m \u001b[0;32mfor\u001b[0m \u001b[0mping\u001b[0m \u001b[0;32min\u001b[0m \u001b[0mself\u001b[0m\u001b[0;34m.\u001b[0m\u001b[0mgroupings\u001b[0m\u001b[0;34m]\u001b[0m\u001b[0;34m\u001b[0m\u001b[0;34m\u001b[0m\u001b[0m\n\u001b[0m\u001b[1;32m    313\u001b[0m         \u001b[0;32mif\u001b[0m \u001b[0mlen\u001b[0m\u001b[0;34m(\u001b[0m\u001b[0mall_labels\u001b[0m\u001b[0;34m)\u001b[0m \u001b[0;34m>\u001b[0m \u001b[0;36m1\u001b[0m\u001b[0;34m:\u001b[0m\u001b[0;34m\u001b[0m\u001b[0;34m\u001b[0m\u001b[0m\n\u001b[1;32m    314\u001b[0m             \u001b[0mgroup_index\u001b[0m \u001b[0;34m=\u001b[0m \u001b[0mget_group_index\u001b[0m\u001b[0;34m(\u001b[0m\u001b[0mall_labels\u001b[0m\u001b[0;34m,\u001b[0m \u001b[0mself\u001b[0m\u001b[0;34m.\u001b[0m\u001b[0mshape\u001b[0m\u001b[0;34m,\u001b[0m \u001b[0msort\u001b[0m\u001b[0;34m=\u001b[0m\u001b[0;32mTrue\u001b[0m\u001b[0;34m,\u001b[0m \u001b[0mxnull\u001b[0m\u001b[0;34m=\u001b[0m\u001b[0;32mTrue\u001b[0m\u001b[0;34m)\u001b[0m\u001b[0;34m\u001b[0m\u001b[0;34m\u001b[0m\u001b[0m\n",
      "\u001b[0;32m~/.pyenv/versions/3.7.5/lib/python3.7/site-packages/pandas/core/groupby/grouper.py\u001b[0m in \u001b[0;36mlabels\u001b[0;34m(self)\u001b[0m\n\u001b[1;32m    395\u001b[0m     \u001b[0;32mdef\u001b[0m \u001b[0mlabels\u001b[0m\u001b[0;34m(\u001b[0m\u001b[0mself\u001b[0m\u001b[0;34m)\u001b[0m\u001b[0;34m:\u001b[0m\u001b[0;34m\u001b[0m\u001b[0;34m\u001b[0m\u001b[0m\n\u001b[1;32m    396\u001b[0m         \u001b[0;32mif\u001b[0m \u001b[0mself\u001b[0m\u001b[0;34m.\u001b[0m\u001b[0m_labels\u001b[0m \u001b[0;32mis\u001b[0m \u001b[0;32mNone\u001b[0m\u001b[0;34m:\u001b[0m\u001b[0;34m\u001b[0m\u001b[0;34m\u001b[0m\u001b[0m\n\u001b[0;32m--> 397\u001b[0;31m             \u001b[0mself\u001b[0m\u001b[0;34m.\u001b[0m\u001b[0m_make_labels\u001b[0m\u001b[0;34m(\u001b[0m\u001b[0;34m)\u001b[0m\u001b[0;34m\u001b[0m\u001b[0;34m\u001b[0m\u001b[0m\n\u001b[0m\u001b[1;32m    398\u001b[0m         \u001b[0;32mreturn\u001b[0m \u001b[0mself\u001b[0m\u001b[0;34m.\u001b[0m\u001b[0m_labels\u001b[0m\u001b[0;34m\u001b[0m\u001b[0;34m\u001b[0m\u001b[0m\n\u001b[1;32m    399\u001b[0m \u001b[0;34m\u001b[0m\u001b[0m\n",
      "\u001b[0;32m~/.pyenv/versions/3.7.5/lib/python3.7/site-packages/pandas/core/groupby/grouper.py\u001b[0m in \u001b[0;36m_make_labels\u001b[0;34m(self)\u001b[0m\n\u001b[1;32m    419\u001b[0m                 \u001b[0muniques\u001b[0m \u001b[0;34m=\u001b[0m \u001b[0mself\u001b[0m\u001b[0;34m.\u001b[0m\u001b[0mgrouper\u001b[0m\u001b[0;34m.\u001b[0m\u001b[0mresult_index\u001b[0m\u001b[0;34m\u001b[0m\u001b[0;34m\u001b[0m\u001b[0m\n\u001b[1;32m    420\u001b[0m             \u001b[0;32melse\u001b[0m\u001b[0;34m:\u001b[0m\u001b[0;34m\u001b[0m\u001b[0;34m\u001b[0m\u001b[0m\n\u001b[0;32m--> 421\u001b[0;31m                 \u001b[0mlabels\u001b[0m\u001b[0;34m,\u001b[0m \u001b[0muniques\u001b[0m \u001b[0;34m=\u001b[0m \u001b[0malgorithms\u001b[0m\u001b[0;34m.\u001b[0m\u001b[0mfactorize\u001b[0m\u001b[0;34m(\u001b[0m\u001b[0mself\u001b[0m\u001b[0;34m.\u001b[0m\u001b[0mgrouper\u001b[0m\u001b[0;34m,\u001b[0m \u001b[0msort\u001b[0m\u001b[0;34m=\u001b[0m\u001b[0mself\u001b[0m\u001b[0;34m.\u001b[0m\u001b[0msort\u001b[0m\u001b[0;34m)\u001b[0m\u001b[0;34m\u001b[0m\u001b[0;34m\u001b[0m\u001b[0m\n\u001b[0m\u001b[1;32m    422\u001b[0m                 \u001b[0muniques\u001b[0m \u001b[0;34m=\u001b[0m \u001b[0mIndex\u001b[0m\u001b[0;34m(\u001b[0m\u001b[0muniques\u001b[0m\u001b[0;34m,\u001b[0m \u001b[0mname\u001b[0m\u001b[0;34m=\u001b[0m\u001b[0mself\u001b[0m\u001b[0;34m.\u001b[0m\u001b[0mname\u001b[0m\u001b[0;34m)\u001b[0m\u001b[0;34m\u001b[0m\u001b[0;34m\u001b[0m\u001b[0m\n\u001b[1;32m    423\u001b[0m             \u001b[0mself\u001b[0m\u001b[0;34m.\u001b[0m\u001b[0m_labels\u001b[0m \u001b[0;34m=\u001b[0m \u001b[0mlabels\u001b[0m\u001b[0;34m\u001b[0m\u001b[0;34m\u001b[0m\u001b[0m\n",
      "\u001b[0;32m~/.pyenv/versions/3.7.5/lib/python3.7/site-packages/pandas/util/_decorators.py\u001b[0m in \u001b[0;36mwrapper\u001b[0;34m(*args, **kwargs)\u001b[0m\n\u001b[1;32m    206\u001b[0m                 \u001b[0;32melse\u001b[0m\u001b[0;34m:\u001b[0m\u001b[0;34m\u001b[0m\u001b[0;34m\u001b[0m\u001b[0m\n\u001b[1;32m    207\u001b[0m                     \u001b[0mkwargs\u001b[0m\u001b[0;34m[\u001b[0m\u001b[0mnew_arg_name\u001b[0m\u001b[0;34m]\u001b[0m \u001b[0;34m=\u001b[0m \u001b[0mnew_arg_value\u001b[0m\u001b[0;34m\u001b[0m\u001b[0;34m\u001b[0m\u001b[0m\n\u001b[0;32m--> 208\u001b[0;31m             \u001b[0;32mreturn\u001b[0m \u001b[0mfunc\u001b[0m\u001b[0;34m(\u001b[0m\u001b[0;34m*\u001b[0m\u001b[0margs\u001b[0m\u001b[0;34m,\u001b[0m \u001b[0;34m**\u001b[0m\u001b[0mkwargs\u001b[0m\u001b[0;34m)\u001b[0m\u001b[0;34m\u001b[0m\u001b[0;34m\u001b[0m\u001b[0m\n\u001b[0m\u001b[1;32m    209\u001b[0m \u001b[0;34m\u001b[0m\u001b[0m\n\u001b[1;32m    210\u001b[0m         \u001b[0;32mreturn\u001b[0m \u001b[0mwrapper\u001b[0m\u001b[0;34m\u001b[0m\u001b[0;34m\u001b[0m\u001b[0m\n",
      "\u001b[0;32m~/.pyenv/versions/3.7.5/lib/python3.7/site-packages/pandas/core/algorithms.py\u001b[0m in \u001b[0;36mfactorize\u001b[0;34m(values, sort, order, na_sentinel, size_hint)\u001b[0m\n\u001b[1;32m    670\u001b[0m \u001b[0;34m\u001b[0m\u001b[0m\n\u001b[1;32m    671\u001b[0m         labels, uniques = _factorize_array(\n\u001b[0;32m--> 672\u001b[0;31m             \u001b[0mvalues\u001b[0m\u001b[0;34m,\u001b[0m \u001b[0mna_sentinel\u001b[0m\u001b[0;34m=\u001b[0m\u001b[0mna_sentinel\u001b[0m\u001b[0;34m,\u001b[0m \u001b[0msize_hint\u001b[0m\u001b[0;34m=\u001b[0m\u001b[0msize_hint\u001b[0m\u001b[0;34m,\u001b[0m \u001b[0mna_value\u001b[0m\u001b[0;34m=\u001b[0m\u001b[0mna_value\u001b[0m\u001b[0;34m\u001b[0m\u001b[0;34m\u001b[0m\u001b[0m\n\u001b[0m\u001b[1;32m    673\u001b[0m         )\n\u001b[1;32m    674\u001b[0m \u001b[0;34m\u001b[0m\u001b[0m\n",
      "\u001b[0;32m~/.pyenv/versions/3.7.5/lib/python3.7/site-packages/pandas/core/algorithms.py\u001b[0m in \u001b[0;36m_factorize_array\u001b[0;34m(values, na_sentinel, size_hint, na_value)\u001b[0m\n\u001b[1;32m    506\u001b[0m     \u001b[0mtable\u001b[0m \u001b[0;34m=\u001b[0m \u001b[0mhash_klass\u001b[0m\u001b[0;34m(\u001b[0m\u001b[0msize_hint\u001b[0m \u001b[0;32mor\u001b[0m \u001b[0mlen\u001b[0m\u001b[0;34m(\u001b[0m\u001b[0mvalues\u001b[0m\u001b[0;34m)\u001b[0m\u001b[0;34m)\u001b[0m\u001b[0;34m\u001b[0m\u001b[0;34m\u001b[0m\u001b[0m\n\u001b[1;32m    507\u001b[0m     uniques, labels = table.factorize(\n\u001b[0;32m--> 508\u001b[0;31m         \u001b[0mvalues\u001b[0m\u001b[0;34m,\u001b[0m \u001b[0mna_sentinel\u001b[0m\u001b[0;34m=\u001b[0m\u001b[0mna_sentinel\u001b[0m\u001b[0;34m,\u001b[0m \u001b[0mna_value\u001b[0m\u001b[0;34m=\u001b[0m\u001b[0mna_value\u001b[0m\u001b[0;34m\u001b[0m\u001b[0;34m\u001b[0m\u001b[0m\n\u001b[0m\u001b[1;32m    509\u001b[0m     )\n\u001b[1;32m    510\u001b[0m \u001b[0;34m\u001b[0m\u001b[0m\n",
      "\u001b[0;32mpandas/_libs/hashtable_class_helper.pxi\u001b[0m in \u001b[0;36mpandas._libs.hashtable.Int64HashTable.factorize\u001b[0;34m()\u001b[0m\n",
      "\u001b[0;32mpandas/_libs/hashtable_class_helper.pxi\u001b[0m in \u001b[0;36mpandas._libs.hashtable.Int64HashTable._unique\u001b[0;34m()\u001b[0m\n",
      "\u001b[0;32m~/.pyenv/versions/3.7.5/lib/python3.7/site-packages/numpy/core/_asarray.py\u001b[0m in \u001b[0;36masarray\u001b[0;34m(a, dtype, order)\u001b[0m\n\u001b[1;32m     14\u001b[0m ]\n\u001b[1;32m     15\u001b[0m \u001b[0;34m\u001b[0m\u001b[0m\n\u001b[0;32m---> 16\u001b[0;31m \u001b[0;34m@\u001b[0m\u001b[0mset_module\u001b[0m\u001b[0;34m(\u001b[0m\u001b[0;34m'numpy'\u001b[0m\u001b[0;34m)\u001b[0m\u001b[0;34m\u001b[0m\u001b[0;34m\u001b[0m\u001b[0m\n\u001b[0m\u001b[1;32m     17\u001b[0m \u001b[0;32mdef\u001b[0m \u001b[0masarray\u001b[0m\u001b[0;34m(\u001b[0m\u001b[0ma\u001b[0m\u001b[0;34m,\u001b[0m \u001b[0mdtype\u001b[0m\u001b[0;34m=\u001b[0m\u001b[0;32mNone\u001b[0m\u001b[0;34m,\u001b[0m \u001b[0morder\u001b[0m\u001b[0;34m=\u001b[0m\u001b[0;32mNone\u001b[0m\u001b[0;34m)\u001b[0m\u001b[0;34m:\u001b[0m\u001b[0;34m\u001b[0m\u001b[0;34m\u001b[0m\u001b[0m\n\u001b[1;32m     18\u001b[0m     \"\"\"Convert the input to an array.\n",
      "\u001b[0;31mKeyboardInterrupt\u001b[0m: "
     ]
    }
   ],
   "source": [
    "%%time\n",
    "for dset_type in [\"pre_train\", \"train\", \"valid_for_train\", \"valid_for_sub\", \"submission\"]:\n",
    "    pp.build_dataset_input(\n",
    "        auction=auction_mst,\n",
    "        bid_success=bid_success,\n",
    "        watch=watch,\n",
    "        bid=bid,\n",
    "        period=dset_to_period[dset_type],\n",
    "        dset_type=dset_type,\n",
    "        output_path=IMD_ARCHIVE_DIR\n",
    "    )"
   ]
  },
  {
   "cell_type": "code",
   "execution_count": 8,
   "metadata": {},
   "outputs": [],
   "source": [
    "pre_train_dataset_input = pd.read_pickle(IMD_ARCHIVE_DIR + \"/pre_train_feature.pkl\")\n",
    "train_dataset_input = pd.read_pickle(IMD_ARCHIVE_DIR + \"/train_feature.pkl\")\n",
    "vt_dataset_input = pd.read_pickle(IMD_ARCHIVE_DIR + \"/valid_for_train_feature.pkl\")\n",
    "vs_dataset_input = pd.read_pickle(IMD_ARCHIVE_DIR + \"/valid_for_sub_feature.pkl\")\n",
    "sub_dataset_input = pd.read_pickle(IMD_ARCHIVE_DIR + \"/submission_feature.pkl\")"
   ]
  },
  {
   "cell_type": "code",
   "execution_count": 9,
   "metadata": {},
   "outputs": [],
   "source": [
    "def agg_target_cols(df):\n",
    "    df[\"actioned\"] = np.array(df[[\"watch_actioned\", \"bid_actioned\"]].astype(int)).max(axis=1)\n",
    "    \n",
    "agg_target_cols(pre_train_dataset_input)\n",
    "agg_target_cols(train_dataset_input)\n",
    "agg_target_cols(vt_dataset_input)\n",
    "agg_target_cols(vs_dataset_input)\n",
    "agg_target_cols(sub_dataset_input)"
   ]
  },
  {
   "cell_type": "code",
   "execution_count": 10,
   "metadata": {},
   "outputs": [],
   "source": [
    "drop_cols = ([\n",
    "    \"AuctionID\", \"BrandCreateDate\", \"BrandID\", \"CategoryID\", \"ColorID\", \"ConditionID\", \"CreateDate\", \"GenreGroupID\",\n",
    "    \"GenreID\", \"ItemColorID\", \"ItemDaiID\", \"ItemLineID\", \"ItemShouID\", \"LineCreateDate\", \"LineID\", \"ShouhinID\",\n",
    "    \"ShouhinShubetsuID\", \"watch_actioned\", \"bid_actioned\", \"actioned\"\n",
    "])\n",
    "\n",
    "ptr_dataset = bds.DataSet(data=pre_train_dataset_input, drop_cols=drop_cols, target_col=\"actioned\")\n",
    "tr_dataset = bds.DataSet(data=train_dataset_input, drop_cols=drop_cols, target_col=\"actioned\")\n",
    "vt_dataset = bds.DataSet(data=vt_dataset_input, drop_cols=drop_cols, target_col=\"watch_actioned\")\n",
    "vs_dataset = bds.DataSet(data=vs_dataset_input, drop_cols=drop_cols, target_col=\"watch_actioned\")\n",
    "sub_dataset = bds.DataSet(data=sub_dataset_input, drop_cols=drop_cols, target_col=\"watch_actioned\")"
   ]
  },
  {
   "cell_type": "markdown",
   "metadata": {},
   "source": [
    "## 予測"
   ]
  },
  {
   "cell_type": "code",
   "execution_count": 25,
   "metadata": {},
   "outputs": [
    {
     "name": "stdout",
     "output_type": "stream",
     "text": [
      "[1]\tvalid_0's auc: 0.746983\n",
      "[2]\tvalid_0's auc: 0.748668\n",
      "[3]\tvalid_0's auc: 0.748749\n",
      "[4]\tvalid_0's auc: 0.74883\n",
      "[5]\tvalid_0's auc: 0.749084\n",
      "[6]\tvalid_0's auc: 0.749263\n",
      "[7]\tvalid_0's auc: 0.749263\n",
      "[8]\tvalid_0's auc: 0.749341\n",
      "[9]\tvalid_0's auc: 0.74927\n",
      "[10]\tvalid_0's auc: 0.749568\n",
      "[11]\tvalid_0's auc: 0.751543\n",
      "[12]\tvalid_0's auc: 0.751648\n",
      "[13]\tvalid_0's auc: 0.752115\n",
      "[14]\tvalid_0's auc: 0.752671\n",
      "[15]\tvalid_0's auc: 0.752887\n",
      "[16]\tvalid_0's auc: 0.753297\n",
      "[17]\tvalid_0's auc: 0.753495\n",
      "[18]\tvalid_0's auc: 0.75402\n",
      "[19]\tvalid_0's auc: 0.754496\n",
      "[20]\tvalid_0's auc: 0.754611\n",
      "[21]\tvalid_0's auc: 0.754788\n",
      "[22]\tvalid_0's auc: 0.754845\n",
      "[23]\tvalid_0's auc: 0.754648\n",
      "[24]\tvalid_0's auc: 0.754627\n",
      "[25]\tvalid_0's auc: 0.754756\n",
      "[26]\tvalid_0's auc: 0.754811\n",
      "[27]\tvalid_0's auc: 0.754795\n",
      "[28]\tvalid_0's auc: 0.755499\n",
      "[29]\tvalid_0's auc: 0.755435\n",
      "[30]\tvalid_0's auc: 0.756147\n",
      "[31]\tvalid_0's auc: 0.756518\n",
      "[32]\tvalid_0's auc: 0.756658\n",
      "[33]\tvalid_0's auc: 0.75672\n",
      "[34]\tvalid_0's auc: 0.756941\n",
      "[35]\tvalid_0's auc: 0.75704\n",
      "[36]\tvalid_0's auc: 0.757184\n",
      "[37]\tvalid_0's auc: 0.757239\n",
      "[38]\tvalid_0's auc: 0.757373\n",
      "[39]\tvalid_0's auc: 0.757582\n",
      "[40]\tvalid_0's auc: 0.757646\n",
      "[41]\tvalid_0's auc: 0.757681\n",
      "[42]\tvalid_0's auc: 0.757708\n",
      "[43]\tvalid_0's auc: 0.758069\n",
      "[44]\tvalid_0's auc: 0.758153\n",
      "[45]\tvalid_0's auc: 0.758348\n",
      "[46]\tvalid_0's auc: 0.75855\n",
      "[47]\tvalid_0's auc: 0.758758\n",
      "[48]\tvalid_0's auc: 0.758834\n",
      "[49]\tvalid_0's auc: 0.758878\n",
      "[50]\tvalid_0's auc: 0.759079\n",
      "[51]\tvalid_0's auc: 0.759048\n",
      "[52]\tvalid_0's auc: 0.759069\n",
      "[53]\tvalid_0's auc: 0.759116\n",
      "[54]\tvalid_0's auc: 0.759302\n",
      "[55]\tvalid_0's auc: 0.759357\n",
      "[56]\tvalid_0's auc: 0.759345\n",
      "[57]\tvalid_0's auc: 0.759464\n",
      "[58]\tvalid_0's auc: 0.759586\n",
      "[59]\tvalid_0's auc: 0.759666\n",
      "[60]\tvalid_0's auc: 0.759675\n",
      "[61]\tvalid_0's auc: 0.759799\n",
      "[62]\tvalid_0's auc: 0.759854\n",
      "[63]\tvalid_0's auc: 0.759973\n",
      "[64]\tvalid_0's auc: 0.759969\n",
      "[65]\tvalid_0's auc: 0.760077\n",
      "[66]\tvalid_0's auc: 0.760179\n",
      "[67]\tvalid_0's auc: 0.760278\n",
      "[68]\tvalid_0's auc: 0.760327\n",
      "[69]\tvalid_0's auc: 0.760365\n",
      "[70]\tvalid_0's auc: 0.760692\n",
      "[71]\tvalid_0's auc: 0.760787\n",
      "[72]\tvalid_0's auc: 0.76103\n",
      "[73]\tvalid_0's auc: 0.761271\n",
      "[74]\tvalid_0's auc: 0.761492\n",
      "[75]\tvalid_0's auc: 0.761619\n",
      "[76]\tvalid_0's auc: 0.761797\n",
      "[77]\tvalid_0's auc: 0.762006\n",
      "[78]\tvalid_0's auc: 0.762081\n",
      "[79]\tvalid_0's auc: 0.762235\n",
      "[80]\tvalid_0's auc: 0.762383\n",
      "[81]\tvalid_0's auc: 0.762499\n",
      "[82]\tvalid_0's auc: 0.762559\n",
      "[83]\tvalid_0's auc: 0.762647\n",
      "[84]\tvalid_0's auc: 0.762761\n",
      "[85]\tvalid_0's auc: 0.762908\n",
      "[86]\tvalid_0's auc: 0.762998\n",
      "[87]\tvalid_0's auc: 0.763116\n",
      "[88]\tvalid_0's auc: 0.763222\n",
      "[89]\tvalid_0's auc: 0.763282\n",
      "[90]\tvalid_0's auc: 0.763371\n",
      "[91]\tvalid_0's auc: 0.763497\n",
      "[92]\tvalid_0's auc: 0.763537\n",
      "[93]\tvalid_0's auc: 0.763657\n",
      "[94]\tvalid_0's auc: 0.763724\n",
      "[95]\tvalid_0's auc: 0.763848\n",
      "[96]\tvalid_0's auc: 0.763926\n",
      "[97]\tvalid_0's auc: 0.763956\n",
      "[98]\tvalid_0's auc: 0.764059\n",
      "[99]\tvalid_0's auc: 0.76414\n",
      "[100]\tvalid_0's auc: 0.764195\n",
      "\n",
      "\n",
      "##################\n",
      "                                importance\n",
      "DanjobetsuID                            88\n",
      "SaishuppinKaisuu                       873\n",
      "SankouKakaku                           738\n",
      "Brand_SankouKakaku                      18\n",
      "inv_rate_to_Brand_SankouKakaku          21\n",
      "watch_AuctionID_cnt                    392\n",
      "watch_ShouhinID_cnt                    203\n",
      "watch_BrandID_cnt                      215\n",
      "watch_LineID_cnt                        21\n",
      "watch_ItemShouID_cnt                    65\n",
      "bid_AuctionID_cnt                        0\n",
      "bid_ShouhinID_cnt                        2\n",
      "bid_BrandID_cnt                         59\n",
      "bid_LineID_cnt                           3\n",
      "bid_ItemShouID_cnt                      84\n",
      "1m_watch_AuctionID_cnt                 259\n",
      "1m_watch_ShouhinID_cnt                 395\n",
      "1m_watch_BrandID_cnt                    84\n",
      "1m_watch_LineID_cnt                      0\n",
      "1m_watch_ItemShouID_cnt                 47\n",
      "1m_bid_AuctionID_cnt                     0\n",
      "1m_bid_ShouhinID_cnt                     6\n",
      "1m_bid_BrandID_cnt                      69\n",
      "1m_bid_LineID_cnt                        0\n",
      "1m_bid_ItemShouID_cnt                   41\n",
      "elapsed_days                          1114\n",
      "watch_elapsed_days                     350\n",
      "bid_elapsed_days                         0\n",
      "BrandID_target_mean                    567\n",
      "ItemShouID_target_mean                 543\n",
      "##################\n"
     ]
    }
   ],
   "source": [
    "# # 学習の様子可視化\n",
    "datasets = [ptr_dataset]\n",
    "for dataset in datasets:\n",
    "    \n",
    "    # train test split\n",
    "    train_dataset, test_dataset = bds.DataSet.train_test_split(dataset)\n",
    "\n",
    "    # target encoding\n",
    "    for cat_col in [\"BrandID\", \"ItemShouID\"]:\n",
    "        train_dataset.add_target_encode(cat_col=cat_col)\n",
    "        bds.target_encode_for_test(train_dataset=train_dataset, test_dataset=test_dataset, cat_col=cat_col)    \n",
    "    \n",
    "    lgb_bi = models.LgbBinaryClassifier()\n",
    "    lgb_bi.train(train_dataset=train_dataset, valid_dataset=test_dataset, desc=True)    "
   ]
  },
  {
   "cell_type": "code",
   "execution_count": 11,
   "metadata": {
    "scrolled": true
   },
   "outputs": [],
   "source": [
    "# 予測値取得\n",
    "\n",
    "dataset_pairs = [\n",
    "    [ptr_dataset, tr_dataset],\n",
    "    [tr_dataset, vt_dataset],\n",
    "    [vt_dataset, vs_dataset],\n",
    "    [vs_dataset, sub_dataset]\n",
    "]\n",
    "\n",
    "for train_dataset, sub_dataset in dataset_pairs:\n",
    "    \n",
    "    # target encoding\n",
    "    for cat_col in [\"BrandID\", \"ItemShouID\"]:\n",
    "        train_dataset.add_target_encode(cat_col=cat_col)\n",
    "        bds.target_encode_for_test(train_dataset=train_dataset, test_dataset=sub_dataset, cat_col=cat_col)    \n",
    "\n",
    "    lgb_bi = models.LgbBinaryClassifier()        \n",
    "    lgb_bi.train(train_dataset=train_dataset)\n",
    "    \n",
    "    sub_dataset.set_pred(lgb_bi.predict(sub_dataset))    "
   ]
  },
  {
   "cell_type": "code",
   "execution_count": null,
   "metadata": {},
   "outputs": [],
   "source": [
    "# be.df2pkl(tr_dataset.data, IMD_OUTPUT_DIR, f\"train.pkl\")\n",
    "# be.df2pkl(vt_dataset.data, IMD_OUTPUT_DIR, f\"valid_for_train.pkl\")\n",
    "# be.df2pkl(tr_dataset.data, IMD_OUTPUT_DIR, f\"valid_for_sub.pkl\")\n",
    "# be.df2pkl(tr_dataset.data, IMD_OUTPUT_DIR, f\"submission.pkl\")"
   ]
  },
  {
   "cell_type": "markdown",
   "metadata": {},
   "source": [
    "## 予測結果可視化"
   ]
  },
  {
   "cell_type": "markdown",
   "metadata": {},
   "source": [
    "### auc"
   ]
  },
  {
   "cell_type": "code",
   "execution_count": 12,
   "metadata": {},
   "outputs": [
    {
     "name": "stdout",
     "output_type": "stream",
     "text": [
      "auc :  0.7279253804699506\n"
     ]
    },
    {
     "data": {
      "image/png": "[encoded data removed]",
      "text/plain": [
       "<Figure size 432x288 with 1 Axes>"
      ]
     },
     "metadata": {
      "needs_background": "light"
     },
     "output_type": "display_data"
    }
   ],
   "source": [
    "dataset = vs_dataset\n",
    "print(\"auc : \", roc_auc_score(dataset.get_target(), dataset.data.pred))\n",
    "ev.plot_roc_curve(dataset.get_target(), dataset.data.pred)\n",
    "ev.plot_tpr_fpr(dataset.get_target(), dataset.data.pred)"
   ]
  },
  {
   "cell_type": "markdown",
   "metadata": {},
   "source": [
    "### 残ったデータでどのくらいのndcgスコアが出せるか\n",
    "### 正解データ、非正解データそれぞれの予測値分布"
   ]
  },
  {
   "cell_type": "code",
   "execution_count": 13,
   "metadata": {},
   "outputs": [],
   "source": [
    "def show_th_info(th, dataset, dset_type):\n",
    "    print(\"threshold : \", th)\n",
    "    print(\"data size : \", dataset.data.shape[0])\n",
    "    print(\"True count : \", dataset.data.query(f\"({dataset.target_col} == 1)\").shape[0])\n",
    "    print(\"True and False larger than threshold : \", dataset.data.query(f\"pred >= {th}\").shape[0])\n",
    "    print(\"True larger than threshold : \", dataset.data.query(f\"(pred >= {th}) & ({dataset.target_col} == 1)\").shape[0])\n",
    "    y_true = pp.extract_target_actions(watch, bid, dset_to_period[dset_type])\n",
    "    print(\"Target pair size\", y_true.shape[0])\n",
    "    cheat_pred = submit.get_cheat_pred(\n",
    "        dataset.data.query(f\"pred >= {th}\")[[\"AuctionID\", \"pred\"]].merge(y_true[[\"AuctionID\", \"KaiinID\"]], on=\"AuctionID\", how=\"inner\"),\n",
    "        y_true\n",
    "    )\n",
    "    cheat_sub = submit.adjust_sub_form(y_true[[\"KaiinID\"]].drop_duplicates(), cheat_pred, drop=True)\n",
    "    print(ev.calc_ndcg(y_true, cheat_sub).mean())\n",
    "    fig, (axL, axR) = plt.subplots(ncols=2, figsize=(10,4))\n",
    "    axL.hist(dataset.data.query(f\"({dataset.target_col} == 1)\").pred, bins=100)\n",
    "    axR.hist(dataset.data.query(f\"({dataset.target_col} != 1)\").pred, bins=100)"
   ]
  },
  {
   "cell_type": "code",
   "execution_count": 17,
   "metadata": {},
   "outputs": [
    {
     "name": "stdout",
     "output_type": "stream",
     "text": [
      "threshold :  0.1\n",
      "data size :  364608\n",
      "True count :  45441\n",
      "True and False larger than threshold :  221217\n",
      "True larger than threshold :  38934\n",
      "Target pair size 91044\n",
      "0.7674918412437286\n"
     ]
    },
    {
     "data": {
      "image/png": "[encoded data removed]",
      "text/plain": [
       "<Figure size 720x288 with 2 Axes>"
      ]
     },
     "metadata": {
      "needs_background": "light"
     },
     "output_type": "display_data"
    }
   ],
   "source": [
    "show_th_info(0.1, vs_dataset, \"valid_for_sub\")"
   ]
  },
  {
   "cell_type": "code",
   "execution_count": null,
   "metadata": {},
   "outputs": [],
   "source": []
  }
 ],
 "metadata": {
  "kernelspec": {
   "display_name": "Python 3",
   "language": "python",
   "name": "python3"
  },
  "language_info": {
   "codemirror_mode": {
    "name": "ipython",
    "version": 3
   },
   "file_extension": ".py",
   "mimetype": "text/x-python",
   "name": "python",
   "nbconvert_exporter": "python",
   "pygments_lexer": "ipython3",
   "version": "3.7.5"
  }
 },
 "nbformat": 4,
 "nbformat_minor": 2
}
